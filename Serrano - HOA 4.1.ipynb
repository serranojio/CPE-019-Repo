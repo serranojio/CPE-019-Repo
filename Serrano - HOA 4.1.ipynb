{
  "nbformat": 4,
  "nbformat_minor": 0,
  "metadata": {
    "colab": {
      "provenance": []
    },
    "kernelspec": {
      "name": "python3",
      "display_name": "Python 3"
    },
    "language_info": {
      "name": "python"
    }
  },
  "cells": [
    {
      "cell_type": "markdown",
      "source": [
        "Name: **Serrano, Jio A.**<br>\n",
        "Course and Section: **CPE 019 - CPE32S3** <br>\n",
        "Date of Submission: **February 24, 2024**<br>\n",
        "Instructor: **Engr. Roman Richard** <br>"
      ],
      "metadata": {
        "id": "MgB4Tsq70ItU"
      }
    },
    {
      "cell_type": "markdown",
      "source": [
        "#Hands-on Activity 4.1: Advanced Data Analytics and Machine Learning"
      ],
      "metadata": {
        "id": "xqgdRQ2j0LwC"
      }
    },
    {
      "cell_type": "markdown",
      "source": [
        "## Part 1: Import the Libraries and Data"
      ],
      "metadata": {
        "id": "EjgQZI6U0V6q"
      }
    },
    {
      "cell_type": "markdown",
      "source": [
        "### Importing libraries."
      ],
      "metadata": {
        "id": "H5mv9_wP0vga"
      }
    },
    {
      "cell_type": "markdown",
      "source": [
        "The libraries that are to be used for this activity are `numpy`, `pandas`, and `matplotlib`. These libraries are helpful libraries in reading and plotting data, as well as performing statistical treatment on them."
      ],
      "metadata": {
        "id": "UmZdUNvw0eYS"
      }
    },
    {
      "cell_type": "code",
      "source": [
        "import numpy as np\n",
        "import pandas as pd\n",
        "import matplotlib.pyplot as plt"
      ],
      "metadata": {
        "id": "ygOXStfP0SDh"
      },
      "execution_count": null,
      "outputs": []
    },
    {
      "cell_type": "markdown",
      "source": [
        "### Importing Data and Creating Dataframes"
      ],
      "metadata": {
        "id": "Ebd8x9Ux08NS"
      }
    },
    {
      "cell_type": "markdown",
      "source": [
        "To import the data, we will create our dataframes by using the `pd.read_csv()` method. Since the files are csv files, we can omit the `sep` parameter for `read_csv`."
      ],
      "metadata": {
        "id": "CrgOsPY91Ywb"
      }
    },
    {
      "cell_type": "code",
      "source": [
        "titanicTestFile = 'titanic_test.csv'\n",
        "titanicTrainFile = 'titanic_train.csv'\n",
        "\n",
        "titanicTestFrame = pd.read_csv(titanicTestFile)\n",
        "titanicTrainFrame = pd.read_csv(titanicTrainFile)"
      ],
      "metadata": {
        "id": "TAXeZzUA00sz"
      },
      "execution_count": null,
      "outputs": []
    },
    {
      "cell_type": "markdown",
      "source": [
        "#### Verify Data\n",
        "\n",
        "We verify the data by using the `head()` method to display the first five entries."
      ],
      "metadata": {
        "id": "NcrWi2Zs17lz"
      }
    },
    {
      "cell_type": "code",
      "source": [
        "# Verification using head()\n",
        "\n",
        "titanicTestFrame.head()"
      ],
      "metadata": {
        "colab": {
          "base_uri": "https://localhost:8080/",
          "height": 206
        },
        "id": "2-Stm7EF1oM0",
        "outputId": "653eccff-4744-4382-81d5-17ed1d41349f"
      },
      "execution_count": null,
      "outputs": [
        {
          "output_type": "execute_result",
          "data": {
            "text/plain": [
              "   PassengerId  Pclass                                          Name     Sex  \\\n",
              "0          892       3                              Kelly, Mr. James    male   \n",
              "1          893       3              Wilkes, Mrs. James (Ellen Needs)  female   \n",
              "2          894       2                     Myles, Mr. Thomas Francis    male   \n",
              "3          895       3                              Wirz, Mr. Albert    male   \n",
              "4          896       3  Hirvonen, Mrs. Alexander (Helga E Lindqvist)  female   \n",
              "\n",
              "    Age  SibSp  Parch   Ticket     Fare Cabin Embarked  \n",
              "0  34.5      0      0   330911   7.8292   NaN        Q  \n",
              "1  47.0      1      0   363272   7.0000   NaN        S  \n",
              "2  62.0      0      0   240276   9.6875   NaN        Q  \n",
              "3  27.0      0      0   315154   8.6625   NaN        S  \n",
              "4  22.0      1      1  3101298  12.2875   NaN        S  "
            ],
            "text/html": [
              "\n",
              "  <div id=\"df-8090bcdf-fd6e-453a-861f-ae402e559b7a\" class=\"colab-df-container\">\n",
              "    <div>\n",
              "<style scoped>\n",
              "    .dataframe tbody tr th:only-of-type {\n",
              "        vertical-align: middle;\n",
              "    }\n",
              "\n",
              "    .dataframe tbody tr th {\n",
              "        vertical-align: top;\n",
              "    }\n",
              "\n",
              "    .dataframe thead th {\n",
              "        text-align: right;\n",
              "    }\n",
              "</style>\n",
              "<table border=\"1\" class=\"dataframe\">\n",
              "  <thead>\n",
              "    <tr style=\"text-align: right;\">\n",
              "      <th></th>\n",
              "      <th>PassengerId</th>\n",
              "      <th>Pclass</th>\n",
              "      <th>Name</th>\n",
              "      <th>Sex</th>\n",
              "      <th>Age</th>\n",
              "      <th>SibSp</th>\n",
              "      <th>Parch</th>\n",
              "      <th>Ticket</th>\n",
              "      <th>Fare</th>\n",
              "      <th>Cabin</th>\n",
              "      <th>Embarked</th>\n",
              "    </tr>\n",
              "  </thead>\n",
              "  <tbody>\n",
              "    <tr>\n",
              "      <th>0</th>\n",
              "      <td>892</td>\n",
              "      <td>3</td>\n",
              "      <td>Kelly, Mr. James</td>\n",
              "      <td>male</td>\n",
              "      <td>34.5</td>\n",
              "      <td>0</td>\n",
              "      <td>0</td>\n",
              "      <td>330911</td>\n",
              "      <td>7.8292</td>\n",
              "      <td>NaN</td>\n",
              "      <td>Q</td>\n",
              "    </tr>\n",
              "    <tr>\n",
              "      <th>1</th>\n",
              "      <td>893</td>\n",
              "      <td>3</td>\n",
              "      <td>Wilkes, Mrs. James (Ellen Needs)</td>\n",
              "      <td>female</td>\n",
              "      <td>47.0</td>\n",
              "      <td>1</td>\n",
              "      <td>0</td>\n",
              "      <td>363272</td>\n",
              "      <td>7.0000</td>\n",
              "      <td>NaN</td>\n",
              "      <td>S</td>\n",
              "    </tr>\n",
              "    <tr>\n",
              "      <th>2</th>\n",
              "      <td>894</td>\n",
              "      <td>2</td>\n",
              "      <td>Myles, Mr. Thomas Francis</td>\n",
              "      <td>male</td>\n",
              "      <td>62.0</td>\n",
              "      <td>0</td>\n",
              "      <td>0</td>\n",
              "      <td>240276</td>\n",
              "      <td>9.6875</td>\n",
              "      <td>NaN</td>\n",
              "      <td>Q</td>\n",
              "    </tr>\n",
              "    <tr>\n",
              "      <th>3</th>\n",
              "      <td>895</td>\n",
              "      <td>3</td>\n",
              "      <td>Wirz, Mr. Albert</td>\n",
              "      <td>male</td>\n",
              "      <td>27.0</td>\n",
              "      <td>0</td>\n",
              "      <td>0</td>\n",
              "      <td>315154</td>\n",
              "      <td>8.6625</td>\n",
              "      <td>NaN</td>\n",
              "      <td>S</td>\n",
              "    </tr>\n",
              "    <tr>\n",
              "      <th>4</th>\n",
              "      <td>896</td>\n",
              "      <td>3</td>\n",
              "      <td>Hirvonen, Mrs. Alexander (Helga E Lindqvist)</td>\n",
              "      <td>female</td>\n",
              "      <td>22.0</td>\n",
              "      <td>1</td>\n",
              "      <td>1</td>\n",
              "      <td>3101298</td>\n",
              "      <td>12.2875</td>\n",
              "      <td>NaN</td>\n",
              "      <td>S</td>\n",
              "    </tr>\n",
              "  </tbody>\n",
              "</table>\n",
              "</div>\n",
              "    <div class=\"colab-df-buttons\">\n",
              "\n",
              "  <div class=\"colab-df-container\">\n",
              "    <button class=\"colab-df-convert\" onclick=\"convertToInteractive('df-8090bcdf-fd6e-453a-861f-ae402e559b7a')\"\n",
              "            title=\"Convert this dataframe to an interactive table.\"\n",
              "            style=\"display:none;\">\n",
              "\n",
              "  <svg xmlns=\"http://www.w3.org/2000/svg\" height=\"24px\" viewBox=\"0 -960 960 960\">\n",
              "    <path d=\"M120-120v-720h720v720H120Zm60-500h600v-160H180v160Zm220 220h160v-160H400v160Zm0 220h160v-160H400v160ZM180-400h160v-160H180v160Zm440 0h160v-160H620v160ZM180-180h160v-160H180v160Zm440 0h160v-160H620v160Z\"/>\n",
              "  </svg>\n",
              "    </button>\n",
              "\n",
              "  <style>\n",
              "    .colab-df-container {\n",
              "      display:flex;\n",
              "      gap: 12px;\n",
              "    }\n",
              "\n",
              "    .colab-df-convert {\n",
              "      background-color: #E8F0FE;\n",
              "      border: none;\n",
              "      border-radius: 50%;\n",
              "      cursor: pointer;\n",
              "      display: none;\n",
              "      fill: #1967D2;\n",
              "      height: 32px;\n",
              "      padding: 0 0 0 0;\n",
              "      width: 32px;\n",
              "    }\n",
              "\n",
              "    .colab-df-convert:hover {\n",
              "      background-color: #E2EBFA;\n",
              "      box-shadow: 0px 1px 2px rgba(60, 64, 67, 0.3), 0px 1px 3px 1px rgba(60, 64, 67, 0.15);\n",
              "      fill: #174EA6;\n",
              "    }\n",
              "\n",
              "    .colab-df-buttons div {\n",
              "      margin-bottom: 4px;\n",
              "    }\n",
              "\n",
              "    [theme=dark] .colab-df-convert {\n",
              "      background-color: #3B4455;\n",
              "      fill: #D2E3FC;\n",
              "    }\n",
              "\n",
              "    [theme=dark] .colab-df-convert:hover {\n",
              "      background-color: #434B5C;\n",
              "      box-shadow: 0px 1px 3px 1px rgba(0, 0, 0, 0.15);\n",
              "      filter: drop-shadow(0px 1px 2px rgba(0, 0, 0, 0.3));\n",
              "      fill: #FFFFFF;\n",
              "    }\n",
              "  </style>\n",
              "\n",
              "    <script>\n",
              "      const buttonEl =\n",
              "        document.querySelector('#df-8090bcdf-fd6e-453a-861f-ae402e559b7a button.colab-df-convert');\n",
              "      buttonEl.style.display =\n",
              "        google.colab.kernel.accessAllowed ? 'block' : 'none';\n",
              "\n",
              "      async function convertToInteractive(key) {\n",
              "        const element = document.querySelector('#df-8090bcdf-fd6e-453a-861f-ae402e559b7a');\n",
              "        const dataTable =\n",
              "          await google.colab.kernel.invokeFunction('convertToInteractive',\n",
              "                                                    [key], {});\n",
              "        if (!dataTable) return;\n",
              "\n",
              "        const docLinkHtml = 'Like what you see? Visit the ' +\n",
              "          '<a target=\"_blank\" href=https://colab.research.google.com/notebooks/data_table.ipynb>data table notebook</a>'\n",
              "          + ' to learn more about interactive tables.';\n",
              "        element.innerHTML = '';\n",
              "        dataTable['output_type'] = 'display_data';\n",
              "        await google.colab.output.renderOutput(dataTable, element);\n",
              "        const docLink = document.createElement('div');\n",
              "        docLink.innerHTML = docLinkHtml;\n",
              "        element.appendChild(docLink);\n",
              "      }\n",
              "    </script>\n",
              "  </div>\n",
              "\n",
              "\n",
              "<div id=\"df-ff91ca09-718a-41a3-8b4a-26590d08fdc6\">\n",
              "  <button class=\"colab-df-quickchart\" onclick=\"quickchart('df-ff91ca09-718a-41a3-8b4a-26590d08fdc6')\"\n",
              "            title=\"Suggest charts\"\n",
              "            style=\"display:none;\">\n",
              "\n",
              "<svg xmlns=\"http://www.w3.org/2000/svg\" height=\"24px\"viewBox=\"0 0 24 24\"\n",
              "     width=\"24px\">\n",
              "    <g>\n",
              "        <path d=\"M19 3H5c-1.1 0-2 .9-2 2v14c0 1.1.9 2 2 2h14c1.1 0 2-.9 2-2V5c0-1.1-.9-2-2-2zM9 17H7v-7h2v7zm4 0h-2V7h2v10zm4 0h-2v-4h2v4z\"/>\n",
              "    </g>\n",
              "</svg>\n",
              "  </button>\n",
              "\n",
              "<style>\n",
              "  .colab-df-quickchart {\n",
              "      --bg-color: #E8F0FE;\n",
              "      --fill-color: #1967D2;\n",
              "      --hover-bg-color: #E2EBFA;\n",
              "      --hover-fill-color: #174EA6;\n",
              "      --disabled-fill-color: #AAA;\n",
              "      --disabled-bg-color: #DDD;\n",
              "  }\n",
              "\n",
              "  [theme=dark] .colab-df-quickchart {\n",
              "      --bg-color: #3B4455;\n",
              "      --fill-color: #D2E3FC;\n",
              "      --hover-bg-color: #434B5C;\n",
              "      --hover-fill-color: #FFFFFF;\n",
              "      --disabled-bg-color: #3B4455;\n",
              "      --disabled-fill-color: #666;\n",
              "  }\n",
              "\n",
              "  .colab-df-quickchart {\n",
              "    background-color: var(--bg-color);\n",
              "    border: none;\n",
              "    border-radius: 50%;\n",
              "    cursor: pointer;\n",
              "    display: none;\n",
              "    fill: var(--fill-color);\n",
              "    height: 32px;\n",
              "    padding: 0;\n",
              "    width: 32px;\n",
              "  }\n",
              "\n",
              "  .colab-df-quickchart:hover {\n",
              "    background-color: var(--hover-bg-color);\n",
              "    box-shadow: 0 1px 2px rgba(60, 64, 67, 0.3), 0 1px 3px 1px rgba(60, 64, 67, 0.15);\n",
              "    fill: var(--button-hover-fill-color);\n",
              "  }\n",
              "\n",
              "  .colab-df-quickchart-complete:disabled,\n",
              "  .colab-df-quickchart-complete:disabled:hover {\n",
              "    background-color: var(--disabled-bg-color);\n",
              "    fill: var(--disabled-fill-color);\n",
              "    box-shadow: none;\n",
              "  }\n",
              "\n",
              "  .colab-df-spinner {\n",
              "    border: 2px solid var(--fill-color);\n",
              "    border-color: transparent;\n",
              "    border-bottom-color: var(--fill-color);\n",
              "    animation:\n",
              "      spin 1s steps(1) infinite;\n",
              "  }\n",
              "\n",
              "  @keyframes spin {\n",
              "    0% {\n",
              "      border-color: transparent;\n",
              "      border-bottom-color: var(--fill-color);\n",
              "      border-left-color: var(--fill-color);\n",
              "    }\n",
              "    20% {\n",
              "      border-color: transparent;\n",
              "      border-left-color: var(--fill-color);\n",
              "      border-top-color: var(--fill-color);\n",
              "    }\n",
              "    30% {\n",
              "      border-color: transparent;\n",
              "      border-left-color: var(--fill-color);\n",
              "      border-top-color: var(--fill-color);\n",
              "      border-right-color: var(--fill-color);\n",
              "    }\n",
              "    40% {\n",
              "      border-color: transparent;\n",
              "      border-right-color: var(--fill-color);\n",
              "      border-top-color: var(--fill-color);\n",
              "    }\n",
              "    60% {\n",
              "      border-color: transparent;\n",
              "      border-right-color: var(--fill-color);\n",
              "    }\n",
              "    80% {\n",
              "      border-color: transparent;\n",
              "      border-right-color: var(--fill-color);\n",
              "      border-bottom-color: var(--fill-color);\n",
              "    }\n",
              "    90% {\n",
              "      border-color: transparent;\n",
              "      border-bottom-color: var(--fill-color);\n",
              "    }\n",
              "  }\n",
              "</style>\n",
              "\n",
              "  <script>\n",
              "    async function quickchart(key) {\n",
              "      const quickchartButtonEl =\n",
              "        document.querySelector('#' + key + ' button');\n",
              "      quickchartButtonEl.disabled = true;  // To prevent multiple clicks.\n",
              "      quickchartButtonEl.classList.add('colab-df-spinner');\n",
              "      try {\n",
              "        const charts = await google.colab.kernel.invokeFunction(\n",
              "            'suggestCharts', [key], {});\n",
              "      } catch (error) {\n",
              "        console.error('Error during call to suggestCharts:', error);\n",
              "      }\n",
              "      quickchartButtonEl.classList.remove('colab-df-spinner');\n",
              "      quickchartButtonEl.classList.add('colab-df-quickchart-complete');\n",
              "    }\n",
              "    (() => {\n",
              "      let quickchartButtonEl =\n",
              "        document.querySelector('#df-ff91ca09-718a-41a3-8b4a-26590d08fdc6 button');\n",
              "      quickchartButtonEl.style.display =\n",
              "        google.colab.kernel.accessAllowed ? 'block' : 'none';\n",
              "    })();\n",
              "  </script>\n",
              "</div>\n",
              "    </div>\n",
              "  </div>\n"
            ],
            "application/vnd.google.colaboratory.intrinsic+json": {
              "type": "dataframe",
              "variable_name": "titanicTestFrame",
              "summary": "{\n  \"name\": \"titanicTestFrame\",\n  \"rows\": 418,\n  \"fields\": [\n    {\n      \"column\": \"PassengerId\",\n      \"properties\": {\n        \"dtype\": \"number\",\n        \"std\": 120,\n        \"min\": 892,\n        \"max\": 1309,\n        \"num_unique_values\": 418,\n        \"samples\": [\n          1213,\n          1216,\n          1280\n        ],\n        \"semantic_type\": \"\",\n        \"description\": \"\"\n      }\n    },\n    {\n      \"column\": \"Pclass\",\n      \"properties\": {\n        \"dtype\": \"number\",\n        \"std\": 0,\n        \"min\": 1,\n        \"max\": 3,\n        \"num_unique_values\": 3,\n        \"samples\": [\n          3,\n          2,\n          1\n        ],\n        \"semantic_type\": \"\",\n        \"description\": \"\"\n      }\n    },\n    {\n      \"column\": \"Name\",\n      \"properties\": {\n        \"dtype\": \"string\",\n        \"num_unique_values\": 418,\n        \"samples\": [\n          \"Krekorian, Mr. Neshan\",\n          \"Kreuchen, Miss. Emilie\",\n          \"Canavan, Mr. Patrick\"\n        ],\n        \"semantic_type\": \"\",\n        \"description\": \"\"\n      }\n    },\n    {\n      \"column\": \"Sex\",\n      \"properties\": {\n        \"dtype\": \"category\",\n        \"num_unique_values\": 2,\n        \"samples\": [\n          \"female\",\n          \"male\"\n        ],\n        \"semantic_type\": \"\",\n        \"description\": \"\"\n      }\n    },\n    {\n      \"column\": \"Age\",\n      \"properties\": {\n        \"dtype\": \"number\",\n        \"std\": 14.181209235624422,\n        \"min\": 0.17,\n        \"max\": 76.0,\n        \"num_unique_values\": 79,\n        \"samples\": [\n          10.0,\n          34.5\n        ],\n        \"semantic_type\": \"\",\n        \"description\": \"\"\n      }\n    },\n    {\n      \"column\": \"SibSp\",\n      \"properties\": {\n        \"dtype\": \"number\",\n        \"std\": 0,\n        \"min\": 0,\n        \"max\": 8,\n        \"num_unique_values\": 7,\n        \"samples\": [\n          0,\n          1\n        ],\n        \"semantic_type\": \"\",\n        \"description\": \"\"\n      }\n    },\n    {\n      \"column\": \"Parch\",\n      \"properties\": {\n        \"dtype\": \"number\",\n        \"std\": 0,\n        \"min\": 0,\n        \"max\": 9,\n        \"num_unique_values\": 8,\n        \"samples\": [\n          1,\n          6\n        ],\n        \"semantic_type\": \"\",\n        \"description\": \"\"\n      }\n    },\n    {\n      \"column\": \"Ticket\",\n      \"properties\": {\n        \"dtype\": \"string\",\n        \"num_unique_values\": 363,\n        \"samples\": [\n          \"2673\",\n          \"W./C. 6607\"\n        ],\n        \"semantic_type\": \"\",\n        \"description\": \"\"\n      }\n    },\n    {\n      \"column\": \"Fare\",\n      \"properties\": {\n        \"dtype\": \"number\",\n        \"std\": 55.907576179973844,\n        \"min\": 0.0,\n        \"max\": 512.3292,\n        \"num_unique_values\": 169,\n        \"samples\": [\n          41.5792,\n          57.75\n        ],\n        \"semantic_type\": \"\",\n        \"description\": \"\"\n      }\n    },\n    {\n      \"column\": \"Cabin\",\n      \"properties\": {\n        \"dtype\": \"category\",\n        \"num_unique_values\": 76,\n        \"samples\": [\n          \"A21\",\n          \"E45\"\n        ],\n        \"semantic_type\": \"\",\n        \"description\": \"\"\n      }\n    },\n    {\n      \"column\": \"Embarked\",\n      \"properties\": {\n        \"dtype\": \"category\",\n        \"num_unique_values\": 3,\n        \"samples\": [\n          \"Q\",\n          \"S\"\n        ],\n        \"semantic_type\": \"\",\n        \"description\": \"\"\n      }\n    }\n  ]\n}"
            }
          },
          "metadata": {},
          "execution_count": 3
        }
      ]
    },
    {
      "cell_type": "markdown",
      "source": [
        "**Remarks**: By using the `head()` method, we are able to show the first five entries of the data frame."
      ],
      "metadata": {
        "id": "gJEpBz896mmz"
      }
    },
    {
      "cell_type": "code",
      "source": [
        "titanicTrainFrame.head()"
      ],
      "metadata": {
        "colab": {
          "base_uri": "https://localhost:8080/",
          "height": 206
        },
        "id": "KYz9O1r22IGD",
        "outputId": "71a0ccdc-c390-454d-bbcc-415597b95ef6"
      },
      "execution_count": null,
      "outputs": [
        {
          "output_type": "execute_result",
          "data": {
            "text/plain": [
              "   PassengerId  Survived  Pclass  \\\n",
              "0            1         0       3   \n",
              "1            2         1       1   \n",
              "2            3         1       3   \n",
              "3            4         1       1   \n",
              "4            5         0       3   \n",
              "\n",
              "                                                Name     Sex   Age  SibSp  \\\n",
              "0                            Braund, Mr. Owen Harris    male  22.0      1   \n",
              "1  Cumings, Mrs. John Bradley (Florence Briggs Th...  female  38.0      1   \n",
              "2                             Heikkinen, Miss. Laina  female  26.0      0   \n",
              "3       Futrelle, Mrs. Jacques Heath (Lily May Peel)  female  35.0      1   \n",
              "4                           Allen, Mr. William Henry    male  35.0      0   \n",
              "\n",
              "   Parch            Ticket     Fare Cabin Embarked  \n",
              "0      0         A/5 21171   7.2500   NaN        S  \n",
              "1      0          PC 17599  71.2833   C85        C  \n",
              "2      0  STON/O2. 3101282   7.9250   NaN        S  \n",
              "3      0            113803  53.1000  C123        S  \n",
              "4      0            373450   8.0500   NaN        S  "
            ],
            "text/html": [
              "\n",
              "  <div id=\"df-f28a22ea-e54e-4560-8b90-f5b2c18fc0c6\" class=\"colab-df-container\">\n",
              "    <div>\n",
              "<style scoped>\n",
              "    .dataframe tbody tr th:only-of-type {\n",
              "        vertical-align: middle;\n",
              "    }\n",
              "\n",
              "    .dataframe tbody tr th {\n",
              "        vertical-align: top;\n",
              "    }\n",
              "\n",
              "    .dataframe thead th {\n",
              "        text-align: right;\n",
              "    }\n",
              "</style>\n",
              "<table border=\"1\" class=\"dataframe\">\n",
              "  <thead>\n",
              "    <tr style=\"text-align: right;\">\n",
              "      <th></th>\n",
              "      <th>PassengerId</th>\n",
              "      <th>Survived</th>\n",
              "      <th>Pclass</th>\n",
              "      <th>Name</th>\n",
              "      <th>Sex</th>\n",
              "      <th>Age</th>\n",
              "      <th>SibSp</th>\n",
              "      <th>Parch</th>\n",
              "      <th>Ticket</th>\n",
              "      <th>Fare</th>\n",
              "      <th>Cabin</th>\n",
              "      <th>Embarked</th>\n",
              "    </tr>\n",
              "  </thead>\n",
              "  <tbody>\n",
              "    <tr>\n",
              "      <th>0</th>\n",
              "      <td>1</td>\n",
              "      <td>0</td>\n",
              "      <td>3</td>\n",
              "      <td>Braund, Mr. Owen Harris</td>\n",
              "      <td>male</td>\n",
              "      <td>22.0</td>\n",
              "      <td>1</td>\n",
              "      <td>0</td>\n",
              "      <td>A/5 21171</td>\n",
              "      <td>7.2500</td>\n",
              "      <td>NaN</td>\n",
              "      <td>S</td>\n",
              "    </tr>\n",
              "    <tr>\n",
              "      <th>1</th>\n",
              "      <td>2</td>\n",
              "      <td>1</td>\n",
              "      <td>1</td>\n",
              "      <td>Cumings, Mrs. John Bradley (Florence Briggs Th...</td>\n",
              "      <td>female</td>\n",
              "      <td>38.0</td>\n",
              "      <td>1</td>\n",
              "      <td>0</td>\n",
              "      <td>PC 17599</td>\n",
              "      <td>71.2833</td>\n",
              "      <td>C85</td>\n",
              "      <td>C</td>\n",
              "    </tr>\n",
              "    <tr>\n",
              "      <th>2</th>\n",
              "      <td>3</td>\n",
              "      <td>1</td>\n",
              "      <td>3</td>\n",
              "      <td>Heikkinen, Miss. Laina</td>\n",
              "      <td>female</td>\n",
              "      <td>26.0</td>\n",
              "      <td>0</td>\n",
              "      <td>0</td>\n",
              "      <td>STON/O2. 3101282</td>\n",
              "      <td>7.9250</td>\n",
              "      <td>NaN</td>\n",
              "      <td>S</td>\n",
              "    </tr>\n",
              "    <tr>\n",
              "      <th>3</th>\n",
              "      <td>4</td>\n",
              "      <td>1</td>\n",
              "      <td>1</td>\n",
              "      <td>Futrelle, Mrs. Jacques Heath (Lily May Peel)</td>\n",
              "      <td>female</td>\n",
              "      <td>35.0</td>\n",
              "      <td>1</td>\n",
              "      <td>0</td>\n",
              "      <td>113803</td>\n",
              "      <td>53.1000</td>\n",
              "      <td>C123</td>\n",
              "      <td>S</td>\n",
              "    </tr>\n",
              "    <tr>\n",
              "      <th>4</th>\n",
              "      <td>5</td>\n",
              "      <td>0</td>\n",
              "      <td>3</td>\n",
              "      <td>Allen, Mr. William Henry</td>\n",
              "      <td>male</td>\n",
              "      <td>35.0</td>\n",
              "      <td>0</td>\n",
              "      <td>0</td>\n",
              "      <td>373450</td>\n",
              "      <td>8.0500</td>\n",
              "      <td>NaN</td>\n",
              "      <td>S</td>\n",
              "    </tr>\n",
              "  </tbody>\n",
              "</table>\n",
              "</div>\n",
              "    <div class=\"colab-df-buttons\">\n",
              "\n",
              "  <div class=\"colab-df-container\">\n",
              "    <button class=\"colab-df-convert\" onclick=\"convertToInteractive('df-f28a22ea-e54e-4560-8b90-f5b2c18fc0c6')\"\n",
              "            title=\"Convert this dataframe to an interactive table.\"\n",
              "            style=\"display:none;\">\n",
              "\n",
              "  <svg xmlns=\"http://www.w3.org/2000/svg\" height=\"24px\" viewBox=\"0 -960 960 960\">\n",
              "    <path d=\"M120-120v-720h720v720H120Zm60-500h600v-160H180v160Zm220 220h160v-160H400v160Zm0 220h160v-160H400v160ZM180-400h160v-160H180v160Zm440 0h160v-160H620v160ZM180-180h160v-160H180v160Zm440 0h160v-160H620v160Z\"/>\n",
              "  </svg>\n",
              "    </button>\n",
              "\n",
              "  <style>\n",
              "    .colab-df-container {\n",
              "      display:flex;\n",
              "      gap: 12px;\n",
              "    }\n",
              "\n",
              "    .colab-df-convert {\n",
              "      background-color: #E8F0FE;\n",
              "      border: none;\n",
              "      border-radius: 50%;\n",
              "      cursor: pointer;\n",
              "      display: none;\n",
              "      fill: #1967D2;\n",
              "      height: 32px;\n",
              "      padding: 0 0 0 0;\n",
              "      width: 32px;\n",
              "    }\n",
              "\n",
              "    .colab-df-convert:hover {\n",
              "      background-color: #E2EBFA;\n",
              "      box-shadow: 0px 1px 2px rgba(60, 64, 67, 0.3), 0px 1px 3px 1px rgba(60, 64, 67, 0.15);\n",
              "      fill: #174EA6;\n",
              "    }\n",
              "\n",
              "    .colab-df-buttons div {\n",
              "      margin-bottom: 4px;\n",
              "    }\n",
              "\n",
              "    [theme=dark] .colab-df-convert {\n",
              "      background-color: #3B4455;\n",
              "      fill: #D2E3FC;\n",
              "    }\n",
              "\n",
              "    [theme=dark] .colab-df-convert:hover {\n",
              "      background-color: #434B5C;\n",
              "      box-shadow: 0px 1px 3px 1px rgba(0, 0, 0, 0.15);\n",
              "      filter: drop-shadow(0px 1px 2px rgba(0, 0, 0, 0.3));\n",
              "      fill: #FFFFFF;\n",
              "    }\n",
              "  </style>\n",
              "\n",
              "    <script>\n",
              "      const buttonEl =\n",
              "        document.querySelector('#df-f28a22ea-e54e-4560-8b90-f5b2c18fc0c6 button.colab-df-convert');\n",
              "      buttonEl.style.display =\n",
              "        google.colab.kernel.accessAllowed ? 'block' : 'none';\n",
              "\n",
              "      async function convertToInteractive(key) {\n",
              "        const element = document.querySelector('#df-f28a22ea-e54e-4560-8b90-f5b2c18fc0c6');\n",
              "        const dataTable =\n",
              "          await google.colab.kernel.invokeFunction('convertToInteractive',\n",
              "                                                    [key], {});\n",
              "        if (!dataTable) return;\n",
              "\n",
              "        const docLinkHtml = 'Like what you see? Visit the ' +\n",
              "          '<a target=\"_blank\" href=https://colab.research.google.com/notebooks/data_table.ipynb>data table notebook</a>'\n",
              "          + ' to learn more about interactive tables.';\n",
              "        element.innerHTML = '';\n",
              "        dataTable['output_type'] = 'display_data';\n",
              "        await google.colab.output.renderOutput(dataTable, element);\n",
              "        const docLink = document.createElement('div');\n",
              "        docLink.innerHTML = docLinkHtml;\n",
              "        element.appendChild(docLink);\n",
              "      }\n",
              "    </script>\n",
              "  </div>\n",
              "\n",
              "\n",
              "<div id=\"df-bd11ca71-a44f-4ee0-a253-710d25a42abb\">\n",
              "  <button class=\"colab-df-quickchart\" onclick=\"quickchart('df-bd11ca71-a44f-4ee0-a253-710d25a42abb')\"\n",
              "            title=\"Suggest charts\"\n",
              "            style=\"display:none;\">\n",
              "\n",
              "<svg xmlns=\"http://www.w3.org/2000/svg\" height=\"24px\"viewBox=\"0 0 24 24\"\n",
              "     width=\"24px\">\n",
              "    <g>\n",
              "        <path d=\"M19 3H5c-1.1 0-2 .9-2 2v14c0 1.1.9 2 2 2h14c1.1 0 2-.9 2-2V5c0-1.1-.9-2-2-2zM9 17H7v-7h2v7zm4 0h-2V7h2v10zm4 0h-2v-4h2v4z\"/>\n",
              "    </g>\n",
              "</svg>\n",
              "  </button>\n",
              "\n",
              "<style>\n",
              "  .colab-df-quickchart {\n",
              "      --bg-color: #E8F0FE;\n",
              "      --fill-color: #1967D2;\n",
              "      --hover-bg-color: #E2EBFA;\n",
              "      --hover-fill-color: #174EA6;\n",
              "      --disabled-fill-color: #AAA;\n",
              "      --disabled-bg-color: #DDD;\n",
              "  }\n",
              "\n",
              "  [theme=dark] .colab-df-quickchart {\n",
              "      --bg-color: #3B4455;\n",
              "      --fill-color: #D2E3FC;\n",
              "      --hover-bg-color: #434B5C;\n",
              "      --hover-fill-color: #FFFFFF;\n",
              "      --disabled-bg-color: #3B4455;\n",
              "      --disabled-fill-color: #666;\n",
              "  }\n",
              "\n",
              "  .colab-df-quickchart {\n",
              "    background-color: var(--bg-color);\n",
              "    border: none;\n",
              "    border-radius: 50%;\n",
              "    cursor: pointer;\n",
              "    display: none;\n",
              "    fill: var(--fill-color);\n",
              "    height: 32px;\n",
              "    padding: 0;\n",
              "    width: 32px;\n",
              "  }\n",
              "\n",
              "  .colab-df-quickchart:hover {\n",
              "    background-color: var(--hover-bg-color);\n",
              "    box-shadow: 0 1px 2px rgba(60, 64, 67, 0.3), 0 1px 3px 1px rgba(60, 64, 67, 0.15);\n",
              "    fill: var(--button-hover-fill-color);\n",
              "  }\n",
              "\n",
              "  .colab-df-quickchart-complete:disabled,\n",
              "  .colab-df-quickchart-complete:disabled:hover {\n",
              "    background-color: var(--disabled-bg-color);\n",
              "    fill: var(--disabled-fill-color);\n",
              "    box-shadow: none;\n",
              "  }\n",
              "\n",
              "  .colab-df-spinner {\n",
              "    border: 2px solid var(--fill-color);\n",
              "    border-color: transparent;\n",
              "    border-bottom-color: var(--fill-color);\n",
              "    animation:\n",
              "      spin 1s steps(1) infinite;\n",
              "  }\n",
              "\n",
              "  @keyframes spin {\n",
              "    0% {\n",
              "      border-color: transparent;\n",
              "      border-bottom-color: var(--fill-color);\n",
              "      border-left-color: var(--fill-color);\n",
              "    }\n",
              "    20% {\n",
              "      border-color: transparent;\n",
              "      border-left-color: var(--fill-color);\n",
              "      border-top-color: var(--fill-color);\n",
              "    }\n",
              "    30% {\n",
              "      border-color: transparent;\n",
              "      border-left-color: var(--fill-color);\n",
              "      border-top-color: var(--fill-color);\n",
              "      border-right-color: var(--fill-color);\n",
              "    }\n",
              "    40% {\n",
              "      border-color: transparent;\n",
              "      border-right-color: var(--fill-color);\n",
              "      border-top-color: var(--fill-color);\n",
              "    }\n",
              "    60% {\n",
              "      border-color: transparent;\n",
              "      border-right-color: var(--fill-color);\n",
              "    }\n",
              "    80% {\n",
              "      border-color: transparent;\n",
              "      border-right-color: var(--fill-color);\n",
              "      border-bottom-color: var(--fill-color);\n",
              "    }\n",
              "    90% {\n",
              "      border-color: transparent;\n",
              "      border-bottom-color: var(--fill-color);\n",
              "    }\n",
              "  }\n",
              "</style>\n",
              "\n",
              "  <script>\n",
              "    async function quickchart(key) {\n",
              "      const quickchartButtonEl =\n",
              "        document.querySelector('#' + key + ' button');\n",
              "      quickchartButtonEl.disabled = true;  // To prevent multiple clicks.\n",
              "      quickchartButtonEl.classList.add('colab-df-spinner');\n",
              "      try {\n",
              "        const charts = await google.colab.kernel.invokeFunction(\n",
              "            'suggestCharts', [key], {});\n",
              "      } catch (error) {\n",
              "        console.error('Error during call to suggestCharts:', error);\n",
              "      }\n",
              "      quickchartButtonEl.classList.remove('colab-df-spinner');\n",
              "      quickchartButtonEl.classList.add('colab-df-quickchart-complete');\n",
              "    }\n",
              "    (() => {\n",
              "      let quickchartButtonEl =\n",
              "        document.querySelector('#df-bd11ca71-a44f-4ee0-a253-710d25a42abb button');\n",
              "      quickchartButtonEl.style.display =\n",
              "        google.colab.kernel.accessAllowed ? 'block' : 'none';\n",
              "    })();\n",
              "  </script>\n",
              "</div>\n",
              "    </div>\n",
              "  </div>\n"
            ],
            "application/vnd.google.colaboratory.intrinsic+json": {
              "type": "dataframe",
              "variable_name": "titanicTrainFrame",
              "summary": "{\n  \"name\": \"titanicTrainFrame\",\n  \"rows\": 891,\n  \"fields\": [\n    {\n      \"column\": \"PassengerId\",\n      \"properties\": {\n        \"dtype\": \"number\",\n        \"std\": 257,\n        \"min\": 1,\n        \"max\": 891,\n        \"num_unique_values\": 891,\n        \"samples\": [\n          710,\n          440,\n          841\n        ],\n        \"semantic_type\": \"\",\n        \"description\": \"\"\n      }\n    },\n    {\n      \"column\": \"Survived\",\n      \"properties\": {\n        \"dtype\": \"number\",\n        \"std\": 0,\n        \"min\": 0,\n        \"max\": 1,\n        \"num_unique_values\": 2,\n        \"samples\": [\n          1,\n          0\n        ],\n        \"semantic_type\": \"\",\n        \"description\": \"\"\n      }\n    },\n    {\n      \"column\": \"Pclass\",\n      \"properties\": {\n        \"dtype\": \"number\",\n        \"std\": 0,\n        \"min\": 1,\n        \"max\": 3,\n        \"num_unique_values\": 3,\n        \"samples\": [\n          3,\n          1\n        ],\n        \"semantic_type\": \"\",\n        \"description\": \"\"\n      }\n    },\n    {\n      \"column\": \"Name\",\n      \"properties\": {\n        \"dtype\": \"string\",\n        \"num_unique_values\": 891,\n        \"samples\": [\n          \"Moubarek, Master. Halim Gonios (\\\"William George\\\")\",\n          \"Kvillner, Mr. Johan Henrik Johannesson\"\n        ],\n        \"semantic_type\": \"\",\n        \"description\": \"\"\n      }\n    },\n    {\n      \"column\": \"Sex\",\n      \"properties\": {\n        \"dtype\": \"category\",\n        \"num_unique_values\": 2,\n        \"samples\": [\n          \"female\",\n          \"male\"\n        ],\n        \"semantic_type\": \"\",\n        \"description\": \"\"\n      }\n    },\n    {\n      \"column\": \"Age\",\n      \"properties\": {\n        \"dtype\": \"number\",\n        \"std\": 14.526497332334042,\n        \"min\": 0.42,\n        \"max\": 80.0,\n        \"num_unique_values\": 88,\n        \"samples\": [\n          0.75,\n          22.0\n        ],\n        \"semantic_type\": \"\",\n        \"description\": \"\"\n      }\n    },\n    {\n      \"column\": \"SibSp\",\n      \"properties\": {\n        \"dtype\": \"number\",\n        \"std\": 1,\n        \"min\": 0,\n        \"max\": 8,\n        \"num_unique_values\": 7,\n        \"samples\": [\n          1,\n          0\n        ],\n        \"semantic_type\": \"\",\n        \"description\": \"\"\n      }\n    },\n    {\n      \"column\": \"Parch\",\n      \"properties\": {\n        \"dtype\": \"number\",\n        \"std\": 0,\n        \"min\": 0,\n        \"max\": 6,\n        \"num_unique_values\": 7,\n        \"samples\": [\n          0,\n          1\n        ],\n        \"semantic_type\": \"\",\n        \"description\": \"\"\n      }\n    },\n    {\n      \"column\": \"Ticket\",\n      \"properties\": {\n        \"dtype\": \"string\",\n        \"num_unique_values\": 681,\n        \"samples\": [\n          \"11774\",\n          \"248740\"\n        ],\n        \"semantic_type\": \"\",\n        \"description\": \"\"\n      }\n    },\n    {\n      \"column\": \"Fare\",\n      \"properties\": {\n        \"dtype\": \"number\",\n        \"std\": 49.6934285971809,\n        \"min\": 0.0,\n        \"max\": 512.3292,\n        \"num_unique_values\": 248,\n        \"samples\": [\n          11.2417,\n          51.8625\n        ],\n        \"semantic_type\": \"\",\n        \"description\": \"\"\n      }\n    },\n    {\n      \"column\": \"Cabin\",\n      \"properties\": {\n        \"dtype\": \"category\",\n        \"num_unique_values\": 147,\n        \"samples\": [\n          \"D45\",\n          \"B49\"\n        ],\n        \"semantic_type\": \"\",\n        \"description\": \"\"\n      }\n    },\n    {\n      \"column\": \"Embarked\",\n      \"properties\": {\n        \"dtype\": \"category\",\n        \"num_unique_values\": 3,\n        \"samples\": [\n          \"S\",\n          \"C\"\n        ],\n        \"semantic_type\": \"\",\n        \"description\": \"\"\n      }\n    }\n  ]\n}"
            }
          },
          "metadata": {},
          "execution_count": 4
        }
      ]
    },
    {
      "cell_type": "markdown",
      "source": [
        "### Plotting the Data"
      ],
      "metadata": {
        "id": "mBU2rR-32gnk"
      }
    },
    {
      "cell_type": "markdown",
      "source": [
        "First, we plot the data from the **titanic_test** file."
      ],
      "metadata": {
        "id": "x1Qw1Hoh3Qb6"
      }
    },
    {
      "cell_type": "code",
      "source": [
        "# Plotting titanic_test frame data (according to sex)\n",
        "\n",
        "import seaborn as sns\n",
        "titanicTestFrame.groupby('Sex').size().plot(kind='barh')\n"
      ],
      "metadata": {
        "colab": {
          "base_uri": "https://localhost:8080/",
          "height": 448
        },
        "id": "St0i6ZR22QbC",
        "outputId": "625abe24-6929-479d-d9d0-085d42c4fca8"
      },
      "execution_count": null,
      "outputs": [
        {
          "output_type": "execute_result",
          "data": {
            "text/plain": [
              "<Axes: ylabel='Sex'>"
            ]
          },
          "metadata": {},
          "execution_count": 5
        },
        {
          "output_type": "display_data",
          "data": {
            "text/plain": [
              "<Figure size 640x480 with 1 Axes>"
            ],
            "image/png": "[encoded data removed]"
          },
          "metadata": {}
        }
      ]
    },
    {
      "cell_type": "markdown",
      "source": [
        "We can use a **countplot** in the seaborn library to visualize the number of passengers per class, per sex.\n",
        "\n",
        "Reference: https://seaborn.pydata.org/generated/seaborn.countplot.html"
      ],
      "metadata": {
        "id": "NNhac-Pm5KtT"
      }
    },
    {
      "cell_type": "code",
      "source": [
        "# Plotting the number of passengers per class, for male and female\n",
        "\n",
        "sns.countplot(titanicTestFrame, x=\"Pclass\", hue=\"Sex\")"
      ],
      "metadata": {
        "colab": {
          "base_uri": "https://localhost:8080/",
          "height": 467
        },
        "id": "3Z_lX-eu34Py",
        "outputId": "18f1c946-9992-4307-f41b-039b64f05394"
      },
      "execution_count": null,
      "outputs": [
        {
          "output_type": "execute_result",
          "data": {
            "text/plain": [
              "<Axes: xlabel='Pclass', ylabel='count'>"
            ]
          },
          "metadata": {},
          "execution_count": 6
        },
        {
          "output_type": "display_data",
          "data": {
            "text/plain": [
              "<Figure size 640x480 with 1 Axes>"
            ],
            "image/png": "[encoded data removed]"
          },
          "metadata": {}
        }
      ]
    },
    {
      "cell_type": "markdown",
      "source": [
        "Next, we plot the data from the **titanic_train** file. For this, we may also use the countplot to visualize the number of survivors per class and per sex."
      ],
      "metadata": {
        "id": "Z0VGtbUA7Usq"
      }
    },
    {
      "cell_type": "code",
      "source": [
        "# Plotting number of survivors per class\n",
        "\n",
        "sns.countplot(titanicTrainFrame, x=\"Survived\", hue=\"Pclass\")"
      ],
      "metadata": {
        "colab": {
          "base_uri": "https://localhost:8080/",
          "height": 467
        },
        "id": "u09wkP7r6QWy",
        "outputId": "1b66cfef-2658-43a8-8882-36465faa45d0"
      },
      "execution_count": null,
      "outputs": [
        {
          "output_type": "execute_result",
          "data": {
            "text/plain": [
              "<Axes: xlabel='Survived', ylabel='count'>"
            ]
          },
          "metadata": {},
          "execution_count": 81
        },
        {
          "output_type": "display_data",
          "data": {
            "text/plain": [
              "<Figure size 640x480 with 1 Axes>"
            ],
            "image/png": "[encoded data removed]"
          },
          "metadata": {}
        }
      ]
    },
    {
      "cell_type": "markdown",
      "source": [
        "**Remarks**: We can see that there were a lot of casualties in the passenger class 3 based on the count plot generated above."
      ],
      "metadata": {
        "id": "c7s9RmmL8Bgr"
      }
    },
    {
      "cell_type": "code",
      "source": [
        "# Plotting number of survivors per Sex\n",
        "\n",
        "sns.countplot(titanicTrainFrame, x=\"Sex\", hue=\"Survived\")"
      ],
      "metadata": {
        "colab": {
          "base_uri": "https://localhost:8080/",
          "height": 467
        },
        "id": "UKGA2yRb7ru8",
        "outputId": "52d748d8-217a-4e8c-ab55-6dcb60fb9ba7"
      },
      "execution_count": null,
      "outputs": [
        {
          "output_type": "execute_result",
          "data": {
            "text/plain": [
              "<Axes: xlabel='Sex', ylabel='count'>"
            ]
          },
          "metadata": {},
          "execution_count": 9
        },
        {
          "output_type": "display_data",
          "data": {
            "text/plain": [
              "<Figure size 640x480 with 1 Axes>"
            ],
            "image/png": "[encoded data removed]"
          },
          "metadata": {}
        }
      ]
    },
    {
      "cell_type": "markdown",
      "source": [
        "### Performing Simple Linear Regression\n",
        "\n",
        "To perform simple linear regression on the SURVIVAL column, we may use the matplotlib library."
      ],
      "metadata": {
        "id": "mxklCIvc8V4t"
      }
    },
    {
      "cell_type": "code",
      "source": [
        "sns.lmplot(x=\"Survived\", y=\"Age\", data=titanicTrainFrame);\n"
      ],
      "metadata": {
        "colab": {
          "base_uri": "https://localhost:8080/",
          "height": 506
        },
        "id": "rScm0Fcg87IR",
        "outputId": "7df04844-9d67-4044-f737-721af49211a7"
      },
      "execution_count": null,
      "outputs": [
        {
          "output_type": "display_data",
          "data": {
            "text/plain": [
              "<Figure size 500x500 with 1 Axes>"
            ],
            "image/png": "[encoded data removed]"
          },
          "metadata": {}
        }
      ]
    },
    {
      "cell_type": "markdown",
      "source": [
        "**Remarks**: The linear regression above was done with Age and Survived as the variables. Based on the figure above, the variables do not form any significant relationship with each other and that the data points do not form any trend or pattern."
      ],
      "metadata": {
        "id": "KravgitpEiz_"
      }
    },
    {
      "cell_type": "markdown",
      "source": [
        "## Part 2: Decision Tree Classification"
      ],
      "metadata": {
        "id": "zCU9H-5O-iqa"
      }
    },
    {
      "cell_type": "markdown",
      "source": [
        "In this part of the lab, you will create a decision tree classifier that will learn from a labelled dataset.\n",
        "\n",
        "The dataset contains the names and demographic details for each passenger. In addition, details of the\n",
        "passengers' trip are included. From this data, we can be build a decision tree that illustrates the factors that\n",
        "contributed to survivability, or lack of it, for the voyag"
      ],
      "metadata": {
        "id": "HmssApWo7lt3"
      }
    },
    {
      "cell_type": "markdown",
      "source": [
        "![image.png](data:image/png;base64,iVBORw0KGgoAAAANSUhEUgAAAvQAAAGuCAYAAAD/IZIaAAAAAXNSR0IArs4c6QAAAARnQU1BAACxjwv8YQUAAAAJcEhZcwAADsMAAA7DAcdvqGQAAP+lSURBVHhe7N0HXBTX2gfg/3Z6FRAQVECwYMHeFY3XGGPBJBiNGqNRY2JP1BuTGK+mWJJoPhNjjAoiWBAb9qCCig272AsgCioqVgRkd99vdneogiyKiSTvc397zZ5pZ86cc+ad2ZmDhARgjDHGGGOMVUhS8V/GGGOMMcZYBcQBPWOMMcYYYxUYB/SMMcYYY4xVYIWeoZdIJOJ/McYYY4wxxioCvkPPGGOMMcZYBVbsHXoe+Iaxl4vbGmOMMcbKC9+hZ4wxxhhjrALjgJ4xxhhjjLEKjAN6xhhjjDHGKjAO6BljjDHGGKvAOKBnjDHGGGOsAuOAnjHGGGOMsQqMA3rGGGOMMcYqMA7oGWOMMcYYq8BK/8NSmqvYu2YXErIksPZ9HW/62Re+ClAnYlfEXiTnSODQqAder20hTigLLW4eikTUuUdQerRDYCs3Mf3ZNFf2IGJPEtQWNdGpexM4Fnd5or2JQ5FROPdICY92b6GVm0ycwNjfp9i2pk3D4Q1ROPtAa/guzCOVymFiVRk1GjZFPRczQ/orQnvzECKjzuGR0gP9AluJqc+J2yljjDH2/HQBfS7d1yJJRJpr9FtnC5IIsb+p/xxKVIvpoqyYkeQpF5aTe9O42GwxtayyKHqkB8kgJbv31ohppctYGUhWEpDccxTtKmnTWdE00kNGkNrRe2syxUTG/l7FtrXsPTTWW543reBHoqxMLT5ZRudeoSqcFT2SPGQgqd17Yoqx1HRj7zwa5t+Pfk/VGJK4nTLGGGPPrfRHbqTO6PlOe1hKCFn712LtFY04QScbB9dswRU1IPfphd7NlGJ6Wcng6NcFb739Fno0cxXTGPu3ksGpUTe8LbSHgO6vo5WPPeQ5N7B/3kB0H7cFd8W5/m4yRz90eettvNWjmZhiHE3izwjs8Al+35uKJ7rLFR2ZI/y6vIW33+qBZq78JCBjjDFWFqU/ciPQ3grB294fYO19JdrMOoXoTz2FkEOQvRtjfDvi58sS+H11CHH/qw/p3ZNYtyQcMadT8YhMYO/RBN3690VbN5WwgAaXo4IRdUkD1zavwy72V4SeUsKvz3C8SdHYEP8QSu/O+KBjdd3aoX3muoDH4b3h/G44HnuMwpbN3XExZA2O3lKhWpt3MaRPUzjqMpkdg1G1X8PcJGu8F5GC0AAT/bLa9ONYvWg5dp5Ph8K5Hjr1GYButa310xh72Ypta09iMa6uP2ZfkKLd7IvYOcbd8Hib9g5i/tsZb/5wBI9NWmPGsRiM9zE8klJqPc64hG2hy/DnsWTcVSsNbaif0IbcDW3IIAtJMWFYuuEQrtyXwMajOQLe74NWroYLdM3lKARHXYLGtQ1et4vFr6GnoPTrg/+9SVi+IR4Pld746IOOwoxJ2Ll0K84/cUarwObIXL8Ay/ddg8StNfoM7YumugZ5X8jvvG/x38kRuCSphfe+GYUuLbvjvZZA7PINiH+ohHfnAehYXXzkRnsPZ7csx8odJ3HtkRKu9V5D7/7dkLuLmpQ9Qh5OIcOhKd7poMDOhaHYfuEhrGt2xoAPe6ION2nGGGP/BrqAPpfua5Ek0R1a9o49SYX4X9VqBp0XH7vJ3jOWvOW6xwGa0jen1aS5vZlG1jYlIVTJW5fumkHu8jaFJOt+Ws+glYFWwnQFeTduSDZSYbpEQY2nHn3qkZvS15X/yI3UuhpVryTLn1eiJI++YYbHg4r5KV99KYTe9VQVWrfErCYNXpVM4gMAjL1UufWukLxHbpTUbvaVwnUxPZR62UiEuq2iDnOv6aeVWo8zDtDUFja6n+HypuvakMzpdZp7Okc3h66hUdTExoa2WGieTjT7eJZ+ltx2pvBuTA1tpPrpisZTn37kJnMdDXAQpit8yL9jNVIJy+SuT+nZj5YnqUl9cTq1UBTclow8RkYX/8jNo6M0p2sVUuatR/cR+qDqvWh+vCFvWduHk7uQB7mnP71e06xAWUjJxn82Cd0SY4wx9o9n5G/bdugS2BmVhHP1k0PrsOaS7rGbJzi0dhMS1BIom7yFd3wkuLbmd6y8nAPL5uOx9vBZnI79FW+7SaG+vgVrYh4aVqWXgwtHzsKmdQAC2ndH757eYnoubRnWJcz9IAWSdjOxOe4gNk7vDnd5DhJWTsDUzYXn09Nex9LPxiBcWLd928+xav9BbJjWGZWzzyF4zGRsvC/Ox9irxLIOfKvJhVBVg+TLCVAbUY+zdi7AvIP3IKs9FCvizuDs0U2Y9h9HIH0vfl8ci2xhtY/3TMPHPx7BfaUP+v26HUeP/YmZb7oAN3fgf18sRar4fq5OzoUjOGvTGgEB7dG9d08xtRg5F7DnfB1MXncQcVt+RK/qcuRcXo7P/rcJj5y6YMI3gagh7AoUtdH/x/n4ro+PYblCnuDIzA8xcfM1qCu1xcSwWBzeuxyft3eEOmktxn4wHceeiLMK1AmxOFvzf9h0+Bi2Tu0o9FVa3ItdhrXnCz4iyBhjjP1DiYG9nu5rkaR8D9fR+85CRC9RUrNvz5A6ey996iMXvptS+9kJlHcjTJ1JDx/do5QTO2nl/31Kr1WRCetUUvs5V4SJuXfoQYp6X9ChvBdZS3gp9pnryr9zKLF8kxbdFO9naq7RL6/p7uzLqPonO5++83d7MXWzkOhf4h27R8xAzjH6qr5CmMeJBkbyC3ns5Su2rT3rDr36LH3bVKijQr2uMnQrZRlRjzM3DSZnqe6ufXXyH/wl/d/yHXTyym16KN6cFzZIu0d7kRwSsnhzMaWJqeor+2j9xp108MwN0rWG3HYGRT36Ir/RlnyHXmJG/5mXIuZfQzcWdiVLYXlZlaG0NUtYf+5demUHmpsi7mXRdpq9i0Z7GfoX/58T88pCk/R/1MFMt99eNHpXdt4deomyHf2UJM51L5i6F5iHMcYY+6cz/u0zi9cQ2NVFCCdycHTdapyKW4dNl9WQmLdB4FtVDc/UPz6L5RPfQovqTqjSoAN6j/oR268Z7pBptbr4JZcU1vUbw/dZ79AavS4hxHHyhJeNuCvSSqhZw0HYgha3btwwpBWgvpaEa9nC8to7iPrf2+jevTu69/ocG29ohbS7SLj09DKM/e0093Dvoa7eS2BuZQWNEfXYpMMIjO9YGbLMREQv+gaj+nREfS8vNHpzHJaffSysS42rV69DI7QWe/eqsNJvSGhP7i3Qvas/mtZyguGNEwOpdX00fmajFUkdUcMnd3hbKWxr+sBZ6CC0t1JxvcBd9WfKuIiLV9VCZlxRz89FXJewNmc/1HcVVqa5ikuXdPsgMnOBm5M4l8oSlia62wYaaDSF+wrGGGPsn8j4gB7m6PBuN7jJCOrjqzHtp/W4pJbAst076KkfleIJDn3fBx/8tAXn5X7oN/FHBG/YjMltDAGAVHwJ0EACCyEoKZhSWFnWJZy3Hz/CowLn7ewnapCwdqVJwXDEQCKXGy4+JKao5O4Od/3HEy3f/giffPIRutU21c/H2KtEez0Oh5OEC1qJOWrX84HKmHps0gBjt5zC4TX/h/8OfANNPO2gUN/HhW1z8MGAHxEvxMsKpUJYCSEr87H+J4NnkVhYwarkRpuPMvBQf/FhQNlZ0F17QKGCSp9pIyhMYaLQBeWZeJxRIGfCujMydd+VMDHV5d1AolQKKbmkQh8h/idjjDH2L1CGgF6ID1q/i+7V5aCc41i99gLUUmt0DOwB/Y0x7XXs3XNWOHHL0XBEEIK+H4f3O9kg847hIVwqFC5IIJPJSw7oy7QuQJO2B1v3ic/LPz6KmP1p0Epk8PatbUgrQFatLmrb6jJMqNptGn755Rf8MvNdVH14Bxlkg2rVKxlmZOyVoMGjxJ34cdQP2JOle5rmDfR5w86IemyLhHXfYOTQkZh50hsTgjYh7lIarq7oA2fhovzJpbM4/0SFusLFgUKixZ24PTiue6hecH/jcNSt6g2/N2cgrsAddYlMBrkxgbI2Hbs37BCH13yCM7v265/Fl3v7oo4u6pYIAbd+GkFT0iPupg3R2FcBieYmdq7dmTdU593otdh5QyNcxzRCq2ZPX7Azxhhj/0ZlCuihao7ePT2he59NR2r7HwR20z3eovtigyouVsJ/q3Fk7mAMGjMSfdu/jTln1cJEwqMHxbygWpIyrkuCRCx4twP6jBqFfh3f0s8ntXkN7/f2EucowPw/+HBALSi1qQj9oD0Cho/FkO798dXSlQjbehMWTsbeQmTsZclB7IQaMFWpoFKqYOXZERMir0Ijc0XP779BL3thllLrsRIO5texdekKLJ/aH53eHY3//ncMPpm+DWlaCSybtEIjlXDR+94wdKkktLQzPyOw8yCMGzsQb360CKevJiHDo4khAC8zDZKC+qFdwEcY+X5HdPv+OHIk1mjzfl/UEToPiaUVLHS30NUnsezzMfg8+KS4XAEybwwc+zZc5RpcXvguWr05FKOGdUebd//AJY0KPoMnYaAHt1XGGGNMT3yWXk/3tUjSU3LiPidf/bBzUnLqt5ruiek62ad/p7eqi0NNSuRk33gY/fRZGzKRSMjyjQXCHLkvxcrJc9QuKvB63VMvxZa+rvyX9ZT+/6W5gxuQjUwi5EtC8kpNafTaK4YXdYsbDi/zFC3+oCHZK3Tz69YvJQuvAPrxQMG9YezlKbatFfOXYiUSGamsXai2/0D6buNloaUUUGo9fkhHf+tH9ewUhnakn0dJlVuMoPDLuW/GaujmzqnU1cOchBjbsE2ZNdUK/D869MAwR247K/oXmUt8KVbmSt0+7k91raX67UrkdtTo41WUmLtJ9WVa2NOFFPrtScgiILT4dirk/9jCIdTK1TQ/bypXajsmnC6JBZH7UqzU8X1an7tY5lrqb6/LR3UasbNQiTHGGGP/SEb9YakyybqBU4fPIt3cEw3ru8OibL8BFFamdWlxL+EwTlyToVpDP1Q1YsNZN87g+LkbyDavhvoNPWDDN/zYX6Rc2pqo1HqcdRNnjp/F9QwprKvWQT0v+wLPm4s095F4/AQS78tQqUZ9+LpZlPHnO0HWerzv3gsh6e74+M9z+LnBFRw+eR3yag3RsJpl4fVphe0dOYakbFt4NqgL92e1V/VdJMafxpWHSlTxbQgvu9zfCBljjDGmU/4BPWOsVP/ItlYkoP+1g0qcwBhjjLGXqcw34RhjjDHGGGOvDr5Dz9jf4B/Z1rTpuHDoLNLUKrj4NoSHNd8vYIwxxv4KHNAz9jfgtsYYY4yx8sK30BhjjDHGGKvAOKBnjDHGGGOsAuOAnjHGGGOMsQqMA3rGGGOMMcYqMA7oGWOMMcYYq8CKHeWGMcYYY4wxVjHwHXrGGGOMMcYqMB6HnrG/Abc1xhhjjJUXvkPPGGOMMcZYBcYBPWOMMcYYYxUYB/SMMcYYY4xVYBzQM8YYY4wxVoFxQM8YY4wxxlgFxgE9Y4wxxhhjFRgH9IwxxhhjjFVgHNAzxhhjjDFWgT3fH5a6fwpbdmehUdfGcCzDJcH9U1uw8dhtaMXvEokUUoUpbN3qoFljH9gpxQkM0Kbh8IYoJNi3QWBrdyHhPk5t2Yhjt8XSE46VVKaEuZ0b6jZrCk8bmSGdVQjFt7VHOLN1PY7LGqFnp5owE1NzZZ3fjjWH1WjQ43XUthATn0WTjNjVscjw7Y7ORi3wkhiTj0dnsDXyNCzb9EIrt3Kuy7omo++nNEiOXY3YDF9071wbupxobx3E0t8jcCQNcHutJ1pkXXk55aW9hYNLf0eEfkOd8cm4rqhWUZqs5gr2ROzF47p/cz1ijDFWMl1An0v3tUjS0zQ3KHKIN5l6j6U92WKaUdR05pumpJDISKFUklL8KORSkgjXFWbVu9MPBx6I8zLK3k1jvBRk2zfC8F19hr5pqiCJTFG47CQSkppVpU6fR1JSjmFW9uortq2pL9L0FsLx9Z9DyRoxLY+GUuZ2IKWiFc28pBbTSpEZQX1tldR61mWh9f2NjMiH+uJ0aqG0p/5rM8WU8pBF8YsHU5vBYfRI/z2TIvrakrL1LLqsy4j6Ms19zVpoP1XIr1U7Grzgt5dUXmq6PPc1spaaURW/VtRucBAl/a0HpIwyVlKg1StQjxhjjJWobI/cZF9C+Cdd0H/RBeSISWWmfA1zr2UjO9vweZLzGCl7f0KnnM2YNGwmDqnF+VixlK/NxbW8snuCh1f3I2iwM47OfBcBX+9FhjgfY7q29v2ewwh+vwr+1pvBf1s+HmDvylDE3crRXz0JGcFr3+/B4eD3UUWXkZyTiDv+GHXGrkNcbAwWDu7zkvKZg5Nxx/G4zlisi4tFzMKBqFpR7s4zxhirEIwO6NVng/F+06b4YIsT3uxYpRwfvlfBueUITB1cD3RmO3Zc1ojpwjbvXkBs5DIELVyEpWt348K93Id1RI9TcCRqNZYGhSBixymkPRHTRY9TjiBq9VIEhURgx6k0FJksyELK4c1YHhyE0PV7kfhITNbRXEbU4iDsSFTjcfIBRIYGIWT1Lly4XyQPAk36GeyMWIolK7fjTPoTJO8KwR8bzwhrz5eVchiblwcjKHQ99hbeEC5tW4Ql0Um4eyEGEWER2J1QcPqzyGDu2gwD5qzBr+/YIv6XbxGa8nT+2D+RBpejFiNoRyLUj5NxIDJUqOersevC/bxH2kDpuBi3H/Gp2WKCjgbpZ3ZgVcgShEefx/0nCdi+eDG2J+janRoXtizAgg2n8Ngws97942uxYPF26GfJlZWCw5uXIzgoFOv3JuKZNbakfJzejvAQoe3uScCjYqvti7TPxzgdGYZ9QnvQXt2DxQsicSqDkH4xDvvjU5F5Yx+WL9yGC8KOZl/chgV/bMUFdXH5fMG2q72BfcsXYpthQ9i24A9svZBbkI+QtD8SYUFBCIvcV2T/LmHboiWITrqLCzERCIvYjWd1CyXnUaQW1hMbiWVBC7Fo6VrsvnAvv57kyk7FkS0rsER3TPdfKebmACFTKOv1Sw1lfamYvjCP/vjo6tUT3Du3E+FLQrBq+2ncKViHRBWjn9e1m52IWLoEK7efQfqTZOwK+QMbzxTs5V+wrjDG2IsQ79Tr6b4WScqTtfM7GvT5UjqWnkV7P/Mh5fM+cqPqTPPTxKQ8OXTi64akULSmWfrfwnPoXHB/qmWlIEsXb6pTqzrZqyQkd/SnmYez9EuoLwVTbw9TUtlWo1p1vMnZXE7mPgNpWaL+t3S6FNybPExVZFutFtXxdiZzuTn5DFxG+sk6D+Jodk8PMlNYkJOnN1WzU5HKtSNNib5N+qcddD8z29hQ+36B5C38W6WGJzmaSknh2o1+O5P7bIuGUiLHUGM7OSls3MjD1ZpMXdpT95b2ZNJ5Phl28wHFze5JHmYKsnDyJO9qdqRSuVLHKdF027AhCutlQTZ+ral+JUfy8KhM3kM208Ps4h+5UeWtt7CsnSOoutyCegTfEVPYq6zYtlamR24yaGWgDdm070eB3sK/VWqQp6MpSRWu1O23M0ILEhR91EWTTGtHNCJboc671qlPPk42VL3H29TKypb6rMrQrzOkh4qUHeZSSt721XRxegtS2vQh/SyCB3GzqaeHGSksnMjTuxrZqVTk2nEKRRsq9NNKyodcSTZu1cnVyoq8/NuQp6LAIzcv3D7v0Jqx7cjHXkqySrWodYfRFJGWkffIzfljv1Dfdr7kpJCSTY1m1Pa1L+jPe0UfDXrOtqtfVpRzkn7p2458nRQktalBzdq+Rl/8mUWam1H0VXsX4XhaUxVvb3KzEY67sz99GXVD3L8w6mVhQ36t61MlRw/yqOxNQzYXWrOotDwKWTgXTP1rWZHC0oW869Si6vYqksgdyX/mYTL0phq6EzOV/lPFhBRWruTt7UrWChOq2vMXOqE7HPpHbhTkKeRdV9buPrr+ViaUdVf65VQJz/nplrG2pBa9ulN1a0fyrl+bXCwUZNNwBK29lltPKkg/r0mhyDGNyU4u5N/Ng1ytTcmlfXdqaW9CnfNOZuVQVxhj7AUYHdDnyy7ngD6bbuyfSwHuclI1mkLH9Ofi5RRYSSF0eBvphtj3Z12cT90cFOT+UZRwEsqm3WO8SFV7HO0WH7vPSQyigMom1GDyUfH5cxXVHrdb6Gb1UykxKIAqmzSgyUd1G8ig6DHepHLuQrP253bs5ym0n7BOt0EUeVf3XXcSk5DMNYB+O2lYS+aZOdRJOPF6jIwRciD087fDqa+zkKeA3+mkvme+R4dmdyUXGfIC74zoMeStcqYus/bndeznQ/uRl8qNBhk2JHT05iRR+NKnu+8J33MoR5fFMgb0mtS51EGpoLpfHDYEc+yVVj4BvRVJZK4U8NtJQz3PPENzOtmQwmMkxegqaKFAWkNpK3oLAWw16h1y3hDIPThKs7tUJpnExviAPiOaxniryLnLLNovRowZ50Opn9De3AZFkq5GP+WpfLwr5MOdei2I1z/brkk/QDM6OZJUmhvQl0/7JKGlzO8sBHDdg8XAqcgz9BmrqI+Nktr8kCDkSze5cED/3G33KRm0qo8NKdv8QAm6FWtu0so+zqRwfoNmH9YtJ7h3lOZ0dSGFUyAt03V6uoDeXEIK30/JsGph3YY5Cyk9j3doeWAlUngPoY35nSnN7+ZACvePKEpXER5F0fDqCrLz/4b23dHNo6Gbf46iuipL6vRrEmnyyro7/XrCUJLZ53+l1+0U5DV6l1jWRYjLSB070cw4wz5mnguid9wVVLnPSkNeK0Q/r6Hb4X3JWaivAb+fNNSje4dotnCsZFDlBfTlV1cYY+z5lN+TM8Z6EoMJtR3h6Gj42FtbwbXlKGzBf/Dtb5+hgVyYx6QFPl26HmFTu8BJzKGqSnP4uQP309Oh+9VWoVBAm7oXK3WPudx6Anm1/lh26S6O/M9PN1WYrkXq3pX6n0dvPZGjWv9luHT3CP7nJ2wgKxqh4Ylw7zEM3R3vIykhAQk35Gj2QS/UurEeK3bk/tgsh2fgOAyqa6n/ZuLdHZ3rSnD92lXoHvW/v3k5Nt5pjI+nD0Zd/eAP1mg8ciaGN1TovgiyEB0ajkT3HhjW3RH3k4TtJNyAvNkH6FXrBtav2CHOJ2zJswveamat+y/IdWVQRlKlEgoJIefJk6d/Smf/WHLPQIwbVBf6Gmrije6d60Jy/RquPvUuykNsj9iK9Hof4Ms+3lDpkiz9MGLqINQuQ33Lig5FeKI7egzrDsf7SUJ9TsANeTN80KsWbqxfgbymUyIxH/WHYNogX5gLKVLbZhgz7QPUzH2uvJza54t5iW33/jas2HQb9YZNx4hGuuUE1sKx+OET+KVvQuiG24Y03f51eQuGVQvrNiQWYEweTdDi06VYHzYVXfI7UzQ3dKZIFzrT7D3hiLzmjve+/gwt7HTzSOHY8WuEbVqFb96wFx+vlMMjcDw+rGcY5Ubp1QNv1Jcg5cqVYh5xySVH7cHfYmwTwz6a+PTD5MH1cGdLBKJ0h7BC9PP3sXn5Rtxp/DGmD66rHxkJ1o0xcuZw5HXzf2E/zxhjJRG70b+Q3Avdxn+Fr74SPpMnY9rM+Vi+7RgSzm/Cp010p3eBWVU0bGCLs4s/xeDe3dChsQ+cHZrgm2NqaPU3N5VoOnYWxtW/hoVDO8HXxQFVm/TEqJ8349xD3eSmGDtrHOpfW4ihnXzh4lAVTXqOws+bzwnhBKBNFzrc2zm4OL8nfDw94Sl+anScieM5D5GSnHtClaBSZef8F+QkJjBRCstrNELQrMaVS4nItPKCj3uBN9xkHqjjbSksKdCmCx37beRcnI+ePvnb8azRETOP5+BhSrJ+ER2JQ2U4v0AHr7l5C+laCWzt7f/eFyDZC5BCpmuRQv0q5lFjIVlX96WQFmi1kkpCvcmvoDAxVFBonnoE+AauXHsMZVUveBSoZ/JadVDDRPxSKi3ShaDods5FzO/pk1+fPWug48zjyHmYguTcYVVLoklBwpUMmFavUWjYRmWd2qihMAzlWT7t8wW9xLarTk1CcqY5vOt4FgrSZdXqoKbNE1y7kiKmSOAg7F+JqzYqj2ao2rABbM8uxqeDe6Nbh8bwcXZAk2+OQa0l/c9ED4Sg/LakGmr65EWoQjWzQ92OndG0Wu4wlbq8VM4va6kSSqUE2idPSr54kqjg7Vu7QP6Fi4Ia1aDKSEZiqlDDK0I/r76CS4mZsPLyQeFuvg68LQ319a/s5xljrCR/fUAvrYI2H4zEyJHCZ8QIfDxsIN7pVB/OBYIKbXIo3mvSFh8vPoEcZz90GTIVITHRmNIs/4Qjde6K6TEJuHpyK4K//wgdHa5g3ZRA+L+/RDcVzl2nIybhKk5uDcb3H3WEw5V1mBLoj/eXCCdLuUI4tSjRZno8bqalIa3QJxXrh7sZNiKQSsVO+ykSqFRCr/8kE1mFoi81srLU+hOl7gSmEDpvZZvpiL9ZdDtpSF0/XD+XnhClPf/B0OLW/v04Ty7wa1yVA/qKSmYNa0sp6MF9FH0vUHeM09PvgmSWsLYucISFelNSDS1EYgkLMwnUmY9R6DU+dQ7URa8eSCvWXx1CVvaTvO9yQ4XG9PibT9XntNT1GO5WWi02hYlKgpyszMJ3dtVqqPVBnKBc2ueLenltVyL0G0qJrp8oUvDqx3icLWxTKfQrImnBq7enGJFHbTJC32uCth8vxokcZ/h1GYKpITGIntIMub2pUqUS8p8j5EdM0BPqW9J5pNzPP0rPzktxtMh5Ujjcz3qcCbXEDGZCXawQ/bxwUWLo5rMKX2Srs5ClzmsVf1E/zxhjJXsF+xYtrkcGYf3N+pgYGYWQOVMxflhvdPK6hUtJGiHWECIdbRqiZgzBh7MPw9K3MwZ8NgOLN8dh+RA33I2LFSZHYcaQDzH7sCV8Ow/AZzMWY3Pccgxxu4u42HhIbfzg50mI37UXWfYOcHAwfKyuhWPS6MlYdc6YH+xl8GjaEM6ZR7ArtsBoBY/2YtcR8adcqQ38/DxB8buwN8s+bzsOVtcQPmk0Jq86Z5jvRd2PxY8/b0dmjUC811r/MAWrkCxRp05V4NJBHLhZJKLXpiJ230WgWh34Ps/f9pFWQtOmNaA9ugNRt/LXfX/PHhwrEFmbmpqC7t3BnbxZ7uPEyUShVepIYePnB0+Kx669WbDPrc8OVrgWPgmjJ69CqU1H5oqmjdyhPrITO9PFNMH93bE4Lo6FWz7tU0cInnRxWv7VifFeYtuVuTVCg8rZiPszCgWKAHd3RuFApj1861cTU0phRB611yMRtP4m6k+MRFTIHEwdPwy9O3nh1qUkaIQLN91xNW/QAD44hdg9t8TjLHhyBD90q4cm46IKXwCWBT3BsT27hRqU6w527DwKjWcTNHdCxejnZR5o2tAZmUd2oXA3vwu53fxf1s8zxtgzlF9Ar7mAdTMm4+uw42LC85LCwtkZ1pSA7WEbcPjsWRzbsQSTeo9B+C1CTnYWcoQO1OpBHMK+GoYhs9di14EDiA7/AT9vSoVdS3+hf7XCg7gwfDVsCGav3YUDB6IR/sPP2JRqh5b+DQBlYwwb9zpUURPRbeBMrNy+GzvDZ2BAnwkIOaSBa9X8O2TPomo/AqNa3kXQkHfwZcgWRG9Zgi/eHoqgZN1pURdJKNF42Di8rorCxG4DMXPlduzeGY4ZA/pgQsghaFyF4K2MtLdOYtOqVVil+6xcigWzPkWvVj0wO8EHn8yeiOYcz1dgSjTt3x9+tB2T+3yKoJgzuJqWhqunYxA8vj+mRkvR7IMBaGxc9SxCiUYfTUB32WqM6jUWv2/cia0hkxA4PATX8qI4FRo294MyfhEmfhuOmD3bsGRSX0zZmZP3q4+y8TCMe12FqIndMHDmSmzfvRPhMwagz4QQHNK4ovSmo0TLj8eiQ/YKfNxrHBZu2oktwZ/j7Y9DkZqbj3Jqn7pfAywtlNCc3YIFK2JwITcAM0r5t908qvYYMbYNHq/4BG99ughbYvdiW9BEvD08FA+bjsKozuKjh6UqPY9SC2c4WxMStodhw+GzOHtsh3BMe2NM+C1QTjayhIsoed1BGN1ViY0T+uC/QdsQu2sd5gh957xEX3w4tCOMfiLrKRqkLP0YgV+EYOvOTfhjXC+MXKVFl08/EupwRennVWg/YhRa3g3CkHe+RMiWaGxZ8gXeHhqEvG7+ZdYVxhgzluHdWAPd1yJJxShhlJuszfShq4xUPULEhKKeNWxlEepk2jCpK9VxMiOFwowcvNtS/+82UMTYmqT0GkUxuoEwMs/S8nFvUH1Xa1LKFWTuVJP8P5xL+8SRNzLPLqdxb9QnV2slyRXm5FTTnz6cu08cgUDnAR0PHkVd6rmSlVKuH67Nr/tEWnVeHDZPP/pBwSHsBJpU+qWjssCoGULS9e307TuNyNVSSUrratR26I80to0wT9dFeSN+PDgeTKO61CNXYX1yhRW5+nWniavOk2FLhtEPlO1m05W8vAlKGOUm9xgJZxL9X421cPSipj3H0O/70wyjOLAKoeS2lkOJayfQa9XMSSrJP9YySy/q8tVmupZXGQ2j3OSN2KKnodRfOpJS1Z2CdRW06HCRgocng+mTjt5kb6Ikq6ptaMi0odRImTvKjSDzDIWO6EDe9iakNHMi3x5f0Zrf+lIl2/xhK4UKTcGjulA9V2H7QtuzcvWj7hNXUW7TecpT+dDQ7X1zaXA7L7IzVZKFS0PqPW0U+ZsU/Eux5dE+NXQjcjQ1cTQhqbwmjd9/v0yj3Og8V9t9SpFRbnQ06XRw/jDqWNOJzJUqsnTxpc7D5+X1X4ZRbpTUbvaVUtv1s/OopuQNk6hrHScyUyjIzMGb2vb/jjZEjKWaSi8ape9MBQ+O0eJPOlEtJ3Ohz7UgF78AmrzximFkneLKOncEoTcWFj+ykbhMk2HTaHArd7JUCf14zY40fMGh/PkrTD+voevbv6V3GrmSpVJJ1tXa0tAfx1Ib4bh1XZS/9+VTVxhj7PlIdP8nBA16EonhOcICSewZtHcvIz7VBB41XWGZewtTfRrTmjfE3DrhSF7S4wXubrF/slLbmjYDqWdO4vyNDEjMK8O7Xm24mJf/E3KaSzPQps50VAtLwbK3zcRUxl7Q43D0du6P1K/OIuYzjwr8Xo8Wdy/HI9XEAzVdLfP2Q316Gpo3nIs64clY0oN7ecbY34/fz3kB2tRlGNywPvouThJfmNIifdcCrIw3QeNWjfFcT0YwpiM1h4tvC/i/9hrat/B9KcE8Y6w0WqQuG4yG9fticZL4Wqw2HbsWrES8SWO0er7n3xhjrNxxlPAC5LUGYmK/Stj5iR98mrRFu2a14NN1AR53nYGZ77ty4TLGWIUmR62BE9Gv0k584ueDJm3boVktH3Rd8BhdZ8zE+67cyzPGXg38yM0Ly0BS7GZsPXgZd8kK1Zu8jjfbeRj+AAljJXhl2lpWCk4evQqVT1P42HNwwsqJ9g7OxZ1Hjnsj1HX5B7ypn5GE2M1bcfDyXZBVdTR5/U208+BenjH26uCAnrG/Abc1xhhjjJUXviXHGGOMMcZYBcYBPWOMMcYYYxUYB/SMMcYYY4xVYBzQM8YYY4wxVoEV+1IsY4wxxhhjrGLgO/SMMcYYY4xVYDxsJWN/A25rjDHGGCsvfIeeMcYYY4yxCowDesYYY4wxxiowDugZY4wxxhirwDigZ4wxxhhjrALjgJ4xxhhjjLEKjAN6xhhjjDHGKjAO6BljjDHGGKvAOKBnjDHGGGOsAivbH5bKvoGTew/i3G0NrKs3Rusm7jAXJxnvMZL3bcC6qKNIvKuGaSUPNOrUE12bucJEnONl0STHYnVsBny7d0ZtCzHxBWgSY7ByvxqNer0Gn5edefaPUnxbu49TWzbi2G2t4aswj1SmhLmdG+o2awpPG5khXU+D5NjViM3wRffOtVFsdX50BlsjT8OyTS+0ciu4bBG6zekv7TW4sicCex/XLXmd7B+vvPtJPc0dnIhchrX7LuEu2cCjeXf06dkIjnJxeok0SFj9LUIl/fFFr+rQ12LNXZzfuwcn06RwbdgOzT0sy/3OlPZePLZuOgl17dfxpp99kfU/weXoCBxU+6Fvp1piWvm7f2oLdmc1QrfGjmJKedDi1pGN+PNsFqq2fQut3Z/uF3T7vmXTCWRW90dAS1dDmT8P9TmsmLYOlsMmoKsL3ztk7KXTBfS5dF+LJOW5t28mda1qSjLTSuTm5kBmciU5t/uCom5qxDmMkHORlrznTWZSU3Kq2YTatGtNjbzsSSk1J59+wXQuW5zvJcmM6Eu2ytY067JaTHkxGSE9SKXsQHNTylAGjAmKbWvqM/RNUwVJZApSKpX6j0IuJSH4J6lZVer0eSQl5YjzUiZF9LUlZetZVFJ1Vl+cTi2U9tR/baaYUlQWxS8eTG0Gh9Ej/fcMWhlo9cx1sn++8u4nKecs/RHgTkpFJardoSf17FSXHBUKcun8Ix3OEOcpgfrSPHrd3Z9+OmfIi+b6ZhrfzJ7kJnbkXMmMZAonajs5mu6Ucxecc3IKNVJISObWj1ZdL7rydPqji4qUbX8Sv5c/zY1IGuJtSt5j94gp5Sfn1A/U3lpGNh1/JrFYC0inzR/VIIVZI/pyfykHp1Q5dHxqM6r2Vghd41MkYy+dcQF9Vix9WlNJdu2n0t7bupapofQDM6iTg4JcP4ike4a5SnV72Ttkr6hG7y1LEEKJXI8o/ree5Cq3oa5/XBPW/PJo7l2hUycvUVo5XThwQM+e17MCelXn+ZQmJgmJ9OjaAVoysjnZy8zIb1KsGHxr6N6VU3TyUhqVVJ1LD+jTaH5nFam6B9ND/XcO6Fl595MaSgt9i+zlVah32BUhxNNRU2rkEPJWWJD/zwn6lGJpbtOq96qQ1/AosX7eoTUDXEnh0Y+WJ+jOIA/p+K/dyVVRnYZteaCfo7wYAnqhjUpk5NY/gm4U6uJfbkCfdXElfeRnTVLIX0pAT0KPcXJGG7KS2dHr8y4JRyPf3T8/Fo6LOTWefJBK6jXKJH019a/iQUM2GxslMMael1G/gz05uh6bLjsgYMJ4tLTXLSKFbbPRGN/LCWl7duDEE8N8z/YEl46fwgOr1ngroDpUYipgDt8Pv8Dw9q64n3gBObok9QVsWbAAG0491s9hcB/H1y7A4u0J0AjfNJe2YdGSaCTdvYCYiDBE7D6FuA0LsGDDaRRcCtp0HI5YgKAdiVCnX0Tc/nikZgMZpzZgwYINOF14ZqQfjsCCoB1I1G1EoBbWHxu5DEELF2Hp2t24cE98HIKxv4QM5q7NMGDOGvz6ji3if/kWoSm6OkhIvxiH/fGpEKqzSIP009sRHhKCiD0JePTMqvoYpyPDsE9Yl/bqHixeEIlTGeIkAWUm48D6pQgKWY1dl+7rn8opJCsFhzcvR3BQKNbvTcQjMblYmsuIWrwY2xOe4N65nQhfEoJV20/jjtjGCiq1vT1OwZGo1VgaJOzjjlNIK9L3PE45gqjVunxHYMepNKHXKSoLKYc3Y3lwEELX70ViwYzr8xmEHYlqPE4+gMjQIISs3oUL94vuvVDOZ3YiYukSrNx+BulPkrEr5A9sPJMlTjfISjmMzcuDERS6HnsLbwiXti3Ckugk3L0Qg4iwCOxOKKkEHyPlSBRWLxXyErEDpwrssPrCFn0fVribPI61C3RlbSjcp/rJbVsQrutbC3d8Qjd5GBELdPuuAeX1kxk4VUqfmncIS6wPaiRe0z3eMRij33aH4QkbGZw7D0ZPr2ycPnZKn1IczfmF+CnSDr0Htzc8/nVnA5asu42mH03BO9V1ZxAL1B/2I0Y1SUVE0Gbc081TrizQsHV93F0+DuPX3ny6DRT1KAn7hTYVFBSGyH1F20QGbly+gEvXSzrOOmqcDX4fTZt+gC1Ob6JjlZf1mIoSdUfPxcSmTxD19VgEJ4lH8f4OfD1qIVL8xuO3z5uKj8A+o72IntnmbN/A4F5ShP8YkndOZYy9JGJgr6f7WiRJpKaM2zfpbqE7NrcpJMCGFH6T6XjeYwDPoqG0pb3ITmZDzUYE097kZ/yclxFCPVRK6jA3Jf+OvfoiTW+hJJs+q0i3ZEZYL7Kw8aPW9SuRo4cHVfYeTHP/24CUDn0o/K5hER1N8jz6j4UVdfk9hTIK/JScc2wyNVA6UJ/CM9O8/1iQVZffKUWTQ+eC+1MtKwVZunhTnVrVyV4lIbmjP808bPh9ge/Qs+dVbFsr9g59vqydI6i63IJ6BN8RvhV55Eaou2tHNCJbudBG3KqTq5UVefm3IU9FSXfo79Case3Ix15Kskq1qHWH0RSR9lB/h17h2ZZe87YhG3cf8nY2J5nClbr+ckq8u0r0IG429fQwI4WFE3l6VyM7lYpcO06haP2vd8XIWEmB1pbUold3qm7tSN71a5OLhYJsGo6gtXm/xZfe3tSXgqm3hympbKtRrTre5GwuJ3OfgbQsUVcAaroU3Js8TFVkW60W1fF2JnO5OfkMXEb6yToP4mh2Tw8yU1iQk6c3VbNTkcq1I02Jvm3oZ3T5tLGh9v0CyVv4t0oNT3I0lZLCtRv9dkbce00KRY5pTHZyIf9uHuRqbUou7btTS3sT6jw/96g9oLjZPcnDTEEWTp7kXc2OVCpX6jglmgxFlEFhvSzIxq811a/kSB4elcl7yGbxLnQB6ksU3NuDTFW2VK1WHf2xkJv70MBlifq7qsX1P4ZfZWyozypD//pUP1kjgPrUVZJDn3DK7/k0lDzvP2Rh1YV+F9aV/8hNFh2b/Ow+VbflMtcHgfryL9TJWkWNp8aLKUXl0NEv65FJrQl0QDzvZEUL9V/hQSNjCp6Isih6RHVSeo+j2OJ+UVCfozldq1OVKlWK+biRz7B14oyFGe7Q29C7y/bRtOYWJHcfQKvzbtMXvUOvoZtRX1F7FyUprKuQt7cb2SiU5Oz/JUXlLpO5lvrby8gqcKXhe7GyaOd3g+jzpccoPWsvfeajLOUOvZrOzelK1Yvdtyrk5jNMnK94WUenUjNzGTkHLqNUzUPa/ZkvqSya0VSxvZXaXoxpc4Ks7cOpqmkz+vZMgUTGWLkzMqB/WvqOMeRrYk4tvovPO9GXKucyLR/SgGxkEpLIzMi5TlsKGDKJfo6Io9T8Z3B0ZyqjAnpziYJ8P92tf+QnJyeH1Ge/o+Ym9hS4PF2/iK6jTfzZn8xtAygkreCJSuhY1Gfpu+YmZB+4XOiexbkTfyZ/c1sKCEkjzZ3lFFhJIZxoN+b93Jp1cT51c1CQ+0dR+keGOKBnz+t5AnpN6lzqoFRQ3S8OC22uYEAvXCyveJecFO7Ua0G8/pEcTfoBmtHJkaTSsj9yI5G5UvdfTxjSss/Tr6/bkcJrNO3SBUwZ0TTGW0XOXWbRfjFgyzgfSv28VOQ2KLJAkFiALlC2kpDUsRPNjDP89J55LojecVdQ5T4rDUFuqe0tm3aP8SJV7XG0W3y6IicxiAIqm1CDyUeFfO6mMUIeao/bLYTT+qmUGBRAlU0a0OSjuh4qg6LHeJPKuQvN2p8bwJ+n0H7COt0GUaQu42I+Za4B9NtJw1oyz8yhTjYK8hgZI+RAQ7fD+5KzUM4Bv580lM+9QzS7qwvJoMoL6DOix5C3ypm6zNqfF8CfD+1HXio3GmTYkBDQm5NE4Uuf7tb3XkL/pZuvsOzdY4RlatO4/B2moIDKZNJgMul2ydiAvnA/mUVnv2tOJvaBlN9NJtLP/uZkGxBCQjdZqJ8srU99nvqgvrKWhte3JNPan9Bm3TqKoz6v7+/t3lut7+91Mpa/TZaKpvTt2YKBoZpOT2tMSps+tKq4aq65TftCfqSZM2cW85lFc9afFWcsLDeg15Vj1tFp1NxCTu4DVot1s3BAr7m5kvo4K8j5jdl0WHyy5N7ROdTVRUFOQrCsX0adRNEhf1Dwjmc8YlRQtjEBvVAf94XQj8Xu20yaNWe9OF9JMilucmMhYPegwT98Ro3NLKnlt8fEx2GNaC+ltjnRvRDqaWEinM9f7iO1jP3bPUdAr6H0fd9SB+FE69hpDp0oGIgbJYfSTqyneV8NpYC2tcjJVPfSn5Qsa/alP06JPbKxAb2iJo3fV+C2jDqBZrc3I9u3Qum2/vsl+qGtGTn2XaU/sRR+2UtNCbPbk5ntWxRqmJku/dCWzBz70ir9OTeJDm7ZTIcKvhCVeZwmN1KQdeBKQx44oGfP6XkCerr9O3VWyanm+H1CcFkwoL9Hy962IUXjaXS6QKyTfWAi1S7xDr1O8QG9osZY2pPXrDR07f/8SWnak0KEmTI3DiYXRQ36aN15unz5svi5SDsmNCCFfV+KMDzgX5g+UBaCys/jhNafK4fi/9eIFDbv0HJdNFBqe8um/eNrCfM3o0/+iKLT+ge81ZT5KNPQR2Tvp/G1FGTT7BP6I+q04flvdSY9yhTXl7mRBgsBVo2P1tH5vHxfpos7JlADoYz66jIu5lMXROXtvtCn/NBGSaYBS4U8pFNIgBUpW0yn8wXKWX16GjVR5Ab0mbRxsItQhh/RuvP527l8cQdNaKAg+74RwjyGgF5RczwV7L6Kyt4/nmoJQWWzT/6gqNOGdyXUmY8od5eMDuiL9JPqhNnU3syW3jJ0fEI3+QO1NXOkvvqOT9iDQjc+SulTy1gfNDc30PCapmReZzCtTCjmKiZX5hrqZ6+khlNO5tWZR0t6kImiNf2QUDigvzijJSlMAyg0N/IvBwUDet2d86PTmpOFoiq9v+am7gxYKKBPDwkgK0UjmnKy4P6o6ey3TUlh/gb9UZaBI3IZFdCXg4z99GVDU5JAQlatvqPjuedzY9pLaW0ul26+mkqqMnSreLHAGHsZyviQnhpJa8ei0xtTcK7hd9iwajTq5T8MbyQ5HOp1x/Cpv2PNrjNITbuMXX8MR+20lRg9/BecL8tzdhIHVHYuMO6ZrCoC320LzY7V2HRLC82lCKw+ZIs3+7wOG3GWfDJUDXwXbTU7sHrTLWg1lxCx+hBs3+yD13Uzm1VFwwa2OLv4Uwzu3Q0dGvvA2aEJvjmmhlYfjzH219LcvIV0rQS29vaFh5LTpCDhSgZMq9dAtQITlHVqo4bCMDxmWUgcKqNy3nqkUCqVkGif4Ilai/SEBNzOuYj5PX3g6ekpfmqg48zjyHmYguTcITeLkqjg7VtbfIZaRw6PGtWgykhGYqrQ6Ettb0o0HTsL4+pfw8KhneDr4oCqTXpi1M+bce6hbnJTjJ01DvWvLcTQTr5wcaiKJj1H4efN56CbrE1PQMLtHFyc3xM+efn2RI2OM3E85yFSkm/rMiWQoFJl5/zylZjARCksr9FAq76CS4mZsPLyQcHR/mQedeBtKZazNh0JCbeRc3E+evrkb8ezRkfMPJ6DhynJhvkEunIu2H0VpWw6FrPG1ce1hUPRydcFDlWboOeon7FZv8NlUKSflFUNxLttNdixehNuaTW4FLEah2zfRB99x1fEM/vUstYHNU7M/RKLbr+Gnzf+jsDqz9j5x7dx5xFgbWuTN2SkxNQUJpInyM5/aURAwnchQaUq8F5WAdpb2Bs8E99//30xn+n4ce0ZccZnUcFv/DxMbHQHy8ZOROTNwvuUmpSMTHNv1PEsuD8yVKtTEzZPruGK/p2Xl0GLW3uDMbPYffse039cK873DGbN8dlnXWEtd0HgF6NRXyxEo9pLKW0uj8wWttaE9Nt38t+5YIyVuzIE9A9x5P/eQrt3FyMrYDF2rvsMTa3FScbI3oVJzaqh8X/3FHppRmpRDW0G/4Sfh/gg5+gBHC3QWZO2QOBMWch+UjSQlkJaaA+kqBzQBx0l0Vi98SbOrlqNY5V74r3Xih9MWVo5AH06ShC9eiNunl2F1ccqo+d7r+lfwNImh+K9Jm3x8eITyHH2Q5chUxESE40pzRSGhRn7Swkn7/37cZ5c4Ne4auGAHkKgo5IgJyuz8AtpajXUz3PxKTSqkjoGuUIIWpRtMD3+JtLS0gp/UtdjuFtJS2qR80Qt/rdB1uNMqCVmMDOTGNXepM5dMT0mAVdPbkXw9x+ho8MVrJsSCP/3l+imwrnrdMQkXMXJrcH4/qOOcLiyDlMC/fH+khRdxoVLCCXaTI/HzaL5TkvF+uFuho0IpNISLoKEixKVENw/ycwqHJios5Clzi1nOQxFNB3xN4tuJw2p64eL8wmeUc56Umd0nR6DhKsnsTX4e3zU0QFX1k1BoP/7WJIXJJJwwSP+p4CysvFUN1m0n5RWRkCfjpBEr8bGm2exavUxVO75HorvJp/dp5atPmTg+PHzkLXohbcKXnkWR8iw/ihI8peXu7rCEbdx40bBeqTBjeu3IXF0Kf7iiO7i6NqFWLBgQbGfoKjL4oylUPlh/LwJaHQnDGP/uwl388pYItQJ4YJXVweKRKvqx4+RLdQ5pbLsF9XGIdw9uhYLi9kv/ScoSpzv2VTChZJMqNumpgWOiVHtpZQ2V4Duz27ICp+sGWPlzMgWlo1TvwSi62f74fH5RkQv7Ff2P6SkqIHqle7iRNg8rCl6x0KbjssJdwDXqnDXd8qmQudCuHfnTv7IAvdP4GRi6Xc6pI7d0ed1JXav/Q3B6+JRtVdftC4pr1JHdO/zOpS71+K34HWIr9oLffUza3E9Mgjrb9bHxMgohMyZivHDeqOT1y1cStIIFxov644LYyW4H4sff96OzBqBeK91kXuRMlc0beQO9ZGd2Jkupgnu747Fcf2wUSURAj1drGF0zC+FjZ8fPCkeu/Zmwd7BAQ76jxWuhU/C6MmrcK5wzJ6PnuDYnt24L34F7mDHzqPQeDZBcyeU3t60aYiaMQQfzj4MS9/OGPDZDCzeHIflQ9xwNy5WmByFGUM+xOzDlvDtPACfzViMzXHLMcTtLuJi4yG18YOfJyF+115k2efm2wFW18IxafRkrCox4wXIPNC0oTMyj+xCbIHRPh7t3YUjuSMESW3g5+cJit+FvVn2edtxsLqG8EmjMXnVOXHG0miRFjUDQz6cjcOWvug84DPMWLwZccuHwO1uHGLjhQMrBGKmdA937uT3R/dPnETp3aQUjt374HXlbqz9LRjr4quiV9/WJf5hv5L71LLWBxO0mxCG5V90gqWYUiITJ1S2BdJvpeWdA5S1m8DPMgVx+wuMrqO5hH2HrsOiQVP4ChdbT5F5Y+T6C0hMTCzmk4BT87qJM5ZO5TcB8yY0wu3QCZh9NHfHZHBr1ACVs+PwZ1SBxoe72Bl1AJn2vqhf2sXLc5PBe+R6XCh23xKRcGqeOF/ZGdNeSmtzeTS3kJau++WrcpEbEYyx8mRUQK85838Y/nkUspv2R//aaYhZvQqrVhk+ERsO44aux9VcwLoZk/F12HHDQkVJXfDelAlo/igcA5u3w/tfzMai0GVY+vt0jO7RHh+tk6HrxE/QXNcpqxqiuZ8S8Ysm4tvwGOzZtgST+k7BzhxjugMbdOn7Jsx3/oh58T54572mKK6fz2XTpS/eNN+JH+fFw+ed99BUP7MUFs7OsKYEbA/bgMNnz+LYDiEPvccg/BYhJzvLMLwmYy+B9tZJbBLb16qVS7Fg1qfo1aoHZif44JPZE9H8qWcLlGj58Vh0yF6Bj3uNw8JNO7El+HO8/XEoUp8Z3JnC0kIJzdktWLAiBhcKDFtZEmXjYRj3ugpRE7th4MyV2L57J8JnDECfCSE4pHFF1RIbmwYpSz9G4Bch2LpzE/4Y1wsjV2nR5dOP0FhpRHsTAmWrB3EI+2oYhsxei10HDiA6/Af8vCkVdi39hQDECg/iwvDVsCGYvXYXDhyIRvgPP2NTqh1a+jfQZRzDxr0OVdREdBs4Eyu378bO8BkY0GcCQg5p4FpyxgtQof2IUWh5NwhD3vkSIVuisWXJF3h7aBCSdeWsvxGrRONh4/C6KgoTuw3EzJXbsXtnOGYM6IMJIYegca2qm8kIQrBs9QBxYV9h2JDZWLvrAA5Eh+OHnzch1a4l/BsohG6yOfyU8Vg08VuEx+zBtiWT0HfKThjXTXZB3zfNsfPHeYj3eQfvGTq+EpTcp5apPmjv4+qpEzh6/DJKHf1XWR8NakmRdOYs8qqlzesY+JYLjv48EjN23UB29g3EfDcSc0+44d0P30BZfjB+Pir4TZiHCY0zcCMt/3a8qv0IjG3zGCs+eQufLtqC2L3bEDTxbQwPfYimo0ahs+7PqavPIuK7yZi2suRhOl8pRrSXUttcrvvncP6aEnUa1in+sSjGWPkQn6XX030tkiTIoZNTGpFCnFb0I608iDbq3rnL2kwfuspI1SPEsFgJHpxcRl+825ZquVqTSi4nlbUL1fbvT1PWnte/aJor80wojejgTfYmSjJz8qUeX62h3/pWItuCL8Uq29HsK8W8cJS5gz6uLiNl028LvSRY+KXYXJm04+PqJFM2pW8LzqxOpg2TulIdJzNSKMzIwbst9f9uA0WMrUlKr1EUI+wzvxTLnldu+ylEfCk2v33pRoNSkIWjFzXtOYZ+35+W/5J4oZdidd91I17MpcHtvMjOVEkWLg2p97RR5G/yrJdiNXQjcjQ1cTQhqbwmjd9/t9g/LJU2vzOpVG/QQsM7k0IjPk7Bo7pQPVdhXrmCrFz9qPvEVXS+pM3oXzZVUpNh02hwK3eyVAntqWZHGr7gUP4oKEa0N8o8S8vHvUH1hb5Dt11zp5rk/+Fc2ieOrpJ5djmNe6M+uVorSa4wJ6ea/vTh3H3iSDM6D+h48CjqUs+VrJRyUli5kl/3ibQqN+NiPlvPukx5u69JpV86Kgu8OKyh69u/pXcauZKlUknW1drS0B/HUhulirouytsboYiCaVSXeuQqrE+usCJXv+40cdV54ajpGF6KVbabTcV1X/ky6ezycfRGfVey1uXX3Ilq+n9Ic/flDhuYSWdCR1AHb3syUZqRk28P+mrNb9S3km3hl2JL6Cczd3xM1WVKavrt6fz9FRTbT5bQp+oZWx/Up2laYwUpmn1HhQaqKZaazn3fgkzdh9GfBdajubOLpnWqQiqJTKgnMpKYuFOX72OLH13pBRR+KbYw3XCPzS0khf6wlCb9IM0f1pFqOgnHVWVJLr6dafi8AnUv05hhKwv4q16KFWSu7U/2uuFAo4u+slpKexGU3uaIHq0dQE6Wr9Evyc+s7IyxFyTR/Z8QPOhJdA+6CQokMcZegn9VW3scjt7O/ZH61VnEfOZRgX921+Lu5Xikmnigpqtl3n6oT09D84ZzUSc8GUt6lPVZRFYS7ZV56NJgFjxWncZvr5mJqTrZuHnmCM7cBBxrN0Idp4px3zc7ehT8l3fGvgVdxZR/g4dYN7Amhj6cgVOr+sGRH6Nn7KXh5sUYY0bRInXZYDSs3xeLc/+6pjYduxasRLxJY7RqbMxjO8xY0qr98VkfOdb/EYlbhR7RUcGpdkv4+7esMMG87pHUpfNOoFFAKzHh30GbGo7Fm+0x6LO3OZhn7CXjJsYYY0aRo9bAiehXaSc+8fNBk7bt0KyWD7oueIyuM2bifVfuTsuXJTp+MQWtDv6EX08WGr+p4pFVQ6956/Fzl2KGBv3HysLBn+fiXPdvML4Z/3LF2MvGj9ww9jf4V7U17R2cizuPHPdGqOvyD3gtLiMJsZu34uDluyCr6mjy+pto51H80LjsRWlxPWYR1mX/B0M7Fx2ulb3SNJex8bdY2PftjxZ2fLHL2MvGAT1jfwNua4wxxhgrL3zZzBhjjDHGWAXGAT1jjDHGGGMVGAf0jDHGGGOMVWAc0DPGGGOMMVaBcUDPGGOMMcZYBVbsKDeMMcYYY4yxioHv0DPGGGOMMVaB8Tj0jP0NuK0xxhhjrLzwHXrGGGOMMcYqMA7oGWOMMcYYq8A4oGeMMcYYY6wC44CeMcYYY4yxCowDesYYY4wxxiowDugZY4wxxhirwDigZ4wxxhhjrALjgJ4xxhhjjLEKrGx/WOpxCo7sPYiER5bwatYGfi4m4gTj3D+1BRuP3YZW/C6RSCFVmMLWrQ6aNfaBnVKcUApNYgxW7lejUa/X4FO2LDD2Sii+rd3HqS0bcex2XguBRCqFwtQWbnWaobGPHYxsIv9iurIT71NokhG7OhYZvt3RubaFIa1EGiTHrkZshi+6d66N0uZ+lgI5KCMNEmNWYr+6EXq95oNXq2vTIGH1twiV9McXvapDJqYa6OrtbmQ16orGji/5HtH9U9iyOwuNujZGWTf1PMcl+8ZJ7D14Drc11qjeuDWauJuLU8pbNm6c3IuD525DY10djVs3wQtv6tEZbI08Dcs2vdDKrfARe7bHSDki5CXhESy9mqGNn8vLq4svGFMYPMKZrZE4bdkGvVq5gc6twLR1lhg2oStcXnJ1ZOyVogvoc+m+FknK8+Dgj9StqgnJTe3JxcmSFCpX8p+8ndI04gylUtOZb5qSQiIjhVJJSvGjkEtJCFvIrHp3+uHAA3HeZ8sI6UEqZQeam2L0xhl7pRTb1tRn6JumCpLIFHntQ6lUkFwqIUjMqHr3H8jIJvKvlBW/mAa3GUxhj8SEzAjqa6uk1rMuC71PaTIpoq8tKVvPosulz1y8rHhaPLgNDc7LQFllUEgPFSk7zKVXrWtTX5pHr7v700/nihaOhm5EDiFvU28auydbTHtJNDcocog3mXqPpTJt6rmOyz3aN7MrVTWVkWklN3JzMCO50pnafRFFN8v72NzbRzO7ViVTmSlVcnMjBzM5KZ3b0RdRN4XSfX7qi9OphdKe+q/NFFOM8OAg/ditKpnITcnexYksFSpy9Z9M240/0RvtxWMKkfoiTW+hJPv+a4VWLMg5TlObVaO3Qq69UPkxVtEYd/36JA7TP5yEPe4TsPNKGlJupOLo7MY4//1gfBWVIc5kJOVrmHstG9nZhs+TnMdI2fsTOuVsxqRhM3FILc7H2L+U8rW5uCa2j+zsJ8h5nIK9P3VCzuZJGDbzELiJFO/B3pUIjbuFnNwfPYS+5vs9hxH8fpUid5Rfkgd7sTI0DrfyMvAPob2DtV9/h0tdJ2GIT8GSzMal8E/Qpf8iXMgRk16W7EsI/6QL+i+6gDJv6jmOS/beaRj05X5U/3w3rt5MRvKNa4id5oszMwfiv5vui3OVh2zsnTYIX+6vjs93X8XN5GTcuBaLab5nMHPgf1GumyrVE8RN/xCT9rhjws4rSEu5gdSjs9H4/PcY/FUUynimf7byjCmKktfHiAltcHDK/7DtLy0/xv5eRgX02huXcde2GQZ/PgFtHHSLWMD3/ffQxjwVhw8mvmCAoYJzyxGYOrge6Mx27LisEdMF2ak4smUFlgSFYv3+K8/uUNR3cSE2EsuCFmLR0rXYfeFe3qM9BrqfEaOwemkQQiJ24FTaEzE9V2nTGfubqJzRcsRUDK5HOLN9B/KayF9R57NScHjzcgTr2uDeRDwSk3U0l6OwOGgHEtWPkXwgEqFBIVi96wLuF86EMGM6zuyMwNIlK7H9TDqeJO9CyB8bcSZLnK7zjO1AcwnbFi1BdJKwvzERCIvYjYRCMwh7cjoSYftSoNVexZ7FCxB5SugtKB0X4/YjPjVbnEsnG6lHtmDFkiCErt+PK8/oVLR3DmHVgvkI3pEghDqikvL5+DQiw/YhRavF1T2LsSDylDiheNmpR7BlxRIEha7H/mdlQqC+ewGxkcsQtHARlq7djQv3ihSw7rGFqNVYKpR/xI5TePowlzK9FJrzC/FTpB16D26f/yiS+qxwodQUTT/YAqc3O6LKS3y0QX02GO83bYoPtjjhzY5Vij9plbSPJRyXDOGcduHS9cL1LM8THF2/CZcdAjBhfEvY6zYotUWz0ePRyykNe3acMMxWHp4cxfpNl+EQMAHjW9rr900qnGtHj+8Fp7Q92HFC2BHNZUQtDsKORDUeJx9AZKjQXlfvwoWnGxrST29HeIhQBnsS8KjoZOEMeuPyBVy6XvxeCyd6XL4r7OfgzzGhjYM+Lxa+7+O9NuZIPXxQaOeG2cqDMTGF5tI2LFoSjSSh/sdEhCFit7BP+qWFaemnsT08ROi39gh9wVM7Cts3BqOXNBw/hiQKpcLYv4R4p15P97VIUgnUlLLmA/JQONOAtffEtNKIj9yoOtP8NDEpTw6d+LohKRStaZb+924N3YmZSv+pYkIKK1fy9nYla4UJVe35C53IfPqRm5xzwdS/lhUpLF3Iu04tqm6vIonckfxnHqYs3QzqSxTc24NMVbZUrVYd8nY2J7m5Dw1clmj4Kb606YyVs2LbmvjIjarzfHq6iZygrxsqSCE+EvJX1PkHcbOpp4cZKSycyNO7GtmpVOTacQpF3za0u4yVgWRj0576BXoL/1ahGp6OZCpVkGu33+hMjn4W0qRE0pjGdiRX2JCbh9COTV2offeWZG+S3w+Uth3KCKNeFjbk17o+VXL0II/K3jRk80PDNNGdNWOpnY89SWWVqFbrDjQ6Qlh5kUduNHdiaOp/qpCJwopcvb3J1VpBJlV70i+6TqXIIzea9N00uZUtmXkPpOUJhp15Zj7vrKGx7XzIXiqjSrVaU4fREfplnqK5QzFT/0NVTBRk5epN3q7WpDCpSj1/OSHkoOgjNzl0Lrg/1bJSkKWLN9WpVZ3sVRKSO/rTzMP6oywcxmDq7WFKKttqVKuONzmby8ncZyAtSzQcxdKmly6Hjn5Zj0xqTaADBR9zydpJ3w36nJYeS6esvZ+Rj7KUR27U52hO1+pUpUqVYj5u5DNsnTjj07J2fkeDPl9Kx9KzaO9nPqQs8sjNM/ex2OOSSWv725PMKpBWZhjW8RR1Bt2+eZcK7dHtEAqwUZDf5ONiQkFqOjenK1Uvdv+qkJvPMHG+p6kzbtPNu4XL7nZIANko/GjycaHuZaykQBsbat8vkLyFf6vU8CRHUykpXLvRb3kNLZnWjmhEtnIl2bhVJ1crK/Lyb0OeigKP3GSupf72MrIKXGn4bgR1yhr6wENBzgPWUrFn+hc4roU9HVNkhPUiCxs/al2/Ejl6eFBl7yG0+aGGkteOoEa2clLauFF1Vyuy8vKnNp6K/Edu9LJo+/CqZNrsWzpjbFVnrIIrY0CvpsuhI+mNZh5CgG1HLSZsoVTxnFu6kgL6bLqxfy4FuMtJ1WgKHdP1T4+iaHh1Bdn5f0P77ug2oKGbf46iuipL6vRrEj0sFNDfoeWBlUghNPaNN8TMZF2k+d0cSOH+EUUJ573s3WPIS1Wbxu0WH0DOSaSggMpk0mAyHRW2V9p0xspbmQL67Bu0f24AuctV1GjKMSHE+gvqfEY0jfFWkXOXWbQ/N4A/H0r9vFTkNiiS7uq+CwG9lURGrgG/0Un9ajLpzJxOQiDiQSNjhABFc5vC+zoLeQqg308aAvB7h2ZTVxcZIbcfMGI7+oDeXEIK309pt+5cn5MjlMHT0uZ3JpWqOwXnxvqFAvpHFDW8Oins/OmbfXf0z9Zqbv5Jo+qqyLLTr5SkyQ/oL6UfoO/8KxUK5o3KZ9p86iwE+d3zMvC0R1HDqbrQd/p/s48MXdtN+nNUXVJZdqJfkx4WDujvLKfASgryHrKR8g/zfOrmoCD3j6KEkCWbdo/xIlXtcZR/GIMooLIJNZh8VPhW2nQjqM/rn0+2e2+1cLlRvGxjAnqhLuwL+ZFmzpxZzGcWzVl/VpzxWbKLCeiN2MenjouakqJD6I/gHZRgdLCXTjvG+JKJeQv6Lr642qeh2/tC6Mdi928mzZqzXpzPCOk7aIyvCZm3+I70m9IF9FYSkrkG0G+GhkaZZ+ZQJ+HiwmNkjFACGkpb8S45Kdyp14J4oaYLuRHq8IxOjiSVFgjo1UkUHfIHBe9IMHx/BvXlUBr5RjPyEC567VpMoC0lnehf+LiWHFPoAnpziYJ8P92tv5jIEdq9Jm0Fvesk1P9eCyjesKN0YEYncpRKiwT0Ql8T0pMsTIQ44VoJeWfsH6aMAX0OnVj8GX380fv0ek0bUlVuR5N3Gk6Opct9KVZFVpUcyMHB8LGzUpFMIiET9zfohzjDS0tZW4aQq8JTCAoMd6H0NHfo5PatdDDxYZE79BmUdHALbT50vUA+Mun45EaksDbcgcneP55qKWyo2Sd/UNTpNKEDFHKT+YgyxQVKm85YeXtWQC9RWVElsX04ONiRlUpGEokJub/xAxmayMuv85kbB5OLogZ9tO48Xb58WfxcpB0TGpDCvi9FCPnQB/SKwoGcOuEHaqM0pYClQibSQyjASkktpp8XWn8uNZ2e1iTvwt6Y7RgCegXVHL9Pn8+SPDOgz9pCQ1wV5CkEQPm9iobunNxOWw8m0kOh/PQBfaPB9GmnyqRw7UVBl/MDN6PyWWpAn0VbhriSwnMkFe7aTtL2rQcp8WGRO/QZSXRwy2Y6dL1AR5R5nCY3UpB14EqhFmTT/vG1SGHTjD75I4pOp+mPImU+yhTrRWnTjZC5hvrZK6nhlJPFXkTpGBXQl4viA/pS99GIC61nEoLGfd92IAeFI3Wac6JA/Sl/mvR99G0H4cLcsRPNOSFuSR/QCxd2Y/fk1391Av3QRkmmAUuFenCPlr1tQ4rG0+h0gQuU7AMTqXbBO/RlkHNiMX328Uf0/us1yUZVmdpN3mm4AC13JccU+oBeUZPG78uvV/eWvU02isY0rfCO0sTaRe/QC8lCH1dTWYWGbn2ZR4yxV0exjyOWTI56H8zCr78FY8uhrfjM9SC+H/MTjpXl2Tq5F7qN/wpffSV8Jk/GtJnzsXzbMSSc34RPmxjG6Xpw5QpuS6qhpo9C/11Paoe6HTujabWiA8qZoWrDBrA9uxifDu6Nbh0aw8fZAU2+OQa1VrhgEeZQNh2LWePq49rCoejk6wKHqk3Qc9TP2HzuoX4NpU1n7K8k9+qG8br2IXwmT56GmfOXY9uxBJzf9CkMTeRl13kt0hMScDvnIub39IGnp6f4qYGOM48j52EKknOH1pRUQmXn/BclJSYmUArLazRaqK9cQmKmFbx83Au8lCqDRx1vWOpH7SzDdiCBQ2VnoQd6Tg+u4MptCarV9EF+ryKFXd2O6Ny0Wt6z4eoji/F/BzOhuHUGx5Jyn20vSz6f5QGuXLkNSbWaKNy11UXHzk3xdNdWFQ0b2OLs4k8xuHc3dGjsA2eHJvhG6HC1+mtCJZqOnYVx9a9h4dBO8HVxQNUmPTHq580wHObSphvh8W3ceQRY29oY98JVSbS3sDd4Jr7//vtiPtPx49oz4oxlVQ77+CzqJKwd2wlvTDmHht9twKrR9aASJxWmxa29wZhZ7P59j+k/rhXnK5k6aS3GdnoDU841xHcbVmF0vYJbkqCSUP/z2pHEBCZKYasajfBJQcKVDJhWr4FqBd5ZVtapjRoKw/C4ZSWv9wFm/fobgrccwtbPXHHw+zH4qbgT/Qsf11JiComD0L/ktnoNUhKuIMO0OmoU3lHUrqEQSqgwma0trCkdt+/wU/Ts38G4Plr9ENcvJRR+mcqiEQLfrA2cP4n4TDHNGNIqaPPBSIwcKXxGjMDHwwbinU714Vxg+FmlSiVkLAdZBV+a051Uk84j5X6RN7q0yQh9rwnafrwYJ3Kc4ddlCKaGxCB6SrP8E7fUGV2nxyDh6klsDf4eH3V0wJV1UxDo/z6WpAgn4tKmM/YXklZpgw907UP4jBjxMYYNfAed6jvnjwX9F9R5uUI4iSrbYHr8TaSlpRX+pK7HcLfcrkMKaQkxg0Rox0o8QWZW4ROqWmjYal08KjB+O8KWpC8QUipVUAmL5xTuVKBNT8L5lPt5L71Kq/TCHwd34MvG1/D7yP9hlxgUliWfJVNCZcgECndt6Ug6n4Knu7ZQvNekLT5efAI5zn7oMmQqQmKiMaVZgUsS566YHpOAqye3Ivj7j9DR4QrWTQmE//tLjJpeKqHM9YdX8gJlr0N3cXTtQixYsKDYT1DUZXHGsnvhfSzJwyP4v7fa4d3FWQhYvBPrPmsKa3HS0wh3j67FwmL2Tf8JihLnK97DI/+Ht9q9i8VZAVi8cx0+a/r0lqQlNTSYwkQlEapVZv7L2zpqtdDOxIZmFDUeXr+EhMInejQKfBO1cR4nizvRP+9xNTqmEPqXAlXP1EQFidB+MgvvqLCrhhsZhUmE/8kKLc/YP5lRVT17+zg0qd0aE7cWfDs+G1ev3QQqOcGpnP/ajXmDBvDBKcTuuSWE8aInR/BDt3poMi6q0MlQez0SQetvov7ESESFzMHU8cPQu5MXbl1Kgoa0wvJapEXNwJAPZ+OwpS86D/gMMxZvRtzyIXC7G4fY+OxSpr/s8dgYK5uXX+c1sPHzgyfFY9feLNg7OMBB/7HCtfBJGD15Fc4Z8auczKMpGjpn4siu2AKjiTzC3l1HxBGrpOWynVyGgKeEAMa8ARr4AKdi9+BWfqeCIz90Q70m4xAldirSas3RpkYjjJ09Fr6J8zBy2h4hx0bmUwx+Sw6hzNHAkAnsyc+E0LX9gG71mmBcbib0tLgeGYT1N+tjYmQUQuZMxfhhvdHJ6xYuJWlAWmF5bRqiZgzBh7MPw9K3MwZ8NgOLN8dh+RA33I2LLX26MUycUNkWSL+VJuToBci8MXL9BSQmJhbzScCped3EGcvImH0s9bgUI/sUfgnsis/2e+DzjdFY2K+0P/Qlg/fI9bhQ7P4lIuHUPHG+p2Wf+gWBXT/Dfo/PsTF6IfqV9a8lylzRtJE71Ed2Yme6mCa4vzsWx8ty+srejnFNaqP1xK2FRv/JvnoNN1EJTsWd6J/zuD5fTCGDa9NGcFcfwc7CO4rYYnZUI9TZdN0viJUL3M1n7B/MqIBe1bYfAj3uIPzriVib8Fi4IE7HsaARmLg8HXXeHwR/3S+DmgtYN2Myvg47bljoBcjrDsLorkpsnNAH/w3ahthd6zBn2BDMS/TFh0M7FupYpRbOcLYmJGwPw4bDZ3H22A4smdQbY8JvgXKykZUjnIytHiAu7CsMGzIba3cdwIHocPzw8yak2rWEfwNVKdML/DbO2Cvgr6jzysbDMO51FaImdsPAmSuxffdOhM8YgD4TQnBI44qqxlzEq9pjxKiWuBs0BO98GYIt0Vuw5Iu3MTQoWR8c6oKsctmOyNTSAkrNWWxZsAIxF4oMBSmvi0Gju0K5cQL6/DcI22J3Yd2cYRgyLxG+Hw5FxyIxlEnTCZj9SQ1cmDsK3+7LMC6fppawUGpwdssCrIi5YFhRIXLUHTQaXZUbMaHPfxG0LRa71s0RjsE8JPp+iKGFMiGFhbMzrCkB28M24PDZszi2Ywkm9R6D8FuEnOws5EhtYPUgDmFfCfsxey12HTiA6PAf8POmVNi19BdWUcp0gebCOsyY/DXCjpdw5aSsjwa1pEg6c7Z8xyEvL0bs49PHRY2zEd9h8rSVOFXsbmtw5v+G4/OobDTt3x+102KwetUqrNJ/IoQ2d0OcrxxozuD/hn+OqOym6N+/NtJiVovbET4RwnG/YcxllBItPx6LDtkr8HGvcVi4aSe2BH+Otz8ORWrBxdVnEfHdZExbWcKQqqq26BfogTvhX2Pi2gQ8Fsop/VgQRkxcjvQ672OQ/kRfPoyKKYqhbPkxxnbIxoqPe2Hcwk3YuSUYn7/9MUIL7ajB/XPncU1ZBw3rlF++GXul6Z+kF+m+FknK8+j4fOpbx5pkUgWplDKSKCtTyxEr6GLu+ypZm+lDVxmpeoSICUU9a9jKYjw4Ros/6US1nMxJobAgF78Amrzxiv7FrMIvxaopecMk6lrHicwUCjJz8Ka2/b+jDRFjqabSi0bF6F6TyaSzy8fRG/VdyVopJ4W5E9X0/5Dm7rstvjhV2nTGylexbe1Zw1YW8hfV+QfHKXhUF6rnakVKuW6YRT/qPnEVnRffPNO/FKvMHWrWQJP6C3VUFngBUXOdtn/7DjVytSSl0pqqtR1KP45tQ0pVV1qkHxpGUMp2DC/FKqnd7CvPbI+aG5E0uokjmUjlVHP8fmEXi/6l2Ad0bPEn1KmWE5kL5Wbh4kcBkzfSFf3bnsX8pdh7UfSJt4JMG35J+3VDvJSWT91fMh3dhBxNpCSvOV5MfNqDY4vpk061yMlcQQoLF/ILmEwb9Zko8lKsOpk2TOpKdZzMhD7QjBy821L/7zZQxNiapPQaRYbDfJaWj3uD6rta6/Nk7lST/D+cS/tyh/wsZXrW5g/JVaaiHiEljWGjpnPftyBT92H0Z+5+FvH3vhQrKK0Mnjoumc8etjLnJE1ppMhro4U/Uqo8aKM444vLOTmFGimK247wkVamQRuFQte/FFvkLx5rUumXjkpSdQ8mQ0vTjbIzlwa38yI7U6VQtxtS72mjyN+kjMNWPjpO8/vWIWuZVDhXK0kmUVLlliNoRd6JvvyUFlPoX4pVtqPZVwq3es3tfTR3cDvysjMlpdB+GvaeRqP8TYq8FPuI1g5wIsvXfqHkwosz9o8l0f2f0HnoSSSGZ/QKJBWmeYgrJ4/h8j0FnGs3RC0nvvJl7HmU2tb+CbR3cTk+FSYeNeFqmfuztxqnpzVHw7l1EJ68BD3K+HQB++tpr8xDlwaz4LHqNH57zUxMreCyozHKfzk671yArv+iOpgdPQr+yztj34KuYkpxNHh45SSOXb4HhXNtNKzlVMKLwOXgZcUUD9dhYM2heDjjFFb1czTuUQTGKriy1XOZJar6tUUH/xYczDPGnk2bimWDG6J+38VIEt+L1abvwoKV8TBp3AqNy/A4Dfv7SKv2x2d95Fj/R2SB9w8qMg0uLJ2HE40C0OrfdEGpuYCl806gUUArMaEkMlhW9UPbDv5o8TKDeZ2XElNokRq+GJvtB+GztzmYZ/8eZbtDzxgrF/+OtqbF1VVD0GngUtx0ro+6rlLcPHMCyZZvYHbkcnzkyzcFKgptShh6t/oZddbFYkqDin8l9iT9Fh7bOMDmXxXtPUH6rcewcXjBIUhfdVn7MbH5+7gzdT8WdLfngJ79a3BAz9jf4N/U1jKSYrF560Fcvkuwqt4Er7/ZDh5Fx1xnrzgtrscswrrs/2Bo56r546Ez9orRXN6I32Lt0bd/C9hxNM/+RTigZ+xvwG2NMcYYY+WFr18ZY4wxxhirwDigZ4wxxhhjrALjgJ4xxhhjjLEKjAN6xhhjjDHGKjAO6BljjDHGGKvAih3lhjHGGGOMMVYx8B16xhhjjDHGKjAeh56xvwG3NcYYY4yVF75DzxhjjDHGWAXGAT1jjDHGGGMVGAf0jDHGGGOMVWAc0DPGGGOMMVaBcUDPGGOMMcZYBcYBPWOMMcYYYxUYB/SMMcYYY4xVYBzQM8YYY4wxVoE9Z0D/EKe3Lsemk/egFVNKp8W9+M0IC4vEsTvFLPXkMqKXLUPU2QwxgbF/Ge09xG8OQ1jkMRTfRKKxbFkUKmwT0d7CwSXfYPyoURg/axOSNGJ6EXm7rrmCPSuXYduZR2ICexVpElZj6tQ1SBSOpyYxRqij23E+S5xYTow/z1REWtw6uATfjB+FUeNnIXLvLoQv24YXr/YVtdTUOLfia0zflPoPP+6Mla/nCOi1SN8yAb26v4/Ja5LL0OC0uLpmMj7o3ws9xqzBjaILZkRj1qAP8M3WW2ICY/8y2qtYM/kD9O/VA2PW3HiqbWVEz8KgD77B1lsV8TSnQcK8vug86HusiD2KQ+dvwfC3cgvIPoWgD9ti6DLxiiX7IH4ZKvQJm9OEpdkrSXMZCz4ZhxjLOnCXCYcsdo5QR79HVHo51dGideIfSJMwD307D8L3K2Jx9NB53Iyfj4+Edr457flrffapIHzYdigqZrHJ4VVLjnUjRiEspSL2dYz9Pcoc0GvTNmD8iEW4qBYTyoo0uLZ8HCasvclX34wVgzTXsHzcBKy9+U9qITk4GXccj+uMxbq4WMQsHIiqQgBYyIO9WBkah1s5JCawV5sWd9Z+je8udcWkIT4oejjLxb+gTuScjMPxx3Uwdl0cYmMWYnCfGdhzOBjvV3n+En2wdyVC426hohabvP4ITGhzEFP+tw33xTTG2LPJpgjE/8b//vc//b8FkgrTXseqj97GL6avo+WDs3jcZCiGtHcy8qpAi7RdC7HgsDNa1knBlrVX4du3B2pbiPfpso4i7MfNyHltJD5oYWNIgxp3L+xD1LYd2BN3ClcemcLZzR4m+kU0uBwVjPVJNqjreA/7Nm7AzmMpgFN1VDaXQn0rHn9GbsHec/dh6V4Ndir9CvNkpRzGn5v+ROyJK3hsWQXutkpxCmMvX7FtTZuGXQsX4LBzS9RJ2YK1V33Rt0dt5DeRMPy4OQevjRyIFjZiovouLuyLwrYdexB36goemTrDzd7EcPdbcxlRweuRZFMXjvf2YeOGnTA0kcowl6pxK/5PRG7Zi3P3LeFezQ6FmkhWCg7/uQl/xp7AlceWqOJui9JbyCMk7d+KTdv3If5qJixd3aBvVtob2LciFGs2b8GxR5XgpriHDOsG8LIv0HM8Po3I4BVY92c8Htk6CPk3RyOPW4j4cS0etvsEvatcwJbIKMRdegBzV3fYGTqBPGVqz/pyWYdE6zqwu7kLkZv24MxtOSpXdYRZoc7sWf2PweOUI4iJ2oHdhy8iXVYJVRzNCwW2pU1/ZjkXOH6VH8Zhy4YoHLz4AKbC/tsX2n8N0s/EYNPW3Yi/pYRLlUzEhYXjlKIOvB3k4jxZSDn8Jzb9GYsTVx7Dsoq74djoaC5hW9AGXLWripzjm7D18G1YuFfNn14SzTnMHToel7r9jO9fd9GfB3JOrsCMyCf4z5gBaGppyKP67gXsi9qGHXvicOrKI5g6uxXO/+MUHImJwo7dh3ExXYZKVRxhriuk4uqEj6NhmTwFzgOVHyJuywZEHbyIB6aucM9tB6Jn5uMvbys6WtzYtwKhazZjy7FHqOSmwL0Ma9QzT8TWXVdhUasmKqs0uLQtCBuu2qFqznHhGB/GbQt3VNUdnBLK7fHpSASvWIc/4x/B1kHYP/Oa8HEskiOj69azy01zOQrB65NgU9cR9/ZtxIadx5ACJ1SvbA6p+hbi/4zElr3ncN/SHdWKnISf3WZNUd3uCuZ/tR4mvd9DM9sy33tk7N+HCtB9LZJUgIauLH2bXF0CKPh8JA2qrKSGX5+gHHFq6XLo5JRGpLB5l5btm0bNLeTkPmA13dCIk9P/oC4qJbX9KdHwPeccBfevRVYKS3LxrkO1qtuTSiInR/+ZdDhLN0MGrQy0IZu271KAlw05eHiTu42CZA6v0beLvqK2Ljbk6lWdKqmkZFZ7FG1J169V8IDiZvckDzMFWTh5knc1O1KpXKnjlGi6nZsXxl6yYttazkma0khBNu8uo33TmpOF3J0GrL4htDyD9D+6kErZln5KNKTknAum/rWsSGHpQt51alF1exVJ5I7kP/MwGZrISgq0saG27waQl40DeXi7k41CRg6vfUuLvmpLLjau5FW9EqmkZlR71BbKbSIP4mZTTw8zUlg4kad3NbJTqci14xSKfkYD0dyMoq/au5BSYU1VvL3JTWiLSmd/+jJKyL+wX7/0bUe+TgqS2tSgZm1foy/+1Ocw3501NLadD9lLZVSpVmvqMDrCkH8rBXkK83sL++Hu403O5jJSuHalX07l9jzP0Z5167W2pBa9ulN1a0fyrl+bXCyEcm84gtZeExcqtf9R06Xg3uRhqiLbarWojrczmcvNyWfgMkpUGzPdiHIWj1/7foH6/a9Sw5McTaXC/nej386I+69JocgxjclOLuTfzYNcrU3JpX13amlvQp3npxnmeRBHs3t6kJnCgpw8vUkIrEjl2pGmRN821K2MMOplYUN+retTJUcP8qjsTUM2P9Qv+iw5R7+keia1aMKBbDFFWFVID6GOdqC5Kbo159C54P5USziGli7eVKdWdbJXSUju6E8zDYVI6kvB1NvDlFS21ahWHd3xlZO5z0Bapiuk4urEU8TzQPt+FOgt/FulBnk6mpJU4Urdfjsjnp9Kz8df2VbyCefEX/pSO18nUkhtqEaztvTaF3/SvYi+ZKtsTbMu6ypKBoX1siAbv9ZUv5IjeXhUJu8hm+neM8rtzpqx1M7HnqSySlSrdQcaHSHWg4KMqVtGlFvGykCysWlL7wZ4kY2DB3m725BC5kCvfbuIvmrrQjauXlS9koqkZrVpVN5J2Mg2m7Wdhlc1pWbfnhFaE2OsNEYH9OqEhdTd2ZXeXppMmsyNLxDQ96FVGVl0tGjAUiSgv7M8kCophBPLxtyAJosuzu9GDgp3+ihK15noOnIrksiq0NtB5/UBjDrpd3rDRkpS69Y0ee8d/XL3YkZTLYUVBSy9q1sJZUSPIW+VM3WZtV/sPDLofGg/8lK50aBIwzyMvWzPDOj7rKKMrKM0rbkFyd0H0GrxqrdwQH+HlgdWIoX3ENqYe1WcdZHmd3MghftHZGgiuoBYQrIqb1PQeX0LoaTf3yAbqZSsW0+mvXf0LYRiRtcihVUA6ZtIRjSN8VaRc5dZtF88u2acD6V+XipyGxRJxbYQzU1a2ceZFM5v0OzD9wxp947SnK4upHAKpGX6/GXQqj42pGzzAyWUdHZOm0+dhYCoe7AYTObm37U7/XrCkJZ9/ld63U5BXqN3kS6MfK72LK5X6tiJZsYZ8pt5LojecVdQ5T4r9esptf/J3k1jhDKpPW63EJ7o5FBiUABVNmlAk48KvWJp040p57z9D6DfThrWknlmDnUSLpY8RsYI+6+h2+F9yVnIU8DvJ0lfQvcO0Wyh3GVQiQF9BkWP8SaVcxeatT83gD9Pof28SOU2iPRFpAvozSWk8P2UduuKIyfHiH5dTeentyCl3Xu0OkNMEhQK6O8sp8BKCiEA3Zh34ybr4nzq5qAg94+ihBLNpt1jhHzUHke7DbtHOYlBFFDZhBpMPmpIKFonnpJ7HnClgN9OGso68wzN6SQElh4jKUZXSUrNh+CvaivFyFjVh2yUbegHsWFkPhXQm5NE4UufGg6OcHhKL7e0+Z2FILk7lVxspdUtgRHlpgvorSQyqvJ2EBmKLYl+f8OGpFJraj15LxmKLYZG11KQVcBS3SrK0GbvUUhPCzLpMJdyr7MZYyUz7ncszQX8/vEkHGv/I37u6/a8Q+MUoILf+HmY2Dgdy8dNxPq0p58VNmnxKZauD8PULrmP9KhQpbkf3HEf6en5LwvJqvXCyL7e+p9AZVVaobmXDKbtPsSYlnb65aybtEI9syzcupEufMtCdGg4Et17YFh3R9xPSkBCwg3Im32AXrVuYP2KHbpVMvb3U/lh/LyJaJy+HOMmrsfTTcQELT5divVhU9HFSWyRqipo7ucO3E9HfhORoVqvkejrrW8hqNKqObxkpmj34Ri0tNO3EDRpVQ9mWbdwQ1goKzoU4Ynu6DGsOxzvJwntIwE35M3wQa9auLF+BXYU95Ld/W1Ysek26g2bjhGNrA1p1n4Y8cMn8EvfhNANtw1pz0UOj8Dx+LCehf6b0qsH3qgvQcqVK3jyQu1ZjtqDv8XYJob8mvj0w+TB9XBnSwSihH0svf9RQKHQInXvSqzcfga3nshRrf8yXLp7BP/z0z3m8uzpxpezHJ6B4zCorqX+m4l3d3SuK8H1a1ehFvKyeflG3Gn8MaYPrgt9CVk3xsiZw9FQoZ9d6PKiERqeCPcew9Dd8T6ShO0k3JCj2Qe9UOvGeqzI25CwnS5voZmuOORy4VtpcnD61AWgWg3UKOn5EpMW+HTpeoRN7YL8Ktochiqarn/RWaFQQJu6FytXbseZW08gr9Yfyy7dxZH/+RkWMJLcMxDjBtWFvpRMvNG9c11Irl/DVd27Xkbkw+AvaCvPSe7ZBW8ZDo7u8JRTuT2rbukSjCw3WTX0GtkXhmKrglbNvSAzbYcPx7SEodiaoFU9M2TduiF8KUubNUWNGlWgvRCPUzliEmOsRGIzfZYnOPN/wzH5bGf89NM7cDFiCaOIAUujO8swdmIkir7/Z1a1IRrYnsXiTwejd7cOaOzjDIcm3+CYWgv9/U2R1MEZlfMeSpVBLpPA3NZW6ApEUqEDFKYLFy+ANl3oPG4j5+J89PTxhKen+KnRETOP5+BhSrK4EGN/P5XfeMyb2Ah3lo3FxMiiL5GboWrDBrA9uxifDu6Nbh0aw8fZAU2+OQa1lvS3/w2kcHCuLLQMkUwOmcQctrZ5LURoIkKasASRFulCUHI75yLm9/TJbx+eNdBx5nHkPExB8u2nL77VqUlIzjSHdx3PQoGgrFod1LR5gmtXUsSU5yGBQ+UC+ZcqoVRKoH3yRNjPF2jPEhW8fWsXyK9w4VCjGlQZyUhM1ZTe/yibYuyscah/bSGGdvKFi0NVNOk5Cj9vPoeHutU9c3pZylmCSpWd8/dfYgITIYDWajTQqq/gUmImrLx89CPM5JJ51IG3+Py6Nl0ImG7n4OL8nvDJ244nanScieM5D5GSnHuxpStn50LH79ke4/adR0KwZgubks4JZlXRsIEtzi7+FIN7d0OHxj5wdmiCb46poTUUIpqOnYVx9a9h4dBO8HVxQNUmPTHq5804py9E40kqVYZzfiHBxFBI0OiKsdR85Hr5beV5SRyE/cs7OOVVbs+oW7rvxpab1AHO+SdhodhkkJjbIr/YpMJFiDC9zOdgmVD21qD027iTf9XFGCtB6eG5+gIiwvbgbupqDPaxhbW1NaydArE0LQcnZ7RCJZf+WPVYnLeM9AHLBCFgCRuL/266WyAI0SI59D00afsxFp/IgbNfFwyZGoKY6ClolnvnKZdRd5NyyaEQZla2mY74m2lISyv8SV0/XJyPsVeB4ZesCY3uIGzsf7HpboGTqDYZoe81QduPF+NEjjP8ugzB1JAYRE9phqebSBlaiKGBYHr8zafaR1rqegx3e7rLkKiEIFuiRlZWkbOu+jEeZwurU5Z0C9c4UmlJ3dSLtGctcp4UHqor63Em1BIzmJmREf2PFM5dpyMm4SpObg3G9x91hMOVdZgS6I/3l+guYJ49vSzlLJUWfkkxj3BRIhQ9nmRmFbjLLFBnIUst1hW5QiglJdpMj8fNottJS8X64W6G+QQll3NxpDBkS1LiSUSbHIr3mrTFx4tPIMfZD12GTEVITDSmFOjEpc5dMT0mAVdPbkXw9x+ho8MVrJsSCP/3l4hzGEnIewmlZFQ+cr3stvLchP0ruLbyKrcS65bA+HIz/GpgnDK2WYmQP1nhfWeMFa/0diJ1Rbcvf8P8X+fghx9+MHxmDEMLKzmqdJmAmd8NREPdT23PRQhYJugCltsInTAbR3PPr9rriAxaj5v1JyIyKgRzpo7HsN6d4HXrEpI0BO3z3viQ2sDPzxMUvwt7s+zh4OBg+FhdQ/ik0Zi86pw4I2OvCJUfJsybgEa3QzFh9lHDT+EC7fVIBK2/ifoTIxEVMgdTxw9D705euHUpCRrSFrmbbywpbPz84Enx2LU3C/a57cPBCtfCJ2H05FU4VzgG1pO5NUKDytmI+zMKugfbct3dGYUDmfbwrV9NTCmFGJQVuGx5thdpz/QEx/bsLjAk3h3s2HkUGs8maO5ws9T+R5sWhRlDPsTsw5bw7TwAn81YjM1xyzHE7S7iYuNLmX76ucr5KTIPNG3ojMwjuxBb4I8QPdq7C0fExz2kNn7w8yTE79qLLPvc7TjA6lo4Jo2ejFVGbag4JnCqbAuk3yrmcTAdLa5HBmH9zfqYGBmFkDlTMX5Yb3TyuoVLSRqQoRARNWMIPpx9GJa+nTHgsxlYvDkOy4e44W5crGE1Za0TTzEiH8/l+dpKuTCi3AyB+vOX2ksrtzK1WQ1upaXrf30p8AMAY6wERgT0tvDrORhDhgzJ/wzsCC8TCezq9cAg4b89dY1NcwHrZkzG12HHDcsZSwxYGmfcQN7f0ZBawNnZGpSwHWEbDuPs2WPYsWQSeo8Jxy3KQXbW8z5Qp0TjYePwuioKE7sNxMyV27F7ZzhmDOiDCSGHoHGtKs7H2KtD5TcB8yY0RsaN/D+wJLVwhrM1IWF7GDYcPouzx3ZgyaTeGBN+C5STjedtIsrGwzDudRWiJnbDwJkrsX33ToTPGIA+E0JwSOOKqsXdbFe1x4ixbfB4xSd469NF2BK7F9uCJuLt4aF42HQURnU2F2cshaklLJQanN2yACtiLoiJz/Ii7VmDlKUfI/CLEGzduQl/jOuFkau06PLpR2hsUnr/I7WxwoO4MHw1bAhmr92FAweiEf7Dz9iUaoeW/g1Knf5c5fwUFdqPGIWWd4Mw5J0vEbIlGluWfIG3hwYhWRdv6WI6ZWMMG/c6VFET0W3gTKzcvhs7w2dgQJ8JCDmkgWtJGyq1P1eifoNakCadKeEvF0th4ewMa0rA9rANOHz2LI7tWIJJvccg/BYhJzsLOUJwZ/UgDmFfDcOQ2Wux68ABRIf/gJ83pcKupb9hNWWuE0UZkQ9xzrIy6hiqzyLiu8mYtvKUYaHyYES5mVpaQKk5iy0LViDmwvM8zP+yyq0sbfY+zp2/BmWdhqjz3DcNGfsX0b8aK9J9LZJUvOJGucnaTB+6ykjVI0RMKKrgKDdiUp4sOjq1OVlI8ke5USdvoEld65CTmYIUZg7k3bY/fbchgsbWVJLXqBhhDsPoBsrWs0g/GICO+ix910xJju+vp0wxiTLX0Ht2Smo185KYQPTgeDCN6lKPXK2UJFdYkatfd5q46nz+Moy9ZMW2tYKj3IhJebKO0tTmFiTJG+VGTckbJlHXOk5kplCQmYM3te3/HW2IGEs1lV40KkaozfqRLJTUetblvGHf1Ge/o2ZKR3p/fX5tz1zzHtkpW9HMS+JcD45T8KguVM9VaF9yBVm5+lH3iavo/LMaiCadDs4fRh1rOpG5UkWWLr7Uefg82ieO/qFrr6WOcqO5QZGjm5CjiZTkNccXm3+iNJrfWUWqNxbmjSJS5vYsrrfJsGk0uJU7WarMyKFmRxq+4FDeOkvvf4RyO7ucxr1Rn1ytdds1J6ea/vTh3H15Q++VNr3Uci5u/zWp9EtHJam6BxtGtSENXd/+Lb3TyJUslUqyrtaWhv44ltoIx6DrorwSouPBo6hLPVeyUspJYeVKft0n0qrcDelHuVFSu9lXxBF9BKX250IZnfueWpi607A/80u60Cg36mTaMKkr1XEyI4VCKGPvttT/uw0UMbYmKb1Gka6KCoVEy8e9QfVdrfVlYO5Uk/w/nJtfb4rWiacUcx4Q9iL1l46kzB3lxZh8vKy2krmW+tvLyCpwpZjwNGNGuVG2m01X8g6OoJRy09yIpNFNHMlEKqea4/fr0woxpm4ZUW76UW7y8qpfiM5+14yUju9TfrFl0pr37EjZaqb43cg2+2gtDXCypNd+Sc6vl4yxEkl0/ycEFnoS3fNqggJJjLGXgNva3+hxOHo790fqV2cR85lH/kuBFY4Wdy/HI9XEAzVdLfP2Q316Gpo3nIs64clY0sNETH0JtFcwr0sDzPJYhdO/vQYzMZkVlh09Cv7LO2Pfgq5iCjPGw3UDUXPoQ8w4tQr9HPkpesZKw62EMcYqJC1Slw1Gw/p9sThJfBhLm45dC1Yi3qQxWjU26rmd5yetiv6f9YF8/R+IvPW8z6L/w2kuYOm8E2gU0EpMYEbRpiJ88WbYD/oMb3Mwz5hRuKUwxliFJEetgRPRr9JOfOLngyZt26FZLR90XfAYXWfMxPuuL797t+z4Baa0Ooiffj2JJ2IaK0A3Rvu89fi5i42YwIyRdfBnzD3XHd+Mb4aX+BsTY/8o/MgNY38Dbmt/I+0dnIs7jxz3Rqjr8g942y4jCbGbt+Lg5bsgq+po8vqbaOdh+ENcfwXt9RgsWpeN/wztjKo8Ggl7YRpc3vgbYu37on8Lwx+IZIyVjgN6xv4G3NYYY4wxVl744pcxxhhjjLEKjAN6xhhjjDHGKjAO6BljjDHGGKvAOKBnjDHGGGOsAiv2pVjGGGOMMcZYxcB36BljjDHGGKvAeNhKxv4G3NYYY4wxVl74Dj1jjDHGGGMVGAf0jDHGGGOMVWAc0DPGGGOMMVaBcUDPGGOMMcZYBcYBPWOMMcYYYxUYB/SMMcYYY4xVYBzQM8YYY4wxVoFxQM8YY4wxxlgFVoY/LJWFuzfuIqvQJAlkZrZwtFaJ342lwZ1T27B+ywGcuXYfWjN7VKvXHm92awsPC3GWl+oRzmyNxGnLNujVyg0yMZWxv0qxbU2bjuObtiD+HmDf4E28UddanJBPe/cENm8+iXsqL3QIaAEXIyqvJjEGK/er0ajXa/AxERP/RtpbB7H09wgcSQPcOn+C8V2riVP+Wq9auTDGGGPPy+g79OrTs9DJ3QUuLgU/rqg39k8h1C+Dh0fw23v14dmgGz6ZtRIxh4/iwNYgfP1+e9Sq2QnTdqVDK8760mhuYMPUDzD89yPIEZMY+9tpLyN80gcYMKA/+nyxGjefaghaXF8xAe/2H4D3Ry7EMSMrb3bsHAz64HtEpb/0llU6TQLm9e2MQd+vQOzRQzh/y3Bh83d4pcqFMcYYewFGB/SZJ0/ikqwVJm2MRnR07mcn1kxoBaU4T6m0yQgb3AOj1mvR/Zd9uHL9PA7v3YN9xxJx9eRyDHI4gGkD/4ut98T5GfsXMrGxRs7uddh0q0igqU3B+jX7oDU1xd8XBr+gnJOIO/4YdcauQ1xsDBYOrCpOYIwxxtjzMjKgf4KzJ84gy7MNenRqj/btcz/t0LKmndFXBVm7f8DXax+g5ZQILPyoGRwLPC5gUbM35swbDu87u7D10GMx1SAr5TA2Lw9GUOh67E18JKbqaHA5ajGCdiRC/TgZByJDERSyGrsu3H/qLr8m/TS2h4cgJGIPEh6VcEcuKwWHNy9HcFAo1u9NRKEtXdqGRUuikXT3AmIiwhCxO6HQdMbKi1nrLmgn2Y11m28Vqsfaa+uxOq4aXutQ5ak2pxbqZWzkMgQtXISla3fjwr3S7jpnIeXwZiwPDkLo+r0o1KxK9AhJ+yMRFhSEsMh9hZfRXMK2RUsQnXQXF2IiEBaxW2hn4jSR9sY+LF+4DReE5p19cRsW/LEVFzTixGe0PWguI2pxEHYkqvEoMRZrQoKxbPNxpKl1E9W4Fb9V2I8lWLXrMh7qF8j315QLY4wx9jfTPUOfS/e1SJLoNi18w5xse4fQmX3raenChRS66TjdyBYnGyWL/hzmRnLbd2hZupj0lEzKyNCI/63zgOJm9yQPMwVZOHmSdzU7UqlcqeOUaLqtny2DVgbakE37fhToLfxbpQZ5OpqSVOFK3X47Qzn6dWgoee0IamQrJ6WNG1V3tSIrL39q46kg+/5rhS0aPIibTT09zEhh4USe3tXITqUi145TKNqwIcoI60UWNn7Uun4lcvTwoMreQ2jzQ/0kxsqs2LaWE0ef+wr1st9i+r2nDVl3W0w385qDhhJ/9ierRl/S4rE+pKg8iDbqK28OnQvuT7WsFGTp4k11alUne5WE5I7+NPNwln7JjJAepFJ2oLkp4soexNHsnh5kprAgJ09vqmanIpVrR5oSfVvYSvE0N6Poq/YupFRYUxVvb3KzUZDS2Z++jLphWCYjjHpZ2JBf6/pUydGDPCp705AiDSTn5C/Ut50vOSmkZFOjGbV97Qv6U8hiaW2PMlZSoI0NtX03gLxsHMjD251sFDJyeO1bWvRVW3KxcSWv6pVIJTWj2qO2kKF7+WvKhTHGGHsVGBfQZ0XTSA8hIDa3ICtHL/KtXY1shROqdYNhFJ6oFmcqhfoyzWqlIEWL6XTeyEUyoseQt8qZuszanxfAnw/tR14qNxoUeVf/fWWgFUlkrhTw20kh/BdknqE5nWxI4TGSYoQLDk3aCnrXSUHuvRZQ/CNhuiadDszoRI5SaX5AnxFNY7xV5NxlFu3PDeDPh1I/LxW5DYok/ZaEgN5coiDfT3fTPeF7To7hcoGx5/HMgL7/Grq2JIBsrLvR4tyIXp1As9tbUZNpx2n3ZwUC+jvLKbCSgryHbKQb4qxZF+dTNwehzn8UJVxGC3W3UOCaQdFjvEnl3IVm7RcD1YzzFNrPi1Rug0jfrIrS3KSVfZxJ4fwGzT6sq/2Ce0dpTlcXUjgF0jLdhnUBvbmEFL6f0m5DAxEvqIvIWEV9bJTU5ocE0ncDRrQ9fUBvJSFZlbcp6Lxuj9SU9PsbZCO0YevWk2nvHd1y9yhmdC1SWAXQUt1Cf0W5MMYYY68I456WeZIJ8+pN0Hl0OE5dvYj404m4cvhntLu1CEM/WoCk3J/Nn4Ue4mEGIDGzgGWBB4A155dg5Nu90KtXAAICAtCzZwA++OWIMCUL0aHhSHTvgWHdHXE/KQEJCTcgb/YBetW6gfUrdhhWIJB7BmLcoLqw1H0x8Ub3znUhuX4NV9XAw+0R2JpeH0OmDYKvuTBdaotmY6bhg5r5z/tkRYciPNEdPYZ1h+P9JGE7Cbghb4YPetXCjfUrsEPIt57cE13eagbd2CNyudyQxli5k8C2awD8pXuwdtNt/WM3mitrsfZobQS8XaPwqEwmLfDp0vUIm9oFTmJrVlVpDj934H56Op5qmlnRCA1PhHuPYejueB9JQl1PuCFHsw96odaN9ViRV9kLuL8NK4R81Bs2HSMaiSPvWPthxA+fwC99E0I33DakQQ7PLm+hmaGBCN9KZ3TbE/a6Wq+R6OutG1FLhiqtmsNLZop2H45BSzvdjlujSat6MMu6hRvpwl7/FeXCGGOMvSKMC+gtu+D77fsQ+W0XuIlvwFrWG4ZvPqyHjF3rsO12ac+lCqSVYG8rAd29hULv+knkUJqooFKZwESVgfPRG7Ht+E3ohvBLSLiNnIvz0dPHE56e4qdGR8w8noOHKcniCoRVVKoM57woRwITEyGTWg00wicl4QoyTKujRrUCYZCyDmrXUIgvFmqRLpy8b+dcxPyePvnb8ayBjjOPI+dhCpJz90/igMrOHMizl09q/wZ6tZdgz7pNuC3U46Q163Cibi+8VaNI/TOrioYNbHF28acY3LsbOjT2gbNDE3xzTA2t/oeAwrTpQqB6OwcX5/eET15d90SNjjNxPOchUpJzg/N86tQkJGeaw7uOZ6EgXVatDmraPMG1KyliigQOlZ2NCuQNytD2hK7Kwbly/sWMTA6ZxBy2tqZigjCHcBEhg+5XR+HLX1AujDHG2KvCuIBeoMl6jKxCt7XkcHF1hFTzEPfuP32CfIrUAc2b1QDO7cGulPyIXub9Hn4MXY7ly4VPyJf4j0Pu7Xs5FEJkoGwzHfE305CWVviTun64OJ9AKi1x1A9T4WJBkpOFzCdigp4aarVw4he/yQ0bwvT4m09tJy11PYa75RaTVLcpxv4C9njjLX9IdaPd3LyE1etOon6vXvAsdHteCESTQ/Fek7b4ePEJ5Dj7ocuQqQiJicaUZgpxjiLkCqFlKdFmejxuFq3raalYP9xNnDGfRKWEUqJGVuEOQGhGj/E4W2g6yvxxrqRlbCDGtz1h3jL8KvZXlAtjjDH2qjDq7Ju9ZQiqWnljxNaCPztn4OjRc9DaeaOma5Eoo1hKNHr/A7SQ7cHsyWuR+tRv3gJ1NrJzx9aW2sDPzxMUvwt7s+zh4OBg+FhdQ/ik0Zi86pw447PI4Nq0EdzVR7BzZ7qYJri/G7HH8zYEGz8/eFI8du3Ngn3udhyscC18EkZPXoVz+tE0GPtr2XV5C/7S3Vj3xxKsO90QvXpVy79DrafF9cggrL9ZHxMjoxAyZyrGD+uNTl63cClJA9I+/cuZ1MYPfp6E+F17kWWfW9cdYHUtHJNGT8aqYiq7zK0RGlTORtyfUSjQinB3ZxQOZNrDt/7z/mGol9X2/ppyYYwxxl4VRgX0qtaB6O6ehvCvJ2Hd5cfQqu/gyKKPMTokDb5DhqOz7tl0zQWsmzEZX4cdNyxUDFnNEfjlu9eQtbw/Wncdi18jD+JCyk2kXj6MzQsno2+bvliUYgUfH1dhbiUaDxuH11VRmNhtIGau3I7dO8MxY0AfTAg5BI2rceNXK1t+jLEdsrHi414Yt3ATdm4Jxudvf4zQ1PyTurLxMIx7XYWoid0wcOZKbN+9E+EzBqDPhBAc0riiqtED7TNWjuxeR68OMmyf+TNONeqFAPeiF85SWDg7w5oSsD1sAw6fPYtjO5ZgUu8xCL9FyMnOevoPpykbY9i416GKmohuA2di5fbd2Bk+AwP6TEDIIQ1ci6vsqvYYMbYNHq/4BG99ughbYvdiW9BEvD08FA+bjsIofQfwfF5O2/uLyoUxxhh7VYgvx+rpvhZJyvMg7md628eKZFIFmahkJFE4UYsRK+lS7tCVWZvpQ1cZqXqEiAklyaTLkVOpb0t3MpdK8rYpUdiQd8eh9FNUEhUcDfPB8WAa1aUeuVopSa6wIle/7jRx1XlxuEnDKDfK1rPoct7IORpK/aUjKVXdKVgcNU9zex/NHdyOvOxMSWnhQg17T6NR/iaFhq0UNkTBo7pQPVdhfXIFWbn6UfeJq+i8OIN+lBtlO5p9RRwyg7EXUGxbyxvlJr9epi9/h+yk5vSfedfEoROzaW/BUW7UybRhUleq42RGCoUZOXi3pf7fbaCIsTVJ6TWKYoR5nhqekR7Q8eBR1KWeK1kp5aSwciW/7hNpVW5lL44mnQ7OH0YdazoJ7UBFli6+1Hn4PNqXN7SkbpQbJbWbfUXMZwmKjnKjU0rbM4xyo6TWsy7nLaM++x01UzrS++vz85y55j2yU7aimZeEuf6qcmGMMcZeARLd/wmBhZ5EYngSvUBSYZr7SDp5Egn35ahcqyFqO+lGnHheWmTcuIgLl6/jvsQG7jVrw8OO74Kxf4dS2xpjjDHGmJHKFtAzxsoFtzXGGGOMlRces4UxxhhjjLEKjAN6xhhjjDHGKjAO6BljjDHGGKvAOKBnjDHGGGOsAuOAnjHGGGOMsQqMA3rGGGOMMcYqMA7oGWOMMcYYq8A4oGeMMcYYY6wCK/YPSzHGGGOMMcYqBr5DzxhjjDHGWAVW7B16/nP0jL1c3NYYY4wxVl74Dj1jjDHGGGMVGAf0jDHGGGOMVWAc0DPGGGOMMVaBcUDPGGOMMcZYBcYBPWOMMcYYYxUYB/SMMcYYY4xVYBzQM8YYY4wxVoFxQM8YY4wxxlgFVsaA/gnSTkVj/apV2BB7Afe0YvJzeHRmK8JCV2LPFY2YwhjL9whntoYhdOUe/HVNRIPk2HAs23ZG2Pq/kDYdxzeEYenSMGyOvy8mFqa9ewIbw5YiNGI/Usv5uOR1p5pExCxbhu3ns8SEMtIkIzZ8GbadKeNRfIH+vCLRJMcifNk2FCqe/MLHlT0rn6MNaHHr4BJ8M34URo2fhcg9O7Bs2XY87yF8lpd6mF607pWbwuW5Kekv6gQ1V7Bn5bPbTqH6Y0x5PTqDrctWYe/Vf1Ksozs/LcOqvVeFFsNeGbq/FJtL97VIUr5Hx+jXd7zJQm5GDi4OZC5XkEPLz+nPNI04QxloUmnhm9Ykk8rJfchmeigmM/Zv8cy2JtCkLqQ3rWUklbvTkM1/VQvJpIi+tqRsPYsuq8Wkf5OcOPrcVyEcFwlZdVtEN57q2jR0bd5/yFwCklYeRBszxeQXlRVPiwe3ocFhjwzfM0Koh0pJHeamCFt8DpkR1NdWSa1nXSbjDmMWxS8eTG0Gh5GYg3+0zIi+ZKtsTbP0lbzovmfQykCrMrcB9eW59Jq1lMyq+FGrdoNp/k/dSaXsQHNTnusIFq9oPXkZXrTulZOi5RmU9Bd1SBkrKdDq2W2nUP0xorzUF6dTC6U99V9bXh3GK0B9kaa3UJJ9/7XCWYO9Koy8Q5+B2Cn98GlMFfw3OhnXU27g2r6pqHvuB3zy7R5ki3MZS3MlHGExZni9RzPcXrMYkbf+JbeGGDOK5v/ZuxP4mM71D+C/mcySTRYkESFISCyxxF57LDdF7S21lRZVrVIUt9qqSxe0/0uvXtWUbBJLxBZ7QxIRS1N7rEE2EgQhyD4zz//MzMkqy4Ro5fb5fj7TmnfOnHnPe97nPc85884JEoMCEWH6OoZ0uo9t3iH4c0JEgb7fHcFJ3wmoZyQW/Q0ZW1kiL3IH9pRsdE0ydm47Bo2JCSRiUZV4fBSbA6JxL097jlcFFH3x3ZGT8J1QD4btxsc4ujkA0ffydGeZ/+sUfb/DkZO+mKDr5FWz7Xnno3E2swVm7YhGVMRajK9dpT1Er6r7ySusZHtObPDqDEjF+w9jrw7DEvpHe7HaLxGd/vkL/tmtlnCQkMKqwyf4etEk9LbPRnqlkg01rm7YgGPKHhi3ZDS65OyH9+akUr9GVKddQljwevhtPohLablIOuyPX3dfQtEvt7KTT2LvRl/4BOzE0fhKfsXM2KtIfRUbNhyDssc4LBndBTn7vbE5qZQIUafhUlgw1vttxsFLachNOgz/X3fjUvEAwcm9G+HrE4CdR+MrmEZASLsWjeMxKbqTdPWNUHj7HEK8KhNJJ0IQ4OOPrYdjy4n3XFzZ9yt+2fIHHhRbJhMXd3lh7f5YYQm9CuNW9RCxUSHY4LMW69ZvR2TsoyJjhBrXD6yDX3gCHsZGIDgwGJFx+nVkJp9C6Nb18PEPxqELqQWfVxmm3fqjpyQSO/beKzYuaW7txNbohujbu96zA+fTBBwPCYSPTyBCjpXWzplIPhWKret94B98CBdSxZplXkRI4DEkazS4ecQbXiEX9OX5cq9g36+/YMsfD4qPkcL7dnmtxf7YUraQ0nAt+jhiUnR7ETdCveFzKB6qzCScCAkQ2mYrDsemi+sT9o1Q72PJGmhuHoG3VwguZOheEGQj+eRebPT1QcDOoyh1eH3BPqi+fgDr/MKR8DAWEcGBCI6ME18vo71KUicjMsALG4/fLWyfjAsI8foFW089LCjT3PsdQV6bcPyuRmiea4g+HoOUnPK2XWjGLKG9dmr7ktBe1/PbqyQN7hzbiLUHYoUa5+DaAS/8KvTz0qchPEXC8RAE+vggMORYqe2pEtohKmQDfNauw/rtkYjNn9daUT/RErZ7l5cXdl3MFAv0NGknEezlg0PxYq3Kja3iVLH74OW1CxeKrjL9LLZ7eeNgXNGtrKivGLg/K2jPpwnHhXbwgU9gCI4V+5Cyx4RS5aTg1L5N8NP2yeOJKLLbRYSspBPYqa3v1sO4XmTQK+w/YsEz1Ei7eBBB/v4IPiL052KNW349yx4XK4rj0qgQu88LXrsuCG1ZKP3sdnh5H4R+9xm+XnXaRRwM8hf23xHEFd+oAuXVv1L7p5zxtDLHJYPzw0qMsy907FJfx4F1fghPEJaJCEZgcKTQluJrVUG8Uq+jfVqiSCcn4mNyMu5M313JpgcXfqMNa3+l9bvP0J08cYHKyPuDFrjJyW5sMD1U36Z1gyxJ2W4RnSu2LjUlh3xC7WvKSG5Vn5wcLMmkbi8a3KUWGXuuoVTdMo8pesVQcjKVk7mdM7k0rElKpQP1WRRO9//K7woZM0BZsaaV98cCcpPb0djgh6S+vY4GWSqp3aJzVDRE1Mkh9En7miSTW1F9JweyNKlLvQZ3oVrGnrRGHyD0OHoFDXUyJbm5HTm7NKSaSiU59FlE4WUGSPEpNxmbR5KVVS8aN9JF+H89auJsSyZSOTkM+pkulRr7Krq6rCsZm/WlnxKLfEbaJhpV25S6/3BdWKLiuM274kvjm1mQvEZdcmnRjBrVUpJEZksey09Stm6JDAocbk5W7t2odW1bcnKqQy5TdtE531HkZKIk64bNqIWLPZnJzMh14gaKN/TbenHKTa1x3vTLUCuyHORNdws2Q03xP3qQRbsvyHuWK8kLptyo6W7ol9SrroLklvXIxaU+WckVZO/xBYXmz9lRXSffUU5korSmhs1akIu9GcnMXGnihnhSPdhGs3q6Ui2pEdVu1o16zwwu/jW+6iot62pMZn1/ouJNOopqm3anH66XsnHFptxop5BYkVWvcTTSRfh/vSbkbGtCUrkDDfr5ktCnHtC2WT3JtZaUjGo3o269Z1Kwdhrl42haMdSJTOXmZOfsQg1rKknp0IcWhd8vmFpQFX0wI3A4mVu5U7fWtcnWyYnquEyhvY/KaS/du4oQjiFeA8zJ7PVf6LZYsay9k8nBSEq1xgSL0znVdOfXAVSj1ija9LDolInUUrb9iW7Kjdy5B/XVtpejq+7zjYT2GvjThWIxqJdH538aQz3d7EgutaImnYT3ff4bpfkPKTblRn03lL7sVZcUckuq5+JC9a3kpLD3oC9C74jtmUdXfMdTMws51ajrQi2aNaJaSgnJbD1o+Umh15fWT0rKO0ML2yjIZnQQCZspUlPS6n+QuUV/+kWoS4WxVWIKSUaJ7dDSTyGxotFbMvQFFfWV8vq/bgVFld6e2eq7FPplL6qrkJNlPRdyqW9FcoU9eXwRKk6NK21MKG06r5oeRCymf9QzJrmFgxCvQr+VG1ODoT/ROW0866bcyMm5R19ysbIiR1cXsjczIrnDQPrpgn7vlzvlRp1E26e3I2uZgqzqNyIHCwtq7NGdnOX5U27KqmdF42JFcVyaDPIfoiRF71VUuPtUdG3pa6SwGk363WfIeoU+tH06tbOWCe+rT40cLMiisQd1dxbGyoIpNxXX39D9U9F4athxqZL5oUHjbBUcuzICabi5Fbl3a021bZ3IqY5LlU6pNSihf+wziIxNPGjqJ6+RbQ1batzMmWorZVSz46e0N38UNVBWxAyhc9enKfv08wAfbBxJteVNaGZE4Uws9f0gGmMvJ8dhv9B53bY+oj9WDKS6RiClmNBnhH9CLkp76v/98YIOczVgHDVW1qf3QgqHM8ZeRWUn9FkUMcOZ5PWnkD5EHtDGkbVJ3mQmFYSI+j4FjbEnueMw+kUfIPTojxU0sK4RQSkmUxnh9ImLkuz7f0/HxdEm42oAjWuspPrvhRQ54Bf1bEJvITEih2E/0/nH+tcvrewnDLBO9HFEju4dJakT/kO9zUzJ48d4/QFOkLp+GFmb65P8iuNW3F4hsdudnxBnX6M1g2yE7f2AQvWjonBwMCOJ3I3mRD4SnudRXkYkfSJsW/PZkcKwq5VH8T7DqI5xG1p4uvTD3TPyE/rx2+iW3zCyshxE3vkZvSqOVvSyoA5LzlLkp4UJvfruZhotjFX2A1bQSW1VBI9OrxT2hZzsRm7QJRs5kZ8I29ecZkfqa0Z58eQzrA4Zt1lIuqqlriFPIdEd7CsO7MWSBDUl/Kc3mZl60I/xBS1K64dZk3mJg0+BZxJ6C5IYOdCwn8/r2ybrEq3sJyRETh+Tfjem0hpPIQkb7CseYDMo/BMXUtr3p++Pi0lZxlUKGNeYlPXfI91uqqI+qE3ozSRycpsTKYzyQtPk5VXcXsWoKVFoH9Nab1OQbvEcOj6vudBepqRoPJMO67bvEW0aWZOshvnRfeFZ8Tn0z257fnsN/u85fVnOVfrv6zVJXrC+Z2VsGU1WCuHAH6dPUYslwkIyunm00Fb2A2hFYSehlQPrktxuJG3QdpIHG2lkbbmQ5Owu+O1G9rU1NMhGOA5+EKpPBkr2k2eo6PK3ncm41kjamCYWqePpRw8zsh7mT6lqA2Kr0gl9xX2lcvtTr3h7Ckne5tFkL7enAStO6vqJdp+eXinkBHI7GrnhjvYdz44Jpa37aShNaySnmh5f07EH2toK6/5tBrVU1qB+/00gtS6hl5CRw2D67zl9O+dc/S+9XlNOjWceFnpXif5TIlZTN71NdnJHGu4Vo/tNhjrtBC3rZ0tSadGE/tl6VjwuGhLHJRma0Je/XnXqJnrbTuiHw70oRr9RdGJZP7KVCifNYkJvSP0N2T+GjKeGHJcqnx9WPM5WybFLm9CbSUjuNof0zSC0g27BqmHAlBsNnjzNgCb7MAIi2uLXmJu4duk64qP/jdeSfsSUeTuQJi5Zsac4uH4rkhqOwHgPM11JzYFj8YZNAoLW7cMjXQmQvncjdj9ojw+XTkJLc22JJdp/vBzT2sp1r2u/3gsPCEK84xBMHWyL9IQ4xMXdgazTuxje7A52bjokLsdYNfP0INZvTULDEeOhD5GaGDj2DdgkBGHdPjFC0vdi4+4HaP/hUkzSBwgs23+M5dPaoiBCwgMQFO+IIVMHwzY9QYiPONyRdcK7w5vhzs5NOPTsd8ylkzlj5Oz30LKG9okxXAZ7oqXkNm7dVOleLkla/02M7iXDia3boLsxheYOdgWFQdNzFIbXyzUgbo3x2pz12Bm4GP3txOFJWQ+d3R2F7U5DWpFv+WXO/TGik6X2X5DJ5JDLNUg5uhmbD17CvVwZGo7fgOsPT+Ff7jL9GwwmgfXAYfCQHsH2Pfd1X5eqE7dj++nmGPZmk2Lz0tMPbMKe+60wdel0tNNWRWDpPh0/fOSOtD0B2HVfeLdcqJsmBUc3a6el3EOurCHGb7iOh6f+hYqrJkX9N0ejl+wEtm5LgL5JdyEoTIOeo4ajnoG/gpI5j8Ts91pCvxtdMNizJSS3b6HU3ZgdjoCgeDgOmYrBtulIEPpO3B0ZOr07HM3u7MQmbeepyj4o9LH+IzoJo7zwT5nQIJVqLykcPD3RJuMYwn7PEXZUPCKO3ETb0SPhnHwcR24ILZYZhd+iVOjS/x+wFt9VEZnTSMyd3Aq6LVM0xpABrSFJTkRiWTNFypN+AJuEftRq6lJML+wkmP7DR3BP24OAXfeFffIa5qzficDF/VHY7TtD3+3TdPu9YkZo8vYodM4KRfDeB7oSdfxWbP3dDP3HDIKN1PDYMpghfeWF+r9WOg5s2oP7raZi6fR2un6izQncp/+Aj9zTsCdgl65Eq/iYoC8rKudIEEJuOWLsV5/itZraNpDCts9XCNyzBV8PqCVOpZPBaeRcTG6l79eKxkMwoLUEyYmJFUzhe4KDwfuR1noKlrznBu3wLbXuhE+WvIumJabbF6+n4flMpeK4Espb75ODwdif1hpTlrwHN/1GodMnS/BuwUZVpv7l7x+DxlOtco9Lz5MfVjTOGrJOQ+NLBuf+I6BvBqEd9IVVQvzU8kiFeJRDIrHEgPlfY3ADha7UXAiuz8c7I3X/Thwx9A5XD4XBa+dtSLKPY9lbgzF4sPAYuwYxRLi7yxtbb2t3lgqJ1+ORZdEYro5FosDICS1cauh/jKZJExrzPvKurcFQV2c4O4uPJn2w/GweniQn6d7CWHXzUBi0dt6WIPv4MryljQ/hMXZNDIjuYpf3VmhDRJUonFBnWaCxq2OR5NIITi1cUEMfIEgTDqz3865hzVDXwvhwboI+y88i70kykvIHxopIaqOOfeGnSIyNoRDWr1aX8X6pPYaN7geT6G3YGq+G5vYOBEUYoc/bQ2AvnPpXHLemaNC2Dawve2POpFEY1Ls9XO1t0OHrM1BpSPe1Rj6JTR3Y54+Gio6Y9f1stL61Fu/3c0NdmwboMHQGftx7RTjMVp601gAM7yXBkR1CIqFRI2HbDpxrORwjmhQdflVISUhClpkLWjgXLTdCwxZNYZV7C4nJGqFqs/D97Na4tfZ99HOrC5sGHTB0xo/Ye8Wwmknth2F0PxNEb9uKeKHdb+8IQoRRH7w9xN6QAVxHUltoq4LdKIGxsTCOC9tV2m7UpAkHq/t5uLZmKFwL+o4zmvRZjrN5T5CcdL9q+6DERuhjhe1X2fYycuqPf7RIRVR4DHLuHcbhS43hMfkNdLC4hKNR95F98jdEPu6A/q/bGt5eQt+qU7BhUigUCkg0uch9jsRJlZKApCwzuLRwLnbwNmrYAk2tcnErMVno9g3Qto01LnvPwaRRg9C7vSvsbTrg6zMqaHRf6BnGqMFIvN1DjUNb9+CesH+vB2/FH9ZvYPTrVsKrhseWoQzpKy/a/4UGREJSFsxcWqB4mDVEi6ZWyL2VKBaUGBNK8VhIyu9LGqKpa/5pp0BaEy37eKJjQ30Cr40Pmzp1Cvu1VCHsfwk0ublCxJdDnYy4xAyYNGqChoVBAUWL5mgiL/4j6WL1rEQ+U5k4royy16tGclwiMkwaoUnxjULzJkJeqP13Zepf7v4xbDzVKe+49Jz5YbnjrEHrNDS+tP3LvkoT+XwGjW816tjBwsgKtnYmYomWDHXr2kHyWDjzMOg2Nxrc2RaA/en10e0f7dHQ0RGOuocTOnt2hf3Tg/AJuC6cGUmgVAqdKTcL2cWuGKiQna0SG0UGudAaiu5LEXM3FampxR8pO6fplmKsWtHcwbaA/Uiv3w3/aN9QjA/h4dQZnl3t8fSgDwKuCxGiVAqDVy6yigcIVNnZUImjhkwfIFgac/eZ+EhN2Ylp9Q1NbaSQFj8WVajWG2MwwPIUtm+NReK2LYgy8cTbb9gIrxgQt5okBIztgB4feuNcnj3c+0/BYv8IhC/qVHDlt4BUqJv4T2097QcuRUTcTZzf74vvPugDm8QdWDTSAxP8hISp0mphwAgPSLV3u7l7HVt3nEfr4cPhXOSYph2YldpET5VdYqwS9kWm9id9+kRAe5IzcGkE4m6ex37f7/BBHxsk7liEkR4T4Jd/gCpXLbwxZgAsT23H1thEbNsSBRPPt6FrUkMJbWXwbpTJhT2lQPelMbhbYh+lpqZg57T6VdwHhf1YtDtWtr1kzdC/nzPiDofjivA4VbMLerbpgV4dpTh1JBInf4vA7Tavo39dQ/u8oFjfejES4XimkGiPX890EmQKx07tyYImKQBjO/TAh97nkGfvjv5TFsM/IhyLOj3T68snrSOcUPeBJHwrdt+9jC1bz6DO0LHoq81VKxNbxZBwUiH+U0DZOcjNf25AX3nh/i8R+poQR9q+VaK3IVPfgOJzQQX7TSH0WynyhH0hFugIJ58JV5GcXnj9XVqsQxrKBMZKCfKys4pfyVephJgo0oBaxepZiXxGeF8lh2Nhh2mKJJOE7JzcIs9F5azXxFgJSV42sopvlLBZ+Ulq5epfdssaOJ7qCOspsyGeNz8sb5yt2mPX8/Wvihm0VkXbTmijSMGZaP1XEXrZuHw5DlRfOEspmueXRZ2IoMAwZLWehB/X/ISffiry+PVHTGqpRrS/L07lGsGpY1vYZ53C4agiP/99ehSHT4nf0Uqt4O7uDIo5jKPZtWBjY6N/WNxC0IKZWLjlin45xqoR3e1cw7LQetKPWFM0PoTHrz9OQkt1NPx9T0Ht1BFt7bNw6nBUkV//P8XRw6fEuzVIYeXuDmeKweGj2aiVHx82FrgVtAAzF27BlRf8irZclp4YPag2zu3xx7qd0bAc8Db6ay8QGhC3mtsh8Nl5F63nhyDUfyUWz52KUf0a4951YewRDkxlHf41qaFYNmUyVpysATfPd/DpMm/sjd6IKfUfIjoqRlyqcmr2HwEPaSR2/OqHHRfbYvjwhkWuRmsZoX67NqiTE43fQotOPHyIsNATyKrlhtYNJUgNXYYpk1fgZA03eL7zKZZ570X0ximo/zAaUTF52tFddzB95iBbhKXnaAyqfQ57/NdhZ7QlBrzdH9omrRriwVGsgNTKHe7OhJjDR5FdK7/v2MDiVhAWzFyILULnMXppfVBTcXs9Q4Y2A/rCIWY/Vmw/DnTuiY7GNdHLow2eRvpi2e7raPH6wGJXTQsV3/aXwah+O7Spk4Po30KLTU99GBaKE1m14NbaEbdDfLDzbmvMDwmF/8rFmDt1FPo1vofrCWohHxN7vQH9RLs9toNH43VFJLb/7IsdMQ0wfEw3GAuvPFdsmZjAhB7hQZHbVqWfO4/4/CpV2Fdyn2N/lmBUH+3a1EFO9G8oHmZhCD2RhVpurcWCipm1aQNXXEDUkSJ3sMo9hR8GtUKH2aFCVvMCjBzQsZ0jVKfCEFaknumRUThb3ma+xHzGRNh/9OhBkbuOpePc+fgyx9FnGcGhYzs4qk4hrPhGISp/o6qs/oaMp6UGcXEvUJ8yx9mXeOyqSgYl9FKHNzF1mA3+WDEdSyNuI1eTgetb52HBxgdoNW4CumhPkNWx2LFsIb4KPKt/Uwnqqxux4Zga7d8ciWbCmU4xMjeMHd0RRpcDsS4sA8pe0zGjy0P4THkLX/jvQ/g+P3z+5vvw0d26TzukKdB+6my8rgzF/EETsXzzQUSGBWHZO6Mxz/8PqB0a6FbLWPWhxtWNG3BM3R5vjmwmpCjFydzGYnRHI1wOXIcwVS9Mn9EFD32m4K0v/LEvfB/8Pn8T7/vob/+qi5D2UzH7dSVC5w/CxOWbcTAyDEHL3sHoef74Q+0AcebcS2KG3mOHwT76J/znRC0Meruvfi6yAXErNbeHvSUh7mAgdp28jMtnDsFvwSh8EnQPlJeD7DIOjFIrCzyODsSXU6cISd1hnDgRjqAffsSelJroIiR2WurYHVi28CsEnjXwbKbm6xje2wgHl/+IC+2GY1jRKYAi7Vg1q3smNn00AnPW7UPU0QPwmf8mpgU8QccZM+BpJiS2Fo8RHfglpk5Zge2HT+BEeBB++HEPUmp2gUcbuXDUrQFzhRqX93lhU0SsuOYSzHpj7DB7RP/0H5yoNQhv6y65VhUT1DBXQH15H7w2RSA2rz2mzn4dytD5GDRxOTYfjERY0DK8M3oe/P9Qw0HbeZQvqw8a0F6lUHToDw/LKGzYdg9te3aHqTY58OiJJin7sOeSC14fWPy3D4VKbHv+vP6qpG2rWd2RuekjjJizDvuijuKAz3y8OS0ATzrOwAxPYf/b28OS4nAwcBdOXr6MM4f8sGDUJwi6R8jLyYau2xvST7Ss+mPMG2YI+7/ViHF9C2M76hv6eWJL2bYz3BUxWDf/GwRFHMEBvwUYsygMefmNqaiorxg/1/4sTole02ehe+YmfDRiDtbti8LRAz6Y/+Y0BDzpiBkzPPWLGUDW8j3MHKjA7nmj8U+fA4g6vAMrhTFjdbwbJr/fR3fi8/wU6PLhLPTO2YQPh8/G2j1h2Of7Gd78MAAp5WZzLyufUaJtZ3coYtZh/jdBiDhyQNjfY7AoLK+MWCidosuHmNU7B5s+HI7Za/cgbJ8vPnvzQwQUbFTV1b/i8VRcsFwvUJ8yx9mXd+yqKHeuFO0vY/Npn5YoKvTwGP3fMBcylxqR0lhOUpk1tZ7oTRd1P78XZO+lyQ7Ca0P8xYKi8uiPBS1JbtKT/q27s8Cz1Emr6R/mRlT7rQ26OxGobx+kb95qRw41FKSwbEg93v8/mtVdQcqB6wru0PH4rC/N6N+KHCwUJJNbkIP7YJq/5aruV9eMvcqeiTXt7Vxbysmk57/L+AuV4u3njGrTWxuECFHfpoPfvEXtHGqQQmFJDXu8T/83qzsplANpXWGAkO+M/tTKwYIUMjlZOLjT4Plb6GqZAVLKXW4K7gaip075ifooyrvThijnBM1rJiOZ9s4g+WOEqPy4VVHSrgU0sIUdmcrlZGrjQj3Gf0u7gmdRU0VjmqG71Y/+jgmKniuK3eUl6/JGmj2gNTlYatdrRnZNPWjyqmPiHQm0Q5T2doZKGuIv3m6vpIK73BT+9cO0jW9RTakZ/WP1LWEPaOXQ0SJ3udFSp/1Oa6b2oaZ2Qp2UNaiumydNW134udp2vbxxNg1o7UCWChnJzeyoqcdkWnVMvCuI+g6FzOxAtsZSkjWdK2xeiVvhiXJOzKNmMpnubhslmrS4Uu5yk79P9dSU8lMfoa6DSb8b1XQnZCZ1sDUWxvWmNPe49k4Rj+ms7wzq38pB6ANCnS0cyH3wfNpStPNUQR/U3eVG0ZNWFLtdTwXtVaqntGNCHZLKO9I3l8QNzQ6jjxoZkazZPDpR5C4gxe9yU3LbH5bSXtobzHiSUjmA1pZ2gwxBuXe50VKn0e9rplKfpnbC9iqpRl038py2mo7ldxJVEu1aMJBa2JmSXG5KNi49aPy3uyh4VlNSNJ6hv8NVyX5SjqxDH1IjIwV1/Oai0AfyGRBbz/S9LLoUMJ16u9QiY4Up2bkNoS+3/UxjalsX3raywr5S+f1Zsj21+ynt9zU0tU9TsjMT8oAadcnNcxqtLlhH6WNCqR6fIe+P+lEzIV7lcnOq6z6MFu5O1N9tpNS/FCveCWnAWl3uUe5tK4X/3j+2iib1bEw1TRRkXrctjVoygzyMi9/lprR6lj8uGhLHpci6RAHTe5NLLWNSmNqR25AvadvPY6i2dfG73FS0XvX9Y7RqUk9qXNOEFOZ1qe2oJTTDw7jYWFlR/Q3dPxWNp4Yel543PyxvnH3hY5fuLjcK6rkiUewvgnJz58qRaP8jJBY6Eon2uoouy9D9/1lqpMefxfnEbFg4t0bL+uaGXeKvJM3DG4hJMYZTUwfUyD+VVF3Eks5tsapFEJL8hrzgmTRjf62KY60cmoe4EZMCY6emcCgMEFxc0hltV7VAUJIfhvzVAaI6iS/adseOgYdx+ruOeKlfCPxNqE5+gbbdd2Dg4dP4Trzq+pepDn2QMcYq6ZUaZyupkvm4ESwbtUP3Xl3R+iUl81qalA2Y1LY1xnjnz9nXIO2wFzbHGKN91/acHLC/N00KNkxqi9ZjvPW3htQWpR2G1+YYGLfvivZ/eYBo8ODAL9gU545x77TjeK0Kmgc48MsmxLmPwzvtXoEWfeX7IGOMVdKrNs5WUiWv0P9JNDexZUo/TFx/F/atW8JBeheXziWhxoAVCNn4AdyU4nKMVVMvFmsa3NwyBf0mrsdd+9Zo6SDF3UvnkFRjAFaEbMQHf2GAqK+uwJABP+DozQewnbIdJ/7b3+B7f7PSqHF1xRAM+OEobj6wxZTtJ/Df/q9Ci766fZAxxirnVR1nK+fVTOh1MpAQtRf7f7+Bh2SBRh1exxs9ncQf1zFWvVVFrGUkRGHv/t9x4yHBolEHvP5GTzj91QGScxW71+5GnHUXvDXytXLvCc0Mk3N1N9bujoN1l7cw8rWXc//i5/VK9kHGGKukV3mcNdQrnNAz9r+LY40xxhhjVeVlTYNnjDHGGGOM/Qk4oWeMMcYYY6wa44SeMcYYY4yxaowTesYYY4wxxqoxTugZY4wxxhirxkq9yw1jjDHGGGOseuAr9IwxxhhjjFVjfB96xv4CHGuMMcYYqyp8hZ4xxhhjjLFqjBN6xhhjjDHGqjFO6BljjDHGGKvGOKFnjDHGGGOsGuOEnjHGGGOMsWqME3rGGGOMMcaqMU7oGWOMMcYYq8Y4oWeMMcYYY6waM+wPS+WkI/VhJtSl/Q0ciTGs61jDWHxasUwkHduFHaGnEf9QBZPaTmjXbygGdnIoXIc6CVFbo5DhNhiezU2QeCQYR7NbY0i/pjATFylVZhKO7dqB0NPxeKgyQW2ndug3dCA6ORheO8b+DKXGmuYRYvbvwXlVc7z+hjtqlTjdzr0RjuDfVXAf0g/Nyg2EF6BOxJHgo8huPQT9mr6sD6kkzT38vv4XBJ9KBep74qPZA9HQSHzNAOqkKGyNyoDbYE80N6l4+9TxEdh8XIV2w/vC1ViNpKitiMpww2DP5jAXl2H/q9SGH2/+NE9xaX8ILtbojuFd66MSXZ8x9neiTejzaZ+WKNLJ2jOJ7KX61555KF8nr/vighXJu0Z+Y13IVGpCdk07UPee3ahd41qkkJqR6zhfupIjLpcVTGOsFdTt+xukogzaPNKCFD1XUKJafL0Uedf8aKyLKUlN7Khph+7Us1s7alxLQVIzVxrne4XyV83YqyA/forJO0+L2slJYlSfxm25TSW7e9qv/Ump6EH/ji8nEF5UxmYaaaGgnisSn/n8v4aKbqzqS5ZSU6rn3pV6TvKhBJX4koGygseQtaIbfX9DeKMB25fhP0Ro5960Klm7RBYFj7EmRbfvSft29r/OsOPNn0p1jZa+pqBa47cLvZExxkpn0JQbRee5CA4LR3h44SNs81y8ZilHgxET4GktLliBB1sWYHZQLoYFXETi5WhERhzByWuJOPXffni66RPM8U+GRrugoi++O3ISvhPqGXg14gG2LJiNoNxhCLiYiMvRkYgQ3n8t8RT+2+8pNn0yB/7JujUz9soj9S1snD0P2+9ynwXycD76LDJbzMKO6ChErJ2IBpW8RKno+x2OnPTFhHrPc21Tgb7fCeOU7wQ819sZY4yxP4FBCb20piu69OyFXr3ER/d6uOrrizP1psN39dtwNGgtubh+9gIeW3TDiGGNoBRLATO4Tf4c03o5ID0+Vjh8CygN16KPIyYlR7dEPkqPRXiQH/yCDuJSmlosFeRex9kLj2HRbQSGNSpcM8zcMPnzaejlkI74WN2aob4RCm/vg4jLfYQrYUHw89+CgxcfoMjaGPtLmbfthtYPN2L23O0oO6dXIXafF7x2XUCmWKKVfnY7vLT9W9uh1TcQ6u2DQ/EqPI2PwjZ/X2zYexapKu2SKtyL2Y+Nvn7YcvgGnmiLiiGkx4YjyM8PQQcvoWi4FchOxsm9G+HrE4CdR+PxVCzWUl8/gHV+4Uh4GIuI4EAER8YVe724p0g4HoJAHx8EhhxDfP6Cmjs4tnEtDsQKW5hzDQe8fsX+2DIiNTMZp0K3Yr2PP4IPXUBqrlguoLRriD4eg+LDiQHbp0NIuxaN4zEp0L5dN374HEK8KhNJJ0IQIHze1sOxSH9mP6mRdikMwev9sFm7/twkHPb/FbsvZYuva6t8CqFb18PHPxiHLqQKI2TFniYcR0igD3wCQ3CsoKG01Lh+YB38whPwMDYCwYHBiIwrq8UzkXwqFFvX+8A/+BAuFGksw8fHMvaZjgF9U6fsehQop4+V6WkCjocEwscnECHHSvRLg/dfOcebAuW1gZ5K6P9RIRvgs3Yd1m+PROyjwg8qL0bUaRdxMMhfaJcjiHvKJ/aMMQOIV+p1tE9LFJVCTbf8hpGdoglN2/9QLDOEmlLXD6eaRlbUabovHU3KEMtLUcqUG7lLT/JoZE4WDo2onpWcZDU70KxdKfqvzdWptH54TTKy6kTTfY9SeavO2DySLGu8RsMHNyJLWxdq3bwumcutqO307XTrVfmKlf3PKzXWxCk3Vm9voGNLOpO5zJHe2XqnYGpI8Sk3GeQ/REmK3qtINzNER0XXlr5GCqvRtEUbA9rpJVZW1OPtYdTYyoacXBzJSm5ENn2/oXVf9qC6Vg7UuFFtUkpNqfmMfZSmXYVuSoqcXHp6UCNzC3JoVE94j4xqdphFu1IKA+Rx9Aoa6mRKcnM7cnZpSDWVSnLos4jC7+uXyQgcTuZW7tStdW2ydXKiOi5TaO8T3UvFqO+G0pe96pJCbkn1XFyovhDbCnsP+iJU2G6hPX4a05Pc7OQktWpCnXr0pc9/yxbfWUh13ZdGOZmQ0rohNWvhQvZmMjJznUgb4vVzZJ6dclP+9pU35UY7flhZ9aJxI12E/9ejJs62ZCKVk8Ogn+lSnu7twkYlU8gn7ammTNiX9Z3IwdKE6vYaTF1qGZPnmlRhARVd9x1FTiZKsm7YjFq42JOZzIxcJ24gscrPUt+l0C97UV2FnCzruZBLfSuSK+zJ44tQuqOrdgYFDjcnK/du1Lq2LTk51SGXKXvpmSZXXSffUU5korSmhs1akIu9GcnMXGnihnihVvrtq2h8LHef6ZYwoG9WUA+tivrYs9R0N/RL6lVXQXLLeuTiUl/Ytwqy9/iCQvWNZMD+M+B4I6i4DfLoiu94aib0tRp1XahFs0ZUSykhma0HLT+p78Olx4iakrZPp3bWMqGt6lMjBwuyaOxB3Z3lPOWGMVauyif0T0LpQ2FwsR0RQLfLGlfLkneDNk5pQ1ZGEpIYmZJ9ix40bMoC+jE4mlKKHqdLSeglUjvqt/Q4pWk/8/EZ+s8bdUnuMJF2iOcUeTc20pQ2VmQkkZCRqT216DGMpiz4kYKjU6joqrUDuoVESrb9llP0I21JFl3xeYsc5XVo9GZDfwzA2IspN6EfvYUysk/Tks7mJHN8h7aKychzJfQWQjzUe5N8rmqjQEUJvwwgK6mULLstpKMPtG98RBEzm5HcYhit18aS+B6pXT9aejxNl5w8PvMfeqOukPRM3EG6cMsIp09clGTf/3s6np/AXw2gcY2VVP+9EN0y2mTFTCIntzmRwicIm5aXn+0WISSpm0fbk9x+AK04qQtGoTqnaeVAIbbtRtIG3XZn0JbRVqTo/gPFlZrs5lDkJ41J2Xw2RT7Wl+TF+9CwOsbUZuFp3fNnE/ryt6+ihN5CYkQOw36m87rPy6JLK/sJiaMTfRyh/aWOmu4HjSF7uSMN++W8PqF+9AetELbJCEp9Qp8TSZ8IbdV8diTpq5xH8T7DqI5xG1p4upR2EtZ5d/NoYZ32NGDFSV17avfb6ZUDqa7cjkZuuCM81yb0ZiSRu9GcSF2LC22uW7CYnMhPqLGyOc0ubCzyGVaHjNssJO1HVzg+GrjPKuqbFdXDkD5WkvruZhptLyf7ASuosGoraaCwb+1GbtCd+FS8/ww43hjSBg820sjawonjlN3iCRdR9rU1NMhGTo4fhOqOSaXFiDp1E70tnMA6DveimKdCoTqNTizrR7ZCzHJCzxgrTyUTejXd8hpAlsJB45+/P+/PTPMo9dxOWv3l+zSsRzOyM5GSRDiA1Gg6hn69IA5XpV2hb/WFfqAX5Z38nFrJa9HoLUWuQeWl0rmdq+nL94dRj2Z2ZCIVThykNajpmF8pf9W6AV2o/2fRRVcWQ//SJlJvbRQLGHu5KkzohafZp5dQZ3M5NZiwje4KScHzJfQycp5xuOBH4aoLi6m93IwG++qux+tkBI0iyxJXsFt9cVqI1Hx5dPLzViSvJaxXCLes3ZOERLIJfbDjKt24cUN8XKND89oIy4yhYCER0SUr8qY091g540SaPw0TPqvdovNFPkuo4+VvqKNQxwG/3hWeVZzQH58rnJBYdaKPfg2li6naz1NR1tMsXbKuVdoV+vK2r8KEXu5Cs44Ubpcq7gfqrjChYeu1jZ5G/sMsSPHaUrpapL6qi0uogzw/oT9Oc5sJ+7nTR/Rr6EXSVzmLnmYV7MgS9OuUt1tE54s3FH3TUU5mA34VnugTennTuVRek+ccn0vN5FbU6aNfKfRiqq5fqLKeUv5HVzg+GrjPKkzoK6iHIX2spDT/YULd29Gi4o1El7/pSHKzAfSrEEQV7z8DjjeGtEFGAv2+by/9UfSqV9ZZWii0o+XIzcKnCIuUEiOPNrwpnFy0pyUXi3SenBM0vzlfoWeMla9y96FXx2NzQDhyX5uISe0UYmFlyWDTajCmLf4F2w5fQkrqDRz+dRqap27GzGk/4Wqpc1klUDZpDleZ+FQgc3WFk+wJbiakiiUCmQ1aDZ6Gxb9sw+FLKUi9cRi/TmuO1M0zMe2nqwXzQCVKF7g1L7oyJzRpqERGUrxYwNhfT+k+F6vnt8ODDbMwP+Su/gfjlSaFjX2dwh+XG8lgJDGDtbWJWCAsIRPKhPML3WmGlkSJJs1dhUjNJ4OrqxNkT24iITUPaXFxuJ93DWuGusLZ2Vl8NEGf5WeR9yQZSffFmkpsUMe+SJyVoEpJQFKWGVxaOBf5LKGKDVugqVUubiUmiyXlUaDjrO8xu/UtrH2/H9zq2qBBh6GY8eNeXHn2hwF65W5fqQNQcZLawnYV/kJWYmws1EIDtVrYblUirsdnwaKxKxyL/IjWyKkFXGrob1UKRUfM+n42Wt9ai/f7uaGuTQN0GDoDP+69UspvGQSqFCQkZcHMpQWcizcUWjS1Qu6tRLFA2+R1UE6TCx89C9/Pbo1ba99HP7e6sGnQAUNn/Ii9RRqrvPGxavZZRfXQGN7HCqiQkpCELDMXtCjeSGjYoimscm8hMf/GCOXtP31Juccbg9rAtAHatrHGZe85mDRqEHq3d4W9TQd8fUYFTUGgCYrFiBrJcYnIMGkktHeRzqNogeZN5EKtGGOsbJVK6DW3dmN3NNB5+Ag4FRlvDJJzGAs6NUT7fx4p9uMvqXlDdJ/0b/w4xRV5p0/gdPHfwRbQ5OXqfzCbLysTWRoJjM1MhVUvQKeG7fHPI8XWDPOG3THp3z9iimseTp84rftRm44mD7m6Hwbmy0ZmlgoSU1PxOWOvAiXc567GvHYPEDjrn9jzsEgikI80ukv9eoTsnNwiz/VkQsJeORrk5RaLNiHcsqCRGMPMVAKZXFifojuWxtxFampq8UfKTkyrnz+sSCEtZ4SRKBVQSFTIzi6RRKsykSkEq0Jh2EUDqf1ALI2Iw83z++H73QfoY5OIHYtGwmOCn7hESeVvX8WE7SprMeFkQdgs5GZlF/8hqSob2ar8PSOF/cCliIi7ifP7ffHdB31gk7gDi0Z6YIJfKQmxsE6FQiKsosQ6hSQ2U99Q4nOB0ODlDupSewxcGoG4m+ex3/c7fNDHBok7FmGkxwT45Se85YyPldpn5fXNCupheB/LJyThwmdLtO38TNUyhbFfqLfQhnrl7D9ReccbQ9pAkxSAsR164EPvc8izd0f/KYvhHxGORZ3k4sL5iseIibESkrxsZBX7fbAKKqHvlIxrxhgrqtyxv6THRw7jlLoZevauV7k3asmboFHthzgXuBrbSt5CUpOGG3EPAIcGcCw19yDkno3C0YKLSBrcOxSGM5om6NC+trDqRqj98BwCV2/Ds6u+Af2qHQuuplDuGRyJTBefCR4cQthpNZw7dBYLGHtFKN0xb/U8tLsfgHkrTguH9kImJiagRw/woKDPp+Pc+XghOl4Q5eJs1NHCq8WaezgUdgaaJh3QvrYMVu7ucKYYHD6ajVo2NrDRPSxwK2gBZi7cgivFksGyGdVvhzZ1chD9WyjSxDKth2GhOJFVC26tG4ol5dCkInTZFExecRI13DzxzqfL4L03Ghun1MfD6ChxoRLK3b5Kj2zFGTmhY1t7ZJ06jKgidz15elQYOzP0/9akhmLZlMlYcbIG3DzfwafLvLE3eiOm1H+I6KgY/UJFGdVHuzZ1kBP9G0KLNxRCT2ShlltrsaAiGqSGLsOUyStwsoYbPN/5FMu89yJ64xTUfxiNqBh9Clve+GjoPiu/b1ZUD/Vz9DEj1G/XBnVyovFb8UZCWOgJZNVyQ2uD/xpZ+cebitvAEbdDfLDzbmvMDwmF/8rFmDt1FPo1vofrCWrhPKesCDWCQ8d2cFSdQlhYkTWnRyLqbPETUMYYK6kSR69cXDh9URgY26Bdk1KybnUsdixbiK8Cz4oFJUjrYuyieej8NAgTO/fEhM9XYF3ABqz/ZSlmDumFD3YYYeD8j9C5yAWeouj2BswYsxibwiKwx2s2hs/cDqM3PsX7bWXCqsdi0bzOeBo0EZ17TsDnK9YhYMN6/LJ0Job0+gA7jAZi/kedUbBqdTLWfzgSn/vvR9ieXzF7+MfYoumPOR+0Fxdg7NWhdJ+H1fPaI+NOapErtEq07ewORcw6zP8mCBFHDsBvwRgsCssrnF7z3Ai3N8zAmMWbEBaxB16zh2PmdiO88en7EMINivZTMft1JULnD8LE5ZtxMDIMQcveweh5/vhD7YAGZcTwM5S9MH1Wd2Ru+ggj5qzDPiHJPuAzH29OC8CTjjMww9OAv9MptYLF42gEfjkVU1Zsx+ETJxAe9AN+3JOCml08xIVKKn/7XowSvabPQJeHPpjy1hfw3xeOfX6f4833fZCkzeMk2ipb4HF0IL6cOgUrth/GiRPhCPrhR+xJqYkuHm30qylGu85Z6J65CR+NmIN1+4Rk84AP5r85DQFPOmLGDE/9YhWSwsriMaIDv8TUKSuw/fAJnAgPwg8/7kFKzS7waCNePS5vfDRon1XUNyuux/P0MWWv6ZjVPRObPhqBOev2IeroAfjMfxPTAp6g44wZMKQ75SvveFNxG9SAub09LCkOBwN34eTlyzhzyA8LRn2CoHuEvJzs4lf/i1B0+RCzeudg04fDMXvtHoTt88Vnb36IgJQiJwEVHWsZY39P4lx6He3TEkVFPNX/6Krdvyim6C+B8mXvpckORqQc4i8WlO7x+Q30+ds9qJmDJSllMlJa1qXmHuNp0faruh8K6Tzzo1hLMh+8hH55vys51lCQ0roxeXywjs4W+T2ssGY6v+FzertHM3KwVJJMpiTLus3JY/wi2n61YM36H0UpOtDUJZOoq2MNUpraUNM+08jrj9Lum8DYy1FqrJX4UWwx2adpcWdzkhT9S7FZlyhgem9yqWVMClM7chvyJW37eQzVti76o9j8ONJTXf6WOilsacLOwp/XZW0bSzUVXWn5dfFHo5bmNHjJL/R+V0eqoVCSdWMP+mDd2eK3QHx8lnxn9KdWDhakkMnJwsGdBs/fQlfzf3yu/cGfoietqOjPbarT6Pc1U6lPUztheSXVqOtGntNW07GCWxNW9KNYQdZl2jh7ALUWxhRtXczsmpLH5FUF63jmR7EVbF+FP4rNX5dInfIT9RHWM9g3fw1qun3wG3qrnYOwfgVZNuxB7//fLOouLDNwnX6cybq8kWYPaC2MVQqSyc3IrqkHTV51jMq8I6OwzrTf19DUPk3JzkwYA2vUJTfPabT62H3xx7/6H8VW/BdOs+jyxtk0oLUDWSpkJDezo6Yek2mVuB6DxscK95mgor5ZQT10KuhjpVGn/U5rpvahpnZCWyhrUF03T5q2urBdK95/Bh5vKmoDVRLtWjCQWtiZklxuSjYuPWj8t7soeFZTUjSeQRHCNpQVI+r7x2jVpJ7UuKYJKczrUttRS2iGh3Hhj2INPNYyxv5eJNr/CImFjkSin1hYpOh/TmbQKNiPT8GXlyPwaaV/CMBY1fg7xNrfkwYPb8QgxdgJTR1qFHxborq4BJ3brkKLoCT4DTEWS189PD4yxlj19IITRhljjBXSIGXDJLRtPQbeCeIEKU0aDnttRoxxe3Rtb+h8JMYYY8xwnNAzxliVkaHZxPkYVzsMH7m7okOPnujUzBUDvTIxcNlyTHDgIZcxxljV+9tNudE8uILoq3lwbNcSdZViIWN/Mp5y8z8uIwFRe/fj9xsPQRaN0OH1N9DTyVx88dXF4yNjjFVPf7uEnrFXAccaY4wxxqoKf//LGGOMMcZYNcYJPWOMMcYYY9UYJ/SMMcYYY4xVY5zQM8YYY4wxVo2V+qNYxhhjjDHGWPXAV+gZY4wxxhirxvi2lYz9BTjWGGOMMVZV+Ao9Y4wxxhhj1Rgn9IwxxhhjjFVjnNAzxhhjjDFWjXFCzxhjjDHGWDXGCT1jjDHGGGPVGCf0jDHGGGOMVWOc0DPGGGOMMVaNcULPGGOMMcZYNVa5PyyVew8Xjx3DxVTA1q0bujWvBZn4kiHSL+zD7jP3oRGfSyRSSOUmsK7fAp3au6KmQnzhJVEnHkHw0Uy0HOyJ5uZiIWN/gVJjTfMIMfv34LyqOV5/wx21Spxu594IR/DvKrgP6YdmZmJhVVMn4kjwUWS3HoJ+TV/Wh1SS5h5+X/8Lgk8JA099T3w0eyAaGomvVSfage8Vv4RS8RipRlLUVkRluGGwZ3OYq+MRsfk4VO2Go6+rsbhMcU8v7UfIxRroPrwr6lfD/aZvk2y0FuLuVQmJ6t6mjLGXQJvQ59M+LVFUIOeqP01oXoOMFJZUp44VKYwsqdXkTXQjT1ygQiq69HVHkkuMSK5QkEJ8yGVSkgjnFaaNBtMPJx6Ly74cGZtHkoWiG31/QyWWMPbXKDXW8s7TonZykhjVp3FbbpNaLM6X9mt/Uip60L/jS75ShTI200gLBfVckfjM5/81VHRjVV+ylJpSPfeu1HOSDyVUu/DNphjvSdR9UiA9FUteVRWPkVkUPMaaFN2+J90iGf40RKmg3quSy+gvKrq29DVS1BpP27PEompG3yY9aUXiqxER/wttyhireoZdL9LcwYZ5M7EhdxgCLt3B7du3cWn9YGT4fYg5gXcKrrgbRNEXq27lICdH/8jNy0Ty0X+jX95eLJi6HH+oxOUY+5si9S1snD0P2+9WKrL+R+XhfPRZZLaYhR3RUYhYOxENqt0Vycc4ujkA0ffydGdx1ZsCfb87gpO+E1CPrwwzxtgrw7CEPu8STp7LQMM3JmO4s/ZrVWM4j3gfgxs9wclj54RD7otQwr7LdCye1Ap06SAO3VCL5YDqYSyiQjbAZ+06rN8eidhHhQmO+voBrPMLR4KwTERwIIIj4/BUfA05KTi1bxP8fAKw83giMsTiApSFpBM7sd7HH1sPX0c6503sFWLethtaP9yI2XO3o+ycXoXYfV7w2nUBmWKJVvrZ7fDyPog4bRipbyDU2weH4lV4Gh+Fbf6+2LD3LFJ1J80q3IvZj42+fthy+AaeaIuKIaTHhiPIzw9BBy8hrTAsC2Un4+TejfDVxtnR+ML4E5Qbn894ioTjIQj08UFgyDHE5y+ouYNjG9fiQKywhTnXcMDrV+yPfbYi6huh8NZuc+4jXAkLgp//Fhy8+ADPLKl6iNioEGzwWYt167cjMvZRkYsRalw/sA5+4Ql4GBuB4MBgRMblVyQbySf3Cm3lg4CdRwvrp6PGjVBv+ByKhyozCSdCAuDjvxWHY9PFdWfiYkggjiVroLl5BN5eIbggDkiZyacQunW9sHwwDl1IRa6+uFxPE44jJNAHPoEhOFasIuXVvxTPPUYS0q5F43hMCnLEkmeo03DxYBD8he06ItSheBd+We1cnjL6l1aRGMlMOoGQAB/4bz2M2NIOCpSO2HChf/kF4eClNKFGzyp7/4jK64Pq6ziwzg/hCcIyEcEIDI5EQdOU26aMMSYQr9TraJ+WKNJTxdFKDzMyfW0JnRW/4ss6/y11MzOhbsuvkGHfgItTbpSetCZVLCqQR+e+aktyef5XvXl0xXc8NbOQU426LtSiWSOqpZSQzNaDlp/M1r0jI3A4mVu5U7fWtcnWyYnquEyhvU/U9CBiMf2jnjHJLRzIxcWBLOXG1GDoT3ROqLfuq1O5M/Xo60JWVo7k6mJPZkZychj4E10weOoQYy+u1FgTp9xYvb2Bji3pTOYyR3pn652CqQzFp9xkkP8QJSl6r6LkgpkA4lfxVqNpS4bwVDt9xsqKerw9jBpb2ZCTiyNZyY3Ipu83tO7LHlTXyoEaN6pNSqkpNZ+xj9K0q9BNuZGTS08PamRuQQ6N6gnvkVHNDrNoV0rhlIPH0StoqJMpyc3tyNmlIdVUKsmhzyIKv69fpvT41L1UjPpuKH3Zqy4p5JZUz8WF6lvJSWHvQV+ECtsttMdPY3qSm52cpFZNqFOPvvT5b/r4L0ob15Y1XqPhgxuRpa0LtW5el8zlVtR2+na6JVY574ovjW9mQfIadcmlRTNqVEtJEpkteSw/SeKIQoHDzcnKvRu1rm1LTk51yGXKXnryOJpWDHUiU7k52Tm7UMOaSlI69KFF4ffF/ZJBm0dakVWvcTTSRfh/vSbkbGtCUrkDDfr5kjCSPaBts3qSay0pGdVuRt16z6Tg1Fy67juKnEyUZN2wGbXQjkMyM3KduIHiyxpM1Xcp9MteVFchJ8t6LuRS34rkCnvy+CKU7ugqUkb9dW8u6kXHyPKn3KiTttP0dtYkU1hR/UYOZGHRmDy6O5O8YHrIy2rn0pXbv7QLiDHSa9xIchH+X6+JM9maSEnuMIh+vqRfq75NXKinRyMyF9qsUT2h7WU1qcOsXVQQEhXuHwP6YEYgDTe3Ivduram2rRM51XGhKULQVNymjDEm5BXi/3XKTOgFWRd8aFLb2mTVuCu93r87uVhbk9u4NXTG4EmhZSX0OXTn+Coa5igjZbtFdEY7hj7YSCNrC0nFlN0Fg2H2tTU0yEZOjh+E6gY/bcJgJpGT25xIeiQ8z8sT3vg0lKY1klNNj6/p2APtG9V097cZ1FJZg/r9N4GeaAdmiRE5DP4vndMd6XLo6n9fp5ryxjTzcI62gLE/RbkJ/egtlJF9mpZ0NieZ4zu0VQyC50roLSRkVO9N8rmqjRoVJfwygKykUrLstpCO6mLkEUXMbCYkd8No/cPC90jt+tHS42m6pOfxmf/QG3WFpG7iDtIuQhnh9ImLkuz7f0/H8xP4qwE0rrGS6r8Xolum1PgsSUiCNo+2J7n9AFpxUruU4NFpWjmwLsntRtIG3XZn0JbRVqTo/gPFlZHs6hIuiZRs+y2naN1qsuiKz1vkKK9DozffF54/oI0ja5NcOKnYXTig0JpBNiR3/IBC9dmUkGiakUTuRnMidTUW6pxB4Z+4kNK+P31/XEwsM65SwLjGpKz/HoXoG0NINC1IYuRAw34+T7pfAWVdopX9hITO6WOK0A0rqbTGU0hQB/vqE+ycSPpEaKvmsyP1ywufFe8zjOoYt6GFp0tLTYVxbPNospfb04AVJ3Xtqd1vp1cOpLpyOxq54Y7wvLT66xYs7oXHyHISenUqbXrbTmjT4eQVoz0wqCntxDLqZyslabGE/mW1cwmG9K/8GHEYRj+f1++NrEsrqZ+Q+Dt9HCFsvXYRff+y67eUjqdpa/eYzvznDaHtHWjiDm3lDNk/BvRBbUJvJiG52xzSN43QNga1KWOMGTqHHhm4HLEXUTdyUbt+fTjUa4AGNoRbZ6JwMj5bXMZAuRGY19wWtrb6Ry1LCzh0mYF9+Ae++flTtNHeNsf4NcxZvxOBi/vDTqyhsl5nuDsC6WlFvuqUOaP/iE6w1P5TJkPOkSCE3HLE2K8+xWs1tW+UwrbPVwjcswVfD6iln18kc8LIuZPRSncHBwUaDxmA1pJkJCYa8oU3Y38SpTvmrp6P9mkbMXv+TqQ+93fsRmg4/GOMcVHq/l2va2c0NjJBz8mfoIsuRizRoWsrmGbfw52CeTUyuE1ZhjmdrXUxU6PNNCx6txlSd23GwadAdngAguIdMWTqYNimJyAuLg53ZJ3w7vBmuLNzEw7lz98oEZ/PSD+ATXvuo9XUpZjeTruUwNId03/4CO5pexCw676+zBCy5pj0zSx00K3GGK7jFmJSqwfYFxyqe/7anPXYGbgY/QsHFHTWDyjFphPJnPtjRCddjSFThSMgKB6OQ6ZisG06EoTtjLsjQ6d3h6PZnZ3YVLCh2veNxOz3WqKG9omxCwZ7toTk9i3cLPU3QXLI5RqkHN2MzQcv4V6uDA3Hb8D1h6fwL/fS7huWjgOb9uB+q6lYOr2drj21+819+g/4yD0NewJ26Uq0itW/lFW91DHyyUEE709D6ylL8J6b9nYwUlh3+gRL3m0q9Lzi/pR2Nrh/yeA8cjbea6lbq7DawfBsKcHtWzdRsFqZG6Ysm4PO1rqIQJtpi/Bus1Ts2nxQeG7I/jG0Dwp16T8C+qYR2qYSbcoY+3sTR5byqS+twkdz98Bixm84HbYRa73W47dTBzDTfAdmvr8SF0ubTFgWWWMMmvslvvxSeCxciCXL12DjgTOIu7oHczqI9wQzbYC2baxx2XsOJo0ahN7tXWFv0wFfn1FBo7u4KZLYoI594VHrcWIi7ksaoqmrXCwRSGuiZR9PdGwo3oNN+546hUOhVKGAQqJBbi7/Gpe9WpTuc7F6fjs82DAL80PuPue8WSls7OsUHvyNZDCSmMHa2kQsEJYQEgcjaL+tEwskSjRp7iqkFvlkcHV1EpKLm0hIzUOakHDdz7uGNUNd4ezsLD6aoM/ys8h7koyk+2JNS8RnSaqUBCRlmcGlhXORzxKq2LAFmlrl4lZislhSMYnSBW7Ni6xFSEqbNFQiIyleeGKKBm3bwPqyN+ZMGoVBvdvD1d4GHb4+A5VG2G79O3QkNnWQX2VNmpBY3s/DtTVD4Vqwnc5o0mc5zuY9QXJS4QmHpLbwvoJGlsDYWCGsQA11aTtN0RGzvp+N1rfW4v1+bqhr0wAdhs7Aj3uvlPJbBoEqBQlJWTBzaQHn4g2FFk2tkHsrUSwoXv/SvMwxUp0ch8QMEzRq0rBIsqlAi+ZNINffpbXAn9HOhvcvCWrXsS+ss8QY+tWqC2JOomyC5q5F1iJzhauTDE9uJhi4fwztgxLYCHXJX01l2pQx9vdmUEKfdeoEzqpaY8S49vorI1rm7TFpdHuoTh/GsUdimSGk9dD93Y/x8cfCY/p0fDh1It7q1xr2RW5hrEkKwNgOPfCh9znk2buj/5TF8I8Ix6JORQ5COlJIi2yBQqkUSvKQXexLAw3SEq4iOT3/6lLx9zD26lLCfe5qzGv3AIGz/ok9D4umniLSFEkGCNk5ucUSVK1Sr46XS4O83OI/dc/KzIJGSHTMTCWQyYX1KbpjacxdpKamFn+k7MS0+vkBVn6sSZTaRFElxGuJKwKqTGTmCB8hJJIG0+SheL6ZjcwsFSSmptoBBQFjO6DHh944l2cP9/5TsNg/AuGLOqHkiKKtcEGVZXIhsVKg+9IY3C25nakp2DmtvrigQHif4fmVFPYDlyIi7ibO7/fFdx/0gU3iDiwa6YEJfqWcxAgnWAqFBCphYCveUipk6htKfC4oWv9SvNQx0sQYSomw7qziV/JVKlXhyWK+P6GdK9O/pNIK1qrtX8VCIkvoXxoh9zczbP9Uog9KizZ+ZdqUMfa3ZtCwLbO0gjnu4fadokdMDR6kPQKZ1ICF9tv8KqPB7RAf7LzbGvNDQuG/cjHmTh2Ffo3v4XqCWshfyr5OadamDVxxAVFH7glrEeWewg+DWqHD7FDhEM9YNaN0x7zV89DufgDmrThdOAVAYGJiAnr0AA8KOns6zp2PL+z7z4tycTbqaOHVYs09HAo7A02TDmhfWwYrd3c4UwwOH81GLRsb2OgeFrgVtAAzF27BFQO/7DKq3w5t6uQg+rdQpIllWg/DQnEiqxbcWjcUSypGuWdwJDJdfCZ4cAhhp9Vw7tAZmtsh8Nl5F63nhyDUfyUWz52KUf0a4971BKiFE6Ky2ktq5Q53Z0LM4aPIrpW/nTawuBWEBTMXYouhG6pNkLX5opiAaVJDsWzKZKw4WQNunu/g02Xe2Bu9EVPqP0R0VIx+oaKM6qNdmzrIif4NocUbCqEnslDLrbVYULGXOUYaOXREO0cVToWFFdmf6YiMOlvundCqrp2Lq9r+dRZRRwu/P9HcE/rXGQ2adGhv0P553j74vG3KGPv7MSihN+75NobXT4TfvM+x84Z2PmMObh76BrN/vog6Q8egr6lQpI7FjmUL8VXgWd17np8U5vb2sKQ4HAzchZOXL+PMIT8sGPUJgu4R8nKyyxzIZC3fw8yBCuyeNxr/9DmAqMM7sHLqFKyOd8Pk9/ug9L9jyNirTek+D6vntUfGndQiVwCVaNvZHYqYdZj/TRAijhyA34IxWBSWV+Sr+edFuL1hBsYs3oSwiD3wmj0cM7cb4Y1P30db7cX59lMx+3UlQucPwsTlm3EwMgxBy97B6Hn++EPtgAZFLhiXS9kL02d1R+amjzBizjrsE04iDvjMx5vTAvCk4wzM8KzEn+VUJ2P9hyPxuf9+hO35FbOHf4wtmv6Y80F7SM3tYW9JiDsYiF0nL+PymUNCW43CJ0H3QHk5yC5rQFG0x9TZr0MZOh+DJi7H5oORCAtahndGz4P/H2o4GLyhJqhhroD68j54bYrAdbkFHkcH4kthbFqx/TBOnAhH0A8/Yk9KTXTxaCO+pyglek2fhe6Zm/DRiDlYty8KRw/4YP6b0xDwpCNmzPDUL2aAlzpGKrrgw1m9kbPpQwyfvRZ7wvbB97M38WFASvknmVXWziVUZf+i29gwYwwWbwpDxB4voX/NxHajN/Dp+22FFyveP8/fBw1pUzVidyzDwq8Ccfb5zn0YY/8LdD+NFWmfligq8PiPVfR2CysyksrJ1NyYZEYW5Dri33RcdwcCQfZemuxgRMoh/mJBSeXdtrIEVRLtWjCQWtiZklxuSjYuPWj8t7soeFZTUjSeQRHa26tp76JR2l/ve3yGvD/qR83szIT3mlNd92G0cHei7rZmursVlPwriKlryFOppAFr8zeEsZev1FgrepcbsahA9mla3NmcJEX/UmzWJQqY3ptcahmTwtSO3IZ8Sdt+HkO1rYve5UZB3b6/IUSfnuryt9RJYUsTdhbeHiNr21iqqehKy68LS2nfY2lOg5f8Qu93daQaCiVZN/agD9adLX4LxMdnyXdGf2rlYEEKmZwsHNxp8PwtdFVcbZnxWZI6jX5fM5X6NLUTlldSjbpu5DltNR0T754jrMmwu9woOtDUJZOoq2MNUpraUNM+08jrj/yYVlHSrgU0sIUdmcqF8cvGhXqM/5Z2Bc+iporGNEM7oIh3X1H0XEHFq/yYzvrOoP6tHITPkOlu9eg+eD5tyd9Q8e4rBXd90VFTyk99SKEcTL66RlPTnZCZ1MHWmKSypjT3eA5lXd5Iswe0JgdLBcnkZmTX1IMmrzpGBZv9DDWl/b6GpvZpSnZmClLWqEtuntNo9bHC2zqWXv9SvNAYWcFfilXfp2OrJlHPxjXJRCGsu+0oWjLDg4xL3OXm5bRzKSrqX6XECKlT6Kc+QhuLdyXStoml+WBa8sv7uv6lUFpTY48PaN3Zoh9a0f4xoA/q7nJTyl9prrBNs2nvZAcyUg4h/2cGDsbY34VE+x8hsdCRSPTzCIsUFad5ipsxZ3HtAaFm4zZo5VjDsEv8jLFiKow1ZrDMoFGwH5+CLy9H4FOnF/9+gjHGGKtuKpePS81Rv3U39O7dHW04mWeMMcYYY+wvxzk5Y4wxxhhj1VjlptwwxqoEx1rV0Ty4guireXBs1xJ1q/SOW4wxxlj1wAk9Y38BjjXGGGOMVRWecsMYY4wxxlg1xgk9Y4wxxhhj1Rgn9IwxxhhjjFVjnNAzxhhjjDFWjXFCzxhjjDHGWDVW6l1uGGOMMcYYY9UDX6FnjDHGGGOsGuP70DP2F+BYY4wxxlhV4Sv0jDHGGGOMVWOc0DPGGGOMMVaNcULPGGOMMcZYNcYJPWOMMcYYY9UYJ/SMMcYYY4xVY5zQM8YYY4wxVo1xQs8YY4wxxlg1xgk9Y4wxxhhj1Vjl/rBUzm2cO3IC1zIs4dKxK1rZK8UXKqZOikJwZDxyy/w7OhIoGnXFa/gDURluGOzZHObiK2XRrnNrVAbcBnuieUULl0sjPPjchv15no01NZKighEZn4uyQ0SBRl07An8cR4bbYHhW2Om169xqcDyV65UMETUSjwTjaHZrDOnXFGZiKWOMMfZ3Y3BCn3HmJ0wYOR/bE6SoaS1FeoY1+sz3gf8XHrAx4ECfve0dNByzGQ/FVZM6DyqNFDK5kZDKa0lgNdIXqzUfYkzSAlyO+BRORroXypS9dSzqjknCgssR+LSihcuQc8EHH314FL33rcUYzgjYn+TZWMvGtncaYszmh2JCT1DnqaCRyiA30i8LiRVG+q6E5sOJSFpwGRGfOqH8Xp+NrWPrGhxPpcvBBZ+P8OHR3ti3dswrljRnImiUPcbf/ReuhX0CRz4nZ4wx9jdl2CEwOwqLxs3BHtlI+Mfcxb3UVFz26YukZWPw4cbbuot3FTEe7o872TnIydE+0rF9gh1k9aZg7+P8smzcXT8Sfb87gpO+E1Dv+fLzSnt8dDMCou8h79lzGMb+RMYY7n8H2bpYEB7p2zHBToZ6U/bicX5Z9l2sHzkA3x05Cd8J9SpI5qvKYxzdHIDoe3llf3PAGGOMsb+UQQl9zrFNCL5WE299uxJjm5oKJUo4j/weXwzMxe5fNiBBrV/uxRHSrkXjeEwKcsQSnZwUnNq3CX4+Adh5PBEZYvEzNA/wxxYvrPE9hLhcsUyQnXwSezf6widgJ47GPxVLgcyLIQg8lgyN5iaOeHsh5EKZa2bs1UBpuBZ9HDEpRSMkBymn9mGTnw8Cdh5HYjndWPPgD2zxWgPfQ3EoDJFsJJ/ci42+2vcfRWGIZOJiSCCOJWuguXkE3l4hKC1E1DdC4e1zCPGqTCSdCEGAjz+2Ho5FesGZvgqx+7zgteuCsMZC6We3w8v7IOK044f6BkK9fXAoXoWn8VHY5u+LDXvPIlWlXVKFezH7hfr5YcvhG3iiLSqB0mMRHuQHv6CDuJRWyoCUnYyTezfCVzuGHI1H4SggfPT1A1jnF46Eh7GICA5EcGRcsdcZY4yxV552yk0+7dMSRTpPA4aRqbwLLbumEku0cuj3+c1Jbj2GgrPEIoNl0e736pC8/gcUmi0W6WRR8BhrUnT7nm7oPkpNDyIW0z/qGZPcwoFcXBzIUm5MDYb+ROeEz8wKHkPWim70vXZhdRpFLuxK1qYuNHFjHOXp1veYolcMJSdTOZnbOZNLw5qkVDpQn0XhdF9N9GDbLOrpWoukRrWpWbfeNDM4Vfcuxl62smKtQNZueq+OnOp/EErFQySYxlgrqNv3N0gbIuoHEbT4H/XIWG5BDi4u5GApJ+MGQ+knbYCUiCd1WiQt7GpNpi4TaWOcPkLocTStGOokxLc52Tm7UMOaSlI69KFF4fe10UfbZvUk11pSMqrdjLr1nknBqULglJCxeSRZWfWicSNdhP/XoybOtmQilZPDoJ/pku5jMsh/iJIUvVdRcsHbVXRt6WuksBpNWzKEpxmbaaSVFfV4exg1trIhJxdHspIbkU3fb2jdlz2orpUDNW5Um5RSU2o+Yx+l6daRQZtHWpDcpSd5NDInC4dGVM9KTrKaHWjWrhSh/nqPo1fQUCdTkpvbkbNLQ6qpVJJDn0UUrh0EBBmBw8ncyp26ta5Ntk5OVMdlCu19onuJMcYYqxYMukIvq20Da9xGUlKeWKKVhcTEVKgz7uPeY7GoqmWE4Yt3l+Bkky9wOD4JV68mIXbP+7DY9xk+9U4snOpDj/H7shEY/sM9DFm3H7++3QgyoTgzYiHG/fN3uP4rEgkp13E1/ibOr/NA4nfvYN6eR6g57N/YMqs95LIumL/vEFaOsNGvj7FqIQNhX7yLJSeb4IvD8Ui6ehVJsXvwvsU+fPapNxKLzIWjx79j2Yjh+OHeEKzb/yvebqSLEEQsHId//u6Kf0UmIOX6VcTfPI91Hon47p152POoJob9ewtmtZdD1mU+9h1aiRFl/GBGk34E4XmzEJl0E7HXE3Hq372Qsf97/Hy0yFdlFdGk42iUET7//SZuXI3D2Z88kRf2JWaH98KWG0m4FncdBz5ugGu+XkLdxPcIVNevQDY1FAlJcbiZFI1/d0nGTx8swC7tMpkRWDjun/jd9V+ITEjB9avxuHl+HTwSv8M78/YgfzWUfgGP+m5D7I0buHlxNfq/0C+IGWOMsT+XQQm9suubGFT/FgI/X4i9SdoDdC6S936FZbvTtD/dg0ZjyCz6yss5EoSQW44Y+9WneK2mtqpS2Pb5CoF7tuDrAbXEymfhys+jMPSrWPT4776CZF47jSA8IAjxjkMwdbAt0hPiEBd3B7JO72J4szvYuemQbinGqq2cIwgKuQXHsV/h09dq6uJBatsHXwXuwZavB6BWfnRnXcHPo4biq9ge+O++/GRekB2OgKB4OA6ZisG26UiIE2Lkjgyd3h2OZnd2YtOhSkxBkzlj5Oz30LKG9okxXAZ7oqXkNm7d1M2ZMZARGg7/GGNctHfPMkK9rp3R2MgEPSd/gi66+LdEh66tYJp9D3eKTKuRuU3BsjmdYa1dpEYbTFv0Lpql7sLmg0+FTQxAULwjhkwdDNv0BGEMiMMdWSe8O7wZ7uzchIJNFOrff0Qn4ROEf8rE9mGMMcaqifxDfvnM++Bbv6/Q/uaPeKNxbdjWsUPzaVfxxmQPKGXmMDczbDWV9TgxEfclDdHUVS6WCKQ10bKPJzo2FC+hqU7B+z+/I0t+D5fOJBTOr9ekCQfv+8i7tgZDXZ3h7Cw+mvTB8rN5eJKcJC7IWDX1OBGJ9yVo2NQVhREiRc2WfeDZsWHBbSpVp7zxn9+zIL93CWcSCpN0TZqQwN/Pw7U1Q+GaHx/Co0mf5Tib9wTJSffFJQ0gqY069oU/05UYG0MBDdTqypzsS2FjX6fwx75GMhhJzGBtbSIWCEsIybYRCEXuzQVlk+ZwLZKDy1xd4SR7gpsJd5AmJPD3865hzVDXwjHAuQn6LD+LvCfJSLov1k9iI9SfE3nGGGPVk4GZuBTW3T5H6JWrOLbTD15+B3Hp6i4Ms0gD2TdAA8NvR18pCqVS+OQ8ZGeLBToapCVcRXK6+FW+tB6G//o7Dn3RHrd++Rj/Opz/kzkZ5MLxWdF9KWLupiI1tfgjZec0cTnGqimFEkohgvOKB4iQqCfganJ6wY9epfWG49ffD+GL9rfwy8f/QmGIyIUoUaD70hjcLREfqakp2DmtvrigIaSQinfXLBNpdD8c0CNk5zx7z/3nuTquycsVRokisjKRpZHA2MxU2ETdIIClMXdLbJ/wSNmJafXzh0Ch/i/nugRjjDH20hl0CNM82IfFY8fj+7N10Ln/MAz1bAcH+VXs2ncZFp17oK1CXLCKmbVpA1dcQNSRe4Xz5XNP4YdBrdBhdih0aYy0ITp3b4J2s1Zglls8Vn+8BEe0t6iQWsHd3RkUcxhHs2vBxsZG/7C4haAFM7FwyxXtu4WDuDYLKZlWMFYNmLVBG1fgQtQR3CsMEJz6YRBadZiNUDHPlzbsjO5N2mHWillwi1+Nj5cc0d3FRWrlDndnQszho8iuJcaH8LC4FYQFMxdiyxXtdBkxUX/BEDExMQE9eoAHBfVMx7nz8Qbd8rZ8hNyzUThacOsbDe4dCsMZTRN0aG8LK3d3OFMMDh/NRq38McDGAreCFmDmwi3QbSJjjDFWzRmU0Etr1ETW+SAsXfh/OP5ADWQnYv9X07DiYlO8P30gdNNm1bHYsWwhvgo8q3tPVZC1fA8zByqwe95o/NPnAKIO78DKqVOwOt4Nk9/vA2NxOR3jjpi34iM0iV2FGd8cQwYUaD91Nl5XhmL+oIlYvvkgIsOCsOyd0Zjn/wfUDg10bzOpYQ6F+jL2eW1CRGwl5gwz9leTtcR7MwdCsXseRv/TBweiDmPHyqmYsjoebpPfR59iAaINkXlY8VETxK6agW+OCX1d0R5TZ78OZeh8DJq4HJsPRiIsaBneGT0P/n+o4dBAe6ZughrmCqgv74PXpgg8X4go0bazOxQx6zD/myBEHDkAvwVjsCgsr0rupU+3N2DGmMXYFBaBPV6zMXzmdhi98SnebysTNnEqZr+uROj8QZi4fDMORoYhaNk7GD3PH3+oHaDbRMYYY6yaM+xLZkUnzP/5K7S/tgRd65jDzMoZQ300GL12MxZ2FrMG1Q3sWfUtlm2J0T+vCkYNMdFvH34ZIcPuz0agd7/x+P6cE2Zu3o6FnUpkKwLz7l9gxWRHXPzxYyw9kQkjp8kIPLAWExzO4T/vD0Sf16dg1TVXfBy4Byv7W+veY+zxDt5zf4ydc8dj2toqrDtjL50RGk70w75fRkC2+zOM6N0P478/B6eZm7F9YafiJ7w65uj+xQpMdryIHz9eihOZRnCaHIgDayfA4dx/8P7APnh9yipcc/0YgXtWQh8ixvB45z24P96JueOnYW1MJe5aU0D4nKn/xS8fuCJu1QR4vj4BP1zqhOXfDoJFRdN0KiSBSf/PMK/ub5g/1BMj/rkH8uFrsM9/AhpqzxaMnDA58ADWTnDAuf+8j4F9XseUVdfg+nEg9qzsD/0owBhjjFVvEu29K8V/l/Ln6EvIuYtLpy7hnsweTVs1hd2zGQNjzAAVxhpjjDHGmIEql9AzxqoExxpjjDHGqgrf14ExxhhjjLFqjBN6xhhjjDHGqjFO6BljjDHGGKvGOKFnjDHGGGOsGuOEnjHGGGOMsWqME3rGGGOMMcaqMU7oGWOMMcYYq8ZKvQ89Y4wxxhhjrHrgK/SMMcYYY4xVY/yXYhn7C3CsMcYYY6yq8BV6xhhjjDHGqjFO6BljjDHGGKvGOKFnjDHGGGOsGuOEnjHGGGOMsWqME3rGGGOMMcaqMU7oGWOMMcYYq8Y4oWeMMcYYY6wa44SeMcYYY4yxauz5/rBU+gXsi8xGu4HtYVvilED98CqOHjmPVKkD2vbsDKcalTlnyMH1sK04nqwWnxcnMXdF3yEdUYdPQ1g1V3GsPcWl/TtxOt0R3d/sjgZGYnE1ohEeLzVU1UmI2hqFDLfB8GxuLhYW9/TSfoRcrIHuw7uifhltqLn3O9b/EoxTqUB9z48wd2BD8ZUXpcG939fjl+BTSEV9eH40GwMb/jk7Up0Uha1RGXAb7IkymuYVl44L+yKR3W4g2pc8yOTcxrkjJ3AtwxIuHbuilb1SfEF4KT0VDzPVKC2qJMbWqGNtLD6r3LFK8+AMdu+/gHRtp9YS4tdIUQN1XNqjcxsHmIrFpVMjKWorojLcMNizOQp2R0GAlPF6GdSJRxB8NBMtK7Nvtcfs3Wdwv0j9pVI5TKzro0Wn9nCtqRBf+GsZEq+MsTJoE/p82qclip6lvkMhU1zIxGUWHckRy3TUdHvvXOpUS0bGNe2ptqkRye160MLwB8IrhkqlNZ5KkkjlpFAonnmYNPmYwrLFRRmrxiqKNXXKWnrD0oikMkeasveJWFpNZMeQ96TuNCnwqVjwkmQF0xhrBXX7/gapxKLiVHRt6WukqDWetmeJRSWpbtCqvpYkNa1H7l170iSfBPGFF6e6sYr6WkrJtJ47de05iXwSSq/ly5AVPIasFd3o+xt/3mdWHTXdCZlCLiYuNKv4QYaenl5FIxqbCnFhTrVtLEhu2oBe/1cYpeoOMlm0Z5I9CTlyQXwVfShf99Kt43mOVTnH51JTmYSM5PnHIzkZSSUEiZzq9PicQu+Wd5TLouAx1qTo9j3pd0c2xXhPou6TAkkfISVfL1/G5pFkUcl9q7r0NXWUF62/8JDLSCoBSUwb0eAfTtBjcdm/jgHxyhgrU+UuoOVcR9BH/TF+XSzyxKICaTsxf8pK3Ou/HpdSUnDv7ims7HQD3723AL89EZcxkKz9VzibmYOcnOKPzNj/wKPwYgxj/6PUSAwKRITp6xjS6T62eYfgXv6Vterg8VFsDojGvTxtHvUSKfriuyMn4TuhHp77Yl7eeUSfzUSLWTsQHRWBtRMbiC+8uLzz0cI41gKzdkQjKmItJv6JX7Mo+n6HIyd9MaFedbvMmYPrQR+h//h1iC15kMmOwqJxc7BHNhL+MXdxLzUVl336ImnZGHy48TY0UKDz3GCEhYcjvOARhs1zX4OlvAFGTPDUr+d5j1UScwxf/1A8HuVClfUAl4Knwv7kMnzwdSSyxcWepUDf747gpO8E6HfHYxzdHIDoe3m6M41nX39ZhM9ZdavwmJqbh8zko/h3vzzsXTAVy/9QicsxxqojgxN61WXh4NCxI97dZ4c3+tR75o0Pdvlhx/2O+GDRW2ikTbrNW2Pq/81Ah5Rg+Ox9pF+oSqnwMDYKIRt8sHbdemyPjMWjgqRHjesH1sEvPEFYJgLBgcGIjHsqviYcF5JPYu9GX/gE7MTR+MJyxl4J6qvYsOEYlD3GYcnoLsjZ743NSUUzejVuhHrD51A8VE/jEbXNH74b9uJsqv6ArLoXg/1C//bbchg3SklQniYcR0igD3wCQ3CsWP9XIXafF7x2XUCmWKKVfnY7vLwPIk47E059A6HePjgUr0Jm0gmEBPjAf+thxObPRci8KKz7GJI1Gtw84g2vkAv68mL09fc+GIfcR1cQFuQH/y0HcfFBKVPtVA8RGxWCDT5rsW79dkTGPtLNVNChNFyLPo6YlByxQKBOw8WDQfD3D8YRIebLOw/S3DmGjWsPIFbY2JxrB+D1637E5lfhaQKOhwTCxycQIcfiUbSV1NcPYJ1fOBIexiIiOBDBkXHFXtfOpbhzbCPWHogV2jEH1w544df9scJWa/054xalXUP08Rjom6ZIf8lMwomQAPj4b8Xh2PRy2seAfaS+jgPr/BCeIOyjiGAEBkeisLrZSD65Fxt9fRCw8ygMGmZVl4WTs47o+O4+2L3RB/VKHGRyjm1C8LWaeOvblRjbVDvJRQnnkd/ji4G52P3LBiSopajp2gU9e/VCL/HRvd5V+PqeQb3pvlj9tqNuPVV2rFJYo9nQeZjQSYqkMyeRom2aUtuEkHYtGsdjUoTekImLQr86lqyB5uYReHuF4EJG0ddFmck4FboV6338EXzoAlJzxfKiKAtJJ3bqltl6+HrhdKBKUNp3wfTFk9CKLuHgoRtiqaCc/g9VLPZ5eWHXhWKjBM5u99L1F10z3AiFt88hxKsyhTqGIEBXx9hn61hhvGYi+VQotq4XxpngQ7hQakMwxnTEK/U62qcligpkh31L7322ns6kZdPRT11JUWzKTTaFT29EcqePKaLoN6TZ4TS9kYJcZkeJBRXRT7mRd/yaLpX3bWLeFfId34ws5DWorksLataoFiklMrL1WE4ndVNyMihwuDlZuXej1rVtycmpDrlM2UtP6DFFrxhKTqZyMrdzJpeGNUmpdKA+i8LpvuHzghh7YeXFWt4fC8hNbkdjgx+S+vY6GmSppHaLzlGe+Lq2f28eaUVWPd6mYY2tyMbJhRyt5GRk05e+Wfcl9ahrRQ6NG1FtpZRMm8+gfWni29R3KfTLXlRXISfLei7kUt+K5Ap78vgilO7o+n8G+Q9RkqL3KkouiAfxa3Cr0bQlQ3iasZlGWllRr3EjyUX4f70mzmRrIiW5wyD6+ZJQwwfbaFZPV6olNaLazbpR75nB+tUUo62/JdV4bTgNbmRJti6tqXldc5JbtaXp228VTHvIu+JL45tZkLxGXXJp0Ywa1VKSRGZLHstPCiOOoMSUG3XSdprezppkCiuq38iBLCwak0d3Z5KX8RV+3vmfaExPN7KTS8mqSSfq0fdz+i1bTXdDv6RedRUkt6xHLi71yUquIHuPLyhU30iUETiczK3cqVvr2mTr5ER1XKZQ8VlReXT+pzHU082O5FIratKpB/X9/DfK/hPHreJTbsT+0mscjXQR/l+vCTnbmpBU7kCDfr5UpF8VZcA+ygik4eZW5N6tNdW2dSKnOi766WGPo2nFUCcylZuTnbMLNaypJKVDH1oUfr/MKS062WH07Xuf0fozaZR99FNyVRSfcvM0YJiwzi607FrRg0MO/T6/Ocmtx1BwyX2svkV+w+xI0WQa7X8olj3nsUo35UbYb29t0gZBIfXdbTTBUU5O0w+R7uNLbZN7RabUPKBts3qSay0pGdVuRt16z6Tg1IxiU25U131plJMJKa0bUrMWLmRvJiMz14m0IV6/3bopN3Jnob+6kJWVI7m62JOZkZwcBv5EF0rfmeKUGyV5rkkVSwrlnfuK2srlujjSTkeqqP9Thj8NUSqo96rkwv2pukZLX1OQ1egtQs/R19HKqheNG6mtYz1q4mxLJlKhjoN+Ju0woVVhvKquk+8oJzJRWlPDZi3Ixd6MZGauNHFDfBlT7Bj7ezM4oS+UU0pCn0Eb36whJOLf0OWikaa6SEva64PcMPqEXtZwMH3+f/+mf/+7yOPHLXRWnJL7YONIqi0XBsrdd8QBJZuurRlENnJH+iBUe2TUHhjNSCJ3ozmRj4TneZQnDCIZ4Z+Qi9Ke+n9/XDwQZtDVgHHUWFmf3gspGPEZe+nKjrUsipghHNTqT6F9uv7+gDaOrE3yJjMpoiBh0SZbFiQxqkdv+lzVJbeqhF9ogJWUpJbdaOFR/VzgRxEzqZncgoat1/Zt4UC9eTTZy+1pwIqTpI0KYQk6vXIg1RVOHkZuuCM8NzCht5CQkcMw+vm8ftZt1qWV1E84oXD6OEIYHQSpa8hTqaTBvmXN/RfrL7Wlfsuj9XXJukI+bzmSvM5o2qwLTnG7hWR5d34ikX2N1gyyIbnjB6QL86IJvTqVNr0tJNCOw8krRttwako7sYz62QptUt6c3IwtNNpKQd1/iNOfFNzdTKPt5WQ/YAWd1DcSPTq9kgbWlZPdyA26Ex9tQm8mkZPbnEhd3fO0g0spMraMJitFd/ohTj8o/pnj1rMJvba/ONCwn8/r50pnXaKV/YQTupKJbQED9pE2eTWTkNxtDumrK9RXeF/4Jy6ktO9P3x8XE/iMqxQwrjEp679Hhg6zOaUk9Nn73ycHeSP66FDRnfmIgt6uTVLFP+jnu2KR6Enoh+Qst6URAbfF9tZ6vmOVfg69nBy7DKc333xT9xj2hge1rGNGdft+TYcfiJ9QapuUnCOvP84pB/sKJ2taRV/PochPhLZqPpsixUntefE+NKyOMbVZeFr3XJfQS4zIYfB/6ZxuBTl09b+vU015Y5p5uNSdWWZCn3PnOK0a5kgyZTtadCbPoP5vaEKvq+Own0k/TGTRpZX9hJMDJ/pY2+EMiNecyE+EPt6cZhc2BPkMq0PGbRbS6TJOXBj7O6vcHPoyEXLz8gCFEsWnuCugUBBysot8JW4Adcph/PrD9/j++yKP/9uMU0/0X8gZvzYH63cGYnF/O3HqjxL1OrvDEelISyv8Sljm3B8jOllq/wWZLBvhAUGIdxyCqYNtkZ4Qh7i4O5B1ehfDm93Bzk2H9G9i7K/09CDWb01CwxHj4WGmLaiJgWPfgE1CENbtKz4dwKjhcHw8xkUXc0b1uqJzYyOY9JyMT7rU1MWFZYeuaGWajXt30oRn6TiwaQ/ut5qKpdPbQRsVwhJwn/4DPnJPw56AXboSw8jgPHI23mtZQ/fM2GUwPFtKcPvWTVRmFq6s+SR8M6uDvi7Grhi3cBJaPdiH4NAMbQFem7MeOwMXo7+dOEwp66Gzu6OwKWkoEuZ6Tw4ieH8aWk9ZgvfctA0nhXWnT7Dk3aaVml+ffmAT9txvhalLp6OdvpFg6T4dP3zkjrQ9AdiVf5sQmTP6j+ikq7tMJtOXVeCvHrdkziMx+72W0O01YxcM9mwJye1buFnOTit/H2kJfaH/COirK9Q3OxwBQfFwHDIVg23TkRAn1PeODJ3eHY5md3Zi06H891WesuubGFT/FgI/X4i9SdqpF7lI3vsVlu1OE45Aamg0RSZsaJKxcUUgklzfw7y36hSZIlp1xyqJkQLmZnLciw7EmuCLRebQl2gTfaHB5HI5NClHsXnzQVy6lwtZw/HYcP0hTv3LXVxCIHPCyLmT0Up3lxsFGg8ZgNaSZCQmljclJRcR85rD1tZW/6hlCQuHLpixD/jHNz/j0zYyw/u/IYQYGTn7PeiHCWO4DPZES8lt3NJ2OEPiVWgHuSYFRzdvxsFL95Ara4jxG67j4al/wb2yjcrY30DhOPdCJDAxMYYkN6dwDqAWaX98IwzEyuJDZ0VkbeYi4mYKUlKKPBK34D3xfpWmDdqijfVleM+ZhFGDeqO9qz1sOnyNMyoNdNc+RRKbOrDPD3xNmnAgvI+8a2sw1NUZzs7io0kfLD+bhyfJSeKCjP11HgoHzZ23Jcg+vgxvDR6MwcJj7JoYoV/fxS7vrbhd5HgqtbFHnYKjnxFkRhKYWVvDRCyBVEgmhNeFE3dAlYKEpCyYubSAc9GDoVFDtGhqhdxbiWKBISSoXce+8MArMYaxQggxtZBUiUUVk0Dp4obmReoic2qChsoMJMWnCM9M0aBtG1hf9sacSaMwqHd7uNrboMPXZ6DSkO7rjaLUyXFIzDBBoyYNiyTwCrRo3gRy/R1CDaBCSkISssxc0KJ4I6Fhi6awyr2FxGRxCyU2qFMwuBjmrx63JLWF9RbuNBjrdxrUZe60ivaRlgQ2Ql8orK6QwN/Pw7U1Q+GaX1fh0aTPcpzNe4LkpLuI9ZuOYWLf1j6Gf7YDdw3pOOZ98K3fV2h/80e80bg2bOvYofm0q3hjsgeUMnMhuS48nKnjNyMgPBevTZyEdsXuyPgCxyqhn3easR5btmzRPbbu2I9jV89j/RsZ2DL7Y/x8Pf+krHibVI4CHWd9j9mtb2Ht+/3gVtcGDToMxYwf9+JK0d/DaPtfYfBDqhBOSCQa5OaWd0otQ+NBc/Hll18Kj4VYuGQ51mw8gDNxV7FnTgeYVab/G0JSW4iRwjpKjI2FrdNALXQ4Q+JV0XEWvp/dGrfWvo9+bnVh06ADhs74EXuLNQRjLF8VJfQyODjYAvfv4E7R8UR9B7fvS2Bb114sqAoaJAWMRYceH8L7XB7s3ftjymJ/RIQvQie5uEg+qbTIBsogF8YoRfeliLmbitTU4o+UndPE5Rj7i2juYFvAfqTX74Z/tG8IR0dH/cOpMzy72uPpQR8EFCQNgspc/ZMooVBIoMrO1v1orZAKmZlCJiMkBAVISDDFf2qvaGbn5D6TQEulBmfJZdLk5Ra/op+diSyVBKampsKLSQgY2wE9PvTGuTx7uPefgsX+EQhf1Aklw1xHSNKUkjxkZxW/QqlSqYoly+UTElihHSSqbGSX+AZAlan9eav2Km7+dgtjS6VGz1dg3BLWW9m9Vu4+EkmLNoRMLtRYge5LY3C3RF1TU1Owc1o95D66jZtJSUjKf9x9UqJPlkUK626fI/TKVRzb6Qcvv4O4dHUXhlmkgewboEFBLq7Brd27EY3OGD7CqUjCqFXFxyqj+hgyug9qZZ/FidOFpwjF2qSSpPYDsTQiDjfP74fvdx+gj00idiwaCY8JfuISWpXtf1pS1Ov+Lj7++GPhMR3TP5yKiW/1Q2v7/HvzV6b/a4eJIoFF2cjJfWaUQJnDhCHxKrXHwKURiLt5Hvt9v8MHfWyQuGMRRnpMgF9lTiwY+5t4/lGnGAWad3BHjeRoHI8vHAnU14/hj9vmaNPRTSypAprbCPHZibut5yMk1B8rF8/F1FH90PjedSSoCUW/dS1GagV3d2dQzGEcza4FGxsb/cPiFoIWzMTCLVfEBRn7a6gTgxAYloXWk37Emp9+wk9FHr/+OAkt1dHw9z2F57rPg5B4tGtTBznRvyFUOwMn38MwhJ7IQi231rqnJiYmoEcP8KAgjtJx7nx8Ja68C8TEsfw8mpB75ggi08WnggeHwnBa7YwOne2EMA+Bz867aD0/BKH+K7F47lSM6tcY964nQC2ccJSsj5FDR7RzVOFUWBgKNy8dkVFnn73FbpmMUL9dG9TJicZvxRsJYaEnkFXLDa2f9w9DVctxq/x9VBqplTvcnQkxh48iu5ZYV+FhcSsIC2YuhLa6bjO34uTZszgrPk56j0ddA45Emgf7sHjseHx/tg469x+GoZ7t4CC/il37LsOicw+0LTgnfYwjh09B3awnepe8VU6VH6vUuH0jAU8ktWBnZ+jptZjolhYgmlSELpuCyStOooabJ975dBm890Zj45T6eBgdJS70shja/02EcYLw6MGDwjhMP4fz8YaPEhXHqwapocswZfIKnKzhBs93PsUy772I3jgF9R9GIyrG8Khm7O+iihJ6wOr1iRhR9zR+/HgZDt/JQc6dCHz78Sqcq/82Jg/QT8ZTx+7AsoVfIfBseV8LVkBqDnt7S1DcQQTuOonLl8/gkN8CjPokCPcoDznZZQW6Au2nzsbrylDMHzQRyzcfRGRYEJa9Mxrz/P+A2qHq7j/NWOWpcXXjBhxTt8ebI5s9c+Vd5jYWozsa4XLgOoQ91zRkJXpNn4XumZvw0Yg5WLcvCkcP+GD+m9MQ8KQjZszQ3qNbibad3aGIWYf53wQh4sgB+C0Yg0VheSWuclbApAbMFWpc3ueFTRGxYuGz1Mnr8eHIz+G/Pwx7fp2N4R9vgab/HHzQXiGEuT3sLQlxBwOx6+RlXD5zSKjLKHwSdA+Ul4NnwlzRBR/O6o2cTR9i+Oy12BO2D76fvYkPA1IqdTKi7DUds7pnYtNHIzBn3T5EHT0An/lvYlrAE3ScMQOeut81PIdqOm6Vt49KpWiPqbNfhzJ0PgZNXI7NByMRFrQM74yeB/8/1HBoUMb7DCCtURNZ54OwdOH/4bj29pnZidj/1TSsuNgU708fqP9tgFbuBZy+KJyktnMF6tkAADbbSURBVGmHJqXk2IYcq0qnwu2TOwqm3GwJCsDPX43D0EWRMOo4GZO7GrptJqhhroD68j54bYpAbNF4Fk7gLB5HI/DLqZiyYjsOnziB8KAf8OOeFNTs4iEu9PIY1P+VbdHZXYGYdfPxTVAEjhzww4IxixCWV4lRosJ4lcLK4jGiA7/E1CkrsP3wCZwID8IPP+5BSs0u8GhT6vd0jP296X4aK9I+LVFUitLucqOlpgeHl1C/ekqSGMlJbiQhY8f+9F1U4W0NsvdOJgcjJQ3x1/4OvjSG3bZSlbSLFgxsQXamwueY2pBLj/H07a5gmtVUQY1nRAhL6O8Woei5ghILb2+g8/isL83o34ocLBQkk1uQg/tgmr/lqv6WY4z9SZ6Jtbw/aEFLOZn0/HcZfy1STUmr/0HmRrXprQ1JujuQFN41Q6C6TN92UpDthJ2FfTlrG42tqaCuy6+LBWpK+30NTe3TlOzMFKSsUZfcPKfR6mNFbieYdYkCpvcml1rGpDC1I7chX9K2n8dQbeuid7kp8ddZ1Sn0Ux9hffl37dD+NemZHcjWWEqypnN1ixSnv4OKosNUWjKpKznWUJKpTVPqM82L/igYLlSUtGsBDWxhR6ZyufC6C/UY/y3tCp5FTRWNaYb2lj8l/1Ks+j4dWzWJejauSSYKc6rbdhQtmeFBxpW4y42WOu13WjO1DzW1E8YQZQ2q6+ZJ01YfK7hFpO4uN4qetKLk4FJCybvc/JnjVml3uSnWX4Q9nvJTH2H7BlPpNyMyYB/p7uiioJ4rEgv7j85jOus7g/q3ciALhYzkFg7kPng+bblq+Chb2l1utB4e+Yb+oT3GyIzJVGlEyrpd6aMNV/V3V8r3VFsvObX7V0wZt+Ss+FhVkv4uN/qY1T8kJBXqYOXgRn0m/R+F3y7oHKW0Scm73Gj/Eu5M6mBrLKyjKc09nl789azLtHH2AGrtYEkKmZzM7JqSx+RVdEzsgKX+pVjxzlID1pa+DeXdtrKkivq/VtalAJre24VqGSvI1M6Nhny5jX4eU5usi97lpkQd1Sk/UR9FkbtfVRivWXR542wa0NqBLLX9yMyOmnpMplVFxyvGWAGJ9j/CAKUjkegnvBUpqrycu7h06hLuwhbN27WAXeV+D8vY30KVxFq1lYmgUfYYn/IlLkd8CqfnnMXCXqZXeB+Jx5h7Mns0bdUUdvlTwCuLj1WMsf8hVTblpoDSDs27eMCjCw+QjDHGqph4jOnZ8QWSeS0+VjHG/odUfULPGGOMMcYY+9NU/ZQbxliF/t6xpsGDK9G4mueIdi3rlvgDP+zVwPuIMcaqE07oGfsLcKwxxhhjrKrwlBvGGGOMMcaqMU7oGWOMMcYYq8Y4oWeMMcYYY6wa44SeMcYYY4yxaowTesYYY4wxxqqxUu9ywxhjjDHGGKse+Ao9Y4wxxhhj1Rjfh56xvwDHGmOMMcaqCl+hZ4wxxhhjrBrjhJ4xxhhjjLFqjBN6xhhjjDHGqjFO6BljjDHGGKvGOKFnjDHGGGOsGuOEnjHGGGOMsWqME3rGGGOMMcaqMU7oGWOMMcYYq8ae7w9LpV/AvshstBvYHralnBKkX9iHyOx2GNTeViyppOxknAjZjkPn43EvQwnb5l0x5M3+aGFdifMPdSKOBB9Fdush6NfUTCwsTp0Uha1RGXAb7Inm5mIhY3+CCmONY6BiBmwfY4wx9ndQ+Sv0mrvYNXcERny6AbEqsawIzd1dmDtiBD7dECuWVIYaN/d8ht6NndF14tcI+C0ap4/vxKqZg+Heoi8WRTyARlyyQjm/46f338U3+8t+T94fP+ODd7/G3lS1WMLYX41jwGAGbB9jjDH2d1C5hD7nOoI+6o/x62KRJxYVlXM9CB/1H491saW9WrHs6CUY8fb/IbblQhy6fguXo48g8sRFJF7ZgWn2f+DrMR9h8+2qO3Qr+n6HIyd9MaGekVjC2F+LY4AxxhhjlWVwQq+6LBz0O3bEu/vs8EafeiXeqMJl3wno2PFd7LN7A33qVf7CPzTJ8P/XSpypOQ6rAxegV12Z+IKQdDgOwvKfpsH14SEE7b1deDVO9RCxUSHY4LMW69ZvR2Tso1Ku1BHSY8MR5OeHoIOXkFbkQiSlXUP08Rik5GifqXEj1Bs+h+KhykzCiZAA+PhvxeHYdL76x/4c1TIGDHiPKhb7vLyw60KmWKCVjrPbveB9ME5Yg0B9A6HePjgUr8LT+Chs8/fFhr1nkar7FlCFezH7sdHXD1sO38ATbVExZW9fvuzkk9i70Rc+ATtxNP6pWKqlxvUD6+AXnoCHsREIDgxGZFzR1xljjLFqQDuHPp/2aYmiAtlh39J7n62nM2nZdPRTV1K4zKIjOeKLlE1h375Hn60/Q2nZR+lTVwW5zDoivmag1HX0hrmMGk0PF9ZWmix68lQl/pso74ovjW9mQfIadcmlRTNqVEtJEpkteSw/qX9/xmYaaSEnl54e1Mjcghwa1SMruYxqdphFu1LUunVkBY8ha0U3+v6Gdr0ZtHmkFVn1GkcjXYT/12tCzrYmJJU70KCfL1Ge7h2MVY1SY61axoAB78nwpyFKBfVelUz6TxWortHS1xRkNXqLsAaBtq5WVtTj7WHU2MqGnFwchboakU3fb2jdlz2orpUDNW5Um5RSU2o+Yx+l5b+ngu0jekzRK4aSk6mczO2cyaVhTVIqHajPonC6r1skgwKHm5OVezdqXduWnJzqkMuUvfRE917GGGOsejD4UrrS4zOs+3Yc2ljrf8xXnBIen63Dt+PaoNSXDZB74ypuZBuhaatWwtpKYwxzs/xpAWkIXvgpNqlHYfu1m7h64RLiki/g5/6EqJ/W4ojuaqOWCtevyDA1NAFJcTeRFP1vdEn+CR8s2IVH4hLFaZB+JBx5syKRdDMW1xNP4d+9MrD/+59xNFdchLGXpPrGQBXFjSYdR6OM8PnvN3HjahzO/uSJvLAvMTu8F7bcSMK1uOs48HEDXPP1wp6Cype/fZkRCzHun7/D9V+RSEi5jqvxN3F+nQcSv3sH8wpWQki/8Ah9t8Xixo2buLi6P/g38owxxqqT55gb85LkZCMXRjA2NRYLymOM1+asx87AxehvJ26Csh46uzsC6WlFvnKXwW3KMszpbK3b0BptpmHRu82QumszDpbxrbrMeSRmv9cSNbRPjF0w2LMlJLdv4WYpPwBmrEpV4xiomrgxQsPhH2OMi/Z0xgj1unZGYyMT9Jz8CbrU1NbeEh26toJp9j3cKdjA8rYvG+EBQYh3HIKpg22RnhCHuLg7kHV6F8Ob3cHOTYf0qxDInPtjRCdL7b8gK5zpxBhjjFULYibw1zOysUVNiQoPUu+VM183nykatG0D68vemDNpFAb1bg9Xext0+PoMVBrSzWXQkSjRpLmrcIjOJ4OrqxNkT24ioYy7ekhq14F9we8DJTA2VgAaNdQVV4qxF1KdY6Bq4kYKG/s6QiovMpLBSGIGa2sTsUBYQsi2jYStK7jbZ3nbd+eekMDfR961NRjq6gxnZ/HRpA+Wn83Dk+Qk8T3CamyE+nMizxhjrJp6dRJ6545oW0eDC8ePIV0sKyYnEgt6dsCQ5ceQo0lCwNgO6PGhN87l2cO9/xQs9o9A+KJOkIuL62mQl1v8jjtZmVnQSIxhZlrG3CCpVEhHGPvzVesYMOA9JJxoFKBs5OQWeS6SVfryeHnbJ4dcWJ2i+1LE3E1FamrxR8rOaeI7BEL9X5nBkDHGGKukV+cYpuyOMSOc8GTvf/DTqaJ3w9DSIGnTSngfvQ5NzQYwuh0Cn5130Xp+CEL9V2Lx3KkY1a8x7l1PgJo0hVc3KRdno44W3hVDcw+Hws5A06QD2tfmwzd7xfzPxoAJTEwIjx4UuV98+jmcj6/U5fvSlbd9tjXh7u4MijmMo9m1YGNjo39Y3ELQgplYuOWK+CbGGGOsevvTslp17A4sW/gVAs+WNanWGN3mf4dxdU5jyeAB+Hj1XpyJv4O7Caew84fxGPBxCHK6zMficQ6QmdvD3pIQdzAQu05exuUzh+C3YBQ+CboHystBdsEFO8LtDTMwZvEmhEXsgdfs4Zi53QhvfPo+2vLX6+yV8z8aA8q26OyuQMy6+fgmKAJHDvhhwZhFCMsrmFzzAsrbPgXaT52N15WhmD9oIpZvPojIsCAse2c05vn/AbVDA3EdjDHGWPX2pyX0qht7sOrbZdgSU/ZtL6R1huPn/Rswq1UK/Ge+gbZO9qjTqD2GLfgN8kHfY/fWeXDX/l7Qcii+WzcPr91fh7FdWqO954fwvtUTPwV8DBe6grNns/UrlJig/2fzUPe3+RjqOQL/3CPH8DX74D+hYeE8XcZeIf+TMWDkhKn//QUfuMZh1QRPvD7hB1zqtBzfDrJ48eltFWyfkdNkBB5YiwkO5/Cf9weiz+tTsOqaKz4O3IOV/a3162CMMcaqOYn23pXivyGR6A+vRYr+Mpl3r+DC1WQ8oRqo17w1XG1Kv5EfY9WRIbHGMcAYY4wxQ7yyCT1j/8s41hhjjDFWVfiXoYwxxhhjjFVjnNAzxhhjjDFWjXFCzxhjjDHGWDXGCT1jjDHGGGPVGCf0jDHGGGOMVWOc0DPGGGOMMVaNcULPGGOMMcZYNcYJPWOMMcYYY9VYqX9YijHGGGOMMVY98BV6xhhjjDHGqrFSr9Dzn6Nn7OXiWGOMMcZYVeEr9IwxxhhjjFVjnNAzxhhjjDFWjXFCzxhjjDHGWDXGCT1jjDHGGGPVGCf0jDHGGGOMVWOc0DPGGGOMMVaNcULPGGOMMcZYNcYJPWOMMcYYY9XY8/1hqfQL2BeZjXYD28O2xClBzp3zOPr7FdxXW6JR+27o4GgmvmKIDFw+sAMnUzXi85KMYN9xOPq6GovPK0edeATBR7PRekg/NK1MtSqkRlLUVkRluGGwZ3OYi6Uv7iku7Q/BxRrdMbxrfWHr2f+K0mMtHRf27caZ+/n9XwKJVAq5iTXqt+iE9q41oRBfeTHa9b/gubzmHn5f/wuCT6UC9T3x0eyBaFi0g2ZcxoEdJ1F2KNuj4/C+eK5QVifiSPBRZLcegn5VG8jCupMQtTUKGW6D4dn8xSK5oJWrcJ2GUMdtxTcBEoz/fDgaFeyTbCSfCMH2Q+cRfy8DStvm6DrkTfRvYf1Sr+pkJ59AyPZDOB9/DxlKWzTvOgRv9m8B6/wPFfdlZsuqb5uXN97/NXKSj2PHtjDEJD6AysIBTV8bhBF9XFDjZe5ArZxkHN+xDWExiXigsoBD09cwaEQfuLz0D37JqmAY/FNkJuHYrh0IPR2PhyoT1HZqh35DB6KTw/PlQRXLRNKxXdgRehrxD1Uwqe2Edv2GYmAnB7ycTyzcEfqYzUTLwZ74E4bK51PF/UZ1ZROW7KiBqfMGou6Lrleb0OfTPi1R9Cz1HQqZ4kImLrPoSI5YpvOIji0fSA1MjMikdn2qb2NKMoU99fw8lO6qxUUqooqjH7rLSWIkJ4VCUcqjBnmuTiFDV1dSxuaRZKHoSSsSn3cNZcmi4DHWpOj2Pd1QiUVVQXWNlr6moFrjtwufwP6XlBprqkv0dceS/V9OMqmEIDGlRoN/oBOPxWWfU3aMN03qPokCn4oFz0VFN1b1JUupKdVz70o9J/lQQol+r4r7gbrLJWQkLxq/RR41PGl1ynPGYcZmGmmhoJ4rEp97LChTVjCNsVZQt+9vCFv5nLJjyHtSd5qU38hVsU5Dqa7T6tcdyePfVwo+S5W0m/7p4UBKqQnZNe1A3bp3ouZ1TEgqtyePr8LpfpU3okCVRLv/6UEOSimZ2DWlDt26U6fmdchEKid7j68oPP9DxX35Mtrm5Y33fzJVIoXMF9rSWEqKWo2pXZcu1M7VjkyFtqzZ9j3yjskQF6xqKkoMmU8eDsYkVdSixu26UJd2rmRnKiV5zbb0nncMvaxPfrmyKcZ7EnWfFEgvNAz+CfKu+dFYF1OSmthR0w7dqWe3dtS4loKkZq40zvcKFUvBqkLeNfIb6yL0Lf1Y0b1nN2rXuBYppGbkOs6XrlTxB5Y8Huljtht9X6WJVFV5Sf0m7ywt7tSQRvjfeuHjWeUS+uxrtPkDd+FADpKVSOizo+ZQU0VN6rX4qP4AoU6jE8v6kY3cgd4NeaRfqCJiQq/wWElJL2EM5oSevSrKS+iVnmsoVSzSyU6hoyuGUD2Zglp/EU15YvHzSF3jSUrlYPJ9IhY8lyzaPr42yVt+TifLqIw+oVeQx8qkqk+6X/WEPnUNeSqVNDi/kdWPKPHCebqeWuWH3xLUdH/LWKrXeBqF5u/frN/pqw7mJHd4nb4JTy7sOzlCkjijLZkb2dOoDc9/kaR0WfT7Vx3IXBj7X/8mnJILP1RIEGdQW3Mjsh+1gXTnc5zQV+ApRS1oS2bCyVffr/ZTYrZYLLRlStR/aGQTY5I3GE9Bz3tyXI6nUQuorZlwAtb3K9pf+MGUkxJF/xnZhIzlDWh8UFX3nT9DKq3xVJJysC+90DD40t2nDW/VInnDsbQhrrD96WkM/TzUgWRWA+nXW1Xb+vc3vEW15A1p7IY4IX3N95Rifh5KDjIrGvjriyedRZU8Hr3aCf3L6zdpW8dTPacptNfAVLksBl/gV132xYSOHfHuPju80adeiW8ccnF65x7csBmGeXO7oJb2Rak1Os2ci+F2qThy6Jx+sSqkvhEKb59DiFc9RXzUNvj7bsDes6lQaV9U3UPM/o3w9duCwzee6JYvhtIRGx4EP78gHLyUBrVYXED1ELFRIdjgsxbr1m9HZOwj3bcsempcP7AOfuEJeBgbgeDAYETGPRVfK6R58Ae2eK2B76E4oXXyZSP55F5s9PVBwM6jiH/2bVCnXcTBIH/4Bx9B3NPCT2V/Y0p7dJm+GJNaES4dPIQbBR32KRKOhyDQxweBIceK9yf1dRxY54fwBKEvRwQjMDgSF/8Qlj2WDI3mJo54eyHkQoa4cCmeJuB4SCB8fAIRcixe+CSR5g6ObVyLA7GZQM41HPD6Fftjn4kgw6lvINTbB4fiVXgaH4Vt/r7YsPcsUvWBjHsx+4V48cOWwzfwbCQT0mPDEeTnh6CDl5BWSjVUD2MRFbIBPmvXYf32SMQ+KhLJ1w9gnV84EoRlIoIDERwZV7idBTR48McWeK3xxaG4/EhWCbEfhZANPli7bj22R8aiYLWZFxESeAzJGg1uHvGGV8gFoZppuBZ9HDEpOeJCWuXtu8I2yUw6gZAAH/hvPYzY9ArGA/VVrP13CGqOmoReuq+rNUj2/xdWnqmJcasDsaBXXch0CwoUjhi0/CdMc32IQ0F7cbsKhxpNsj/+tfIMao5bjcAFvVC38EPhOGg5fprmioeHgrC32IcSsoRt3blev63XS9nW7OST2LvRFz4BO3G0xOBZ7r6saLwXPE04Luw3H/gEhuBYsXWrELvPC167LkDo8QXSz26Hl/dBxGlXVkqsFRwS1Gm4FBaM9X6bdZ+dm3QY/r/uxqVs/csZd24g9vrtUvqdnvrGr/jyx/Own+SDoEWecFSKLwhtad/1Y/hv/gxtUjfhi+VHhaNLFRL64K9f/ojz9pPgE7QInoUfDIV9V3zsvxmftUnFpi+W46j2g1Wx2OflhV0XirUSzm73gvfBuGJtXt5+zFf2MmrcCPWGz6F4qDKTcCIkAD7+W3E4Nr3IMVorE8mnQrFV25+CD+FCan7sZuKiMK4dS9ZAc/MIvL1CUDgMlhGT6mREBnhh4/G7hZ+RcQEhXr9g66mHBWWae78jyGsTjt/NM6iOFe175F7H2QuPYdFtBIY1Kmx/mLlh8ufT0MshHfGxeWJhVcjF9bMX8NiiG0YMa4TCTzSD2+TPMa2XA9LjY1H0E18kbjIvlnM8oiwkndiJ9T7+2Hr4Op4ZDsrL0Z7nmKJ7jzcOCmP8oythwjHFH1sOXsSDgo77HP1Gy8Cx3HrAJAyXBuH//ONLHZ8MJib2OtqnJYoKZId9S+99tp7OpGXT0U9dSVFyyo0qg+7ffVj8K6D7/jTMSk7uC8+KBRWoxBV67ZmclVUPentYY7KycSIXRyuSG9lQ32/W0Zc96pKVQ2NqVFtJUtPmNGNfWsF7LOQu1NOjEZlbOFCjesJ7ZDWpw6xd+qtFgrwrvjS+mQXJa9QllxbNqFEtJUlktuSx/KR4xppBgcPNycq9G7Wubfv/7Z0JXBTHuvaf2dkZNmEAibIM61UEcYugaLxR3IIxmhhN/GJwF0KMco9RD9FojMkRt7hvwX25Cq5JiIrGfd8iYNyjqCBo3ACZ4f2qZxoYYIBB8eYkp//5dXTa6q7ueut966nqqm7y9HQhdUwKrTQYodfm76eJr9uRhXogrb3KD089OkZJb3mShcyKnL3U1Mie9fTcOlLi3vt8j1dLN7eMpFA7KcmVDamxmw3ZeEdSuJdMGKH/G2LU16oboecoPkv/DJGRrLSO3UujCe1dSS6zJXe1mhoyP5OrIml82l19fXq6mnpZKalZ26bk2MCTPF3UNGD8CGrn60BiiSP5t+1AcZuq5MLQ0r20CdTeVU4yW3dSqxuSUiYnVeR4SrvLzlx8jub2a0dBzjISK32oZcQb9PlPBqNHPCaP0HMjtEolRbwbTd5KJ/JUe7D8JOT0xhRaOiGCXJVu5N3YkRRiCwqI3UU6T9aN6spI3S6SGlvZkFtjd3aMlOzD4mlb2UhlMWWuGED+LJ21q5oC/RuTg0JE0gaRNP0E78mre5GVshm1bepIDTw9yUUdQztzDUfotZS/fyK9bmdB6oFrSefKxZm0YoA/iyPW5KoOJP/GDqQQSalB5HTSnTZvM8W38yUHsYQc/dtSh7hNVUb9a7edvkza9+9Davanu48XNTAXk8ytO82/WM0jEUbxqfHUxMyfxh4pjcI5tLSbFUkbj6S9VU2ko+Dxk+pHxjWZNLNrY3J3dzeyNSTfISl8workLO1GVtLGNLL6TOlJaaa8Lb1YPeLu1cNXTSpLCbvXrjT3Qum9PqJjSW+Rp4WMrJy9SN3InhQKN+qYWD5dyJgtN39fe7xnxqC0Ce3JVS4jW3c1qRuyNHIVRY5PI666szNTck8FyTvModulx7AS+21aaxan36ON3JwTI74Ws/MxaW9vpU+a25NUpqSGnm5ka+5K7Xu0IQezN2mBzvW4J10OJLHpQ+uNzl3R0JVv2rJ6EkKJ56qxu/YOLYpiNm40gvYYK+4XtKHmyjfUlpVJSOK5ap4IaunOoihm50Y0gsv4aTL1VMipw5zb5f7OP2FWvreRn5pTux1rT/OU1vdRkrJ9f+qjZn+6+5BXA276mBt1n39Rf62ay7SiryeZK+yokX8gqVWWJLX0pYFrrrESzaPN8e3I10FMEkd/atshjjblaGv2Sb6MLTsvpDv8dRbs/JjcJGJy6LeJH63V0t3FUWTt0JfWPTDhGmu1PUObQyt72ZNE2ZJGrjhIN02e36ShzJldWX03ZnN3aug7hE9XGS3lrOxF9hIltRy5gg7WlGE9+E3e5vgq7ZFeo3lRxBtqpu88yFetIkuJjNy6zqXScFCrRnvRNsXWmlr36kGNbRuQumkAuVrJSBkykrbonoK8QL0xuJbaY3kh/TzsNTJvOYUuVhuQa8dkQV9OkXFBX4V82v1JEJlZtqap542HhCrwgl6q7k1fzJhBMyptSd9tpyz+ZnWGF0nIvfdyyuKsqLlOC6OUJBbbUtuJBymPK82H6RTnLyOb6JUGx4jJudM0OpzPJXhEp2d3I1fmaANTHrDfebS2jyPJWGOwXV8rddOMFnR3IpnHUErT1xYm6C1JJAui0fu55yPFVFxcPuXmcv4RmhrpWFHMs2P2fqImhaoLfXOYF/BPs2hVf29SNPyItrKstTnr6F0mkjx6LaLz3AQtfspSAzELGoKg/9tRJ0FfdJcOz4kmD6mCQhNPUzELpuvfU5FMFUVJJ/hndA9PsYbblWTOfWgNV3c5kWEpIlnQaNJXU1ZP2R+1TbnR3ltP76lkpIpKovJTz6SurjJy7rOmLFhvfE9J8vBv6Wo1wUcv6KWk7v1FFT+eMSOJvtuexcI7QyfoRCRx703L9Y5M1xdGkZLVe9u2E+mg3pEpPc6fZDbRtJJzU/4YsXMnmnY4X+dPj07Ppm7sGt0GphCXhPLWUh9HJvpjtvPXzLnyAuruxHxsaJou8HMi0FIko6DR+1kOXBGxEioT35cp/8hUinQ0EPOMvLV9yJGJxJjtfMBmZ/ptQXdyknnQUH2A4Aq54pQbQ0Fvku34MnGLpvnn9IsmCi7OpE6ssfAclV7NvFkNZXGNpf379L+l7XDRYRrrLyVFl0Ussr0A2vt0KPlfNH36dCPbNzQzNYNPaEgRHR7rT1JFF1pkSqZl99qDvjurL6+irO+os72MvOP26e716d5PSK1QUZdvDpeJuqxV/clb0ZA+4oInt8eILWuP96zzuv49UslUFJV0QnccV9dOMTHkKnOmPmvust8mCvrKvsbKbkM/ZmePaFp4Tn9fD48nMT+SEBSlgp7V9b3JtHjF7mr8qIBSPnAiicMA2lJtA1BMp8Y3YWIqkmYbm37xQjZkOad8QE4SBxpQfcb6DiTXaZ99i7QmCHqT7FhrGk4s25BI4kbR888xizIKLtLMTkxQeo6idFZhivZ/wtIH0Kf7+QVHxddoebQLmQVPpFM6P640daJWnyymG7M7kIXDu7RBd0qujgeQpYUFyb3jaJ/OIR/Suj72pIz+nu6bcI21215P8ZW1FBOsJImI+YiFigIjoilm3CzadCybH2A0hpbuH0qmfxm1+XT6ZmYqn84IxVdobUwwKSUidv0WpAqMoOiYcTRr0zHKLsuwnvyGYXTKDdN1bj2+I304KKKs7zqTvcyb4nQFbYJGe5k2pUEnmn5Mf0cFmcvpHQ8Zuby3nq+Lda037KA6xPKHyW+RlVkHmvMS06hejaBnYvTQlA6skWtAnWaeraHiVaJ0UaxCSc4qFakqba7qIZTKxxed4aVeFKv3JoaGLkxqTjJLVjn0A/KMp7Shr61OaOt+ccfImtB4vVfrKT5BnzeRkQMLOlz660d30c7jd8qDEguqZyaGksy2tCetF/QyvzF0qOz+eUEfOohGd3Jhva9etPyKQR4F22kQExs+Q1Mo68oVusJvv+0eS8EyB+q36Qk9XNOb9SKb0+RfDby76AglBAgj9H9HahL0IoUNOTo5kZNusycbhYREIjPyiPqWjnGdvfxkiraRMXFfcfRMkzGFWsgsKWrxPVZNOZEhI78xhyoEjdoEfX5yNPOR0EojghrKmNKC+VYULdatcDdV0ItIoXSu4scqlSuph6Tq67Qu4EnJK1Yv3jg0FyZRc3YfPcodmZ5u6Eu2pXMrdcfIqMn4Uwb3X0wnPmfCxoE1Fty9Pb1OR3ftpOOlQ2ocBWdoYqiMbPusZ3fAknAiUOZHY8odmaXRi+/QQaOpkwvrIPRaToau/PT6Udq183jZSB1HwZmJFCqzpT6lQ201CXqTbKe/P3X8L+W208VGOZlHr9Rde1UKaHN/B5KHJFKZ6YrSKdZLShbRq6o55lVQROmxXiS1iKZVpmTK36uP4b1qb9HsSHavbyWzhrOAtg9iDaTPUErJKo+dV37bTWODWWzst0l3iDFb1h7v8yk52oZkoQZlxqHJoCnMDy2jFrMfpgr6Sr6ms7OcWk/jO646NPTr5DCSlQn62nhKa962YsJkMP1QbSPK+6asFU3NrEEZ1pGna94mK4k7Da4+Y77OyqjV1EzS1CroTbGjKWn0YllWQX9o6Oq34SQ3Z+KM2aPo8Bjylymp5YjFlPZrjs4mmoInVFB2YZWEmQk+qcn6mtqY8Z12TSZ91dqawgcNJH/zFvQlN6T6dDt95GpDUYs47VD7NdaJ4hw6mzqPJgyOpgh/ZzIXM7Ettia/fovpwisRBsWUczaV5k0YTNER/uRsLmbtj5is/frRYl2G9eQ3DKOCXuZD8QbiUntrNkXKzemtZF1gr12jvUSbEvQPwzVqxXT+C3Ze5Tu0VqfF615vSs9rSizn6q2fvGafq416fPkOj+Y6tsR3QlRiJkKmbsPGuCYGc7FMQ9YmEcdvZSM7u+J2O2sBehi+N0nsBJVL+bvyJFIJRJZ2sDPnd0AMKdvHZBP/GxApfBDgWzapE5D6wtdTise/X2c/LPBaSDDsMpZh9KC+6N6hOXxVTgj78jQ0Jazzoz9Ch8jJBSqD03BoTi7D7KMFkOVexOnr5fPBSvKv4ur9Yvy24C34ennBi998Ok7HmeLHuH3zHm5fvYGn5o3hY/juP3kgAnxk0L/gUOA/Bal3d4yZMAET2DZx4mRMX7AWP56+iqwdoxFmyepZ9nXcLLCEOtCrfE40Q9IoEH7K57h14za/RwQnF1WFNDWjQfb1myiwVCPQq8KZ0SjQD8rnt3DjduXJjDUhQ5vE47hVyY+zs28ja0EPg1egieGkcil/LatEConIEnbljgyxlO1jHljmyiIFfAJ8De5NCl9fT0gf/47rOVrmyq8hJNgOGctGY1Df7ujQ3BcqpzB8eVqDEoN4wBwZLpUdmZXDyWWzcbRAhtyLp2Hgyuy0IQi2y8Cy0YPQt3sHNPdVwSnsS5zWlBiGmWqpi+0cme3KykRkBjM5iyVabaW5wqU8w/28J4CtHZSlUV3ihAb2ImjycpBbF7OVUpKLgyum46uvvjKyTcO/tlzkExoigVMDe4g0ecgxOVOunhrYXyyHXC5CyfPnLO7m4+rV+yj+bQHe8i2PnV4+HTH9TDEe377JH8QwYssa470mG9dvFsBSHYiK1b0RAv2UeH7rBr/DFCr6mubGZVwrsIG3r0f5fbG/eQaqYW1yQJfA0dEOoj9ycb/aCfJa5ObkgyRKONobtB2lvJANWc6OjrAT/YHc6jOGNjcH+SSB0tHe4B6rwRQ71sHWIkfW/pY7B8z0zgEtq3LyFvH45tOmuLVkMDoFucLptTC8FTsLOzONrKdjmOKTEs8u+O/AHBzYex5Fufuw76I3Ij/uhjCbizh44D4KT/yE/Y/C0KVzg7L1hTVdY52QOqFJj2GYtHAzyzcbOVf2YfGwAOSsj8OwuVlG5lyXIPfgCkw3avOvMO1fW/h01SGFU5MeGDZpITbvu4jsnCvYt3gYAnLWI27YXGQV1affGIHzYwNdJ5azeCAqwfPn3CR4UzXai7Up6qAAgzoghadPIyie3sS17KqlXN+xXGJnB1vKZ3H8xWfR16+gf3wSs99uh3eXFSJ62R6kfNYCtvw/vRqkTLDzfzWVkmI8r7COpADPCkpYGTOlVHITq94PQ8TwZThbrEKzLjGYlJyOvYktmTSphFhcpfDE7r2w+OhujG9+CwtHfYF9pfFDKmNXKkf4tPO4l5ODnApbNlKHNYS5mQKi4kIUlK+gZWig0VTsSAj8/RG7h+P/jRqFUWwbOXI4hgx8B52aqsoEsEjBBTgNCgsrOb7mGZ4VsQaNBcBSxKyemo4ICnasSFOIqqd+hiJWhzmh9SqQ1t2RUVzRkVHwrAAlLFhaWjAxeHMV3g+LwPBlZ1GsaoYuMZOQnL4XiS0rezLz4ypFJIZ7r8U4uns8mt9aiFFf7OMXT5Xg5qr3ERYxHMvOFkPVrAtiJiUjfW8iqpy2Gupmu7qUNbsPXXJReVySeKFFiAtKLhzGoT/4fRUowv5x7RDWczoOGa7XLYUe4NSWJVi0aJHRbXnaFT6hIRJ4tQiBS8kFHDaeKYr2j0O7sJ6YbpBp9fVUChmrGvLwaTh/r3LszEF26jA+HYcRW9YU71kDztVnTWFhJVGkwTO9MfjfDGIdNv6v3MO1wqLnVeKy4T2IFOzceI6CSnbm8mIh3UQUCG4dCsuCE0g/aLjS7gny8nihrbmEvQduQBTQEi3t9Lsq8EI2ZDkHt0aoZQFOpB+ssGjzSV4ev/hWg0t7D+CGKAAtDTImJqrKoEIUPS/9bYod62BrVtbVeodYha7T0nH193P4YcVXGNrRCTdSEtEn8kN8b2RAwiSflPqjSycvXN23F5lsO2nfBu2CI9C+hRgnf9mPEz+l405wZ3QxfJF4TddoAkX7xqFlo+b4n18MRYEYVo3CMWjGLMT4FuPUkVPMiytDeHBqC5YYsbduW57Gp6tE0T6Ma9kIzf/nF4MXebAcrRohfNAMzIrxRfGpIzj1vH79pirGYjJPHTTai7UpupWzZRSyNkUjsoAFa1MqU/+xXMT+k1R/7ybwEodWougC5vbpis8Oe+If2/diSX/fV/QRgpeDnp/BgYPlPfWS3N3Yc7oEPmHNUXJnK5an3kPThK1IS56JSWOGoG8nb+Revg4tq5i1dazFjVoh3CcU8UnxCLo2D6Mm/6ILhmJlMzTzIpzfdxCFDk5wctJvNrc2YFzcRGzMJLi1CIWH5iT27MnXn4zjj/04cKY+V7EL/B2QNAxFsEsRjv2UBoPaggd70nCkwAFBTRvxe6qiDyzVhVQJGoYGw6XoGH5Kq3Bm7Ek7ggKHIDSt8PWoPxF6jjMHDpa/paAkF7v3nEaJTxiaOwJ3ti5H6r2mSNiahuSZkzBmSF908s7F5eta1sbU6slo1CocPqHxSIoPwrV5ozD5F+bJJXewdXkq7jVNwNa0ZMycNAZD+naCd+5lXNcSyk7LN+TGSvllbFczZnB2YcIqP9fgY14KhPd7G56Pd2L23JMV3jbBUXJzHWYuO4jLJfZ4zViHRKLGqNRLuHbtmpHtKi7M684nrIgivB/e9nyMnbPn4mTVTLFu5jIcvFwCe6OZVkKsRLNmXqDz+3Cw0KEsdjrZ3MKGcXGYuDGTT2icmuI9MwZCg11QdOwnVKzue5B2pAAOQU11P83NzUEP85BXVq5/4Oy5azW2BxLPFghRFeDkvgMGgvgJDu47CYMHPrXi1HMQervewfopSTjOH1hyYzn6eHvi9WHLsGPxRCw8a4GIgQMQaEy/vKANWcYY1NsVd9ZPQVJ5xljexxuerw/Dsh2LMXHhWVhEDMQAXcbmrJwID5ngLy+mszh3jf9lih1f0tZ6SpCT9jViPk7CCesgvPnBZ/h62U4cWxuDhg+O4cB5rj3lO7+8g5rmk1IER70Bt/M/IGnLYaBVO7Qws0f7yGA82b8CX2+/jMDOlT6u95LIfBrD8cFZrJ63GZX7ISX5V3A1D3B7zYNdWWUkUI9KxSWjNr+Gqxfm8ekqIfNBY8cHOLt6HjZXzRBX9BnCQ1F/flNze1SVl9VoNcLalNOsc1Y+DJHH2pRT0HqFoZUzJ5VfpN6Yju6Jl8ixwtOJulJPgl6Li7OH4R9pRWgxYAACctLxvxs3YqNu24RtJ+7qU11KwdcT/4nVZyr2gipD9y/gh02lxxtum5By5Hcjj5jqAN3Bmth+mLRuD9J3LMKnveKwRdINnw0OYT1RFVS2hKs/r2bXnIGM07vx/bi++GRDLqi4CIUmamuzFmORNMIHl+bEYsohFgzlzTHk085QpCWg+8DpWP/zfuzZ8DU+eG8sko9rmY+wnl6b4YjvUIR1w3vh0yU7sGfXCvyj93Csyn6pKirwd0TRHiPjw/Fs3Qi8PXopdjFh++PyBPQetgqPW8Qi9s3qP4tpbm0FuTYDuxatQ/qlqtJC0X4k4sOfYd2ItzF66S4mhn7E8oTeGLbqMVrExqKGUxuBcP/CD9hUxY/ZtikFR35/GU8m3FkTi36T1mFP+g4s+rQX4rZI0O2zwQiRimGlUsGWruLn1dtwIiMDp3d/j3F9P8GGXEJxUWGFV69VjxlajE3CCJ9LmBM7BYcKrKBS2YKu/ozV204gI+M0dn8/Dn0/2YBcKkZRaYAwt4aVXIuMXYuwLv2Sfl8pL2G7mpGjabA/xNcvIsPArGZtE/BVfxecmtwDUaPmYefpa7h77zpOpn6LAVGjsLWoDRIm9Ydb/Q3tcJki4av+cDk1GT1YHvN2nsa1u/dw/WQqvh0QhVFbi9AmYRL6m5SpHM2HfIrOijQkdB+I6et/xv49G/D1B+9hbPJxaJnAqJEa4j3X4Wk/Mh7hz9ZhxNujsXTXARz8cTkSeg/DqsctEBv7pi5NSKtmkJ9fioQpG5D+y4+sTeiHxD3F5Y/QjcHZObYNHiyPwTvjk7Fr7y58/3lvDF5+Uyc6OF3AjWhmbJqKiZPX40J1TaIyCl/O+Rjupyeh6xtDMXv7SdxQvIPZ87vhj+SP0W14Kp6F/xOzhnjVfD11RomoL+fgY/fTmNT1DQydvR0nbyjwzuz56PZHMj7uNhypz8Lxz1lD4MVlrAhBq2ZynF+agCkb0vHLj8zf+iViT3HpVZlix5e0tQ4xlDaPcGz1BAyJScKWfUdwZO8GfDtrB7Lt2yAymOtEmsPaSg5txi4sWpeOSxrTfFIe1gWRtgewZnMuQtqFw4IbAIlsB5/sXdhxUY3OXX3qYIPabS92fR+JY1vhyYaBrP/wIT5PWopVa1Zi4bQ49Gw/FCmSrkgY0YqVWj0hdsX7iWPR6skGDGQdlg8/T8LSVWuwcuE0xPVsj6EpEnRNGIFW8vrzm9rao8rUl0Yzjha3Vw5Hn8+T8cOeHVjM2pRRG0vQZfRQNNcV8ovVG1P5IzMLt+SBCAms6yR1A3Qz6Xm4n5V2GcHIotjic5QYKis7vuImJpePtuuSFepe9aSgnsnVrArhF8UaPw+3icj6nXW6hQS6xRMVPkCgoYypLUne4MOyhbO6hWLv25P89em6X9wxtlY9aPLCwfS6hzXJFXbkHTmUlp7hV2Swc9zcNo66BjqThUxGFk5qihgwlbZtiic/uTfFpnMn1i+KlbdLovLvlRj5sNTDNBqhlpF5yHg6rLvdR3RmRSx1aeLGrltKMhs3atYjgTZmla9q0d4/RHMGtSNve3OSW7lSSN/JFBtpJiyK/RtSWqcrUNNrKyujzaejC4ZQRz9nspQryNo1iN4cNo8O6Zfjs2rKLdSr+vEl7d2tFBfWgMzEUvIbc5jfWxFt/lFaMKQj+Tmzeq6wJtegN2nYvEP8Sn8OUxfFVvZfg01kTe+sY46hWzTELxgtPTZjKrWUN6APyx2ZCja/T/by12n6ZX4Bk60V9Zi8kAa/7kHW7P7tvCNp6NIz+sVKHJqbtG1cVwp0tiCZzIKc1BE0YOo22hTvR3LvWOJcWbeQsvKHhwwXsPK7HqaNILXMnELGH6ZHN7fRuK6B5GwhI5mFE6kjBtDUbZso3k9O3rHp+gO4r2nHhVEDMzFJ/cZUPWettqtaJqTNprkd5TV+1EST+RW1NvegIT9VihaFv9GmsZ3Jx0ZKTEjy5S8jx+B+NONAToX6UX8U0m+bxlJnHxuSikrtLiKZYzD1m3GAckozNXavpYvPopbo31jEeHRmBcV2aUJuLK1UZkNuzXpQwsassrhozJa1x3sOLeUfXUBDOvqRM/MXhbUrBb05jOYdKn2dMKPgIq0a2YHUDmYkt3CmoJ4TaPP8fuRoZ7go1siHzrR36Ocp71CoG8tbbkuNIgbTv+LD2XV0paW6Gyuo/dWFOjR0J30GfRTuQRbcV6P5slQ4N6OoqBBytFFTrynb6fIr+Oyp5k46zfgonDwsxGV1R6RwpmZRURTiaEPqXlNoO59xwcVVNLKDmhzM5GThHEQ9J2ym+f0cyY5/yw1HbXbkqDmNfsFphbaWlXr23I6sXEsXVxZQxtpPKaqpG9lyba2lM/lFfkxzymyqpbtb4yisgRmJpX405jATMrX5pI4nlPKhC4llLWhK6bsFC/fQiMYSkvqPpbK3xZp4jabZ/hGdW/M5vRvhT262CpJKFWTrGkCRAxJpS1aNB74wj86toc/fjSB/N1tSSKWksHWlgMgBlLglq8yO3P28tN8wKrdHVXUdg3/JQNQSzmlM0Ggv2qawY8KGTKZBXJuiYG2GX0catuh4WQx6oXpjcix/Qls+cCbrN+a+1EdVRdz/mJPqEIn04wYGuwQEBF4Bgq8J1DslNzCvSzC+8dyIX+e/AQt+dxnP7iHzQhZuPyZYuwegqa8TXmIsyESe4V7mBWTdfgyydkdAU184vfpM/3xKHuDK+WyYefrBzbp0TFKDXye3QsicQGy4+T16cnNSi/YiNnIt3tyzCF1rnaOqxePbl5B5NRdapQfUvo1gLy/CtR3fYtzUY2i+ZDNG+5s+RlwXtI9v41LmVeRqlfBQ+6KRvRxF13bg23FTcaz5Emwe7V/PTwj+A6iT7QVeKc82oK9qALInZCD9M8//+7r8OAUD/Qbj8dcXsLF/+cLquiIIegGBPwHB1wReBY/ThiPkwzxMPrsW7zrV5zwagTqh+RWTW4VglmouTqTE6OZWl+TvRnxEFFZ4zMHF7YPhJtbi0pJ3EXP2I6TO6QIlf6jAfwKC7f+t+FMFfQmyl76F4FkBSD02Da1fonMnCHoBgT8BwdcEXgklt7G67+uYFZiCA4nB9Te/VqCOlOD3jTHoNHAl7qma4r/cxLh38SxuWkchaetaDA3SP6Z4np+LZ0qn8leNCvzHINj+34g/U9AXHkZCqw+RN+kwFvVweKmFrYKgFxD4ExB8TeBVUXInHUtTivDfg9/Ea8I8iD+Vp9cPYOcPR3HlAcGmcRg6d2sHTyv+HwUEBP49KMlD5rEsFHuE4r9c/2/nBGqvbMf8Aw7oN6A17F+ycycIegGBPwHB1wQEBAQEBATqC+Fhj4CAgICAgICAgMBfGEHQCwgICAgICAgICPyFEQS9gICAgICAgICAwF8YQdALCAgICAgICAgI/IUxuihWQEBAQEBAQEBAQOCvgTBCLyAgICAgICAgIPCXBfj/jwA/y5YlOMcAAAAASUVORK5CYII=)"
      ],
      "metadata": {
        "id": "0KCbzID57wGQ"
      }
    },
    {
      "cell_type": "markdown",
      "source": [
        "With the data above, what kinds of questions can we ask about the factors that contributed to passengers\n",
        "surviving or perishing in the Titanic disaster?\n",
        "\n",
        "**Remarks**: The following are the questions that can be asked based on the dataset above:\n",
        "\n",
        "* Does factors like age, gender, passenger class, etc., determine survivability of the passengers?\n",
        "\n",
        "* Who is more likely to survive based on different factors such as age, gender, passenger class, etc.?"
      ],
      "metadata": {
        "id": "dmqJ5sv_7tSs"
      }
    },
    {
      "cell_type": "markdown",
      "source": [
        "### Creating Dataframe\n"
      ],
      "metadata": {
        "id": "COr1oJgv-q8U"
      }
    },
    {
      "cell_type": "markdown",
      "source": [
        "#### a) Import pandas and the csv file\n",
        "\n",
        "First, import pandas and create a dataframe from the Titanic training data set, which is stored in the titanic-train.csv file. Use the pd.read_csv() method.\n"
      ],
      "metadata": {
        "id": "w4ZPjrCP8I4N"
      }
    },
    {
      "cell_type": "code",
      "source": [
        "#Code cell 1\n",
        "#import pandas\n",
        "\n",
        "#create a pandas dataframe called \"training\" from the titanic-train.csv file\n",
        "training = pd.read_csv(\"titanic_train.csv\")\n"
      ],
      "metadata": {
        "id": "9I-nu7PJ-n_s"
      },
      "execution_count": null,
      "outputs": []
    },
    {
      "cell_type": "markdown",
      "source": [
        "#### b) Verify the import and take a look at the data."
      ],
      "metadata": {
        "id": "Kd0tEmzU8P1L"
      }
    },
    {
      "cell_type": "code",
      "source": [
        "#Code cell 2\n",
        "#verify the contents of the training dataframe using the pandas info() method.\n",
        "\n",
        "training.info()\n"
      ],
      "metadata": {
        "colab": {
          "base_uri": "https://localhost:8080/"
        },
        "id": "1Mu4sj7w-1_N",
        "outputId": "2d52cb33-9543-4315-98fe-2faac83b0924"
      },
      "execution_count": null,
      "outputs": [
        {
          "output_type": "stream",
          "name": "stdout",
          "text": [
            "<class 'pandas.core.frame.DataFrame'>\n",
            "RangeIndex: 891 entries, 0 to 890\n",
            "Data columns (total 12 columns):\n",
            " #   Column       Non-Null Count  Dtype  \n",
            "---  ------       --------------  -----  \n",
            " 0   PassengerId  891 non-null    int64  \n",
            " 1   Survived     891 non-null    int64  \n",
            " 2   Pclass       891 non-null    int64  \n",
            " 3   Name         891 non-null    object \n",
            " 4   Sex          891 non-null    object \n",
            " 5   Age          714 non-null    float64\n",
            " 6   SibSp        891 non-null    int64  \n",
            " 7   Parch        891 non-null    int64  \n",
            " 8   Ticket       891 non-null    object \n",
            " 9   Fare         891 non-null    float64\n",
            " 10  Cabin        204 non-null    object \n",
            " 11  Embarked     889 non-null    object \n",
            "dtypes: float64(2), int64(5), object(5)\n",
            "memory usage: 83.7+ KB\n"
          ]
        }
      ]
    },
    {
      "cell_type": "markdown",
      "source": [
        "Are there missing values in the data set?\n",
        "\n",
        "**Remarks**: Based on the information shown above, we can see that there are null entries in the columns, Age, Cabin, and Embarked."
      ],
      "metadata": {
        "id": "j3UyqkTz8TyE"
      }
    },
    {
      "cell_type": "code",
      "source": [
        "#Code cell 3\n",
        "#view the first few rows of the data\n",
        "\n",
        "training.head()"
      ],
      "metadata": {
        "colab": {
          "base_uri": "https://localhost:8080/",
          "height": 206
        },
        "id": "UyEZo5Rm-5Ii",
        "outputId": "8bd18efd-dfec-41c1-ecd6-5d6efaf6080c"
      },
      "execution_count": null,
      "outputs": [
        {
          "output_type": "execute_result",
          "data": {
            "text/plain": [
              "   PassengerId  Survived  Pclass  \\\n",
              "0            1         0       3   \n",
              "1            2         1       1   \n",
              "2            3         1       3   \n",
              "3            4         1       1   \n",
              "4            5         0       3   \n",
              "\n",
              "                                                Name     Sex   Age  SibSp  \\\n",
              "0                            Braund, Mr. Owen Harris    male  22.0      1   \n",
              "1  Cumings, Mrs. John Bradley (Florence Briggs Th...  female  38.0      1   \n",
              "2                             Heikkinen, Miss. Laina  female  26.0      0   \n",
              "3       Futrelle, Mrs. Jacques Heath (Lily May Peel)  female  35.0      1   \n",
              "4                           Allen, Mr. William Henry    male  35.0      0   \n",
              "\n",
              "   Parch            Ticket     Fare Cabin Embarked  \n",
              "0      0         A/5 21171   7.2500   NaN        S  \n",
              "1      0          PC 17599  71.2833   C85        C  \n",
              "2      0  STON/O2. 3101282   7.9250   NaN        S  \n",
              "3      0            113803  53.1000  C123        S  \n",
              "4      0            373450   8.0500   NaN        S  "
            ],
            "text/html": [
              "\n",
              "  <div id=\"df-9f9e4fd9-d0e8-45cc-9f2b-bec5666a0034\" class=\"colab-df-container\">\n",
              "    <div>\n",
              "<style scoped>\n",
              "    .dataframe tbody tr th:only-of-type {\n",
              "        vertical-align: middle;\n",
              "    }\n",
              "\n",
              "    .dataframe tbody tr th {\n",
              "        vertical-align: top;\n",
              "    }\n",
              "\n",
              "    .dataframe thead th {\n",
              "        text-align: right;\n",
              "    }\n",
              "</style>\n",
              "<table border=\"1\" class=\"dataframe\">\n",
              "  <thead>\n",
              "    <tr style=\"text-align: right;\">\n",
              "      <th></th>\n",
              "      <th>PassengerId</th>\n",
              "      <th>Survived</th>\n",
              "      <th>Pclass</th>\n",
              "      <th>Name</th>\n",
              "      <th>Sex</th>\n",
              "      <th>Age</th>\n",
              "      <th>SibSp</th>\n",
              "      <th>Parch</th>\n",
              "      <th>Ticket</th>\n",
              "      <th>Fare</th>\n",
              "      <th>Cabin</th>\n",
              "      <th>Embarked</th>\n",
              "    </tr>\n",
              "  </thead>\n",
              "  <tbody>\n",
              "    <tr>\n",
              "      <th>0</th>\n",
              "      <td>1</td>\n",
              "      <td>0</td>\n",
              "      <td>3</td>\n",
              "      <td>Braund, Mr. Owen Harris</td>\n",
              "      <td>male</td>\n",
              "      <td>22.0</td>\n",
              "      <td>1</td>\n",
              "      <td>0</td>\n",
              "      <td>A/5 21171</td>\n",
              "      <td>7.2500</td>\n",
              "      <td>NaN</td>\n",
              "      <td>S</td>\n",
              "    </tr>\n",
              "    <tr>\n",
              "      <th>1</th>\n",
              "      <td>2</td>\n",
              "      <td>1</td>\n",
              "      <td>1</td>\n",
              "      <td>Cumings, Mrs. John Bradley (Florence Briggs Th...</td>\n",
              "      <td>female</td>\n",
              "      <td>38.0</td>\n",
              "      <td>1</td>\n",
              "      <td>0</td>\n",
              "      <td>PC 17599</td>\n",
              "      <td>71.2833</td>\n",
              "      <td>C85</td>\n",
              "      <td>C</td>\n",
              "    </tr>\n",
              "    <tr>\n",
              "      <th>2</th>\n",
              "      <td>3</td>\n",
              "      <td>1</td>\n",
              "      <td>3</td>\n",
              "      <td>Heikkinen, Miss. Laina</td>\n",
              "      <td>female</td>\n",
              "      <td>26.0</td>\n",
              "      <td>0</td>\n",
              "      <td>0</td>\n",
              "      <td>STON/O2. 3101282</td>\n",
              "      <td>7.9250</td>\n",
              "      <td>NaN</td>\n",
              "      <td>S</td>\n",
              "    </tr>\n",
              "    <tr>\n",
              "      <th>3</th>\n",
              "      <td>4</td>\n",
              "      <td>1</td>\n",
              "      <td>1</td>\n",
              "      <td>Futrelle, Mrs. Jacques Heath (Lily May Peel)</td>\n",
              "      <td>female</td>\n",
              "      <td>35.0</td>\n",
              "      <td>1</td>\n",
              "      <td>0</td>\n",
              "      <td>113803</td>\n",
              "      <td>53.1000</td>\n",
              "      <td>C123</td>\n",
              "      <td>S</td>\n",
              "    </tr>\n",
              "    <tr>\n",
              "      <th>4</th>\n",
              "      <td>5</td>\n",
              "      <td>0</td>\n",
              "      <td>3</td>\n",
              "      <td>Allen, Mr. William Henry</td>\n",
              "      <td>male</td>\n",
              "      <td>35.0</td>\n",
              "      <td>0</td>\n",
              "      <td>0</td>\n",
              "      <td>373450</td>\n",
              "      <td>8.0500</td>\n",
              "      <td>NaN</td>\n",
              "      <td>S</td>\n",
              "    </tr>\n",
              "  </tbody>\n",
              "</table>\n",
              "</div>\n",
              "    <div class=\"colab-df-buttons\">\n",
              "\n",
              "  <div class=\"colab-df-container\">\n",
              "    <button class=\"colab-df-convert\" onclick=\"convertToInteractive('df-9f9e4fd9-d0e8-45cc-9f2b-bec5666a0034')\"\n",
              "            title=\"Convert this dataframe to an interactive table.\"\n",
              "            style=\"display:none;\">\n",
              "\n",
              "  <svg xmlns=\"http://www.w3.org/2000/svg\" height=\"24px\" viewBox=\"0 -960 960 960\">\n",
              "    <path d=\"M120-120v-720h720v720H120Zm60-500h600v-160H180v160Zm220 220h160v-160H400v160Zm0 220h160v-160H400v160ZM180-400h160v-160H180v160Zm440 0h160v-160H620v160ZM180-180h160v-160H180v160Zm440 0h160v-160H620v160Z\"/>\n",
              "  </svg>\n",
              "    </button>\n",
              "\n",
              "  <style>\n",
              "    .colab-df-container {\n",
              "      display:flex;\n",
              "      gap: 12px;\n",
              "    }\n",
              "\n",
              "    .colab-df-convert {\n",
              "      background-color: #E8F0FE;\n",
              "      border: none;\n",
              "      border-radius: 50%;\n",
              "      cursor: pointer;\n",
              "      display: none;\n",
              "      fill: #1967D2;\n",
              "      height: 32px;\n",
              "      padding: 0 0 0 0;\n",
              "      width: 32px;\n",
              "    }\n",
              "\n",
              "    .colab-df-convert:hover {\n",
              "      background-color: #E2EBFA;\n",
              "      box-shadow: 0px 1px 2px rgba(60, 64, 67, 0.3), 0px 1px 3px 1px rgba(60, 64, 67, 0.15);\n",
              "      fill: #174EA6;\n",
              "    }\n",
              "\n",
              "    .colab-df-buttons div {\n",
              "      margin-bottom: 4px;\n",
              "    }\n",
              "\n",
              "    [theme=dark] .colab-df-convert {\n",
              "      background-color: #3B4455;\n",
              "      fill: #D2E3FC;\n",
              "    }\n",
              "\n",
              "    [theme=dark] .colab-df-convert:hover {\n",
              "      background-color: #434B5C;\n",
              "      box-shadow: 0px 1px 3px 1px rgba(0, 0, 0, 0.15);\n",
              "      filter: drop-shadow(0px 1px 2px rgba(0, 0, 0, 0.3));\n",
              "      fill: #FFFFFF;\n",
              "    }\n",
              "  </style>\n",
              "\n",
              "    <script>\n",
              "      const buttonEl =\n",
              "        document.querySelector('#df-9f9e4fd9-d0e8-45cc-9f2b-bec5666a0034 button.colab-df-convert');\n",
              "      buttonEl.style.display =\n",
              "        google.colab.kernel.accessAllowed ? 'block' : 'none';\n",
              "\n",
              "      async function convertToInteractive(key) {\n",
              "        const element = document.querySelector('#df-9f9e4fd9-d0e8-45cc-9f2b-bec5666a0034');\n",
              "        const dataTable =\n",
              "          await google.colab.kernel.invokeFunction('convertToInteractive',\n",
              "                                                    [key], {});\n",
              "        if (!dataTable) return;\n",
              "\n",
              "        const docLinkHtml = 'Like what you see? Visit the ' +\n",
              "          '<a target=\"_blank\" href=https://colab.research.google.com/notebooks/data_table.ipynb>data table notebook</a>'\n",
              "          + ' to learn more about interactive tables.';\n",
              "        element.innerHTML = '';\n",
              "        dataTable['output_type'] = 'display_data';\n",
              "        await google.colab.output.renderOutput(dataTable, element);\n",
              "        const docLink = document.createElement('div');\n",
              "        docLink.innerHTML = docLinkHtml;\n",
              "        element.appendChild(docLink);\n",
              "      }\n",
              "    </script>\n",
              "  </div>\n",
              "\n",
              "\n",
              "<div id=\"df-43c04a41-cd94-4daf-9c21-9e1ea51f9d74\">\n",
              "  <button class=\"colab-df-quickchart\" onclick=\"quickchart('df-43c04a41-cd94-4daf-9c21-9e1ea51f9d74')\"\n",
              "            title=\"Suggest charts\"\n",
              "            style=\"display:none;\">\n",
              "\n",
              "<svg xmlns=\"http://www.w3.org/2000/svg\" height=\"24px\"viewBox=\"0 0 24 24\"\n",
              "     width=\"24px\">\n",
              "    <g>\n",
              "        <path d=\"M19 3H5c-1.1 0-2 .9-2 2v14c0 1.1.9 2 2 2h14c1.1 0 2-.9 2-2V5c0-1.1-.9-2-2-2zM9 17H7v-7h2v7zm4 0h-2V7h2v10zm4 0h-2v-4h2v4z\"/>\n",
              "    </g>\n",
              "</svg>\n",
              "  </button>\n",
              "\n",
              "<style>\n",
              "  .colab-df-quickchart {\n",
              "      --bg-color: #E8F0FE;\n",
              "      --fill-color: #1967D2;\n",
              "      --hover-bg-color: #E2EBFA;\n",
              "      --hover-fill-color: #174EA6;\n",
              "      --disabled-fill-color: #AAA;\n",
              "      --disabled-bg-color: #DDD;\n",
              "  }\n",
              "\n",
              "  [theme=dark] .colab-df-quickchart {\n",
              "      --bg-color: #3B4455;\n",
              "      --fill-color: #D2E3FC;\n",
              "      --hover-bg-color: #434B5C;\n",
              "      --hover-fill-color: #FFFFFF;\n",
              "      --disabled-bg-color: #3B4455;\n",
              "      --disabled-fill-color: #666;\n",
              "  }\n",
              "\n",
              "  .colab-df-quickchart {\n",
              "    background-color: var(--bg-color);\n",
              "    border: none;\n",
              "    border-radius: 50%;\n",
              "    cursor: pointer;\n",
              "    display: none;\n",
              "    fill: var(--fill-color);\n",
              "    height: 32px;\n",
              "    padding: 0;\n",
              "    width: 32px;\n",
              "  }\n",
              "\n",
              "  .colab-df-quickchart:hover {\n",
              "    background-color: var(--hover-bg-color);\n",
              "    box-shadow: 0 1px 2px rgba(60, 64, 67, 0.3), 0 1px 3px 1px rgba(60, 64, 67, 0.15);\n",
              "    fill: var(--button-hover-fill-color);\n",
              "  }\n",
              "\n",
              "  .colab-df-quickchart-complete:disabled,\n",
              "  .colab-df-quickchart-complete:disabled:hover {\n",
              "    background-color: var(--disabled-bg-color);\n",
              "    fill: var(--disabled-fill-color);\n",
              "    box-shadow: none;\n",
              "  }\n",
              "\n",
              "  .colab-df-spinner {\n",
              "    border: 2px solid var(--fill-color);\n",
              "    border-color: transparent;\n",
              "    border-bottom-color: var(--fill-color);\n",
              "    animation:\n",
              "      spin 1s steps(1) infinite;\n",
              "  }\n",
              "\n",
              "  @keyframes spin {\n",
              "    0% {\n",
              "      border-color: transparent;\n",
              "      border-bottom-color: var(--fill-color);\n",
              "      border-left-color: var(--fill-color);\n",
              "    }\n",
              "    20% {\n",
              "      border-color: transparent;\n",
              "      border-left-color: var(--fill-color);\n",
              "      border-top-color: var(--fill-color);\n",
              "    }\n",
              "    30% {\n",
              "      border-color: transparent;\n",
              "      border-left-color: var(--fill-color);\n",
              "      border-top-color: var(--fill-color);\n",
              "      border-right-color: var(--fill-color);\n",
              "    }\n",
              "    40% {\n",
              "      border-color: transparent;\n",
              "      border-right-color: var(--fill-color);\n",
              "      border-top-color: var(--fill-color);\n",
              "    }\n",
              "    60% {\n",
              "      border-color: transparent;\n",
              "      border-right-color: var(--fill-color);\n",
              "    }\n",
              "    80% {\n",
              "      border-color: transparent;\n",
              "      border-right-color: var(--fill-color);\n",
              "      border-bottom-color: var(--fill-color);\n",
              "    }\n",
              "    90% {\n",
              "      border-color: transparent;\n",
              "      border-bottom-color: var(--fill-color);\n",
              "    }\n",
              "  }\n",
              "</style>\n",
              "\n",
              "  <script>\n",
              "    async function quickchart(key) {\n",
              "      const quickchartButtonEl =\n",
              "        document.querySelector('#' + key + ' button');\n",
              "      quickchartButtonEl.disabled = true;  // To prevent multiple clicks.\n",
              "      quickchartButtonEl.classList.add('colab-df-spinner');\n",
              "      try {\n",
              "        const charts = await google.colab.kernel.invokeFunction(\n",
              "            'suggestCharts', [key], {});\n",
              "      } catch (error) {\n",
              "        console.error('Error during call to suggestCharts:', error);\n",
              "      }\n",
              "      quickchartButtonEl.classList.remove('colab-df-spinner');\n",
              "      quickchartButtonEl.classList.add('colab-df-quickchart-complete');\n",
              "    }\n",
              "    (() => {\n",
              "      let quickchartButtonEl =\n",
              "        document.querySelector('#df-43c04a41-cd94-4daf-9c21-9e1ea51f9d74 button');\n",
              "      quickchartButtonEl.style.display =\n",
              "        google.colab.kernel.accessAllowed ? 'block' : 'none';\n",
              "    })();\n",
              "  </script>\n",
              "</div>\n",
              "    </div>\n",
              "  </div>\n"
            ],
            "application/vnd.google.colaboratory.intrinsic+json": {
              "type": "dataframe",
              "variable_name": "training",
              "summary": "{\n  \"name\": \"training\",\n  \"rows\": 891,\n  \"fields\": [\n    {\n      \"column\": \"PassengerId\",\n      \"properties\": {\n        \"dtype\": \"number\",\n        \"std\": 257,\n        \"min\": 1,\n        \"max\": 891,\n        \"num_unique_values\": 891,\n        \"samples\": [\n          710,\n          440,\n          841\n        ],\n        \"semantic_type\": \"\",\n        \"description\": \"\"\n      }\n    },\n    {\n      \"column\": \"Survived\",\n      \"properties\": {\n        \"dtype\": \"number\",\n        \"std\": 0,\n        \"min\": 0,\n        \"max\": 1,\n        \"num_unique_values\": 2,\n        \"samples\": [\n          1,\n          0\n        ],\n        \"semantic_type\": \"\",\n        \"description\": \"\"\n      }\n    },\n    {\n      \"column\": \"Pclass\",\n      \"properties\": {\n        \"dtype\": \"number\",\n        \"std\": 0,\n        \"min\": 1,\n        \"max\": 3,\n        \"num_unique_values\": 3,\n        \"samples\": [\n          3,\n          1\n        ],\n        \"semantic_type\": \"\",\n        \"description\": \"\"\n      }\n    },\n    {\n      \"column\": \"Name\",\n      \"properties\": {\n        \"dtype\": \"string\",\n        \"num_unique_values\": 891,\n        \"samples\": [\n          \"Moubarek, Master. Halim Gonios (\\\"William George\\\")\",\n          \"Kvillner, Mr. Johan Henrik Johannesson\"\n        ],\n        \"semantic_type\": \"\",\n        \"description\": \"\"\n      }\n    },\n    {\n      \"column\": \"Sex\",\n      \"properties\": {\n        \"dtype\": \"category\",\n        \"num_unique_values\": 2,\n        \"samples\": [\n          \"female\",\n          \"male\"\n        ],\n        \"semantic_type\": \"\",\n        \"description\": \"\"\n      }\n    },\n    {\n      \"column\": \"Age\",\n      \"properties\": {\n        \"dtype\": \"number\",\n        \"std\": 14.526497332334042,\n        \"min\": 0.42,\n        \"max\": 80.0,\n        \"num_unique_values\": 88,\n        \"samples\": [\n          0.75,\n          22.0\n        ],\n        \"semantic_type\": \"\",\n        \"description\": \"\"\n      }\n    },\n    {\n      \"column\": \"SibSp\",\n      \"properties\": {\n        \"dtype\": \"number\",\n        \"std\": 1,\n        \"min\": 0,\n        \"max\": 8,\n        \"num_unique_values\": 7,\n        \"samples\": [\n          1,\n          0\n        ],\n        \"semantic_type\": \"\",\n        \"description\": \"\"\n      }\n    },\n    {\n      \"column\": \"Parch\",\n      \"properties\": {\n        \"dtype\": \"number\",\n        \"std\": 0,\n        \"min\": 0,\n        \"max\": 6,\n        \"num_unique_values\": 7,\n        \"samples\": [\n          0,\n          1\n        ],\n        \"semantic_type\": \"\",\n        \"description\": \"\"\n      }\n    },\n    {\n      \"column\": \"Ticket\",\n      \"properties\": {\n        \"dtype\": \"string\",\n        \"num_unique_values\": 681,\n        \"samples\": [\n          \"11774\",\n          \"248740\"\n        ],\n        \"semantic_type\": \"\",\n        \"description\": \"\"\n      }\n    },\n    {\n      \"column\": \"Fare\",\n      \"properties\": {\n        \"dtype\": \"number\",\n        \"std\": 49.6934285971809,\n        \"min\": 0.0,\n        \"max\": 512.3292,\n        \"num_unique_values\": 248,\n        \"samples\": [\n          11.2417,\n          51.8625\n        ],\n        \"semantic_type\": \"\",\n        \"description\": \"\"\n      }\n    },\n    {\n      \"column\": \"Cabin\",\n      \"properties\": {\n        \"dtype\": \"category\",\n        \"num_unique_values\": 147,\n        \"samples\": [\n          \"D45\",\n          \"B49\"\n        ],\n        \"semantic_type\": \"\",\n        \"description\": \"\"\n      }\n    },\n    {\n      \"column\": \"Embarked\",\n      \"properties\": {\n        \"dtype\": \"category\",\n        \"num_unique_values\": 3,\n        \"samples\": [\n          \"S\",\n          \"C\"\n        ],\n        \"semantic_type\": \"\",\n        \"description\": \"\"\n      }\n    }\n  ]\n}"
            }
          },
          "metadata": {},
          "execution_count": 13
        }
      ]
    },
    {
      "cell_type": "markdown",
      "source": [
        "### Prepare Data for Decision Tree Model"
      ],
      "metadata": {
        "id": "Vt18WKvB_BIj"
      }
    },
    {
      "cell_type": "markdown",
      "source": [
        "#### a) Replace string data with numeric labels\n",
        "\n",
        "We will use scikit-learn to create the decision trees. The decision tree model we will be using can only handle numeric data. The values for the Gender variable must be transformed into numeric representations. 0 will be used to represent \"male\" and 1 will represent \"female.\"\n",
        "\n",
        "In this code, a lambda expression is used with the apply() dataframe method. This lambda expression represents a function that uses a conditional statement to replace the text values in the columns with the appropriate numeric value. The lambda statement can be interpreted as \"if the parameter toLabel equals 'male', return 0, if the value is something else, return 1.\" The apply() method will execute this function on the values in every row of the \"Gender\" column of the dataframe.\n"
      ],
      "metadata": {
        "id": "NOgtyknH_EyJ"
      }
    },
    {
      "cell_type": "code",
      "source": [
        "#code cell 4\n",
        "training[\"Sex\"] = training[\"Sex\"].apply(lambda toLabel: 0 if toLabel == 'male' else 1)"
      ],
      "metadata": {
        "id": "fStybDfB-_Ih"
      },
      "execution_count": null,
      "outputs": []
    },
    {
      "cell_type": "markdown",
      "source": [
        "#### b) Verify that the Sex variable has been changed"
      ],
      "metadata": {
        "id": "_qMnIDEk_NMK"
      }
    },
    {
      "cell_type": "markdown",
      "source": [
        "The output should show values of 0 or 1 for the Gender variable in the dataset.\n"
      ],
      "metadata": {
        "id": "a_q_VxeN_gpq"
      }
    },
    {
      "cell_type": "code",
      "source": [
        "#code cell 5\n",
        "#view the first few rows of the data again\n",
        "\n",
        "training.head()"
      ],
      "metadata": {
        "colab": {
          "base_uri": "https://localhost:8080/",
          "height": 206
        },
        "id": "tOYw8t0E_Jny",
        "outputId": "2af87278-903c-43f1-b715-569784c9fd41"
      },
      "execution_count": null,
      "outputs": [
        {
          "output_type": "execute_result",
          "data": {
            "text/plain": [
              "   PassengerId  Survived  Pclass  \\\n",
              "0            1         0       3   \n",
              "1            2         1       1   \n",
              "2            3         1       3   \n",
              "3            4         1       1   \n",
              "4            5         0       3   \n",
              "\n",
              "                                                Name  Sex   Age  SibSp  Parch  \\\n",
              "0                            Braund, Mr. Owen Harris    0  22.0      1      0   \n",
              "1  Cumings, Mrs. John Bradley (Florence Briggs Th...    1  38.0      1      0   \n",
              "2                             Heikkinen, Miss. Laina    1  26.0      0      0   \n",
              "3       Futrelle, Mrs. Jacques Heath (Lily May Peel)    1  35.0      1      0   \n",
              "4                           Allen, Mr. William Henry    0  35.0      0      0   \n",
              "\n",
              "             Ticket     Fare Cabin Embarked  \n",
              "0         A/5 21171   7.2500   NaN        S  \n",
              "1          PC 17599  71.2833   C85        C  \n",
              "2  STON/O2. 3101282   7.9250   NaN        S  \n",
              "3            113803  53.1000  C123        S  \n",
              "4            373450   8.0500   NaN        S  "
            ],
            "text/html": [
              "\n",
              "  <div id=\"df-88aa0000-186f-48a7-80c2-d76030da2b94\" class=\"colab-df-container\">\n",
              "    <div>\n",
              "<style scoped>\n",
              "    .dataframe tbody tr th:only-of-type {\n",
              "        vertical-align: middle;\n",
              "    }\n",
              "\n",
              "    .dataframe tbody tr th {\n",
              "        vertical-align: top;\n",
              "    }\n",
              "\n",
              "    .dataframe thead th {\n",
              "        text-align: right;\n",
              "    }\n",
              "</style>\n",
              "<table border=\"1\" class=\"dataframe\">\n",
              "  <thead>\n",
              "    <tr style=\"text-align: right;\">\n",
              "      <th></th>\n",
              "      <th>PassengerId</th>\n",
              "      <th>Survived</th>\n",
              "      <th>Pclass</th>\n",
              "      <th>Name</th>\n",
              "      <th>Sex</th>\n",
              "      <th>Age</th>\n",
              "      <th>SibSp</th>\n",
              "      <th>Parch</th>\n",
              "      <th>Ticket</th>\n",
              "      <th>Fare</th>\n",
              "      <th>Cabin</th>\n",
              "      <th>Embarked</th>\n",
              "    </tr>\n",
              "  </thead>\n",
              "  <tbody>\n",
              "    <tr>\n",
              "      <th>0</th>\n",
              "      <td>1</td>\n",
              "      <td>0</td>\n",
              "      <td>3</td>\n",
              "      <td>Braund, Mr. Owen Harris</td>\n",
              "      <td>0</td>\n",
              "      <td>22.0</td>\n",
              "      <td>1</td>\n",
              "      <td>0</td>\n",
              "      <td>A/5 21171</td>\n",
              "      <td>7.2500</td>\n",
              "      <td>NaN</td>\n",
              "      <td>S</td>\n",
              "    </tr>\n",
              "    <tr>\n",
              "      <th>1</th>\n",
              "      <td>2</td>\n",
              "      <td>1</td>\n",
              "      <td>1</td>\n",
              "      <td>Cumings, Mrs. John Bradley (Florence Briggs Th...</td>\n",
              "      <td>1</td>\n",
              "      <td>38.0</td>\n",
              "      <td>1</td>\n",
              "      <td>0</td>\n",
              "      <td>PC 17599</td>\n",
              "      <td>71.2833</td>\n",
              "      <td>C85</td>\n",
              "      <td>C</td>\n",
              "    </tr>\n",
              "    <tr>\n",
              "      <th>2</th>\n",
              "      <td>3</td>\n",
              "      <td>1</td>\n",
              "      <td>3</td>\n",
              "      <td>Heikkinen, Miss. Laina</td>\n",
              "      <td>1</td>\n",
              "      <td>26.0</td>\n",
              "      <td>0</td>\n",
              "      <td>0</td>\n",
              "      <td>STON/O2. 3101282</td>\n",
              "      <td>7.9250</td>\n",
              "      <td>NaN</td>\n",
              "      <td>S</td>\n",
              "    </tr>\n",
              "    <tr>\n",
              "      <th>3</th>\n",
              "      <td>4</td>\n",
              "      <td>1</td>\n",
              "      <td>1</td>\n",
              "      <td>Futrelle, Mrs. Jacques Heath (Lily May Peel)</td>\n",
              "      <td>1</td>\n",
              "      <td>35.0</td>\n",
              "      <td>1</td>\n",
              "      <td>0</td>\n",
              "      <td>113803</td>\n",
              "      <td>53.1000</td>\n",
              "      <td>C123</td>\n",
              "      <td>S</td>\n",
              "    </tr>\n",
              "    <tr>\n",
              "      <th>4</th>\n",
              "      <td>5</td>\n",
              "      <td>0</td>\n",
              "      <td>3</td>\n",
              "      <td>Allen, Mr. William Henry</td>\n",
              "      <td>0</td>\n",
              "      <td>35.0</td>\n",
              "      <td>0</td>\n",
              "      <td>0</td>\n",
              "      <td>373450</td>\n",
              "      <td>8.0500</td>\n",
              "      <td>NaN</td>\n",
              "      <td>S</td>\n",
              "    </tr>\n",
              "  </tbody>\n",
              "</table>\n",
              "</div>\n",
              "    <div class=\"colab-df-buttons\">\n",
              "\n",
              "  <div class=\"colab-df-container\">\n",
              "    <button class=\"colab-df-convert\" onclick=\"convertToInteractive('df-88aa0000-186f-48a7-80c2-d76030da2b94')\"\n",
              "            title=\"Convert this dataframe to an interactive table.\"\n",
              "            style=\"display:none;\">\n",
              "\n",
              "  <svg xmlns=\"http://www.w3.org/2000/svg\" height=\"24px\" viewBox=\"0 -960 960 960\">\n",
              "    <path d=\"M120-120v-720h720v720H120Zm60-500h600v-160H180v160Zm220 220h160v-160H400v160Zm0 220h160v-160H400v160ZM180-400h160v-160H180v160Zm440 0h160v-160H620v160ZM180-180h160v-160H180v160Zm440 0h160v-160H620v160Z\"/>\n",
              "  </svg>\n",
              "    </button>\n",
              "\n",
              "  <style>\n",
              "    .colab-df-container {\n",
              "      display:flex;\n",
              "      gap: 12px;\n",
              "    }\n",
              "\n",
              "    .colab-df-convert {\n",
              "      background-color: #E8F0FE;\n",
              "      border: none;\n",
              "      border-radius: 50%;\n",
              "      cursor: pointer;\n",
              "      display: none;\n",
              "      fill: #1967D2;\n",
              "      height: 32px;\n",
              "      padding: 0 0 0 0;\n",
              "      width: 32px;\n",
              "    }\n",
              "\n",
              "    .colab-df-convert:hover {\n",
              "      background-color: #E2EBFA;\n",
              "      box-shadow: 0px 1px 2px rgba(60, 64, 67, 0.3), 0px 1px 3px 1px rgba(60, 64, 67, 0.15);\n",
              "      fill: #174EA6;\n",
              "    }\n",
              "\n",
              "    .colab-df-buttons div {\n",
              "      margin-bottom: 4px;\n",
              "    }\n",
              "\n",
              "    [theme=dark] .colab-df-convert {\n",
              "      background-color: #3B4455;\n",
              "      fill: #D2E3FC;\n",
              "    }\n",
              "\n",
              "    [theme=dark] .colab-df-convert:hover {\n",
              "      background-color: #434B5C;\n",
              "      box-shadow: 0px 1px 3px 1px rgba(0, 0, 0, 0.15);\n",
              "      filter: drop-shadow(0px 1px 2px rgba(0, 0, 0, 0.3));\n",
              "      fill: #FFFFFF;\n",
              "    }\n",
              "  </style>\n",
              "\n",
              "    <script>\n",
              "      const buttonEl =\n",
              "        document.querySelector('#df-88aa0000-186f-48a7-80c2-d76030da2b94 button.colab-df-convert');\n",
              "      buttonEl.style.display =\n",
              "        google.colab.kernel.accessAllowed ? 'block' : 'none';\n",
              "\n",
              "      async function convertToInteractive(key) {\n",
              "        const element = document.querySelector('#df-88aa0000-186f-48a7-80c2-d76030da2b94');\n",
              "        const dataTable =\n",
              "          await google.colab.kernel.invokeFunction('convertToInteractive',\n",
              "                                                    [key], {});\n",
              "        if (!dataTable) return;\n",
              "\n",
              "        const docLinkHtml = 'Like what you see? Visit the ' +\n",
              "          '<a target=\"_blank\" href=https://colab.research.google.com/notebooks/data_table.ipynb>data table notebook</a>'\n",
              "          + ' to learn more about interactive tables.';\n",
              "        element.innerHTML = '';\n",
              "        dataTable['output_type'] = 'display_data';\n",
              "        await google.colab.output.renderOutput(dataTable, element);\n",
              "        const docLink = document.createElement('div');\n",
              "        docLink.innerHTML = docLinkHtml;\n",
              "        element.appendChild(docLink);\n",
              "      }\n",
              "    </script>\n",
              "  </div>\n",
              "\n",
              "\n",
              "<div id=\"df-f2c62d59-3894-46d9-bae8-3d5dd4d83a3a\">\n",
              "  <button class=\"colab-df-quickchart\" onclick=\"quickchart('df-f2c62d59-3894-46d9-bae8-3d5dd4d83a3a')\"\n",
              "            title=\"Suggest charts\"\n",
              "            style=\"display:none;\">\n",
              "\n",
              "<svg xmlns=\"http://www.w3.org/2000/svg\" height=\"24px\"viewBox=\"0 0 24 24\"\n",
              "     width=\"24px\">\n",
              "    <g>\n",
              "        <path d=\"M19 3H5c-1.1 0-2 .9-2 2v14c0 1.1.9 2 2 2h14c1.1 0 2-.9 2-2V5c0-1.1-.9-2-2-2zM9 17H7v-7h2v7zm4 0h-2V7h2v10zm4 0h-2v-4h2v4z\"/>\n",
              "    </g>\n",
              "</svg>\n",
              "  </button>\n",
              "\n",
              "<style>\n",
              "  .colab-df-quickchart {\n",
              "      --bg-color: #E8F0FE;\n",
              "      --fill-color: #1967D2;\n",
              "      --hover-bg-color: #E2EBFA;\n",
              "      --hover-fill-color: #174EA6;\n",
              "      --disabled-fill-color: #AAA;\n",
              "      --disabled-bg-color: #DDD;\n",
              "  }\n",
              "\n",
              "  [theme=dark] .colab-df-quickchart {\n",
              "      --bg-color: #3B4455;\n",
              "      --fill-color: #D2E3FC;\n",
              "      --hover-bg-color: #434B5C;\n",
              "      --hover-fill-color: #FFFFFF;\n",
              "      --disabled-bg-color: #3B4455;\n",
              "      --disabled-fill-color: #666;\n",
              "  }\n",
              "\n",
              "  .colab-df-quickchart {\n",
              "    background-color: var(--bg-color);\n",
              "    border: none;\n",
              "    border-radius: 50%;\n",
              "    cursor: pointer;\n",
              "    display: none;\n",
              "    fill: var(--fill-color);\n",
              "    height: 32px;\n",
              "    padding: 0;\n",
              "    width: 32px;\n",
              "  }\n",
              "\n",
              "  .colab-df-quickchart:hover {\n",
              "    background-color: var(--hover-bg-color);\n",
              "    box-shadow: 0 1px 2px rgba(60, 64, 67, 0.3), 0 1px 3px 1px rgba(60, 64, 67, 0.15);\n",
              "    fill: var(--button-hover-fill-color);\n",
              "  }\n",
              "\n",
              "  .colab-df-quickchart-complete:disabled,\n",
              "  .colab-df-quickchart-complete:disabled:hover {\n",
              "    background-color: var(--disabled-bg-color);\n",
              "    fill: var(--disabled-fill-color);\n",
              "    box-shadow: none;\n",
              "  }\n",
              "\n",
              "  .colab-df-spinner {\n",
              "    border: 2px solid var(--fill-color);\n",
              "    border-color: transparent;\n",
              "    border-bottom-color: var(--fill-color);\n",
              "    animation:\n",
              "      spin 1s steps(1) infinite;\n",
              "  }\n",
              "\n",
              "  @keyframes spin {\n",
              "    0% {\n",
              "      border-color: transparent;\n",
              "      border-bottom-color: var(--fill-color);\n",
              "      border-left-color: var(--fill-color);\n",
              "    }\n",
              "    20% {\n",
              "      border-color: transparent;\n",
              "      border-left-color: var(--fill-color);\n",
              "      border-top-color: var(--fill-color);\n",
              "    }\n",
              "    30% {\n",
              "      border-color: transparent;\n",
              "      border-left-color: var(--fill-color);\n",
              "      border-top-color: var(--fill-color);\n",
              "      border-right-color: var(--fill-color);\n",
              "    }\n",
              "    40% {\n",
              "      border-color: transparent;\n",
              "      border-right-color: var(--fill-color);\n",
              "      border-top-color: var(--fill-color);\n",
              "    }\n",
              "    60% {\n",
              "      border-color: transparent;\n",
              "      border-right-color: var(--fill-color);\n",
              "    }\n",
              "    80% {\n",
              "      border-color: transparent;\n",
              "      border-right-color: var(--fill-color);\n",
              "      border-bottom-color: var(--fill-color);\n",
              "    }\n",
              "    90% {\n",
              "      border-color: transparent;\n",
              "      border-bottom-color: var(--fill-color);\n",
              "    }\n",
              "  }\n",
              "</style>\n",
              "\n",
              "  <script>\n",
              "    async function quickchart(key) {\n",
              "      const quickchartButtonEl =\n",
              "        document.querySelector('#' + key + ' button');\n",
              "      quickchartButtonEl.disabled = true;  // To prevent multiple clicks.\n",
              "      quickchartButtonEl.classList.add('colab-df-spinner');\n",
              "      try {\n",
              "        const charts = await google.colab.kernel.invokeFunction(\n",
              "            'suggestCharts', [key], {});\n",
              "      } catch (error) {\n",
              "        console.error('Error during call to suggestCharts:', error);\n",
              "      }\n",
              "      quickchartButtonEl.classList.remove('colab-df-spinner');\n",
              "      quickchartButtonEl.classList.add('colab-df-quickchart-complete');\n",
              "    }\n",
              "    (() => {\n",
              "      let quickchartButtonEl =\n",
              "        document.querySelector('#df-f2c62d59-3894-46d9-bae8-3d5dd4d83a3a button');\n",
              "      quickchartButtonEl.style.display =\n",
              "        google.colab.kernel.accessAllowed ? 'block' : 'none';\n",
              "    })();\n",
              "  </script>\n",
              "</div>\n",
              "    </div>\n",
              "  </div>\n"
            ],
            "application/vnd.google.colaboratory.intrinsic+json": {
              "type": "dataframe",
              "variable_name": "training",
              "summary": "{\n  \"name\": \"training\",\n  \"rows\": 891,\n  \"fields\": [\n    {\n      \"column\": \"PassengerId\",\n      \"properties\": {\n        \"dtype\": \"number\",\n        \"std\": 257,\n        \"min\": 1,\n        \"max\": 891,\n        \"num_unique_values\": 891,\n        \"samples\": [\n          710,\n          440,\n          841\n        ],\n        \"semantic_type\": \"\",\n        \"description\": \"\"\n      }\n    },\n    {\n      \"column\": \"Survived\",\n      \"properties\": {\n        \"dtype\": \"number\",\n        \"std\": 0,\n        \"min\": 0,\n        \"max\": 1,\n        \"num_unique_values\": 2,\n        \"samples\": [\n          1,\n          0\n        ],\n        \"semantic_type\": \"\",\n        \"description\": \"\"\n      }\n    },\n    {\n      \"column\": \"Pclass\",\n      \"properties\": {\n        \"dtype\": \"number\",\n        \"std\": 0,\n        \"min\": 1,\n        \"max\": 3,\n        \"num_unique_values\": 3,\n        \"samples\": [\n          3,\n          1\n        ],\n        \"semantic_type\": \"\",\n        \"description\": \"\"\n      }\n    },\n    {\n      \"column\": \"Name\",\n      \"properties\": {\n        \"dtype\": \"string\",\n        \"num_unique_values\": 891,\n        \"samples\": [\n          \"Moubarek, Master. Halim Gonios (\\\"William George\\\")\",\n          \"Kvillner, Mr. Johan Henrik Johannesson\"\n        ],\n        \"semantic_type\": \"\",\n        \"description\": \"\"\n      }\n    },\n    {\n      \"column\": \"Sex\",\n      \"properties\": {\n        \"dtype\": \"number\",\n        \"std\": 0,\n        \"min\": 0,\n        \"max\": 1,\n        \"num_unique_values\": 2,\n        \"samples\": [\n          1,\n          0\n        ],\n        \"semantic_type\": \"\",\n        \"description\": \"\"\n      }\n    },\n    {\n      \"column\": \"Age\",\n      \"properties\": {\n        \"dtype\": \"number\",\n        \"std\": 14.526497332334042,\n        \"min\": 0.42,\n        \"max\": 80.0,\n        \"num_unique_values\": 88,\n        \"samples\": [\n          0.75,\n          22.0\n        ],\n        \"semantic_type\": \"\",\n        \"description\": \"\"\n      }\n    },\n    {\n      \"column\": \"SibSp\",\n      \"properties\": {\n        \"dtype\": \"number\",\n        \"std\": 1,\n        \"min\": 0,\n        \"max\": 8,\n        \"num_unique_values\": 7,\n        \"samples\": [\n          1,\n          0\n        ],\n        \"semantic_type\": \"\",\n        \"description\": \"\"\n      }\n    },\n    {\n      \"column\": \"Parch\",\n      \"properties\": {\n        \"dtype\": \"number\",\n        \"std\": 0,\n        \"min\": 0,\n        \"max\": 6,\n        \"num_unique_values\": 7,\n        \"samples\": [\n          0,\n          1\n        ],\n        \"semantic_type\": \"\",\n        \"description\": \"\"\n      }\n    },\n    {\n      \"column\": \"Ticket\",\n      \"properties\": {\n        \"dtype\": \"string\",\n        \"num_unique_values\": 681,\n        \"samples\": [\n          \"11774\",\n          \"248740\"\n        ],\n        \"semantic_type\": \"\",\n        \"description\": \"\"\n      }\n    },\n    {\n      \"column\": \"Fare\",\n      \"properties\": {\n        \"dtype\": \"number\",\n        \"std\": 49.6934285971809,\n        \"min\": 0.0,\n        \"max\": 512.3292,\n        \"num_unique_values\": 248,\n        \"samples\": [\n          11.2417,\n          51.8625\n        ],\n        \"semantic_type\": \"\",\n        \"description\": \"\"\n      }\n    },\n    {\n      \"column\": \"Cabin\",\n      \"properties\": {\n        \"dtype\": \"category\",\n        \"num_unique_values\": 147,\n        \"samples\": [\n          \"D45\",\n          \"B49\"\n        ],\n        \"semantic_type\": \"\",\n        \"description\": \"\"\n      }\n    },\n    {\n      \"column\": \"Embarked\",\n      \"properties\": {\n        \"dtype\": \"category\",\n        \"num_unique_values\": 3,\n        \"samples\": [\n          \"S\",\n          \"C\"\n        ],\n        \"semantic_type\": \"\",\n        \"description\": \"\"\n      }\n    }\n  ]\n}"
            }
          },
          "metadata": {},
          "execution_count": 15
        }
      ]
    },
    {
      "cell_type": "markdown",
      "source": [
        "**Remarks**: Based on some of the entries shown above, the values for the column Sex have been replaced successfully."
      ],
      "metadata": {
        "id": "nADcAJCtBSei"
      }
    },
    {
      "cell_type": "markdown",
      "source": [
        "#### c) Address Missing Values in the Dataset"
      ],
      "metadata": {
        "id": "qZbCfkwA_UF7"
      }
    },
    {
      "cell_type": "markdown",
      "source": [
        "The output of the info() method above indicated that about 180 observations are missing the age value. The age value is important to our analysis. We must address these missing values in some way. While not ideal, we can replace these missing age values with the mean of the ages for the entire dataset.\n",
        "\n",
        "This is done by using the fillna() method on the \"Age\" column in the dataset. The fillna() method will\n",
        "change the original dataframe by using the inplace = True argument."
      ],
      "metadata": {
        "id": "xPoIwJ-S_ick"
      }
    },
    {
      "cell_type": "code",
      "source": [
        "#code cell 6\n",
        "training[\"Age\"].fillna(training[\"Age\"].mean(), inplace=True)"
      ],
      "metadata": {
        "id": "GY4Nk3ZM_Shx"
      },
      "execution_count": null,
      "outputs": []
    },
    {
      "cell_type": "markdown",
      "source": [
        "#### d) Verify that the values have been replaced"
      ],
      "metadata": {
        "id": "A3Yv8oTR_k8Z"
      }
    },
    {
      "cell_type": "code",
      "source": [
        "#code cell 7\n",
        "#verify that the missing values for the age variable have been eliminated.\n",
        "\n",
        "training.info()"
      ],
      "metadata": {
        "colab": {
          "base_uri": "https://localhost:8080/"
        },
        "id": "s-b716DX_X7C",
        "outputId": "d653c9db-7951-40df-8078-ac08afad2b85"
      },
      "execution_count": null,
      "outputs": [
        {
          "output_type": "stream",
          "name": "stdout",
          "text": [
            "<class 'pandas.core.frame.DataFrame'>\n",
            "RangeIndex: 891 entries, 0 to 890\n",
            "Data columns (total 12 columns):\n",
            " #   Column       Non-Null Count  Dtype  \n",
            "---  ------       --------------  -----  \n",
            " 0   PassengerId  891 non-null    int64  \n",
            " 1   Survived     891 non-null    int64  \n",
            " 2   Pclass       891 non-null    int64  \n",
            " 3   Name         891 non-null    object \n",
            " 4   Sex          891 non-null    int64  \n",
            " 5   Age          891 non-null    float64\n",
            " 6   SibSp        891 non-null    int64  \n",
            " 7   Parch        891 non-null    int64  \n",
            " 8   Ticket       891 non-null    object \n",
            " 9   Fare         891 non-null    float64\n",
            " 10  Cabin        204 non-null    object \n",
            " 11  Embarked     889 non-null    object \n",
            "dtypes: float64(2), int64(6), object(4)\n",
            "memory usage: 83.7+ KB\n"
          ]
        }
      ]
    },
    {
      "cell_type": "markdown",
      "source": [
        "**Remarks**: From the results above, we can verify that there are no missing values in the Age column."
      ],
      "metadata": {
        "id": "Fy_AGah0CYty"
      }
    },
    {
      "cell_type": "markdown",
      "source": [
        "What is the value that was used to replace the missing ages?"
      ],
      "metadata": {
        "id": "73BKnU8S8oMn"
      }
    },
    {
      "cell_type": "code",
      "source": [
        "# the values used to replace the missing ages:\n",
        "\n",
        "text = \"The value used to replace the missing ages is: {value}\".format(value = training[\"Age\"].mean())\n",
        "print(text)"
      ],
      "metadata": {
        "colab": {
          "base_uri": "https://localhost:8080/"
        },
        "id": "NFb-GAhH8pR5",
        "outputId": "3b106443-f1d2-4d3f-b922-76c3255a5699"
      },
      "execution_count": null,
      "outputs": [
        {
          "output_type": "stream",
          "name": "stdout",
          "text": [
            "The value used to replace the missing ages is: 29.69911764705882\n"
          ]
        }
      ]
    },
    {
      "cell_type": "markdown",
      "source": [
        "### Train and Score the Decision Tree Model"
      ],
      "metadata": {
        "id": "x2FbCEEhAWKh"
      }
    },
    {
      "cell_type": "markdown",
      "source": [
        "####  a) Create an array object with the variable that will be the target for the model.\n",
        "\n",
        "The purpose of the model is to classify passengers as survivors or victims. The dataset identifies survivors and\n",
        "victims. The model will learn which input variable values are most likely to belong to victims and survivors, and\n",
        "then use that information to classify passengers from a unique test data set."
      ],
      "metadata": {
        "id": "OxL_zh9cAYrr"
      }
    },
    {
      "cell_type": "code",
      "source": [
        "#code cell 8\n",
        "#create the array for the target values\n",
        "y_target = training[\"Survived\"].values"
      ],
      "metadata": {
        "id": "ME4YCPqx_t0S"
      },
      "execution_count": null,
      "outputs": []
    },
    {
      "cell_type": "markdown",
      "source": [
        "#### b) Create an array of the values that will be the input for the model.\n",
        "\n",
        "Only some of the features of the data are useful for creating the classifier tree. We create a list of the columns\n",
        "from the data that we want the classifier to use as the input variables and then create an array using the column\n",
        "name from that variable. The variable X_input holds the values for all the features that the model will use to\n",
        "learn how to make the classifications. After the model is trained, we will use this variable to assign these labels\n",
        "to the test data set"
      ],
      "metadata": {
        "id": "MQmMKLVQAjph"
      }
    },
    {
      "cell_type": "code",
      "source": [
        "#code cell 9\n",
        "columns = [\"Fare\", \"Pclass\", \"Sex\", \"Age\", \"SibSp\"]\n",
        "\n",
        "#create the variable to hold the features that the classifier will use\n",
        "X_input = training[list(columns)].values"
      ],
      "metadata": {
        "id": "aQ6VVb--Acux"
      },
      "execution_count": null,
      "outputs": []
    },
    {
      "cell_type": "markdown",
      "source": [
        "#### c) Create the learned model.\n",
        "\n",
        "Import the decision tree module from the sklearn machine learning library. Create the classifier object\n",
        "clf_train. Then, use the fit() method of the classifier object, with the X_input and y_target variables as\n",
        "parameters, to train the model.\n"
      ],
      "metadata": {
        "id": "VU2IAEMMAs-y"
      }
    },
    {
      "cell_type": "code",
      "source": [
        "#code cell 10\n",
        "#import the tree module from the sklearn library\n",
        "from sklearn import tree\n",
        "\n",
        "#create clf_train as a decision tree classifier object\n",
        "clf_train = tree.DecisionTreeClassifier(criterion=\"entropy\", max_depth=3)\n",
        "\n",
        "#train the model using the fit() method of the decision tree object.\n",
        "#Supply the method with the input variable X_input and the target variable y_target\n",
        "clf_train = clf_train.fit(X_input, y_target)"
      ],
      "metadata": {
        "id": "dl6zL-JmAowB"
      },
      "execution_count": null,
      "outputs": []
    },
    {
      "cell_type": "markdown",
      "source": [
        "#### d) Evaluate the model\n",
        "\n",
        "Use the score() method of the decision tree object to display the percentage accuracy of the assignments\n",
        "made by the classifier. It takes the input and target variables as arguments."
      ],
      "metadata": {
        "id": "uLdnr2RgA3PR"
      }
    },
    {
      "cell_type": "code",
      "source": [
        "#code cell 11\n",
        "clf_train.score(X_input,y_target)\n"
      ],
      "metadata": {
        "colab": {
          "base_uri": "https://localhost:8080/"
        },
        "id": "NlgHzUUGA4lL",
        "outputId": "f0176328-fd4e-4803-c2aa-0134221e81f4"
      },
      "execution_count": null,
      "outputs": [
        {
          "output_type": "execute_result",
          "data": {
            "text/plain": [
              "0.8226711560044894"
            ]
          },
          "metadata": {},
          "execution_count": 21
        }
      ]
    },
    {
      "cell_type": "markdown",
      "source": [
        "**Remarks**: According to the output above, the model is correct approximately 82% of the time."
      ],
      "metadata": {
        "id": "_WoDxmrnA8mI"
      }
    },
    {
      "cell_type": "markdown",
      "source": [
        "### Visualize the Tree"
      ],
      "metadata": {
        "id": "bkbTjwBlBEka"
      }
    },
    {
      "cell_type": "markdown",
      "source": [
        "####  a) Create the intermediate file output\n",
        "\n",
        "Import the sklearn.externals.six StringIO module which is used to output the characteristics of the\n",
        "decision tree to a file. We will create a Graphviz dot file which will allow us to export the results of the classifier\n",
        "into a format that can be converted into a graphic."
      ],
      "metadata": {
        "id": "y2R-4-8HBKCR"
      }
    },
    {
      "cell_type": "code",
      "source": [
        "import six\n",
        "import sys\n",
        "sys.modules['sklearn.externals.six'] = six"
      ],
      "metadata": {
        "id": "CSiORTtmRCpo"
      },
      "execution_count": null,
      "outputs": []
    },
    {
      "cell_type": "code",
      "source": [
        "#Code cell 12\n",
        "from sklearn.externals.six import StringIO\n",
        "with open(\"titanic.dot\", 'w') as f:\n",
        "  f = tree.export_graphviz(clf_train, out_file=f, feature_names=columns)"
      ],
      "metadata": {
        "id": "QzRPwk_cA6xh"
      },
      "execution_count": null,
      "outputs": []
    },
    {
      "cell_type": "markdown",
      "source": [
        "#### b) Install Graphviz\n",
        "\n",
        "To visualize the decision tree, Graphviz needs to be installed from a terminal. The installation requires that a\n",
        "prompt be answered, which can't be done from a notebook code cell. Use the apt-get install graphviz\n",
        "command from the terminal command line to install this software."
      ],
      "metadata": {
        "id": "SESHOlThC97p"
      }
    },
    {
      "cell_type": "code",
      "source": [
        "!pip install graphviz"
      ],
      "metadata": {
        "colab": {
          "base_uri": "https://localhost:8080/"
        },
        "id": "4Up5GAifBRV7",
        "outputId": "250759c6-a614-4265-977c-928d0507a61b"
      },
      "execution_count": null,
      "outputs": [
        {
          "output_type": "stream",
          "name": "stdout",
          "text": [
            "Requirement already satisfied: graphviz in /usr/local/lib/python3.10/dist-packages (0.20.1)\n"
          ]
        }
      ]
    },
    {
      "cell_type": "markdown",
      "source": [
        "#### c) Convert the intermediate file to a graphic\n",
        "\n",
        "The dot file that was created above can be converted to a .png file with the graphiz dot renderer. This is a shell\n",
        "command, so use ! before it to run it from this noteblook. The new titanic.png graphic file should appear in the\n",
        "directory that contains this notebook.\n"
      ],
      "metadata": {
        "id": "q62vBT6nDDdJ"
      }
    },
    {
      "cell_type": "code",
      "source": [
        "#code cell 13\n",
        "#run the Graphviz dot command to convert the .dot file to .png\n",
        "!dot -Tpng titanic.dot -o titanic.png"
      ],
      "metadata": {
        "id": "jLjx4XJ2DCHh"
      },
      "execution_count": null,
      "outputs": []
    },
    {
      "cell_type": "markdown",
      "source": [
        "#### d) Display the image\n",
        "\n",
        "Now we will import the Image module from the IPython.display library. This will allow us to open and display\n",
        "an external graphics file on the notebook page. The Image function is used to display the file, with the .png file\n",
        "name as argument."
      ],
      "metadata": {
        "id": "BohOVIdkEABi"
      }
    },
    {
      "cell_type": "code",
      "source": [
        "#code cell 14\n",
        "#import the Image module from the Ipython.display libary\n",
        "from IPython.display import Image\n",
        "#display the decison tree graphic\n",
        "Image(\"titanic.png\")\n"
      ],
      "metadata": {
        "id": "DItqDXUBEBTB",
        "colab": {
          "base_uri": "https://localhost:8080/",
          "height": 514
        },
        "outputId": "2e3fd91d-9b2d-4d4c-dd5f-c8a9010210d4"
      },
      "execution_count": null,
      "outputs": [
        {
          "output_type": "execute_result",
          "data": {
            "image/png": "[encoded data removed]",
            "text/plain": [
              "<IPython.core.display.Image object>"
            ]
          },
          "metadata": {},
          "execution_count": 29
        }
      ]
    },
    {
      "cell_type": "markdown",
      "source": [
        "#### e) Interpret the tree\n",
        "\n",
        "From the tree, we can see several things. First, at the root of the tree is the Gender variable, indicating that it is the single most important factor in making the classification. The branches to the left are for Gender = 0 or male.Each root and intermediate node contains the decision factor, the entropy, and the number of passengers who fit the critierion at that point in the tree. For example, the root node indicates that there are 891 observations that make up the learning data set. At the next level, we can see that 577 people were male, and 314 were female. In the third level, at the far right, we can see that 415 people were male and paid a fare of less than 26.2686.\n",
        "\n",
        "Finally, the leaf nodes for that intermediate node indicate that 15 of these passengers were below the age of\n",
        "13.5, and the other 400 were older than that age.\n",
        "\n",
        "Finally, the elements in the value array indicate survival. The first value is the number of people who died, and\n",
        "the second is the number of survivors for each criterion. The root node tells us that out of our sample, 549\n",
        "people died and 342 survived.\n",
        "Entropy is a measure of noise in the decision. Noise can be viewed as uncertainty. For example, in nodes in\n",
        "which the decision results in equal values in the survival value array, the entropy is at its highest possible value,\n",
        "which is 1.0. This means that the model was unable to definitively make the classification decision based on the\n",
        "input variables. For values of very low entropy, the decision was much more clear cut, and the difference in the\n",
        "number of survivors and victims is much higher"
      ],
      "metadata": {
        "id": "ihBatr1mEEj6"
      }
    },
    {
      "cell_type": "markdown",
      "source": [
        "What describes the group that had the most deaths by number? Which group had the most survivors?\n",
        "\n",
        "**Remarks**: People who paid a fare less than 26.269 had the most number of deaths. In addition, we can also see that in the tree, more female passengers survived compared to male passengers."
      ],
      "metadata": {
        "id": "N9FDq7a59rnl"
      }
    },
    {
      "cell_type": "markdown",
      "source": [
        "### Part 2: Apply the Decision Tree Model\n",
        "\n",
        "In this part of the lab, we will use the results of the learned decision tree model to label an unlabelled dataset of\n",
        "Titanic passengers. The decision tree will evaluate the features of each observation and label the observation as\n",
        "survived (label = 1) or died (label = 0)."
      ],
      "metadata": {
        "id": "CnBdHuisEJ27"
      }
    },
    {
      "cell_type": "markdown",
      "source": [
        "#### Step 1: Import and Prepare the Data\n",
        "\n",
        "In this step, you will import and prepare the data for analysis.\n"
      ],
      "metadata": {
        "id": "YA7340SSEQ1C"
      }
    },
    {
      "cell_type": "markdown",
      "source": [
        "#### a) Import the data.\n",
        "\n",
        "Name the dataframe \"testing\" and import the file titanic-test.csv.\n"
      ],
      "metadata": {
        "id": "u8IvOnAuEz1C"
      }
    },
    {
      "cell_type": "code",
      "source": [
        "#code cell 15\n",
        "#import the file into the 'testing' dataframe.\n",
        "testing = pd.read_csv(\"titanic_test.csv\")\n"
      ],
      "metadata": {
        "id": "kfyTcfsHEOXB"
      },
      "execution_count": null,
      "outputs": []
    },
    {
      "cell_type": "code",
      "source": [
        "testing.head()"
      ],
      "metadata": {
        "colab": {
          "base_uri": "https://localhost:8080/",
          "height": 206
        },
        "id": "Da6zD3-IFJvB",
        "outputId": "900c1f61-4754-41cd-99dd-78ef88fcb946"
      },
      "execution_count": null,
      "outputs": [
        {
          "output_type": "execute_result",
          "data": {
            "text/plain": [
              "   PassengerId  Pclass                                          Name     Sex  \\\n",
              "0          892       3                              Kelly, Mr. James    male   \n",
              "1          893       3              Wilkes, Mrs. James (Ellen Needs)  female   \n",
              "2          894       2                     Myles, Mr. Thomas Francis    male   \n",
              "3          895       3                              Wirz, Mr. Albert    male   \n",
              "4          896       3  Hirvonen, Mrs. Alexander (Helga E Lindqvist)  female   \n",
              "\n",
              "    Age  SibSp  Parch   Ticket     Fare Cabin Embarked  \n",
              "0  34.5      0      0   330911   7.8292   NaN        Q  \n",
              "1  47.0      1      0   363272   7.0000   NaN        S  \n",
              "2  62.0      0      0   240276   9.6875   NaN        Q  \n",
              "3  27.0      0      0   315154   8.6625   NaN        S  \n",
              "4  22.0      1      1  3101298  12.2875   NaN        S  "
            ],
            "text/html": [
              "\n",
              "  <div id=\"df-ddc7d94c-7fbe-484e-a450-d97564c49750\" class=\"colab-df-container\">\n",
              "    <div>\n",
              "<style scoped>\n",
              "    .dataframe tbody tr th:only-of-type {\n",
              "        vertical-align: middle;\n",
              "    }\n",
              "\n",
              "    .dataframe tbody tr th {\n",
              "        vertical-align: top;\n",
              "    }\n",
              "\n",
              "    .dataframe thead th {\n",
              "        text-align: right;\n",
              "    }\n",
              "</style>\n",
              "<table border=\"1\" class=\"dataframe\">\n",
              "  <thead>\n",
              "    <tr style=\"text-align: right;\">\n",
              "      <th></th>\n",
              "      <th>PassengerId</th>\n",
              "      <th>Pclass</th>\n",
              "      <th>Name</th>\n",
              "      <th>Sex</th>\n",
              "      <th>Age</th>\n",
              "      <th>SibSp</th>\n",
              "      <th>Parch</th>\n",
              "      <th>Ticket</th>\n",
              "      <th>Fare</th>\n",
              "      <th>Cabin</th>\n",
              "      <th>Embarked</th>\n",
              "    </tr>\n",
              "  </thead>\n",
              "  <tbody>\n",
              "    <tr>\n",
              "      <th>0</th>\n",
              "      <td>892</td>\n",
              "      <td>3</td>\n",
              "      <td>Kelly, Mr. James</td>\n",
              "      <td>male</td>\n",
              "      <td>34.5</td>\n",
              "      <td>0</td>\n",
              "      <td>0</td>\n",
              "      <td>330911</td>\n",
              "      <td>7.8292</td>\n",
              "      <td>NaN</td>\n",
              "      <td>Q</td>\n",
              "    </tr>\n",
              "    <tr>\n",
              "      <th>1</th>\n",
              "      <td>893</td>\n",
              "      <td>3</td>\n",
              "      <td>Wilkes, Mrs. James (Ellen Needs)</td>\n",
              "      <td>female</td>\n",
              "      <td>47.0</td>\n",
              "      <td>1</td>\n",
              "      <td>0</td>\n",
              "      <td>363272</td>\n",
              "      <td>7.0000</td>\n",
              "      <td>NaN</td>\n",
              "      <td>S</td>\n",
              "    </tr>\n",
              "    <tr>\n",
              "      <th>2</th>\n",
              "      <td>894</td>\n",
              "      <td>2</td>\n",
              "      <td>Myles, Mr. Thomas Francis</td>\n",
              "      <td>male</td>\n",
              "      <td>62.0</td>\n",
              "      <td>0</td>\n",
              "      <td>0</td>\n",
              "      <td>240276</td>\n",
              "      <td>9.6875</td>\n",
              "      <td>NaN</td>\n",
              "      <td>Q</td>\n",
              "    </tr>\n",
              "    <tr>\n",
              "      <th>3</th>\n",
              "      <td>895</td>\n",
              "      <td>3</td>\n",
              "      <td>Wirz, Mr. Albert</td>\n",
              "      <td>male</td>\n",
              "      <td>27.0</td>\n",
              "      <td>0</td>\n",
              "      <td>0</td>\n",
              "      <td>315154</td>\n",
              "      <td>8.6625</td>\n",
              "      <td>NaN</td>\n",
              "      <td>S</td>\n",
              "    </tr>\n",
              "    <tr>\n",
              "      <th>4</th>\n",
              "      <td>896</td>\n",
              "      <td>3</td>\n",
              "      <td>Hirvonen, Mrs. Alexander (Helga E Lindqvist)</td>\n",
              "      <td>female</td>\n",
              "      <td>22.0</td>\n",
              "      <td>1</td>\n",
              "      <td>1</td>\n",
              "      <td>3101298</td>\n",
              "      <td>12.2875</td>\n",
              "      <td>NaN</td>\n",
              "      <td>S</td>\n",
              "    </tr>\n",
              "  </tbody>\n",
              "</table>\n",
              "</div>\n",
              "    <div class=\"colab-df-buttons\">\n",
              "\n",
              "  <div class=\"colab-df-container\">\n",
              "    <button class=\"colab-df-convert\" onclick=\"convertToInteractive('df-ddc7d94c-7fbe-484e-a450-d97564c49750')\"\n",
              "            title=\"Convert this dataframe to an interactive table.\"\n",
              "            style=\"display:none;\">\n",
              "\n",
              "  <svg xmlns=\"http://www.w3.org/2000/svg\" height=\"24px\" viewBox=\"0 -960 960 960\">\n",
              "    <path d=\"M120-120v-720h720v720H120Zm60-500h600v-160H180v160Zm220 220h160v-160H400v160Zm0 220h160v-160H400v160ZM180-400h160v-160H180v160Zm440 0h160v-160H620v160ZM180-180h160v-160H180v160Zm440 0h160v-160H620v160Z\"/>\n",
              "  </svg>\n",
              "    </button>\n",
              "\n",
              "  <style>\n",
              "    .colab-df-container {\n",
              "      display:flex;\n",
              "      gap: 12px;\n",
              "    }\n",
              "\n",
              "    .colab-df-convert {\n",
              "      background-color: #E8F0FE;\n",
              "      border: none;\n",
              "      border-radius: 50%;\n",
              "      cursor: pointer;\n",
              "      display: none;\n",
              "      fill: #1967D2;\n",
              "      height: 32px;\n",
              "      padding: 0 0 0 0;\n",
              "      width: 32px;\n",
              "    }\n",
              "\n",
              "    .colab-df-convert:hover {\n",
              "      background-color: #E2EBFA;\n",
              "      box-shadow: 0px 1px 2px rgba(60, 64, 67, 0.3), 0px 1px 3px 1px rgba(60, 64, 67, 0.15);\n",
              "      fill: #174EA6;\n",
              "    }\n",
              "\n",
              "    .colab-df-buttons div {\n",
              "      margin-bottom: 4px;\n",
              "    }\n",
              "\n",
              "    [theme=dark] .colab-df-convert {\n",
              "      background-color: #3B4455;\n",
              "      fill: #D2E3FC;\n",
              "    }\n",
              "\n",
              "    [theme=dark] .colab-df-convert:hover {\n",
              "      background-color: #434B5C;\n",
              "      box-shadow: 0px 1px 3px 1px rgba(0, 0, 0, 0.15);\n",
              "      filter: drop-shadow(0px 1px 2px rgba(0, 0, 0, 0.3));\n",
              "      fill: #FFFFFF;\n",
              "    }\n",
              "  </style>\n",
              "\n",
              "    <script>\n",
              "      const buttonEl =\n",
              "        document.querySelector('#df-ddc7d94c-7fbe-484e-a450-d97564c49750 button.colab-df-convert');\n",
              "      buttonEl.style.display =\n",
              "        google.colab.kernel.accessAllowed ? 'block' : 'none';\n",
              "\n",
              "      async function convertToInteractive(key) {\n",
              "        const element = document.querySelector('#df-ddc7d94c-7fbe-484e-a450-d97564c49750');\n",
              "        const dataTable =\n",
              "          await google.colab.kernel.invokeFunction('convertToInteractive',\n",
              "                                                    [key], {});\n",
              "        if (!dataTable) return;\n",
              "\n",
              "        const docLinkHtml = 'Like what you see? Visit the ' +\n",
              "          '<a target=\"_blank\" href=https://colab.research.google.com/notebooks/data_table.ipynb>data table notebook</a>'\n",
              "          + ' to learn more about interactive tables.';\n",
              "        element.innerHTML = '';\n",
              "        dataTable['output_type'] = 'display_data';\n",
              "        await google.colab.output.renderOutput(dataTable, element);\n",
              "        const docLink = document.createElement('div');\n",
              "        docLink.innerHTML = docLinkHtml;\n",
              "        element.appendChild(docLink);\n",
              "      }\n",
              "    </script>\n",
              "  </div>\n",
              "\n",
              "\n",
              "<div id=\"df-ed933912-9d5d-4c74-91e7-bdf3d9315b71\">\n",
              "  <button class=\"colab-df-quickchart\" onclick=\"quickchart('df-ed933912-9d5d-4c74-91e7-bdf3d9315b71')\"\n",
              "            title=\"Suggest charts\"\n",
              "            style=\"display:none;\">\n",
              "\n",
              "<svg xmlns=\"http://www.w3.org/2000/svg\" height=\"24px\"viewBox=\"0 0 24 24\"\n",
              "     width=\"24px\">\n",
              "    <g>\n",
              "        <path d=\"M19 3H5c-1.1 0-2 .9-2 2v14c0 1.1.9 2 2 2h14c1.1 0 2-.9 2-2V5c0-1.1-.9-2-2-2zM9 17H7v-7h2v7zm4 0h-2V7h2v10zm4 0h-2v-4h2v4z\"/>\n",
              "    </g>\n",
              "</svg>\n",
              "  </button>\n",
              "\n",
              "<style>\n",
              "  .colab-df-quickchart {\n",
              "      --bg-color: #E8F0FE;\n",
              "      --fill-color: #1967D2;\n",
              "      --hover-bg-color: #E2EBFA;\n",
              "      --hover-fill-color: #174EA6;\n",
              "      --disabled-fill-color: #AAA;\n",
              "      --disabled-bg-color: #DDD;\n",
              "  }\n",
              "\n",
              "  [theme=dark] .colab-df-quickchart {\n",
              "      --bg-color: #3B4455;\n",
              "      --fill-color: #D2E3FC;\n",
              "      --hover-bg-color: #434B5C;\n",
              "      --hover-fill-color: #FFFFFF;\n",
              "      --disabled-bg-color: #3B4455;\n",
              "      --disabled-fill-color: #666;\n",
              "  }\n",
              "\n",
              "  .colab-df-quickchart {\n",
              "    background-color: var(--bg-color);\n",
              "    border: none;\n",
              "    border-radius: 50%;\n",
              "    cursor: pointer;\n",
              "    display: none;\n",
              "    fill: var(--fill-color);\n",
              "    height: 32px;\n",
              "    padding: 0;\n",
              "    width: 32px;\n",
              "  }\n",
              "\n",
              "  .colab-df-quickchart:hover {\n",
              "    background-color: var(--hover-bg-color);\n",
              "    box-shadow: 0 1px 2px rgba(60, 64, 67, 0.3), 0 1px 3px 1px rgba(60, 64, 67, 0.15);\n",
              "    fill: var(--button-hover-fill-color);\n",
              "  }\n",
              "\n",
              "  .colab-df-quickchart-complete:disabled,\n",
              "  .colab-df-quickchart-complete:disabled:hover {\n",
              "    background-color: var(--disabled-bg-color);\n",
              "    fill: var(--disabled-fill-color);\n",
              "    box-shadow: none;\n",
              "  }\n",
              "\n",
              "  .colab-df-spinner {\n",
              "    border: 2px solid var(--fill-color);\n",
              "    border-color: transparent;\n",
              "    border-bottom-color: var(--fill-color);\n",
              "    animation:\n",
              "      spin 1s steps(1) infinite;\n",
              "  }\n",
              "\n",
              "  @keyframes spin {\n",
              "    0% {\n",
              "      border-color: transparent;\n",
              "      border-bottom-color: var(--fill-color);\n",
              "      border-left-color: var(--fill-color);\n",
              "    }\n",
              "    20% {\n",
              "      border-color: transparent;\n",
              "      border-left-color: var(--fill-color);\n",
              "      border-top-color: var(--fill-color);\n",
              "    }\n",
              "    30% {\n",
              "      border-color: transparent;\n",
              "      border-left-color: var(--fill-color);\n",
              "      border-top-color: var(--fill-color);\n",
              "      border-right-color: var(--fill-color);\n",
              "    }\n",
              "    40% {\n",
              "      border-color: transparent;\n",
              "      border-right-color: var(--fill-color);\n",
              "      border-top-color: var(--fill-color);\n",
              "    }\n",
              "    60% {\n",
              "      border-color: transparent;\n",
              "      border-right-color: var(--fill-color);\n",
              "    }\n",
              "    80% {\n",
              "      border-color: transparent;\n",
              "      border-right-color: var(--fill-color);\n",
              "      border-bottom-color: var(--fill-color);\n",
              "    }\n",
              "    90% {\n",
              "      border-color: transparent;\n",
              "      border-bottom-color: var(--fill-color);\n",
              "    }\n",
              "  }\n",
              "</style>\n",
              "\n",
              "  <script>\n",
              "    async function quickchart(key) {\n",
              "      const quickchartButtonEl =\n",
              "        document.querySelector('#' + key + ' button');\n",
              "      quickchartButtonEl.disabled = true;  // To prevent multiple clicks.\n",
              "      quickchartButtonEl.classList.add('colab-df-spinner');\n",
              "      try {\n",
              "        const charts = await google.colab.kernel.invokeFunction(\n",
              "            'suggestCharts', [key], {});\n",
              "      } catch (error) {\n",
              "        console.error('Error during call to suggestCharts:', error);\n",
              "      }\n",
              "      quickchartButtonEl.classList.remove('colab-df-spinner');\n",
              "      quickchartButtonEl.classList.add('colab-df-quickchart-complete');\n",
              "    }\n",
              "    (() => {\n",
              "      let quickchartButtonEl =\n",
              "        document.querySelector('#df-ed933912-9d5d-4c74-91e7-bdf3d9315b71 button');\n",
              "      quickchartButtonEl.style.display =\n",
              "        google.colab.kernel.accessAllowed ? 'block' : 'none';\n",
              "    })();\n",
              "  </script>\n",
              "</div>\n",
              "    </div>\n",
              "  </div>\n"
            ],
            "application/vnd.google.colaboratory.intrinsic+json": {
              "type": "dataframe",
              "variable_name": "testing",
              "summary": "{\n  \"name\": \"testing\",\n  \"rows\": 418,\n  \"fields\": [\n    {\n      \"column\": \"PassengerId\",\n      \"properties\": {\n        \"dtype\": \"number\",\n        \"std\": 120,\n        \"min\": 892,\n        \"max\": 1309,\n        \"num_unique_values\": 418,\n        \"samples\": [\n          1213,\n          1216,\n          1280\n        ],\n        \"semantic_type\": \"\",\n        \"description\": \"\"\n      }\n    },\n    {\n      \"column\": \"Pclass\",\n      \"properties\": {\n        \"dtype\": \"number\",\n        \"std\": 0,\n        \"min\": 1,\n        \"max\": 3,\n        \"num_unique_values\": 3,\n        \"samples\": [\n          3,\n          2,\n          1\n        ],\n        \"semantic_type\": \"\",\n        \"description\": \"\"\n      }\n    },\n    {\n      \"column\": \"Name\",\n      \"properties\": {\n        \"dtype\": \"string\",\n        \"num_unique_values\": 418,\n        \"samples\": [\n          \"Krekorian, Mr. Neshan\",\n          \"Kreuchen, Miss. Emilie\",\n          \"Canavan, Mr. Patrick\"\n        ],\n        \"semantic_type\": \"\",\n        \"description\": \"\"\n      }\n    },\n    {\n      \"column\": \"Sex\",\n      \"properties\": {\n        \"dtype\": \"category\",\n        \"num_unique_values\": 2,\n        \"samples\": [\n          \"female\",\n          \"male\"\n        ],\n        \"semantic_type\": \"\",\n        \"description\": \"\"\n      }\n    },\n    {\n      \"column\": \"Age\",\n      \"properties\": {\n        \"dtype\": \"number\",\n        \"std\": 14.181209235624422,\n        \"min\": 0.17,\n        \"max\": 76.0,\n        \"num_unique_values\": 79,\n        \"samples\": [\n          10.0,\n          34.5\n        ],\n        \"semantic_type\": \"\",\n        \"description\": \"\"\n      }\n    },\n    {\n      \"column\": \"SibSp\",\n      \"properties\": {\n        \"dtype\": \"number\",\n        \"std\": 0,\n        \"min\": 0,\n        \"max\": 8,\n        \"num_unique_values\": 7,\n        \"samples\": [\n          0,\n          1\n        ],\n        \"semantic_type\": \"\",\n        \"description\": \"\"\n      }\n    },\n    {\n      \"column\": \"Parch\",\n      \"properties\": {\n        \"dtype\": \"number\",\n        \"std\": 0,\n        \"min\": 0,\n        \"max\": 9,\n        \"num_unique_values\": 8,\n        \"samples\": [\n          1,\n          6\n        ],\n        \"semantic_type\": \"\",\n        \"description\": \"\"\n      }\n    },\n    {\n      \"column\": \"Ticket\",\n      \"properties\": {\n        \"dtype\": \"string\",\n        \"num_unique_values\": 363,\n        \"samples\": [\n          \"2673\",\n          \"W./C. 6607\"\n        ],\n        \"semantic_type\": \"\",\n        \"description\": \"\"\n      }\n    },\n    {\n      \"column\": \"Fare\",\n      \"properties\": {\n        \"dtype\": \"number\",\n        \"std\": 55.907576179973844,\n        \"min\": 0.0,\n        \"max\": 512.3292,\n        \"num_unique_values\": 169,\n        \"samples\": [\n          41.5792,\n          57.75\n        ],\n        \"semantic_type\": \"\",\n        \"description\": \"\"\n      }\n    },\n    {\n      \"column\": \"Cabin\",\n      \"properties\": {\n        \"dtype\": \"category\",\n        \"num_unique_values\": 76,\n        \"samples\": [\n          \"A21\",\n          \"E45\"\n        ],\n        \"semantic_type\": \"\",\n        \"description\": \"\"\n      }\n    },\n    {\n      \"column\": \"Embarked\",\n      \"properties\": {\n        \"dtype\": \"category\",\n        \"num_unique_values\": 3,\n        \"samples\": [\n          \"Q\",\n          \"S\"\n        ],\n        \"semantic_type\": \"\",\n        \"description\": \"\"\n      }\n    }\n  ]\n}"
            }
          },
          "metadata": {},
          "execution_count": 31
        }
      ]
    },
    {
      "cell_type": "code",
      "source": [
        "testing.describe()"
      ],
      "metadata": {
        "colab": {
          "base_uri": "https://localhost:8080/",
          "height": 300
        },
        "id": "FUKOD9e_FLpZ",
        "outputId": "2392d947-b560-4700-a95c-fea16c163623"
      },
      "execution_count": null,
      "outputs": [
        {
          "output_type": "execute_result",
          "data": {
            "text/plain": [
              "       PassengerId      Pclass         Age       SibSp       Parch        Fare\n",
              "count   418.000000  418.000000  332.000000  418.000000  418.000000  417.000000\n",
              "mean   1100.500000    2.265550   30.272590    0.447368    0.392344   35.627188\n",
              "std     120.810458    0.841838   14.181209    0.896760    0.981429   55.907576\n",
              "min     892.000000    1.000000    0.170000    0.000000    0.000000    0.000000\n",
              "25%     996.250000    1.000000   21.000000    0.000000    0.000000    7.895800\n",
              "50%    1100.500000    3.000000   27.000000    0.000000    0.000000   14.454200\n",
              "75%    1204.750000    3.000000   39.000000    1.000000    0.000000   31.500000\n",
              "max    1309.000000    3.000000   76.000000    8.000000    9.000000  512.329200"
            ],
            "text/html": [
              "\n",
              "  <div id=\"df-d991a697-b6eb-48ee-af34-4da8e814b843\" class=\"colab-df-container\">\n",
              "    <div>\n",
              "<style scoped>\n",
              "    .dataframe tbody tr th:only-of-type {\n",
              "        vertical-align: middle;\n",
              "    }\n",
              "\n",
              "    .dataframe tbody tr th {\n",
              "        vertical-align: top;\n",
              "    }\n",
              "\n",
              "    .dataframe thead th {\n",
              "        text-align: right;\n",
              "    }\n",
              "</style>\n",
              "<table border=\"1\" class=\"dataframe\">\n",
              "  <thead>\n",
              "    <tr style=\"text-align: right;\">\n",
              "      <th></th>\n",
              "      <th>PassengerId</th>\n",
              "      <th>Pclass</th>\n",
              "      <th>Age</th>\n",
              "      <th>SibSp</th>\n",
              "      <th>Parch</th>\n",
              "      <th>Fare</th>\n",
              "    </tr>\n",
              "  </thead>\n",
              "  <tbody>\n",
              "    <tr>\n",
              "      <th>count</th>\n",
              "      <td>418.000000</td>\n",
              "      <td>418.000000</td>\n",
              "      <td>332.000000</td>\n",
              "      <td>418.000000</td>\n",
              "      <td>418.000000</td>\n",
              "      <td>417.000000</td>\n",
              "    </tr>\n",
              "    <tr>\n",
              "      <th>mean</th>\n",
              "      <td>1100.500000</td>\n",
              "      <td>2.265550</td>\n",
              "      <td>30.272590</td>\n",
              "      <td>0.447368</td>\n",
              "      <td>0.392344</td>\n",
              "      <td>35.627188</td>\n",
              "    </tr>\n",
              "    <tr>\n",
              "      <th>std</th>\n",
              "      <td>120.810458</td>\n",
              "      <td>0.841838</td>\n",
              "      <td>14.181209</td>\n",
              "      <td>0.896760</td>\n",
              "      <td>0.981429</td>\n",
              "      <td>55.907576</td>\n",
              "    </tr>\n",
              "    <tr>\n",
              "      <th>min</th>\n",
              "      <td>892.000000</td>\n",
              "      <td>1.000000</td>\n",
              "      <td>0.170000</td>\n",
              "      <td>0.000000</td>\n",
              "      <td>0.000000</td>\n",
              "      <td>0.000000</td>\n",
              "    </tr>\n",
              "    <tr>\n",
              "      <th>25%</th>\n",
              "      <td>996.250000</td>\n",
              "      <td>1.000000</td>\n",
              "      <td>21.000000</td>\n",
              "      <td>0.000000</td>\n",
              "      <td>0.000000</td>\n",
              "      <td>7.895800</td>\n",
              "    </tr>\n",
              "    <tr>\n",
              "      <th>50%</th>\n",
              "      <td>1100.500000</td>\n",
              "      <td>3.000000</td>\n",
              "      <td>27.000000</td>\n",
              "      <td>0.000000</td>\n",
              "      <td>0.000000</td>\n",
              "      <td>14.454200</td>\n",
              "    </tr>\n",
              "    <tr>\n",
              "      <th>75%</th>\n",
              "      <td>1204.750000</td>\n",
              "      <td>3.000000</td>\n",
              "      <td>39.000000</td>\n",
              "      <td>1.000000</td>\n",
              "      <td>0.000000</td>\n",
              "      <td>31.500000</td>\n",
              "    </tr>\n",
              "    <tr>\n",
              "      <th>max</th>\n",
              "      <td>1309.000000</td>\n",
              "      <td>3.000000</td>\n",
              "      <td>76.000000</td>\n",
              "      <td>8.000000</td>\n",
              "      <td>9.000000</td>\n",
              "      <td>512.329200</td>\n",
              "    </tr>\n",
              "  </tbody>\n",
              "</table>\n",
              "</div>\n",
              "    <div class=\"colab-df-buttons\">\n",
              "\n",
              "  <div class=\"colab-df-container\">\n",
              "    <button class=\"colab-df-convert\" onclick=\"convertToInteractive('df-d991a697-b6eb-48ee-af34-4da8e814b843')\"\n",
              "            title=\"Convert this dataframe to an interactive table.\"\n",
              "            style=\"display:none;\">\n",
              "\n",
              "  <svg xmlns=\"http://www.w3.org/2000/svg\" height=\"24px\" viewBox=\"0 -960 960 960\">\n",
              "    <path d=\"M120-120v-720h720v720H120Zm60-500h600v-160H180v160Zm220 220h160v-160H400v160Zm0 220h160v-160H400v160ZM180-400h160v-160H180v160Zm440 0h160v-160H620v160ZM180-180h160v-160H180v160Zm440 0h160v-160H620v160Z\"/>\n",
              "  </svg>\n",
              "    </button>\n",
              "\n",
              "  <style>\n",
              "    .colab-df-container {\n",
              "      display:flex;\n",
              "      gap: 12px;\n",
              "    }\n",
              "\n",
              "    .colab-df-convert {\n",
              "      background-color: #E8F0FE;\n",
              "      border: none;\n",
              "      border-radius: 50%;\n",
              "      cursor: pointer;\n",
              "      display: none;\n",
              "      fill: #1967D2;\n",
              "      height: 32px;\n",
              "      padding: 0 0 0 0;\n",
              "      width: 32px;\n",
              "    }\n",
              "\n",
              "    .colab-df-convert:hover {\n",
              "      background-color: #E2EBFA;\n",
              "      box-shadow: 0px 1px 2px rgba(60, 64, 67, 0.3), 0px 1px 3px 1px rgba(60, 64, 67, 0.15);\n",
              "      fill: #174EA6;\n",
              "    }\n",
              "\n",
              "    .colab-df-buttons div {\n",
              "      margin-bottom: 4px;\n",
              "    }\n",
              "\n",
              "    [theme=dark] .colab-df-convert {\n",
              "      background-color: #3B4455;\n",
              "      fill: #D2E3FC;\n",
              "    }\n",
              "\n",
              "    [theme=dark] .colab-df-convert:hover {\n",
              "      background-color: #434B5C;\n",
              "      box-shadow: 0px 1px 3px 1px rgba(0, 0, 0, 0.15);\n",
              "      filter: drop-shadow(0px 1px 2px rgba(0, 0, 0, 0.3));\n",
              "      fill: #FFFFFF;\n",
              "    }\n",
              "  </style>\n",
              "\n",
              "    <script>\n",
              "      const buttonEl =\n",
              "        document.querySelector('#df-d991a697-b6eb-48ee-af34-4da8e814b843 button.colab-df-convert');\n",
              "      buttonEl.style.display =\n",
              "        google.colab.kernel.accessAllowed ? 'block' : 'none';\n",
              "\n",
              "      async function convertToInteractive(key) {\n",
              "        const element = document.querySelector('#df-d991a697-b6eb-48ee-af34-4da8e814b843');\n",
              "        const dataTable =\n",
              "          await google.colab.kernel.invokeFunction('convertToInteractive',\n",
              "                                                    [key], {});\n",
              "        if (!dataTable) return;\n",
              "\n",
              "        const docLinkHtml = 'Like what you see? Visit the ' +\n",
              "          '<a target=\"_blank\" href=https://colab.research.google.com/notebooks/data_table.ipynb>data table notebook</a>'\n",
              "          + ' to learn more about interactive tables.';\n",
              "        element.innerHTML = '';\n",
              "        dataTable['output_type'] = 'display_data';\n",
              "        await google.colab.output.renderOutput(dataTable, element);\n",
              "        const docLink = document.createElement('div');\n",
              "        docLink.innerHTML = docLinkHtml;\n",
              "        element.appendChild(docLink);\n",
              "      }\n",
              "    </script>\n",
              "  </div>\n",
              "\n",
              "\n",
              "<div id=\"df-951feb70-51c7-4e6d-9988-c646c2e1026e\">\n",
              "  <button class=\"colab-df-quickchart\" onclick=\"quickchart('df-951feb70-51c7-4e6d-9988-c646c2e1026e')\"\n",
              "            title=\"Suggest charts\"\n",
              "            style=\"display:none;\">\n",
              "\n",
              "<svg xmlns=\"http://www.w3.org/2000/svg\" height=\"24px\"viewBox=\"0 0 24 24\"\n",
              "     width=\"24px\">\n",
              "    <g>\n",
              "        <path d=\"M19 3H5c-1.1 0-2 .9-2 2v14c0 1.1.9 2 2 2h14c1.1 0 2-.9 2-2V5c0-1.1-.9-2-2-2zM9 17H7v-7h2v7zm4 0h-2V7h2v10zm4 0h-2v-4h2v4z\"/>\n",
              "    </g>\n",
              "</svg>\n",
              "  </button>\n",
              "\n",
              "<style>\n",
              "  .colab-df-quickchart {\n",
              "      --bg-color: #E8F0FE;\n",
              "      --fill-color: #1967D2;\n",
              "      --hover-bg-color: #E2EBFA;\n",
              "      --hover-fill-color: #174EA6;\n",
              "      --disabled-fill-color: #AAA;\n",
              "      --disabled-bg-color: #DDD;\n",
              "  }\n",
              "\n",
              "  [theme=dark] .colab-df-quickchart {\n",
              "      --bg-color: #3B4455;\n",
              "      --fill-color: #D2E3FC;\n",
              "      --hover-bg-color: #434B5C;\n",
              "      --hover-fill-color: #FFFFFF;\n",
              "      --disabled-bg-color: #3B4455;\n",
              "      --disabled-fill-color: #666;\n",
              "  }\n",
              "\n",
              "  .colab-df-quickchart {\n",
              "    background-color: var(--bg-color);\n",
              "    border: none;\n",
              "    border-radius: 50%;\n",
              "    cursor: pointer;\n",
              "    display: none;\n",
              "    fill: var(--fill-color);\n",
              "    height: 32px;\n",
              "    padding: 0;\n",
              "    width: 32px;\n",
              "  }\n",
              "\n",
              "  .colab-df-quickchart:hover {\n",
              "    background-color: var(--hover-bg-color);\n",
              "    box-shadow: 0 1px 2px rgba(60, 64, 67, 0.3), 0 1px 3px 1px rgba(60, 64, 67, 0.15);\n",
              "    fill: var(--button-hover-fill-color);\n",
              "  }\n",
              "\n",
              "  .colab-df-quickchart-complete:disabled,\n",
              "  .colab-df-quickchart-complete:disabled:hover {\n",
              "    background-color: var(--disabled-bg-color);\n",
              "    fill: var(--disabled-fill-color);\n",
              "    box-shadow: none;\n",
              "  }\n",
              "\n",
              "  .colab-df-spinner {\n",
              "    border: 2px solid var(--fill-color);\n",
              "    border-color: transparent;\n",
              "    border-bottom-color: var(--fill-color);\n",
              "    animation:\n",
              "      spin 1s steps(1) infinite;\n",
              "  }\n",
              "\n",
              "  @keyframes spin {\n",
              "    0% {\n",
              "      border-color: transparent;\n",
              "      border-bottom-color: var(--fill-color);\n",
              "      border-left-color: var(--fill-color);\n",
              "    }\n",
              "    20% {\n",
              "      border-color: transparent;\n",
              "      border-left-color: var(--fill-color);\n",
              "      border-top-color: var(--fill-color);\n",
              "    }\n",
              "    30% {\n",
              "      border-color: transparent;\n",
              "      border-left-color: var(--fill-color);\n",
              "      border-top-color: var(--fill-color);\n",
              "      border-right-color: var(--fill-color);\n",
              "    }\n",
              "    40% {\n",
              "      border-color: transparent;\n",
              "      border-right-color: var(--fill-color);\n",
              "      border-top-color: var(--fill-color);\n",
              "    }\n",
              "    60% {\n",
              "      border-color: transparent;\n",
              "      border-right-color: var(--fill-color);\n",
              "    }\n",
              "    80% {\n",
              "      border-color: transparent;\n",
              "      border-right-color: var(--fill-color);\n",
              "      border-bottom-color: var(--fill-color);\n",
              "    }\n",
              "    90% {\n",
              "      border-color: transparent;\n",
              "      border-bottom-color: var(--fill-color);\n",
              "    }\n",
              "  }\n",
              "</style>\n",
              "\n",
              "  <script>\n",
              "    async function quickchart(key) {\n",
              "      const quickchartButtonEl =\n",
              "        document.querySelector('#' + key + ' button');\n",
              "      quickchartButtonEl.disabled = true;  // To prevent multiple clicks.\n",
              "      quickchartButtonEl.classList.add('colab-df-spinner');\n",
              "      try {\n",
              "        const charts = await google.colab.kernel.invokeFunction(\n",
              "            'suggestCharts', [key], {});\n",
              "      } catch (error) {\n",
              "        console.error('Error during call to suggestCharts:', error);\n",
              "      }\n",
              "      quickchartButtonEl.classList.remove('colab-df-spinner');\n",
              "      quickchartButtonEl.classList.add('colab-df-quickchart-complete');\n",
              "    }\n",
              "    (() => {\n",
              "      let quickchartButtonEl =\n",
              "        document.querySelector('#df-951feb70-51c7-4e6d-9988-c646c2e1026e button');\n",
              "      quickchartButtonEl.style.display =\n",
              "        google.colab.kernel.accessAllowed ? 'block' : 'none';\n",
              "    })();\n",
              "  </script>\n",
              "</div>\n",
              "    </div>\n",
              "  </div>\n"
            ],
            "application/vnd.google.colaboratory.intrinsic+json": {
              "type": "dataframe",
              "summary": "{\n  \"name\": \"testing\",\n  \"rows\": 8,\n  \"fields\": [\n    {\n      \"column\": \"PassengerId\",\n      \"properties\": {\n        \"dtype\": \"number\",\n        \"std\": 412.1232851470217,\n        \"min\": 120.81045760473994,\n        \"max\": 1309.0,\n        \"num_unique_values\": 7,\n        \"samples\": [\n          418.0,\n          1100.5,\n          1204.75\n        ],\n        \"semantic_type\": \"\",\n        \"description\": \"\"\n      }\n    },\n    {\n      \"column\": \"Pclass\",\n      \"properties\": {\n        \"dtype\": \"number\",\n        \"std\": 147.0758997861715,\n        \"min\": 0.8418375519640503,\n        \"max\": 418.0,\n        \"num_unique_values\": 5,\n        \"samples\": [\n          2.2655502392344498,\n          3.0,\n          0.8418375519640503\n        ],\n        \"semantic_type\": \"\",\n        \"description\": \"\"\n      }\n    },\n    {\n      \"column\": \"Age\",\n      \"properties\": {\n        \"dtype\": \"number\",\n        \"std\": 109.15868834351015,\n        \"min\": 0.17,\n        \"max\": 332.0,\n        \"num_unique_values\": 8,\n        \"samples\": [\n          30.272590361445783,\n          27.0,\n          332.0\n        ],\n        \"semantic_type\": \"\",\n        \"description\": \"\"\n      }\n    },\n    {\n      \"column\": \"SibSp\",\n      \"properties\": {\n        \"dtype\": \"number\",\n        \"std\": 147.28745840271156,\n        \"min\": 0.0,\n        \"max\": 418.0,\n        \"num_unique_values\": 6,\n        \"samples\": [\n          418.0,\n          0.4473684210526316,\n          8.0\n        ],\n        \"semantic_type\": \"\",\n        \"description\": \"\"\n      }\n    },\n    {\n      \"column\": \"Parch\",\n      \"properties\": {\n        \"dtype\": \"number\",\n        \"std\": 147.29373273558997,\n        \"min\": 0.0,\n        \"max\": 418.0,\n        \"num_unique_values\": 5,\n        \"samples\": [\n          0.3923444976076555,\n          9.0,\n          0.9814288785371691\n        ],\n        \"semantic_type\": \"\",\n        \"description\": \"\"\n      }\n    },\n    {\n      \"column\": \"Fare\",\n      \"properties\": {\n        \"dtype\": \"number\",\n        \"std\": 206.20808392426468,\n        \"min\": 0.0,\n        \"max\": 512.3292,\n        \"num_unique_values\": 8,\n        \"samples\": [\n          35.627188489208635,\n          14.4542,\n          417.0\n        ],\n        \"semantic_type\": \"\",\n        \"description\": \"\"\n      }\n    }\n  ]\n}"
            }
          },
          "metadata": {},
          "execution_count": 32
        }
      ]
    },
    {
      "cell_type": "code",
      "source": [
        "testing.info()"
      ],
      "metadata": {
        "colab": {
          "base_uri": "https://localhost:8080/"
        },
        "id": "hEt8cAAxSFQU",
        "outputId": "b39b432c-a6e3-465c-cd14-3bcbea2708ad"
      },
      "execution_count": null,
      "outputs": [
        {
          "output_type": "stream",
          "name": "stdout",
          "text": [
            "<class 'pandas.core.frame.DataFrame'>\n",
            "RangeIndex: 418 entries, 0 to 417\n",
            "Data columns (total 11 columns):\n",
            " #   Column       Non-Null Count  Dtype  \n",
            "---  ------       --------------  -----  \n",
            " 0   PassengerId  418 non-null    int64  \n",
            " 1   Pclass       418 non-null    int64  \n",
            " 2   Name         418 non-null    object \n",
            " 3   Sex          418 non-null    object \n",
            " 4   Age          332 non-null    float64\n",
            " 5   SibSp        418 non-null    int64  \n",
            " 6   Parch        418 non-null    int64  \n",
            " 7   Ticket       418 non-null    object \n",
            " 8   Fare         417 non-null    float64\n",
            " 9   Cabin        91 non-null     object \n",
            " 10  Embarked     418 non-null    object \n",
            "dtypes: float64(2), int64(4), object(5)\n",
            "memory usage: 36.0+ KB\n"
          ]
        }
      ]
    },
    {
      "cell_type": "markdown",
      "source": [
        "How many records are in the data set?\n",
        "\n",
        "**Answer**: There are 418 records in the data set.\n",
        "\n",
        "Which important variables(s) are missing values and how many are missing?\n",
        "\n",
        "**Answer**: Looking at the results above, we can see that there are about 86 null values in the Age column, 1 from the Fare column, and 327 in the Cabin table.\n"
      ],
      "metadata": {
        "id": "nPeBdzEaAC9x"
      }
    },
    {
      "cell_type": "markdown",
      "source": [
        "#### b) Use a lambda expression to replace the \"male\" and \"female\" values with 0 for male and 1 for female"
      ],
      "metadata": {
        "id": "UxlT6UqJE_AR"
      }
    },
    {
      "cell_type": "code",
      "source": [
        "#code cell 16\n",
        "#replace the Gender labels in the testing dataframe\n",
        "\n",
        "testing[\"Sex\"] = testing[\"Sex\"].apply(lambda toLabel: 0 if toLabel == 'male' else 1)\n"
      ],
      "metadata": {
        "id": "HgscXnZLE7yb"
      },
      "execution_count": null,
      "outputs": []
    },
    {
      "cell_type": "markdown",
      "source": [
        "#### c) Replace the missing age values with the mean of the ages"
      ],
      "metadata": {
        "id": "bRbC0PosGEzZ"
      }
    },
    {
      "cell_type": "code",
      "source": [
        "#code cell 17\n",
        "#Use the fillna method of the testing dataframe column \"Age\"\n",
        "#to replace missing values with the mean of the age values.\n",
        "testing[\"Age\"].fillna(testing[\"Age\"].mean(), inplace=True)\n",
        "testing[\"Fare\"].fillna(testing[\"Fare\"].mean(), inplace=True)"
      ],
      "metadata": {
        "id": "mpuzVvOHGFXa"
      },
      "execution_count": null,
      "outputs": []
    },
    {
      "cell_type": "markdown",
      "source": [
        "#### d) Verify that the values have been replaced.\n",
        "\n",
        "Check that the missing values have been filled and that the Gender labels are 0 and 1."
      ],
      "metadata": {
        "id": "I7-Ix2kzGI3Z"
      }
    },
    {
      "cell_type": "code",
      "source": [
        "#code cell 18\n",
        "#verify the data preparation steps. Enter and run both the info and head\n",
        "#methods from here, by entering and running one and then the other.\n",
        "\n",
        "testing.info()"
      ],
      "metadata": {
        "colab": {
          "base_uri": "https://localhost:8080/"
        },
        "id": "3NhgWSMjGKnx",
        "outputId": "8bba655e-46f3-40ec-f072-c022152e000a"
      },
      "execution_count": null,
      "outputs": [
        {
          "output_type": "stream",
          "name": "stdout",
          "text": [
            "<class 'pandas.core.frame.DataFrame'>\n",
            "RangeIndex: 418 entries, 0 to 417\n",
            "Data columns (total 11 columns):\n",
            " #   Column       Non-Null Count  Dtype  \n",
            "---  ------       --------------  -----  \n",
            " 0   PassengerId  418 non-null    int64  \n",
            " 1   Pclass       418 non-null    int64  \n",
            " 2   Name         418 non-null    object \n",
            " 3   Sex          418 non-null    int64  \n",
            " 4   Age          418 non-null    float64\n",
            " 5   SibSp        418 non-null    int64  \n",
            " 6   Parch        418 non-null    int64  \n",
            " 7   Ticket       418 non-null    object \n",
            " 8   Fare         418 non-null    float64\n",
            " 9   Cabin        91 non-null     object \n",
            " 10  Embarked     418 non-null    object \n",
            "dtypes: float64(2), int64(5), object(4)\n",
            "memory usage: 36.0+ KB\n"
          ]
        }
      ]
    },
    {
      "cell_type": "code",
      "source": [
        "testing.head()"
      ],
      "metadata": {
        "colab": {
          "base_uri": "https://localhost:8080/",
          "height": 206
        },
        "id": "efarPJ_KGQjB",
        "outputId": "60885660-5695-4ca5-934e-56ac744ca7c3"
      },
      "execution_count": null,
      "outputs": [
        {
          "output_type": "execute_result",
          "data": {
            "text/plain": [
              "   PassengerId  Pclass                                          Name  Sex  \\\n",
              "0          892       3                              Kelly, Mr. James    0   \n",
              "1          893       3              Wilkes, Mrs. James (Ellen Needs)    1   \n",
              "2          894       2                     Myles, Mr. Thomas Francis    0   \n",
              "3          895       3                              Wirz, Mr. Albert    0   \n",
              "4          896       3  Hirvonen, Mrs. Alexander (Helga E Lindqvist)    1   \n",
              "\n",
              "    Age  SibSp  Parch   Ticket     Fare Cabin Embarked  \n",
              "0  34.5      0      0   330911   7.8292   NaN        Q  \n",
              "1  47.0      1      0   363272   7.0000   NaN        S  \n",
              "2  62.0      0      0   240276   9.6875   NaN        Q  \n",
              "3  27.0      0      0   315154   8.6625   NaN        S  \n",
              "4  22.0      1      1  3101298  12.2875   NaN        S  "
            ],
            "text/html": [
              "\n",
              "  <div id=\"df-8a4f2c03-88eb-4910-945d-0032f99e8869\" class=\"colab-df-container\">\n",
              "    <div>\n",
              "<style scoped>\n",
              "    .dataframe tbody tr th:only-of-type {\n",
              "        vertical-align: middle;\n",
              "    }\n",
              "\n",
              "    .dataframe tbody tr th {\n",
              "        vertical-align: top;\n",
              "    }\n",
              "\n",
              "    .dataframe thead th {\n",
              "        text-align: right;\n",
              "    }\n",
              "</style>\n",
              "<table border=\"1\" class=\"dataframe\">\n",
              "  <thead>\n",
              "    <tr style=\"text-align: right;\">\n",
              "      <th></th>\n",
              "      <th>PassengerId</th>\n",
              "      <th>Pclass</th>\n",
              "      <th>Name</th>\n",
              "      <th>Sex</th>\n",
              "      <th>Age</th>\n",
              "      <th>SibSp</th>\n",
              "      <th>Parch</th>\n",
              "      <th>Ticket</th>\n",
              "      <th>Fare</th>\n",
              "      <th>Cabin</th>\n",
              "      <th>Embarked</th>\n",
              "    </tr>\n",
              "  </thead>\n",
              "  <tbody>\n",
              "    <tr>\n",
              "      <th>0</th>\n",
              "      <td>892</td>\n",
              "      <td>3</td>\n",
              "      <td>Kelly, Mr. James</td>\n",
              "      <td>0</td>\n",
              "      <td>34.5</td>\n",
              "      <td>0</td>\n",
              "      <td>0</td>\n",
              "      <td>330911</td>\n",
              "      <td>7.8292</td>\n",
              "      <td>NaN</td>\n",
              "      <td>Q</td>\n",
              "    </tr>\n",
              "    <tr>\n",
              "      <th>1</th>\n",
              "      <td>893</td>\n",
              "      <td>3</td>\n",
              "      <td>Wilkes, Mrs. James (Ellen Needs)</td>\n",
              "      <td>1</td>\n",
              "      <td>47.0</td>\n",
              "      <td>1</td>\n",
              "      <td>0</td>\n",
              "      <td>363272</td>\n",
              "      <td>7.0000</td>\n",
              "      <td>NaN</td>\n",
              "      <td>S</td>\n",
              "    </tr>\n",
              "    <tr>\n",
              "      <th>2</th>\n",
              "      <td>894</td>\n",
              "      <td>2</td>\n",
              "      <td>Myles, Mr. Thomas Francis</td>\n",
              "      <td>0</td>\n",
              "      <td>62.0</td>\n",
              "      <td>0</td>\n",
              "      <td>0</td>\n",
              "      <td>240276</td>\n",
              "      <td>9.6875</td>\n",
              "      <td>NaN</td>\n",
              "      <td>Q</td>\n",
              "    </tr>\n",
              "    <tr>\n",
              "      <th>3</th>\n",
              "      <td>895</td>\n",
              "      <td>3</td>\n",
              "      <td>Wirz, Mr. Albert</td>\n",
              "      <td>0</td>\n",
              "      <td>27.0</td>\n",
              "      <td>0</td>\n",
              "      <td>0</td>\n",
              "      <td>315154</td>\n",
              "      <td>8.6625</td>\n",
              "      <td>NaN</td>\n",
              "      <td>S</td>\n",
              "    </tr>\n",
              "    <tr>\n",
              "      <th>4</th>\n",
              "      <td>896</td>\n",
              "      <td>3</td>\n",
              "      <td>Hirvonen, Mrs. Alexander (Helga E Lindqvist)</td>\n",
              "      <td>1</td>\n",
              "      <td>22.0</td>\n",
              "      <td>1</td>\n",
              "      <td>1</td>\n",
              "      <td>3101298</td>\n",
              "      <td>12.2875</td>\n",
              "      <td>NaN</td>\n",
              "      <td>S</td>\n",
              "    </tr>\n",
              "  </tbody>\n",
              "</table>\n",
              "</div>\n",
              "    <div class=\"colab-df-buttons\">\n",
              "\n",
              "  <div class=\"colab-df-container\">\n",
              "    <button class=\"colab-df-convert\" onclick=\"convertToInteractive('df-8a4f2c03-88eb-4910-945d-0032f99e8869')\"\n",
              "            title=\"Convert this dataframe to an interactive table.\"\n",
              "            style=\"display:none;\">\n",
              "\n",
              "  <svg xmlns=\"http://www.w3.org/2000/svg\" height=\"24px\" viewBox=\"0 -960 960 960\">\n",
              "    <path d=\"M120-120v-720h720v720H120Zm60-500h600v-160H180v160Zm220 220h160v-160H400v160Zm0 220h160v-160H400v160ZM180-400h160v-160H180v160Zm440 0h160v-160H620v160ZM180-180h160v-160H180v160Zm440 0h160v-160H620v160Z\"/>\n",
              "  </svg>\n",
              "    </button>\n",
              "\n",
              "  <style>\n",
              "    .colab-df-container {\n",
              "      display:flex;\n",
              "      gap: 12px;\n",
              "    }\n",
              "\n",
              "    .colab-df-convert {\n",
              "      background-color: #E8F0FE;\n",
              "      border: none;\n",
              "      border-radius: 50%;\n",
              "      cursor: pointer;\n",
              "      display: none;\n",
              "      fill: #1967D2;\n",
              "      height: 32px;\n",
              "      padding: 0 0 0 0;\n",
              "      width: 32px;\n",
              "    }\n",
              "\n",
              "    .colab-df-convert:hover {\n",
              "      background-color: #E2EBFA;\n",
              "      box-shadow: 0px 1px 2px rgba(60, 64, 67, 0.3), 0px 1px 3px 1px rgba(60, 64, 67, 0.15);\n",
              "      fill: #174EA6;\n",
              "    }\n",
              "\n",
              "    .colab-df-buttons div {\n",
              "      margin-bottom: 4px;\n",
              "    }\n",
              "\n",
              "    [theme=dark] .colab-df-convert {\n",
              "      background-color: #3B4455;\n",
              "      fill: #D2E3FC;\n",
              "    }\n",
              "\n",
              "    [theme=dark] .colab-df-convert:hover {\n",
              "      background-color: #434B5C;\n",
              "      box-shadow: 0px 1px 3px 1px rgba(0, 0, 0, 0.15);\n",
              "      filter: drop-shadow(0px 1px 2px rgba(0, 0, 0, 0.3));\n",
              "      fill: #FFFFFF;\n",
              "    }\n",
              "  </style>\n",
              "\n",
              "    <script>\n",
              "      const buttonEl =\n",
              "        document.querySelector('#df-8a4f2c03-88eb-4910-945d-0032f99e8869 button.colab-df-convert');\n",
              "      buttonEl.style.display =\n",
              "        google.colab.kernel.accessAllowed ? 'block' : 'none';\n",
              "\n",
              "      async function convertToInteractive(key) {\n",
              "        const element = document.querySelector('#df-8a4f2c03-88eb-4910-945d-0032f99e8869');\n",
              "        const dataTable =\n",
              "          await google.colab.kernel.invokeFunction('convertToInteractive',\n",
              "                                                    [key], {});\n",
              "        if (!dataTable) return;\n",
              "\n",
              "        const docLinkHtml = 'Like what you see? Visit the ' +\n",
              "          '<a target=\"_blank\" href=https://colab.research.google.com/notebooks/data_table.ipynb>data table notebook</a>'\n",
              "          + ' to learn more about interactive tables.';\n",
              "        element.innerHTML = '';\n",
              "        dataTable['output_type'] = 'display_data';\n",
              "        await google.colab.output.renderOutput(dataTable, element);\n",
              "        const docLink = document.createElement('div');\n",
              "        docLink.innerHTML = docLinkHtml;\n",
              "        element.appendChild(docLink);\n",
              "      }\n",
              "    </script>\n",
              "  </div>\n",
              "\n",
              "\n",
              "<div id=\"df-24a7727c-6265-4a1a-9aa5-e5f6b49e4b5d\">\n",
              "  <button class=\"colab-df-quickchart\" onclick=\"quickchart('df-24a7727c-6265-4a1a-9aa5-e5f6b49e4b5d')\"\n",
              "            title=\"Suggest charts\"\n",
              "            style=\"display:none;\">\n",
              "\n",
              "<svg xmlns=\"http://www.w3.org/2000/svg\" height=\"24px\"viewBox=\"0 0 24 24\"\n",
              "     width=\"24px\">\n",
              "    <g>\n",
              "        <path d=\"M19 3H5c-1.1 0-2 .9-2 2v14c0 1.1.9 2 2 2h14c1.1 0 2-.9 2-2V5c0-1.1-.9-2-2-2zM9 17H7v-7h2v7zm4 0h-2V7h2v10zm4 0h-2v-4h2v4z\"/>\n",
              "    </g>\n",
              "</svg>\n",
              "  </button>\n",
              "\n",
              "<style>\n",
              "  .colab-df-quickchart {\n",
              "      --bg-color: #E8F0FE;\n",
              "      --fill-color: #1967D2;\n",
              "      --hover-bg-color: #E2EBFA;\n",
              "      --hover-fill-color: #174EA6;\n",
              "      --disabled-fill-color: #AAA;\n",
              "      --disabled-bg-color: #DDD;\n",
              "  }\n",
              "\n",
              "  [theme=dark] .colab-df-quickchart {\n",
              "      --bg-color: #3B4455;\n",
              "      --fill-color: #D2E3FC;\n",
              "      --hover-bg-color: #434B5C;\n",
              "      --hover-fill-color: #FFFFFF;\n",
              "      --disabled-bg-color: #3B4455;\n",
              "      --disabled-fill-color: #666;\n",
              "  }\n",
              "\n",
              "  .colab-df-quickchart {\n",
              "    background-color: var(--bg-color);\n",
              "    border: none;\n",
              "    border-radius: 50%;\n",
              "    cursor: pointer;\n",
              "    display: none;\n",
              "    fill: var(--fill-color);\n",
              "    height: 32px;\n",
              "    padding: 0;\n",
              "    width: 32px;\n",
              "  }\n",
              "\n",
              "  .colab-df-quickchart:hover {\n",
              "    background-color: var(--hover-bg-color);\n",
              "    box-shadow: 0 1px 2px rgba(60, 64, 67, 0.3), 0 1px 3px 1px rgba(60, 64, 67, 0.15);\n",
              "    fill: var(--button-hover-fill-color);\n",
              "  }\n",
              "\n",
              "  .colab-df-quickchart-complete:disabled,\n",
              "  .colab-df-quickchart-complete:disabled:hover {\n",
              "    background-color: var(--disabled-bg-color);\n",
              "    fill: var(--disabled-fill-color);\n",
              "    box-shadow: none;\n",
              "  }\n",
              "\n",
              "  .colab-df-spinner {\n",
              "    border: 2px solid var(--fill-color);\n",
              "    border-color: transparent;\n",
              "    border-bottom-color: var(--fill-color);\n",
              "    animation:\n",
              "      spin 1s steps(1) infinite;\n",
              "  }\n",
              "\n",
              "  @keyframes spin {\n",
              "    0% {\n",
              "      border-color: transparent;\n",
              "      border-bottom-color: var(--fill-color);\n",
              "      border-left-color: var(--fill-color);\n",
              "    }\n",
              "    20% {\n",
              "      border-color: transparent;\n",
              "      border-left-color: var(--fill-color);\n",
              "      border-top-color: var(--fill-color);\n",
              "    }\n",
              "    30% {\n",
              "      border-color: transparent;\n",
              "      border-left-color: var(--fill-color);\n",
              "      border-top-color: var(--fill-color);\n",
              "      border-right-color: var(--fill-color);\n",
              "    }\n",
              "    40% {\n",
              "      border-color: transparent;\n",
              "      border-right-color: var(--fill-color);\n",
              "      border-top-color: var(--fill-color);\n",
              "    }\n",
              "    60% {\n",
              "      border-color: transparent;\n",
              "      border-right-color: var(--fill-color);\n",
              "    }\n",
              "    80% {\n",
              "      border-color: transparent;\n",
              "      border-right-color: var(--fill-color);\n",
              "      border-bottom-color: var(--fill-color);\n",
              "    }\n",
              "    90% {\n",
              "      border-color: transparent;\n",
              "      border-bottom-color: var(--fill-color);\n",
              "    }\n",
              "  }\n",
              "</style>\n",
              "\n",
              "  <script>\n",
              "    async function quickchart(key) {\n",
              "      const quickchartButtonEl =\n",
              "        document.querySelector('#' + key + ' button');\n",
              "      quickchartButtonEl.disabled = true;  // To prevent multiple clicks.\n",
              "      quickchartButtonEl.classList.add('colab-df-spinner');\n",
              "      try {\n",
              "        const charts = await google.colab.kernel.invokeFunction(\n",
              "            'suggestCharts', [key], {});\n",
              "      } catch (error) {\n",
              "        console.error('Error during call to suggestCharts:', error);\n",
              "      }\n",
              "      quickchartButtonEl.classList.remove('colab-df-spinner');\n",
              "      quickchartButtonEl.classList.add('colab-df-quickchart-complete');\n",
              "    }\n",
              "    (() => {\n",
              "      let quickchartButtonEl =\n",
              "        document.querySelector('#df-24a7727c-6265-4a1a-9aa5-e5f6b49e4b5d button');\n",
              "      quickchartButtonEl.style.display =\n",
              "        google.colab.kernel.accessAllowed ? 'block' : 'none';\n",
              "    })();\n",
              "  </script>\n",
              "</div>\n",
              "    </div>\n",
              "  </div>\n"
            ],
            "application/vnd.google.colaboratory.intrinsic+json": {
              "type": "dataframe",
              "variable_name": "testing",
              "summary": "{\n  \"name\": \"testing\",\n  \"rows\": 418,\n  \"fields\": [\n    {\n      \"column\": \"PassengerId\",\n      \"properties\": {\n        \"dtype\": \"number\",\n        \"std\": 120,\n        \"min\": 892,\n        \"max\": 1309,\n        \"num_unique_values\": 418,\n        \"samples\": [\n          1213,\n          1216,\n          1280\n        ],\n        \"semantic_type\": \"\",\n        \"description\": \"\"\n      }\n    },\n    {\n      \"column\": \"Pclass\",\n      \"properties\": {\n        \"dtype\": \"number\",\n        \"std\": 0,\n        \"min\": 1,\n        \"max\": 3,\n        \"num_unique_values\": 3,\n        \"samples\": [\n          3,\n          2,\n          1\n        ],\n        \"semantic_type\": \"\",\n        \"description\": \"\"\n      }\n    },\n    {\n      \"column\": \"Name\",\n      \"properties\": {\n        \"dtype\": \"string\",\n        \"num_unique_values\": 418,\n        \"samples\": [\n          \"Krekorian, Mr. Neshan\",\n          \"Kreuchen, Miss. Emilie\",\n          \"Canavan, Mr. Patrick\"\n        ],\n        \"semantic_type\": \"\",\n        \"description\": \"\"\n      }\n    },\n    {\n      \"column\": \"Sex\",\n      \"properties\": {\n        \"dtype\": \"number\",\n        \"std\": 0,\n        \"min\": 0,\n        \"max\": 1,\n        \"num_unique_values\": 2,\n        \"samples\": [\n          1,\n          0\n        ],\n        \"semantic_type\": \"\",\n        \"description\": \"\"\n      }\n    },\n    {\n      \"column\": \"Age\",\n      \"properties\": {\n        \"dtype\": \"number\",\n        \"std\": 12.634534168325064,\n        \"min\": 0.17,\n        \"max\": 76.0,\n        \"num_unique_values\": 80,\n        \"samples\": [\n          28.0,\n          34.5\n        ],\n        \"semantic_type\": \"\",\n        \"description\": \"\"\n      }\n    },\n    {\n      \"column\": \"SibSp\",\n      \"properties\": {\n        \"dtype\": \"number\",\n        \"std\": 0,\n        \"min\": 0,\n        \"max\": 8,\n        \"num_unique_values\": 7,\n        \"samples\": [\n          0,\n          1\n        ],\n        \"semantic_type\": \"\",\n        \"description\": \"\"\n      }\n    },\n    {\n      \"column\": \"Parch\",\n      \"properties\": {\n        \"dtype\": \"number\",\n        \"std\": 0,\n        \"min\": 0,\n        \"max\": 9,\n        \"num_unique_values\": 8,\n        \"samples\": [\n          1,\n          6\n        ],\n        \"semantic_type\": \"\",\n        \"description\": \"\"\n      }\n    },\n    {\n      \"column\": \"Ticket\",\n      \"properties\": {\n        \"dtype\": \"string\",\n        \"num_unique_values\": 363,\n        \"samples\": [\n          \"2673\",\n          \"W./C. 6607\"\n        ],\n        \"semantic_type\": \"\",\n        \"description\": \"\"\n      }\n    },\n    {\n      \"column\": \"Fare\",\n      \"properties\": {\n        \"dtype\": \"number\",\n        \"std\": 55.840500479541035,\n        \"min\": 0.0,\n        \"max\": 512.3292,\n        \"num_unique_values\": 170,\n        \"samples\": [\n          41.5792,\n          57.75\n        ],\n        \"semantic_type\": \"\",\n        \"description\": \"\"\n      }\n    },\n    {\n      \"column\": \"Cabin\",\n      \"properties\": {\n        \"dtype\": \"category\",\n        \"num_unique_values\": 76,\n        \"samples\": [\n          \"A21\",\n          \"E45\"\n        ],\n        \"semantic_type\": \"\",\n        \"description\": \"\"\n      }\n    },\n    {\n      \"column\": \"Embarked\",\n      \"properties\": {\n        \"dtype\": \"category\",\n        \"num_unique_values\": 3,\n        \"samples\": [\n          \"Q\",\n          \"S\"\n        ],\n        \"semantic_type\": \"\",\n        \"description\": \"\"\n      }\n    }\n  ]\n}"
            }
          },
          "metadata": {},
          "execution_count": 42
        }
      ]
    },
    {
      "cell_type": "markdown",
      "source": [
        "#### Step 2: Label the testing dataset"
      ],
      "metadata": {
        "id": "9oePrWO5GZSb"
      }
    },
    {
      "cell_type": "markdown",
      "source": [
        "#### a) Create the array of input variables from the testing data set.\n"
      ],
      "metadata": {
        "id": "k4f70zPPGeAh"
      }
    },
    {
      "cell_type": "code",
      "source": [
        "#code cell 19\n",
        "#create the variable X_input to hold the features that the classifier will use\n",
        "X_input = testing[list(columns)].values"
      ],
      "metadata": {
        "id": "YySmePsSGbrB"
      },
      "execution_count": null,
      "outputs": []
    },
    {
      "cell_type": "markdown",
      "source": [
        "#### b) Apply the model to the testing data set.\n",
        "\n",
        "Use the predict() method of the clf_train object that was trained to label the observations in the testing data\n",
        "set with the most likely survival classification. Provide the array of input variables from the testing data set as the\n",
        "parameter for this method."
      ],
      "metadata": {
        "id": "hVUM5eW5Gi-x"
      }
    },
    {
      "cell_type": "code",
      "source": [
        "#code cell 20\n",
        "#apply the model to the testing data and store the result in a pandas dataframe.\n",
        "#Use X_input as the argurment for the predict() method of the clf_train classifier object\n",
        "\n",
        "target_labels = clf_train.predict(X_input)\n",
        "\n",
        "\n",
        "#convert the target array into a pandas dataframe using the pd.DataFrame() method and target as argument\n",
        "target_labels = pd.DataFrame({'Est_Survival':target_labels, 'Name':testing['Name']})\n",
        "\n",
        "\n",
        "#display the first few rows of the data set\n",
        "target_labels.head()"
      ],
      "metadata": {
        "colab": {
          "base_uri": "https://localhost:8080/",
          "height": 206
        },
        "id": "lVaytq2MGh5R",
        "outputId": "8b12db60-1d07-43df-df0b-063947b6d0e0"
      },
      "execution_count": null,
      "outputs": [
        {
          "output_type": "execute_result",
          "data": {
            "text/plain": [
              "   Est_Survival                                          Name\n",
              "0             0                              Kelly, Mr. James\n",
              "1             1              Wilkes, Mrs. James (Ellen Needs)\n",
              "2             0                     Myles, Mr. Thomas Francis\n",
              "3             0                              Wirz, Mr. Albert\n",
              "4             1  Hirvonen, Mrs. Alexander (Helga E Lindqvist)"
            ],
            "text/html": [
              "\n",
              "  <div id=\"df-ebdc7160-f743-44ce-bf41-324c9c7094a5\" class=\"colab-df-container\">\n",
              "    <div>\n",
              "<style scoped>\n",
              "    .dataframe tbody tr th:only-of-type {\n",
              "        vertical-align: middle;\n",
              "    }\n",
              "\n",
              "    .dataframe tbody tr th {\n",
              "        vertical-align: top;\n",
              "    }\n",
              "\n",
              "    .dataframe thead th {\n",
              "        text-align: right;\n",
              "    }\n",
              "</style>\n",
              "<table border=\"1\" class=\"dataframe\">\n",
              "  <thead>\n",
              "    <tr style=\"text-align: right;\">\n",
              "      <th></th>\n",
              "      <th>Est_Survival</th>\n",
              "      <th>Name</th>\n",
              "    </tr>\n",
              "  </thead>\n",
              "  <tbody>\n",
              "    <tr>\n",
              "      <th>0</th>\n",
              "      <td>0</td>\n",
              "      <td>Kelly, Mr. James</td>\n",
              "    </tr>\n",
              "    <tr>\n",
              "      <th>1</th>\n",
              "      <td>1</td>\n",
              "      <td>Wilkes, Mrs. James (Ellen Needs)</td>\n",
              "    </tr>\n",
              "    <tr>\n",
              "      <th>2</th>\n",
              "      <td>0</td>\n",
              "      <td>Myles, Mr. Thomas Francis</td>\n",
              "    </tr>\n",
              "    <tr>\n",
              "      <th>3</th>\n",
              "      <td>0</td>\n",
              "      <td>Wirz, Mr. Albert</td>\n",
              "    </tr>\n",
              "    <tr>\n",
              "      <th>4</th>\n",
              "      <td>1</td>\n",
              "      <td>Hirvonen, Mrs. Alexander (Helga E Lindqvist)</td>\n",
              "    </tr>\n",
              "  </tbody>\n",
              "</table>\n",
              "</div>\n",
              "    <div class=\"colab-df-buttons\">\n",
              "\n",
              "  <div class=\"colab-df-container\">\n",
              "    <button class=\"colab-df-convert\" onclick=\"convertToInteractive('df-ebdc7160-f743-44ce-bf41-324c9c7094a5')\"\n",
              "            title=\"Convert this dataframe to an interactive table.\"\n",
              "            style=\"display:none;\">\n",
              "\n",
              "  <svg xmlns=\"http://www.w3.org/2000/svg\" height=\"24px\" viewBox=\"0 -960 960 960\">\n",
              "    <path d=\"M120-120v-720h720v720H120Zm60-500h600v-160H180v160Zm220 220h160v-160H400v160Zm0 220h160v-160H400v160ZM180-400h160v-160H180v160Zm440 0h160v-160H620v160ZM180-180h160v-160H180v160Zm440 0h160v-160H620v160Z\"/>\n",
              "  </svg>\n",
              "    </button>\n",
              "\n",
              "  <style>\n",
              "    .colab-df-container {\n",
              "      display:flex;\n",
              "      gap: 12px;\n",
              "    }\n",
              "\n",
              "    .colab-df-convert {\n",
              "      background-color: #E8F0FE;\n",
              "      border: none;\n",
              "      border-radius: 50%;\n",
              "      cursor: pointer;\n",
              "      display: none;\n",
              "      fill: #1967D2;\n",
              "      height: 32px;\n",
              "      padding: 0 0 0 0;\n",
              "      width: 32px;\n",
              "    }\n",
              "\n",
              "    .colab-df-convert:hover {\n",
              "      background-color: #E2EBFA;\n",
              "      box-shadow: 0px 1px 2px rgba(60, 64, 67, 0.3), 0px 1px 3px 1px rgba(60, 64, 67, 0.15);\n",
              "      fill: #174EA6;\n",
              "    }\n",
              "\n",
              "    .colab-df-buttons div {\n",
              "      margin-bottom: 4px;\n",
              "    }\n",
              "\n",
              "    [theme=dark] .colab-df-convert {\n",
              "      background-color: #3B4455;\n",
              "      fill: #D2E3FC;\n",
              "    }\n",
              "\n",
              "    [theme=dark] .colab-df-convert:hover {\n",
              "      background-color: #434B5C;\n",
              "      box-shadow: 0px 1px 3px 1px rgba(0, 0, 0, 0.15);\n",
              "      filter: drop-shadow(0px 1px 2px rgba(0, 0, 0, 0.3));\n",
              "      fill: #FFFFFF;\n",
              "    }\n",
              "  </style>\n",
              "\n",
              "    <script>\n",
              "      const buttonEl =\n",
              "        document.querySelector('#df-ebdc7160-f743-44ce-bf41-324c9c7094a5 button.colab-df-convert');\n",
              "      buttonEl.style.display =\n",
              "        google.colab.kernel.accessAllowed ? 'block' : 'none';\n",
              "\n",
              "      async function convertToInteractive(key) {\n",
              "        const element = document.querySelector('#df-ebdc7160-f743-44ce-bf41-324c9c7094a5');\n",
              "        const dataTable =\n",
              "          await google.colab.kernel.invokeFunction('convertToInteractive',\n",
              "                                                    [key], {});\n",
              "        if (!dataTable) return;\n",
              "\n",
              "        const docLinkHtml = 'Like what you see? Visit the ' +\n",
              "          '<a target=\"_blank\" href=https://colab.research.google.com/notebooks/data_table.ipynb>data table notebook</a>'\n",
              "          + ' to learn more about interactive tables.';\n",
              "        element.innerHTML = '';\n",
              "        dataTable['output_type'] = 'display_data';\n",
              "        await google.colab.output.renderOutput(dataTable, element);\n",
              "        const docLink = document.createElement('div');\n",
              "        docLink.innerHTML = docLinkHtml;\n",
              "        element.appendChild(docLink);\n",
              "      }\n",
              "    </script>\n",
              "  </div>\n",
              "\n",
              "\n",
              "<div id=\"df-62cb0544-1be3-4230-aab3-36898c957c3e\">\n",
              "  <button class=\"colab-df-quickchart\" onclick=\"quickchart('df-62cb0544-1be3-4230-aab3-36898c957c3e')\"\n",
              "            title=\"Suggest charts\"\n",
              "            style=\"display:none;\">\n",
              "\n",
              "<svg xmlns=\"http://www.w3.org/2000/svg\" height=\"24px\"viewBox=\"0 0 24 24\"\n",
              "     width=\"24px\">\n",
              "    <g>\n",
              "        <path d=\"M19 3H5c-1.1 0-2 .9-2 2v14c0 1.1.9 2 2 2h14c1.1 0 2-.9 2-2V5c0-1.1-.9-2-2-2zM9 17H7v-7h2v7zm4 0h-2V7h2v10zm4 0h-2v-4h2v4z\"/>\n",
              "    </g>\n",
              "</svg>\n",
              "  </button>\n",
              "\n",
              "<style>\n",
              "  .colab-df-quickchart {\n",
              "      --bg-color: #E8F0FE;\n",
              "      --fill-color: #1967D2;\n",
              "      --hover-bg-color: #E2EBFA;\n",
              "      --hover-fill-color: #174EA6;\n",
              "      --disabled-fill-color: #AAA;\n",
              "      --disabled-bg-color: #DDD;\n",
              "  }\n",
              "\n",
              "  [theme=dark] .colab-df-quickchart {\n",
              "      --bg-color: #3B4455;\n",
              "      --fill-color: #D2E3FC;\n",
              "      --hover-bg-color: #434B5C;\n",
              "      --hover-fill-color: #FFFFFF;\n",
              "      --disabled-bg-color: #3B4455;\n",
              "      --disabled-fill-color: #666;\n",
              "  }\n",
              "\n",
              "  .colab-df-quickchart {\n",
              "    background-color: var(--bg-color);\n",
              "    border: none;\n",
              "    border-radius: 50%;\n",
              "    cursor: pointer;\n",
              "    display: none;\n",
              "    fill: var(--fill-color);\n",
              "    height: 32px;\n",
              "    padding: 0;\n",
              "    width: 32px;\n",
              "  }\n",
              "\n",
              "  .colab-df-quickchart:hover {\n",
              "    background-color: var(--hover-bg-color);\n",
              "    box-shadow: 0 1px 2px rgba(60, 64, 67, 0.3), 0 1px 3px 1px rgba(60, 64, 67, 0.15);\n",
              "    fill: var(--button-hover-fill-color);\n",
              "  }\n",
              "\n",
              "  .colab-df-quickchart-complete:disabled,\n",
              "  .colab-df-quickchart-complete:disabled:hover {\n",
              "    background-color: var(--disabled-bg-color);\n",
              "    fill: var(--disabled-fill-color);\n",
              "    box-shadow: none;\n",
              "  }\n",
              "\n",
              "  .colab-df-spinner {\n",
              "    border: 2px solid var(--fill-color);\n",
              "    border-color: transparent;\n",
              "    border-bottom-color: var(--fill-color);\n",
              "    animation:\n",
              "      spin 1s steps(1) infinite;\n",
              "  }\n",
              "\n",
              "  @keyframes spin {\n",
              "    0% {\n",
              "      border-color: transparent;\n",
              "      border-bottom-color: var(--fill-color);\n",
              "      border-left-color: var(--fill-color);\n",
              "    }\n",
              "    20% {\n",
              "      border-color: transparent;\n",
              "      border-left-color: var(--fill-color);\n",
              "      border-top-color: var(--fill-color);\n",
              "    }\n",
              "    30% {\n",
              "      border-color: transparent;\n",
              "      border-left-color: var(--fill-color);\n",
              "      border-top-color: var(--fill-color);\n",
              "      border-right-color: var(--fill-color);\n",
              "    }\n",
              "    40% {\n",
              "      border-color: transparent;\n",
              "      border-right-color: var(--fill-color);\n",
              "      border-top-color: var(--fill-color);\n",
              "    }\n",
              "    60% {\n",
              "      border-color: transparent;\n",
              "      border-right-color: var(--fill-color);\n",
              "    }\n",
              "    80% {\n",
              "      border-color: transparent;\n",
              "      border-right-color: var(--fill-color);\n",
              "      border-bottom-color: var(--fill-color);\n",
              "    }\n",
              "    90% {\n",
              "      border-color: transparent;\n",
              "      border-bottom-color: var(--fill-color);\n",
              "    }\n",
              "  }\n",
              "</style>\n",
              "\n",
              "  <script>\n",
              "    async function quickchart(key) {\n",
              "      const quickchartButtonEl =\n",
              "        document.querySelector('#' + key + ' button');\n",
              "      quickchartButtonEl.disabled = true;  // To prevent multiple clicks.\n",
              "      quickchartButtonEl.classList.add('colab-df-spinner');\n",
              "      try {\n",
              "        const charts = await google.colab.kernel.invokeFunction(\n",
              "            'suggestCharts', [key], {});\n",
              "      } catch (error) {\n",
              "        console.error('Error during call to suggestCharts:', error);\n",
              "      }\n",
              "      quickchartButtonEl.classList.remove('colab-df-spinner');\n",
              "      quickchartButtonEl.classList.add('colab-df-quickchart-complete');\n",
              "    }\n",
              "    (() => {\n",
              "      let quickchartButtonEl =\n",
              "        document.querySelector('#df-62cb0544-1be3-4230-aab3-36898c957c3e button');\n",
              "      quickchartButtonEl.style.display =\n",
              "        google.colab.kernel.accessAllowed ? 'block' : 'none';\n",
              "    })();\n",
              "  </script>\n",
              "</div>\n",
              "    </div>\n",
              "  </div>\n"
            ],
            "application/vnd.google.colaboratory.intrinsic+json": {
              "type": "dataframe",
              "variable_name": "target_labels",
              "summary": "{\n  \"name\": \"target_labels\",\n  \"rows\": 418,\n  \"fields\": [\n    {\n      \"column\": \"Est_Survival\",\n      \"properties\": {\n        \"dtype\": \"number\",\n        \"std\": 0,\n        \"min\": 0,\n        \"max\": 1,\n        \"num_unique_values\": 2,\n        \"samples\": [\n          1,\n          0\n        ],\n        \"semantic_type\": \"\",\n        \"description\": \"\"\n      }\n    },\n    {\n      \"column\": \"Name\",\n      \"properties\": {\n        \"dtype\": \"string\",\n        \"num_unique_values\": 418,\n        \"samples\": [\n          \"Krekorian, Mr. Neshan\",\n          \"Kreuchen, Miss. Emilie\"\n        ],\n        \"semantic_type\": \"\",\n        \"description\": \"\"\n      }\n    }\n  ]\n}"
            }
          },
          "metadata": {},
          "execution_count": 44
        }
      ]
    },
    {
      "cell_type": "markdown",
      "source": [
        "### c) Evaluate the accuracy of the estimated labels\n",
        "\n",
        "The ground truth for the survival of each passenger can be found in another file called all_data.csv. To select\n",
        "only the passengers contained in the testing dataset, we merge the target_labels dataframe and the\n",
        "all_data dataframe on the field Name. We then compare the estimated label with the ground truth dataframe\n",
        "and compute the accuracy of the learned model."
      ],
      "metadata": {
        "id": "QyM2ssHwTfZS"
      }
    },
    {
      "cell_type": "code",
      "source": [
        "#code cell 21\n",
        "#import the numpy library as np\n",
        "import numpy as np\n",
        "# Load data for all passengers in the variable all_data\n",
        "all_data = pd.read_csv(\"titanic_all.csv\")\n",
        "\n",
        "# Merging using the field Name as key, selects only the rows of the two datasets that refer to the same passenger\n",
        "testing_results = pd.merge(target_labels, all_data[['Name','Survived']], on=['Name'])\n",
        "\n",
        "# Compute the accuracy as a ratio of matching observations to total osbervations. Store this in in the variable acc.\n",
        "acc = np.sum(testing_results['Est_Survival'] == testing_results['Survived'])\n",
        "float(len(testing_results))\n",
        "# Print the result\n"
      ],
      "metadata": {
        "colab": {
          "base_uri": "https://localhost:8080/"
        },
        "id": "0BsMWpRkTyTB",
        "outputId": "f6f8bb5c-c292-4271-bb19-e8d88672820e"
      },
      "execution_count": null,
      "outputs": [
        {
          "output_type": "execute_result",
          "data": {
            "text/plain": [
              "397.0"
            ]
          },
          "metadata": {},
          "execution_count": 47
        }
      ]
    },
    {
      "cell_type": "markdown",
      "source": [
        "## Part 3: Evaluate the Decision Tree Model\n",
        "\n",
        "The sklearn library includes a module that can be used to evaluate the accurracy of the decision tree model.\n",
        "The train_test_split() method will divide the observations in whole data set into two randomly selected\n",
        "arrays of observations that makeup the testing and training datasets. After fitting the model to the training data,\n",
        "the trained model can be scored and the prediction accurracy compared for both the training and test datasets. It\n",
        "is desirable for the two scores to be close, but the accuracy for the test dataset is normally lower that for the\n",
        "training data set."
      ],
      "metadata": {
        "id": "Ll-XkkrxXHZv"
      }
    },
    {
      "cell_type": "markdown",
      "source": [
        "### Step 1: Import the data\n",
        "\n",
        "This time we will import the data from a csv file, but we will specify the columns that we want to have appear in\n",
        "the dataframe. We will do this by passing an array-like list of column names to the read_csv() method usecols\n",
        "parameter. Use the following columns: 'Survived', 'Fare', 'Pclass', 'Gender', 'Age', and 'SibSP'. Each should be in\n",
        "quotes and the list should be square brackets. Name this dataframe all_data.\n"
      ],
      "metadata": {
        "id": "niYHOWoeXPPu"
      }
    },
    {
      "cell_type": "code",
      "source": [
        "#code cell 22\n",
        "#import the titanic_all.csv file into a dataframe called all_data. Specify the list of columns to import.\n",
        "all_data = pd.read_csv(\"titanic_all.csv\", usecols=['Survived','Pclass', 'Gender','Age','SibSp','Fare'])\n",
        "#View info for the new dataframe\n",
        "\n",
        "all_data.info()"
      ],
      "metadata": {
        "colab": {
          "base_uri": "https://localhost:8080/"
        },
        "id": "30oUi-xUXNN1",
        "outputId": "fbfeb02f-6f60-4806-bc0d-deff01a1db06"
      },
      "execution_count": null,
      "outputs": [
        {
          "output_type": "stream",
          "name": "stdout",
          "text": [
            "<class 'pandas.core.frame.DataFrame'>\n",
            "RangeIndex: 1308 entries, 0 to 1307\n",
            "Data columns (total 6 columns):\n",
            " #   Column    Non-Null Count  Dtype  \n",
            "---  ------    --------------  -----  \n",
            " 0   Survived  1308 non-null   int64  \n",
            " 1   Pclass    1308 non-null   int64  \n",
            " 2   Gender    1308 non-null   object \n",
            " 3   Age       1045 non-null   float64\n",
            " 4   SibSp     1308 non-null   int64  \n",
            " 5   Fare      1308 non-null   float64\n",
            "dtypes: float64(2), int64(3), object(1)\n",
            "memory usage: 61.4+ KB\n"
          ]
        }
      ]
    },
    {
      "cell_type": "markdown",
      "source": [
        "How many records are in the data set?\n",
        "\n",
        "**Answer**: There are 1308 records in the data set.\n",
        "\n",
        "Which important variable(s) are missing values and how many are missing?\n",
        "\n",
        "**Answer**: In the Age column, there are 263 null values that need to be filled out."
      ],
      "metadata": {
        "id": "8NUtFcAZXZft"
      }
    },
    {
      "cell_type": "markdown",
      "source": [
        "### Step 2: Prepare the data.\n",
        "\n",
        "#### a) Remove the \"male\" and \"female\" strings and replace them with 0 and 1 respectively."
      ],
      "metadata": {
        "id": "s2rcwsiGXl51"
      }
    },
    {
      "cell_type": "code",
      "source": [
        "#code cell 23\n",
        "#Label the gender variable with 0 and 1\n",
        "\n",
        "all_data[\"Gender\"] = all_data[\"Gender\"].apply(lambda toLabel: 0 if toLabel == 'male' else 1)"
      ],
      "metadata": {
        "id": "0U6PfGspXkoc"
      },
      "execution_count": null,
      "outputs": []
    },
    {
      "cell_type": "markdown",
      "source": [
        "#### c) Replace the missing age values with the mean of the age of all members of the data set.\n"
      ],
      "metadata": {
        "id": "bMuxo9_lX6aQ"
      }
    },
    {
      "cell_type": "code",
      "source": [
        "#code cell 24\n",
        "#replace missing Age values with the mean age\n",
        "all_data[\"Age\"].fillna(all_data[\"Age\"].mean(), inplace=True)\n",
        "\n",
        "#display the first few rows of the data set\n",
        "all_data.head()\n"
      ],
      "metadata": {
        "colab": {
          "base_uri": "https://localhost:8080/",
          "height": 206
        },
        "id": "f8iPhmHNX-lH",
        "outputId": "c629dc07-b896-42ed-ff7a-a956c213d5e0"
      },
      "execution_count": null,
      "outputs": [
        {
          "output_type": "execute_result",
          "data": {
            "text/plain": [
              "   Survived  Pclass  Gender      Age  SibSp      Fare\n",
              "0         1       1       1  29.0000      0  211.3375\n",
              "1         1       1       0   0.9167      1  151.5500\n",
              "2         0       1       1   2.0000      1  151.5500\n",
              "3         0       1       0  30.0000      1  151.5500\n",
              "4         0       1       1  25.0000      1  151.5500"
            ],
            "text/html": [
              "\n",
              "  <div id=\"df-03927df8-6323-4242-acc6-dc3d0d2cef09\" class=\"colab-df-container\">\n",
              "    <div>\n",
              "<style scoped>\n",
              "    .dataframe tbody tr th:only-of-type {\n",
              "        vertical-align: middle;\n",
              "    }\n",
              "\n",
              "    .dataframe tbody tr th {\n",
              "        vertical-align: top;\n",
              "    }\n",
              "\n",
              "    .dataframe thead th {\n",
              "        text-align: right;\n",
              "    }\n",
              "</style>\n",
              "<table border=\"1\" class=\"dataframe\">\n",
              "  <thead>\n",
              "    <tr style=\"text-align: right;\">\n",
              "      <th></th>\n",
              "      <th>Survived</th>\n",
              "      <th>Pclass</th>\n",
              "      <th>Gender</th>\n",
              "      <th>Age</th>\n",
              "      <th>SibSp</th>\n",
              "      <th>Fare</th>\n",
              "    </tr>\n",
              "  </thead>\n",
              "  <tbody>\n",
              "    <tr>\n",
              "      <th>0</th>\n",
              "      <td>1</td>\n",
              "      <td>1</td>\n",
              "      <td>1</td>\n",
              "      <td>29.0000</td>\n",
              "      <td>0</td>\n",
              "      <td>211.3375</td>\n",
              "    </tr>\n",
              "    <tr>\n",
              "      <th>1</th>\n",
              "      <td>1</td>\n",
              "      <td>1</td>\n",
              "      <td>0</td>\n",
              "      <td>0.9167</td>\n",
              "      <td>1</td>\n",
              "      <td>151.5500</td>\n",
              "    </tr>\n",
              "    <tr>\n",
              "      <th>2</th>\n",
              "      <td>0</td>\n",
              "      <td>1</td>\n",
              "      <td>1</td>\n",
              "      <td>2.0000</td>\n",
              "      <td>1</td>\n",
              "      <td>151.5500</td>\n",
              "    </tr>\n",
              "    <tr>\n",
              "      <th>3</th>\n",
              "      <td>0</td>\n",
              "      <td>1</td>\n",
              "      <td>0</td>\n",
              "      <td>30.0000</td>\n",
              "      <td>1</td>\n",
              "      <td>151.5500</td>\n",
              "    </tr>\n",
              "    <tr>\n",
              "      <th>4</th>\n",
              "      <td>0</td>\n",
              "      <td>1</td>\n",
              "      <td>1</td>\n",
              "      <td>25.0000</td>\n",
              "      <td>1</td>\n",
              "      <td>151.5500</td>\n",
              "    </tr>\n",
              "  </tbody>\n",
              "</table>\n",
              "</div>\n",
              "    <div class=\"colab-df-buttons\">\n",
              "\n",
              "  <div class=\"colab-df-container\">\n",
              "    <button class=\"colab-df-convert\" onclick=\"convertToInteractive('df-03927df8-6323-4242-acc6-dc3d0d2cef09')\"\n",
              "            title=\"Convert this dataframe to an interactive table.\"\n",
              "            style=\"display:none;\">\n",
              "\n",
              "  <svg xmlns=\"http://www.w3.org/2000/svg\" height=\"24px\" viewBox=\"0 -960 960 960\">\n",
              "    <path d=\"M120-120v-720h720v720H120Zm60-500h600v-160H180v160Zm220 220h160v-160H400v160Zm0 220h160v-160H400v160ZM180-400h160v-160H180v160Zm440 0h160v-160H620v160ZM180-180h160v-160H180v160Zm440 0h160v-160H620v160Z\"/>\n",
              "  </svg>\n",
              "    </button>\n",
              "\n",
              "  <style>\n",
              "    .colab-df-container {\n",
              "      display:flex;\n",
              "      gap: 12px;\n",
              "    }\n",
              "\n",
              "    .colab-df-convert {\n",
              "      background-color: #E8F0FE;\n",
              "      border: none;\n",
              "      border-radius: 50%;\n",
              "      cursor: pointer;\n",
              "      display: none;\n",
              "      fill: #1967D2;\n",
              "      height: 32px;\n",
              "      padding: 0 0 0 0;\n",
              "      width: 32px;\n",
              "    }\n",
              "\n",
              "    .colab-df-convert:hover {\n",
              "      background-color: #E2EBFA;\n",
              "      box-shadow: 0px 1px 2px rgba(60, 64, 67, 0.3), 0px 1px 3px 1px rgba(60, 64, 67, 0.15);\n",
              "      fill: #174EA6;\n",
              "    }\n",
              "\n",
              "    .colab-df-buttons div {\n",
              "      margin-bottom: 4px;\n",
              "    }\n",
              "\n",
              "    [theme=dark] .colab-df-convert {\n",
              "      background-color: #3B4455;\n",
              "      fill: #D2E3FC;\n",
              "    }\n",
              "\n",
              "    [theme=dark] .colab-df-convert:hover {\n",
              "      background-color: #434B5C;\n",
              "      box-shadow: 0px 1px 3px 1px rgba(0, 0, 0, 0.15);\n",
              "      filter: drop-shadow(0px 1px 2px rgba(0, 0, 0, 0.3));\n",
              "      fill: #FFFFFF;\n",
              "    }\n",
              "  </style>\n",
              "\n",
              "    <script>\n",
              "      const buttonEl =\n",
              "        document.querySelector('#df-03927df8-6323-4242-acc6-dc3d0d2cef09 button.colab-df-convert');\n",
              "      buttonEl.style.display =\n",
              "        google.colab.kernel.accessAllowed ? 'block' : 'none';\n",
              "\n",
              "      async function convertToInteractive(key) {\n",
              "        const element = document.querySelector('#df-03927df8-6323-4242-acc6-dc3d0d2cef09');\n",
              "        const dataTable =\n",
              "          await google.colab.kernel.invokeFunction('convertToInteractive',\n",
              "                                                    [key], {});\n",
              "        if (!dataTable) return;\n",
              "\n",
              "        const docLinkHtml = 'Like what you see? Visit the ' +\n",
              "          '<a target=\"_blank\" href=https://colab.research.google.com/notebooks/data_table.ipynb>data table notebook</a>'\n",
              "          + ' to learn more about interactive tables.';\n",
              "        element.innerHTML = '';\n",
              "        dataTable['output_type'] = 'display_data';\n",
              "        await google.colab.output.renderOutput(dataTable, element);\n",
              "        const docLink = document.createElement('div');\n",
              "        docLink.innerHTML = docLinkHtml;\n",
              "        element.appendChild(docLink);\n",
              "      }\n",
              "    </script>\n",
              "  </div>\n",
              "\n",
              "\n",
              "<div id=\"df-300b1001-95cc-448c-9a15-f5e1fe022eb1\">\n",
              "  <button class=\"colab-df-quickchart\" onclick=\"quickchart('df-300b1001-95cc-448c-9a15-f5e1fe022eb1')\"\n",
              "            title=\"Suggest charts\"\n",
              "            style=\"display:none;\">\n",
              "\n",
              "<svg xmlns=\"http://www.w3.org/2000/svg\" height=\"24px\"viewBox=\"0 0 24 24\"\n",
              "     width=\"24px\">\n",
              "    <g>\n",
              "        <path d=\"M19 3H5c-1.1 0-2 .9-2 2v14c0 1.1.9 2 2 2h14c1.1 0 2-.9 2-2V5c0-1.1-.9-2-2-2zM9 17H7v-7h2v7zm4 0h-2V7h2v10zm4 0h-2v-4h2v4z\"/>\n",
              "    </g>\n",
              "</svg>\n",
              "  </button>\n",
              "\n",
              "<style>\n",
              "  .colab-df-quickchart {\n",
              "      --bg-color: #E8F0FE;\n",
              "      --fill-color: #1967D2;\n",
              "      --hover-bg-color: #E2EBFA;\n",
              "      --hover-fill-color: #174EA6;\n",
              "      --disabled-fill-color: #AAA;\n",
              "      --disabled-bg-color: #DDD;\n",
              "  }\n",
              "\n",
              "  [theme=dark] .colab-df-quickchart {\n",
              "      --bg-color: #3B4455;\n",
              "      --fill-color: #D2E3FC;\n",
              "      --hover-bg-color: #434B5C;\n",
              "      --hover-fill-color: #FFFFFF;\n",
              "      --disabled-bg-color: #3B4455;\n",
              "      --disabled-fill-color: #666;\n",
              "  }\n",
              "\n",
              "  .colab-df-quickchart {\n",
              "    background-color: var(--bg-color);\n",
              "    border: none;\n",
              "    border-radius: 50%;\n",
              "    cursor: pointer;\n",
              "    display: none;\n",
              "    fill: var(--fill-color);\n",
              "    height: 32px;\n",
              "    padding: 0;\n",
              "    width: 32px;\n",
              "  }\n",
              "\n",
              "  .colab-df-quickchart:hover {\n",
              "    background-color: var(--hover-bg-color);\n",
              "    box-shadow: 0 1px 2px rgba(60, 64, 67, 0.3), 0 1px 3px 1px rgba(60, 64, 67, 0.15);\n",
              "    fill: var(--button-hover-fill-color);\n",
              "  }\n",
              "\n",
              "  .colab-df-quickchart-complete:disabled,\n",
              "  .colab-df-quickchart-complete:disabled:hover {\n",
              "    background-color: var(--disabled-bg-color);\n",
              "    fill: var(--disabled-fill-color);\n",
              "    box-shadow: none;\n",
              "  }\n",
              "\n",
              "  .colab-df-spinner {\n",
              "    border: 2px solid var(--fill-color);\n",
              "    border-color: transparent;\n",
              "    border-bottom-color: var(--fill-color);\n",
              "    animation:\n",
              "      spin 1s steps(1) infinite;\n",
              "  }\n",
              "\n",
              "  @keyframes spin {\n",
              "    0% {\n",
              "      border-color: transparent;\n",
              "      border-bottom-color: var(--fill-color);\n",
              "      border-left-color: var(--fill-color);\n",
              "    }\n",
              "    20% {\n",
              "      border-color: transparent;\n",
              "      border-left-color: var(--fill-color);\n",
              "      border-top-color: var(--fill-color);\n",
              "    }\n",
              "    30% {\n",
              "      border-color: transparent;\n",
              "      border-left-color: var(--fill-color);\n",
              "      border-top-color: var(--fill-color);\n",
              "      border-right-color: var(--fill-color);\n",
              "    }\n",
              "    40% {\n",
              "      border-color: transparent;\n",
              "      border-right-color: var(--fill-color);\n",
              "      border-top-color: var(--fill-color);\n",
              "    }\n",
              "    60% {\n",
              "      border-color: transparent;\n",
              "      border-right-color: var(--fill-color);\n",
              "    }\n",
              "    80% {\n",
              "      border-color: transparent;\n",
              "      border-right-color: var(--fill-color);\n",
              "      border-bottom-color: var(--fill-color);\n",
              "    }\n",
              "    90% {\n",
              "      border-color: transparent;\n",
              "      border-bottom-color: var(--fill-color);\n",
              "    }\n",
              "  }\n",
              "</style>\n",
              "\n",
              "  <script>\n",
              "    async function quickchart(key) {\n",
              "      const quickchartButtonEl =\n",
              "        document.querySelector('#' + key + ' button');\n",
              "      quickchartButtonEl.disabled = true;  // To prevent multiple clicks.\n",
              "      quickchartButtonEl.classList.add('colab-df-spinner');\n",
              "      try {\n",
              "        const charts = await google.colab.kernel.invokeFunction(\n",
              "            'suggestCharts', [key], {});\n",
              "      } catch (error) {\n",
              "        console.error('Error during call to suggestCharts:', error);\n",
              "      }\n",
              "      quickchartButtonEl.classList.remove('colab-df-spinner');\n",
              "      quickchartButtonEl.classList.add('colab-df-quickchart-complete');\n",
              "    }\n",
              "    (() => {\n",
              "      let quickchartButtonEl =\n",
              "        document.querySelector('#df-300b1001-95cc-448c-9a15-f5e1fe022eb1 button');\n",
              "      quickchartButtonEl.style.display =\n",
              "        google.colab.kernel.accessAllowed ? 'block' : 'none';\n",
              "    })();\n",
              "  </script>\n",
              "</div>\n",
              "    </div>\n",
              "  </div>\n"
            ],
            "application/vnd.google.colaboratory.intrinsic+json": {
              "type": "dataframe",
              "variable_name": "all_data",
              "summary": "{\n  \"name\": \"all_data\",\n  \"rows\": 1308,\n  \"fields\": [\n    {\n      \"column\": \"Survived\",\n      \"properties\": {\n        \"dtype\": \"number\",\n        \"std\": 0,\n        \"min\": 0,\n        \"max\": 1,\n        \"num_unique_values\": 2,\n        \"samples\": [\n          0,\n          1\n        ],\n        \"semantic_type\": \"\",\n        \"description\": \"\"\n      }\n    },\n    {\n      \"column\": \"Pclass\",\n      \"properties\": {\n        \"dtype\": \"number\",\n        \"std\": 0,\n        \"min\": 1,\n        \"max\": 3,\n        \"num_unique_values\": 3,\n        \"samples\": [\n          1,\n          2\n        ],\n        \"semantic_type\": \"\",\n        \"description\": \"\"\n      }\n    },\n    {\n      \"column\": \"Gender\",\n      \"properties\": {\n        \"dtype\": \"number\",\n        \"std\": 0,\n        \"min\": 0,\n        \"max\": 1,\n        \"num_unique_values\": 2,\n        \"samples\": [\n          0,\n          1\n        ],\n        \"semantic_type\": \"\",\n        \"description\": \"\"\n      }\n    },\n    {\n      \"column\": \"Age\",\n      \"properties\": {\n        \"dtype\": \"number\",\n        \"std\": 12.860241791360886,\n        \"min\": 0.1667,\n        \"max\": 80.0,\n        \"num_unique_values\": 98,\n        \"samples\": [\n          6.0,\n          64.0\n        ],\n        \"semantic_type\": \"\",\n        \"description\": \"\"\n      }\n    },\n    {\n      \"column\": \"SibSp\",\n      \"properties\": {\n        \"dtype\": \"number\",\n        \"std\": 1,\n        \"min\": 0,\n        \"max\": 8,\n        \"num_unique_values\": 7,\n        \"samples\": [\n          0,\n          1\n        ],\n        \"semantic_type\": \"\",\n        \"description\": \"\"\n      }\n    },\n    {\n      \"column\": \"Fare\",\n      \"properties\": {\n        \"dtype\": \"number\",\n        \"std\": 51.75866823917411,\n        \"min\": 0.0,\n        \"max\": 512.3292,\n        \"num_unique_values\": 281,\n        \"samples\": [\n          5.0,\n          9.35\n        ],\n        \"semantic_type\": \"\",\n        \"description\": \"\"\n      }\n    }\n  ]\n}"
            }
          },
          "metadata": {},
          "execution_count": 53
        }
      ]
    },
    {
      "cell_type": "markdown",
      "source": [
        "#Step 2: Create the input and output variables for the training and testing data.\n",
        "\n",
        "The sklearn library includes modules that help with model selection. We will import from\n",
        "sklearn.model_selection the train_test_split() method. This method will automatically split the entire\n",
        "dataset, returning in total four numpy arrays, two for the features (test and validation) and two for the labels (test\n",
        "and validation). One parameter of the method specifies the proportion of observations to use for testing and\n",
        "training. Another parameter specifies a seed value that will be used to randomize assignment of the observation\n",
        "to testing or training. This is used so that another user can replicate your work by receiving the same\n",
        "assignments of observations to datasets. The syntax of the method is:\n",
        "```train_test_split(input_X, target_y, test_size=0.4, random_state=0)```\n",
        "\n",
        "40% of the data will be used for testing. The random seed is set to 0.\n",
        "\n",
        "The method returns four values. These values are the input varibles for training and testing data and the target\n",
        "variables for the training and testing data in that order.\n"
      ],
      "metadata": {
        "id": "4cJqqExpYUAZ"
      }
    },
    {
      "cell_type": "markdown",
      "source": [
        "#### a) Designate the input variables and output variables and generate the arrays.\n"
      ],
      "metadata": {
        "id": "Olm4T9YtYVUN"
      }
    },
    {
      "cell_type": "code",
      "source": [
        "columns2 = [\"Fare\", \"Pclass\", \"Gender\", \"Age\", \"SibSp\"]\n"
      ],
      "metadata": {
        "id": "0GVoh7CCi_AD"
      },
      "execution_count": null,
      "outputs": []
    },
    {
      "cell_type": "code",
      "source": [
        "#code cell 25\n",
        "#Import train_test_split() from the sklearn.model_selection libary\n",
        "from sklearn.model_selection import train_test_split\n",
        "\n",
        "#create the input and target variables as uppercase X and lowercase y. Reuse the columns variable.\n",
        "X = all_data[list(columns2)].values\n",
        "y = all_data[\"Survived\"].values\n",
        "\n",
        "#generate the four testing and training data arrays with the train_test_split() method\n",
        "X_train,X_test,y_train,y_test=train_test_split(X, y, test_size=0.40, random_state=0)\n"
      ],
      "metadata": {
        "id": "oEuF51n6YUQj"
      },
      "execution_count": null,
      "outputs": []
    },
    {
      "cell_type": "markdown",
      "source": [
        "#### b) Train the model and fit it to the testing data.\n",
        "\n",
        "Now the model can be fit again. The model will be trained using only the training datat, as selected by the\n",
        "train_test_split function.\n"
      ],
      "metadata": {
        "id": "c-LY3GEFYnxD"
      }
    },
    {
      "cell_type": "code",
      "source": [
        "#code cell 26\n",
        "#create the training decision tree object\n",
        "clf_train = tree.DecisionTreeClassifier(criterion=\"entropy\", max_depth=3)\n",
        "\n",
        "#fit the training model using the input and target variables\n",
        "clf_train = clf_train.fit(X_train, y_train)"
      ],
      "metadata": {
        "id": "OZNPsiLVYv9x"
      },
      "execution_count": null,
      "outputs": []
    },
    {
      "cell_type": "markdown",
      "source": [
        "#### c) Compare models by scoring each.\n",
        "\n",
        "Use the score() method of each decision tree object to generate scores.\n",
        "\n"
      ],
      "metadata": {
        "id": "0-p0n0i5Yyhf"
      }
    },
    {
      "cell_type": "code",
      "source": [
        "#code cell 27\n",
        "#score the model on the two datasets and store the scores in variables. Convert the scores to strings using str()\n",
        "train_score = str(clf_train.score(X_train,y_train))\n",
        "test_score = str(clf_train.score(X_test,y_test))\n",
        "\n",
        "#output the values in a test string\n",
        "print('Training score = '+ train_score+' Testing score = '+test_score)"
      ],
      "metadata": {
        "colab": {
          "base_uri": "https://localhost:8080/"
        },
        "id": "wjdlBJFdY0qG",
        "outputId": "0019e176-f1fc-453a-bd2c-f2c07bb014eb"
      },
      "execution_count": null,
      "outputs": [
        {
          "output_type": "stream",
          "name": "stdout",
          "text": [
            "Training score = 0.8201530612244898 Testing score = 0.8053435114503816\n"
          ]
        }
      ]
    },
    {
      "cell_type": "markdown",
      "source": [
        "We have now compared the scores for the trained model on both test and validation data. As expected, the test\n",
        "accuracy score is close, but lower than the score for the training data. This is because normally, the model tends\n",
        "to overfit the training data, therefore the test score is a better evaluation of how the model is able to generalize\n",
        "outside of the training data.\n"
      ],
      "metadata": {
        "id": "2Cm5lpawY-vV"
      }
    },
    {
      "cell_type": "markdown",
      "source": [
        "### Part 4 (Optional)"
      ],
      "metadata": {
        "id": "Gz2ZokUc3QLf"
      }
    },
    {
      "cell_type": "markdown",
      "source": [
        "### 1. Remove observations with missing Age values"
      ],
      "metadata": {
        "id": "7NPCtxMv3SMy"
      }
    },
    {
      "cell_type": "markdown",
      "source": [
        "Using a mean to replace missing age values may affect the accuracy of the model. One approach to this might\n",
        "be to remove all observations with missing age values. Although this will decrease the size of the training\n",
        "dataset, it could improve accuracy."
      ],
      "metadata": {
        "id": "EMiwI3ui38oH"
      }
    },
    {
      "cell_type": "code",
      "source": [
        "all_data2 = pd.read_csv(\"titanic_all.csv\")\n",
        "\n",
        "all_data2.info()"
      ],
      "metadata": {
        "colab": {
          "base_uri": "https://localhost:8080/"
        },
        "id": "vHUxdqMO3XV0",
        "outputId": "ce2b05f8-d02d-4dc7-afbe-84802bfe0b3c"
      },
      "execution_count": null,
      "outputs": [
        {
          "output_type": "stream",
          "name": "stdout",
          "text": [
            "<class 'pandas.core.frame.DataFrame'>\n",
            "RangeIndex: 1308 entries, 0 to 1307\n",
            "Data columns (total 12 columns):\n",
            " #   Column     Non-Null Count  Dtype  \n",
            "---  ------     --------------  -----  \n",
            " 0   Passenger  1308 non-null   int64  \n",
            " 1   Survived   1308 non-null   int64  \n",
            " 2   Pclass     1308 non-null   int64  \n",
            " 3   Name       1308 non-null   object \n",
            " 4   Gender     1308 non-null   object \n",
            " 5   Age        1045 non-null   float64\n",
            " 6   SibSp      1308 non-null   int64  \n",
            " 7   Parch      1308 non-null   int64  \n",
            " 8   Ticket     1308 non-null   object \n",
            " 9   Fare       1308 non-null   float64\n",
            " 10  Cabin      295 non-null    object \n",
            " 11  Embarked   1306 non-null   object \n",
            "dtypes: float64(2), int64(5), object(5)\n",
            "memory usage: 122.8+ KB\n"
          ]
        }
      ]
    },
    {
      "cell_type": "code",
      "source": [
        "#Drop rows with N/A values\n",
        "\n",
        "all_data2 = all_data2.dropna(axis=0, subset=['Age'])"
      ],
      "metadata": {
        "id": "q6TT3lEf4btz"
      },
      "execution_count": null,
      "outputs": []
    },
    {
      "cell_type": "code",
      "source": [
        "all_data2.info()"
      ],
      "metadata": {
        "colab": {
          "base_uri": "https://localhost:8080/"
        },
        "id": "aKSbsBTi4hXN",
        "outputId": "08ea8f9e-f958-49b7-81fa-774a97ef98c7"
      },
      "execution_count": null,
      "outputs": [
        {
          "output_type": "stream",
          "name": "stdout",
          "text": [
            "<class 'pandas.core.frame.DataFrame'>\n",
            "Int64Index: 1045 entries, 0 to 1307\n",
            "Data columns (total 12 columns):\n",
            " #   Column     Non-Null Count  Dtype  \n",
            "---  ------     --------------  -----  \n",
            " 0   Passenger  1045 non-null   int64  \n",
            " 1   Survived   1045 non-null   int64  \n",
            " 2   Pclass     1045 non-null   int64  \n",
            " 3   Name       1045 non-null   object \n",
            " 4   Gender     1045 non-null   object \n",
            " 5   Age        1045 non-null   float64\n",
            " 6   SibSp      1045 non-null   int64  \n",
            " 7   Parch      1045 non-null   int64  \n",
            " 8   Ticket     1045 non-null   object \n",
            " 9   Fare       1045 non-null   float64\n",
            " 10  Cabin      272 non-null    object \n",
            " 11  Embarked   1043 non-null   object \n",
            "dtypes: float64(2), int64(5), object(5)\n",
            "memory usage: 106.1+ KB\n"
          ]
        }
      ]
    },
    {
      "cell_type": "markdown",
      "source": [
        "**Remarks**: Here, we removed the rows that contain null values from the Age column."
      ],
      "metadata": {
        "id": "2lM5b-k1Ax8z"
      }
    },
    {
      "cell_type": "code",
      "source": [
        "columns3 = [\"Fare\", \"Pclass\", \"Gender\", \"Age\", \"SibSp\"]\n",
        "\n",
        "all_data2[\"Gender\"] = all_data2[\"Gender\"].apply(lambda toLabel: 0 if toLabel == 'male' else 1)\n",
        "\n",
        "\n",
        "#create the input and target variables as uppercase X and lowercase y. Reuse the columns variable.\n",
        "X = all_data2[list(columns3)].values\n",
        "y = all_data2[\"Survived\"].values\n",
        "\n",
        "#generate the four testing and training data arrays with the train_test_split() method\n",
        "X_train,X_test,y_train,y_test=train_test_split(X, y, test_size=0.40, random_state=0)\n",
        "\n",
        "#create the training decision tree object\n",
        "clf_train = tree.DecisionTreeClassifier(criterion=\"entropy\", max_depth=3)\n",
        "\n",
        "#fit the training model using the input and target variables\n",
        "clf_train = clf_train.fit(X_train, y_train)\n",
        "\n",
        "#score the model on the two datasets and store the scores in variables. Convert the scores to strings using str()\n",
        "train_score = str(clf_train.score(X_train,y_train))\n",
        "test_score = str(clf_train.score(X_test,y_test))\n",
        "\n",
        "#output the values in a test string\n",
        "print('Training score = '+ train_score+' Testing score = '+test_score)"
      ],
      "metadata": {
        "colab": {
          "base_uri": "https://localhost:8080/"
        },
        "id": "tTNjtqxQBFK7",
        "outputId": "d122cc96-4674-4ffd-a751-d4e877315267"
      },
      "execution_count": null,
      "outputs": [
        {
          "output_type": "stream",
          "name": "stdout",
          "text": [
            "Training score = 0.8165869218500797 Testing score = 0.8086124401913876\n"
          ]
        }
      ]
    },
    {
      "cell_type": "markdown",
      "source": [
        "**Remarks**: By removing the rows with null entries in the Age column, we can observe a *slight* increase in the testing score, indicating an increase in accuracy."
      ],
      "metadata": {
        "id": "rY4CnwIwCFDI"
      }
    },
    {
      "cell_type": "markdown",
      "source": [
        "### 2. Remove the input variables"
      ],
      "metadata": {
        "id": "uprLn_BjCWZz"
      }
    },
    {
      "cell_type": "code",
      "source": [
        "columns3 = [\"Fare\", \"Pclass\", \"Age\", \"SibSp\"]\n",
        "\n",
        "#create the input and target variables as uppercase X and lowercase y. Reuse the columns variable.\n",
        "X = all_data[list(columns3)].values\n",
        "y = all_data[\"Survived\"].values\n",
        "\n",
        "#generate the four testing and training data arrays with the train_test_split() method\n",
        "X_train,X_test,y_train,y_test=train_test_split(X, y, test_size=0.40, random_state=0)\n",
        "\n",
        "#create the training decision tree object\n",
        "clf_train = tree.DecisionTreeClassifier(criterion=\"entropy\", max_depth=3)\n",
        "\n",
        "#fit the training model using the input and target variables\n",
        "clf_train = clf_train.fit(X_train, y_train)\n",
        "\n",
        "#score the model on the two datasets and store the scores in variables. Convert the scores to strings using str()\n",
        "train_score = str(clf_train.score(X_train,y_train))\n",
        "test_score = str(clf_train.score(X_test,y_test))\n",
        "\n",
        "#output the values in a test string\n",
        "print('Training score = '+ train_score+' Testing score = '+test_score)"
      ],
      "metadata": {
        "colab": {
          "base_uri": "https://localhost:8080/"
        },
        "id": "kiLgRQoKCY4J",
        "outputId": "272ab916-a4c7-4829-a285-a61a143ce1f2"
      },
      "execution_count": null,
      "outputs": [
        {
          "output_type": "stream",
          "name": "stdout",
          "text": [
            "Training score = 0.7104591836734694 Testing score = 0.6851145038167938\n"
          ]
        }
      ]
    },
    {
      "cell_type": "code",
      "source": [
        "columns4 = [\"Fare\", \"Pclass\"]\n",
        "\n",
        "#create the input and target variables as uppercase X and lowercase y. Reuse the columns variable.\n",
        "X = all_data[list(columns4)].values\n",
        "y = all_data[\"Survived\"].values\n",
        "\n",
        "#generate the four testing and training data arrays with the train_test_split() method\n",
        "X_train,X_test,y_train,y_test=train_test_split(X, y, test_size=0.40, random_state=0)\n",
        "\n",
        "#create the training decision tree object\n",
        "clf_train = tree.DecisionTreeClassifier(criterion=\"entropy\", max_depth=3)\n",
        "\n",
        "#fit the training model using the input and target variables\n",
        "clf_train = clf_train.fit(X_train, y_train)\n",
        "\n",
        "#score the model on the two datasets and store the scores in variables. Convert the scores to strings using str()\n",
        "train_score = str(clf_train.score(X_train,y_train))\n",
        "test_score = str(clf_train.score(X_test,y_test))\n",
        "\n",
        "#output the values in a test string\n",
        "print('Training score = '+ train_score+' Testing score = '+test_score)"
      ],
      "metadata": {
        "colab": {
          "base_uri": "https://localhost:8080/"
        },
        "id": "u7qKdGeVDNwj",
        "outputId": "8e985190-c003-440e-d716-0951856ee296"
      },
      "execution_count": null,
      "outputs": [
        {
          "output_type": "stream",
          "name": "stdout",
          "text": [
            "Training score = 0.6989795918367347 Testing score = 0.683206106870229\n"
          ]
        }
      ]
    },
    {
      "cell_type": "markdown",
      "source": [
        "**Remarks**: In the above trials, we can see that changing the input variables contained in `column3` and `column4` changed the training score and testing score values. This shows a trend that removing input variables may decrease the accuracy of the model being used."
      ],
      "metadata": {
        "id": "-2Bcx6oODXg9"
      }
    },
    {
      "cell_type": "markdown",
      "source": [
        "### Summary, Conclusions, and Analysis"
      ],
      "metadata": {
        "id": "7UKsZ1ANZAH5"
      }
    },
    {
      "cell_type": "markdown",
      "source": [
        "This activity revolves around the usage of Python in performing statistical treatment on a set of data. In the activity, I have realized that there is no such thing as perfect data. Just like in the given datasets, we filled out some missing values that are crucial in preventing skewed results and error in our processes.\n",
        "\n",
        "Additionally, we have also used libraries that aid in the creation of a decision tree. In the creation of the decision tree, it is also important to clean the data before processing them. We have learned different techniques as well in improving the accuracy of the model that we are using such as decreasing the sample size throug removing the rows with null values and manipulating the input variables that are being tested.\n",
        "\n",
        "Overall, the activity has introduced a lot of new concepts when it comes to the usage of Python in data analysis. And if there is one key takeaway that I got from this activity, it is that when dealing with data, our attention to details is really crucial."
      ],
      "metadata": {
        "id": "_1YHDcQ1ZGJB"
      }
    }
  ]
}