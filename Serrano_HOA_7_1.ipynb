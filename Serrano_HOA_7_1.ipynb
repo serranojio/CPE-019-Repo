{
  "nbformat": 4,
  "nbformat_minor": 0,
  "metadata": {
    "colab": {
      "provenance": []
    },
    "kernelspec": {
      "name": "python3",
      "display_name": "Python 3"
    },
    "language_info": {
      "name": "python"
    }
  },
  "cells": [
    {
      "cell_type": "markdown",
      "source": [
        "## CPE 019 - Assignment 7.1 : Classifications and Regression\n",
        "\n",
        "\n",
        "**Names:** SERRANO, Jio A.<br>\n",
        "**Course and Section:** CPE019 - CPE32S3 <br>\n",
        "**Date of Submission**: April 11, 2024<br>\n",
        "**Instructor:** Engr. Roman Richard<br>\n"
      ],
      "metadata": {
        "id": "EpsZlXN55oRv"
      }
    },
    {
      "cell_type": "markdown",
      "source": [
        "## Classification"
      ],
      "metadata": {
        "id": "U098NK_k63_0"
      }
    },
    {
      "cell_type": "markdown",
      "source": [
        "### Rice (Cammeo and Osmancik) Classification Dataset\n",
        "\n",
        "The dataset that was chosen for the classification task of this activity is a dataset from UCI Machine Learning Repository entitled \"Rice (Cammeo and Osmancik)\". Images of two rice varieties from Turkey, cammeo and osmancik, were processed and extracted for feature inferences. A total of 7 morphological features are identified from the images and are listed as follows:\n",
        "\n",
        "* Area in pixels\n",
        "* Perimeter in pixels\n",
        "* Major_Axis_Length\n",
        "* Minor_Axis_Length\n",
        "* Eccentricity\n",
        "* Convex_Area in pixels\n",
        "* Extent\n",
        "\n",
        "This is a binary classification problem with the classes being cammeo and osmancik represented by binary (1 and 0). The input features are integer and continuous variables.\n",
        "\n",
        "The dataset can be accessed here:\n",
        "https://archive.ics.uci.edu/dataset/545/rice+cammeo+and+osmancik"
      ],
      "metadata": {
        "id": "9v3mp8IN61Y5"
      }
    },
    {
      "cell_type": "markdown",
      "source": [
        "#### Importing Classes and Functions"
      ],
      "metadata": {
        "id": "G7Q618n-CK_n"
      }
    },
    {
      "cell_type": "code",
      "source": [
        "!pip install keras\n",
        "!pip install scikeras\n"
      ],
      "metadata": {
        "colab": {
          "base_uri": "https://localhost:8080/"
        },
        "id": "7oAuNp3PCkdC",
        "outputId": "e03e2880-15d2-4d61-f15c-a875e0be03ce"
      },
      "execution_count": null,
      "outputs": [
        {
          "output_type": "stream",
          "name": "stdout",
          "text": [
            "Requirement already satisfied: keras in /usr/local/lib/python3.10/dist-packages (2.15.0)\n",
            "Collecting scikeras\n",
            "  Downloading scikeras-0.12.0-py3-none-any.whl (27 kB)\n",
            "Requirement already satisfied: packaging>=0.21 in /usr/local/lib/python3.10/dist-packages (from scikeras) (24.0)\n",
            "Requirement already satisfied: scikit-learn>=1.0.0 in /usr/local/lib/python3.10/dist-packages (from scikeras) (1.2.2)\n",
            "Requirement already satisfied: numpy>=1.17.3 in /usr/local/lib/python3.10/dist-packages (from scikit-learn>=1.0.0->scikeras) (1.25.2)\n",
            "Requirement already satisfied: scipy>=1.3.2 in /usr/local/lib/python3.10/dist-packages (from scikit-learn>=1.0.0->scikeras) (1.11.4)\n",
            "Requirement already satisfied: joblib>=1.1.1 in /usr/local/lib/python3.10/dist-packages (from scikit-learn>=1.0.0->scikeras) (1.3.2)\n",
            "Requirement already satisfied: threadpoolctl>=2.0.0 in /usr/local/lib/python3.10/dist-packages (from scikit-learn>=1.0.0->scikeras) (3.4.0)\n",
            "Installing collected packages: scikeras\n",
            "Successfully installed scikeras-0.12.0\n"
          ]
        }
      ]
    },
    {
      "cell_type": "code",
      "source": [
        "import numpy as np\n",
        "import pandas as pd\n",
        "from keras.models import Sequential\n",
        "from keras.layers import Dense\n",
        "from scikeras.wrappers import KerasClassifier\n",
        "from keras.utils import to_categorical\n",
        "from sklearn.model_selection import cross_val_score\n",
        "from sklearn.model_selection import KFold\n",
        "from sklearn.preprocessing import LabelEncoder\n",
        "from sklearn.pipeline import Pipeline"
      ],
      "metadata": {
        "id": "Us-0OZUECKd6"
      },
      "execution_count": null,
      "outputs": []
    },
    {
      "cell_type": "markdown",
      "source": [
        "#### Initialize Random Number Generator\n",
        "A random number generator with a constant value will help us in reproducing the results of the training that we do here in our activity."
      ],
      "metadata": {
        "id": "NJcxcEMmEQrS"
      }
    },
    {
      "cell_type": "code",
      "source": [
        "seed = 11\n",
        "np.random.seed(seed)"
      ],
      "metadata": {
        "id": "_DTegSnQEdOU"
      },
      "execution_count": null,
      "outputs": []
    },
    {
      "cell_type": "markdown",
      "source": [
        "#### Loading the Dataset"
      ],
      "metadata": {
        "id": "bRJLrmfpAkXE"
      }
    },
    {
      "cell_type": "code",
      "source": [
        "!pip install ucimlrepo"
      ],
      "metadata": {
        "colab": {
          "base_uri": "https://localhost:8080/"
        },
        "id": "BkRikVOcBt_A",
        "outputId": "e84d8bf9-a5d2-46ed-8415-12baccdd1e60"
      },
      "execution_count": null,
      "outputs": [
        {
          "output_type": "stream",
          "name": "stdout",
          "text": [
            "Collecting ucimlrepo\n",
            "  Downloading ucimlrepo-0.0.6-py3-none-any.whl (8.0 kB)\n",
            "Installing collected packages: ucimlrepo\n",
            "Successfully installed ucimlrepo-0.0.6\n"
          ]
        }
      ]
    },
    {
      "cell_type": "code",
      "source": [
        "from ucimlrepo import fetch_ucirepo\n",
        "\n",
        "# fetch dataset\n",
        "rice_cammeo_and_osmancik = fetch_ucirepo(id=545)\n",
        "\n",
        "# data (as pandas dataframes)\n",
        "X = rice_cammeo_and_osmancik.data.features\n",
        "y = rice_cammeo_and_osmancik.data.targets\n",
        "\n",
        "# metadata\n",
        "print(rice_cammeo_and_osmancik.metadata)\n",
        "\n",
        "# variable information\n",
        "print(rice_cammeo_and_osmancik.variables)\n"
      ],
      "metadata": {
        "colab": {
          "base_uri": "https://localhost:8080/"
        },
        "id": "dsLJpfk7_kmF",
        "outputId": "796cf5ec-9197-4682-c6a5-e1a45af62af6"
      },
      "execution_count": null,
      "outputs": [
        {
          "output_type": "stream",
          "name": "stdout",
          "text": [
            "{'uci_id': 545, 'name': 'Rice (Cammeo and Osmancik)', 'repository_url': 'https://archive.ics.uci.edu/dataset/545/rice+cammeo+and+osmancik', 'data_url': 'https://archive.ics.uci.edu/static/public/545/data.csv', 'abstract': \"A total of 3810 rice grain's images were taken for the two species, processed and feature inferences were made. 7 morphological features were obtained for each grain of rice.\", 'area': 'Biology', 'tasks': ['Classification'], 'characteristics': ['Multivariate'], 'num_instances': 3810, 'num_features': 7, 'feature_types': ['Real'], 'demographics': [], 'target_col': ['Class'], 'index_col': None, 'has_missing_values': 'no', 'missing_values_symbol': None, 'year_of_dataset_creation': 2019, 'last_updated': 'Fri Nov 03 2023', 'dataset_doi': '10.24432/C5MW4Z', 'creators': [], 'intro_paper': {'title': 'Classification of Rice Varieties Using Artificial Intelligence Methods', 'authors': 'Ilkay Cinar, M. Koklu', 'published_in': 'International Journal of Intelligent Systems and Applications in Engineering', 'year': 2019, 'url': 'https://www.semanticscholar.org/paper/4e508bb906c8fdc04ead6f20bd8918fcb3605d1c', 'doi': '10.18201/ijisae.2019355381'}, 'additional_info': {'summary': \"Among  the certified rice grown in TURKEY,  the  Osmancik species, which has a large planting area since 1997 and the Cammeo species grown since 2014 have been selected for the study.  When  looking  at  the  general  characteristics  of  Osmancik species, they have a wide, long, glassy and dull appearance.  When looking at the general characteristics of the Cammeo species, they have wide and long, glassy and dull in appearance.  A total of 3810 rice grain's images were taken for the two species, processed and feature inferences were made. 7 morphological features were obtained for each grain of rice. \", 'purpose': None, 'funded_by': None, 'instances_represent': None, 'recommended_data_splits': None, 'sensitive_data': None, 'preprocessing_description': None, 'variable_info': '1.) Area: Returns  the  number  of  pixels  within  the boundaries of the rice grain.\\r\\n2.) Perimeter: Calculates the circumference by calculating  the  distance  between  pixels around the boundaries of the rice grain.\\r\\n3.) Major Axis Length: The longest line that can be drawn on the rice  grain,  i.e.  the  main  axis  distance, gives.\\r\\n4.) Minor Axis Length: The shortest line that can be drawn on the rice  grain,  i.e.  the  small  axis  distance, gives.\\r\\n5.) Eccentricity: It measures how round the ellipse, which has  the  same  moments  as  the  rice  grain, is.\\r\\n6.) Convex Area: Returns  the  pixel  count  of  the  smallest convex shell of the region formed by the rice grain.\\r\\n7.) Extent: Returns the ratio of the regionformed by the rice grain to the bounding box pixels.\\r\\n8.) Class: Cammeo and Osmancik rices', 'citation': None}}\n",
            "                name     role        type demographic  \\\n",
            "0               Area  Feature     Integer        None   \n",
            "1          Perimeter  Feature  Continuous        None   \n",
            "2  Major_Axis_Length  Feature  Continuous        None   \n",
            "3  Minor_Axis_Length  Feature  Continuous        None   \n",
            "4       Eccentricity  Feature  Continuous        None   \n",
            "5        Convex_Area  Feature     Integer        None   \n",
            "6             Extent  Feature  Continuous        None   \n",
            "7              Class   Target      Binary        None   \n",
            "\n",
            "                                         description units missing_values  \n",
            "0  Returns the number of pixels within the bounda...    px             no  \n",
            "1  Calculates the circumference by calculating th...    px             no  \n",
            "2  The longest line that can be drawn on the rice...  None             no  \n",
            "3  The shortest line that can be drawn on the ric...  None             no  \n",
            "4  It measures how round the ellipse, which has t...  None             no  \n",
            "5  Returns the pixel count of the smallest convex...  None             no  \n",
            "6  Returns the ratio of the region formed by the ...  None             no  \n",
            "7                                Cammeo and Osmancik  None             no  \n"
          ]
        }
      ]
    },
    {
      "cell_type": "markdown",
      "source": [
        "#### Verifying if the Dataset was Loaded"
      ],
      "metadata": {
        "id": "WgSBWcOqpWaO"
      }
    },
    {
      "cell_type": "code",
      "source": [
        "X"
      ],
      "metadata": {
        "colab": {
          "base_uri": "https://localhost:8080/",
          "height": 423
        },
        "id": "Q000MJOhFJAr",
        "outputId": "99057f6f-89df-4972-e776-c2f3678d9198"
      },
      "execution_count": null,
      "outputs": [
        {
          "output_type": "execute_result",
          "data": {
            "text/plain": [
              "       Area   Perimeter  Major_Axis_Length  Minor_Axis_Length  Eccentricity  \\\n",
              "0     15231  525.578979         229.749878          85.093788      0.928882   \n",
              "1     14656  494.311005         206.020065          91.730972      0.895405   \n",
              "2     14634  501.122009         214.106781          87.768288      0.912118   \n",
              "3     13176  458.342987         193.337387          87.448395      0.891861   \n",
              "4     14688  507.166992         211.743378          89.312454      0.906691   \n",
              "...     ...         ...                ...                ...           ...   \n",
              "3805  11441  415.858002         170.486771          85.756592      0.864280   \n",
              "3806  11625  421.390015         167.714798          89.462570      0.845850   \n",
              "3807  12437  442.498993         183.572922          86.801979      0.881144   \n",
              "3808   9882  392.296997         161.193985          78.210480      0.874406   \n",
              "3809  11434  404.709992         161.079269          90.868195      0.825692   \n",
              "\n",
              "      Convex_Area    Extent  \n",
              "0           15617  0.572896  \n",
              "1           15072  0.615436  \n",
              "2           14954  0.693259  \n",
              "3           13368  0.640669  \n",
              "4           15262  0.646024  \n",
              "...           ...       ...  \n",
              "3805        11628  0.681012  \n",
              "3806        11904  0.694279  \n",
              "3807        12645  0.626739  \n",
              "3808        10097  0.659064  \n",
              "3809        11591  0.802949  \n",
              "\n",
              "[3810 rows x 7 columns]"
            ],
            "text/html": [
              "\n",
              "  <div id=\"df-ae199eaa-98c4-490e-b04c-7e0618532354\" class=\"colab-df-container\">\n",
              "    <div>\n",
              "<style scoped>\n",
              "    .dataframe tbody tr th:only-of-type {\n",
              "        vertical-align: middle;\n",
              "    }\n",
              "\n",
              "    .dataframe tbody tr th {\n",
              "        vertical-align: top;\n",
              "    }\n",
              "\n",
              "    .dataframe thead th {\n",
              "        text-align: right;\n",
              "    }\n",
              "</style>\n",
              "<table border=\"1\" class=\"dataframe\">\n",
              "  <thead>\n",
              "    <tr style=\"text-align: right;\">\n",
              "      <th></th>\n",
              "      <th>Area</th>\n",
              "      <th>Perimeter</th>\n",
              "      <th>Major_Axis_Length</th>\n",
              "      <th>Minor_Axis_Length</th>\n",
              "      <th>Eccentricity</th>\n",
              "      <th>Convex_Area</th>\n",
              "      <th>Extent</th>\n",
              "    </tr>\n",
              "  </thead>\n",
              "  <tbody>\n",
              "    <tr>\n",
              "      <th>0</th>\n",
              "      <td>15231</td>\n",
              "      <td>525.578979</td>\n",
              "      <td>229.749878</td>\n",
              "      <td>85.093788</td>\n",
              "      <td>0.928882</td>\n",
              "      <td>15617</td>\n",
              "      <td>0.572896</td>\n",
              "    </tr>\n",
              "    <tr>\n",
              "      <th>1</th>\n",
              "      <td>14656</td>\n",
              "      <td>494.311005</td>\n",
              "      <td>206.020065</td>\n",
              "      <td>91.730972</td>\n",
              "      <td>0.895405</td>\n",
              "      <td>15072</td>\n",
              "      <td>0.615436</td>\n",
              "    </tr>\n",
              "    <tr>\n",
              "      <th>2</th>\n",
              "      <td>14634</td>\n",
              "      <td>501.122009</td>\n",
              "      <td>214.106781</td>\n",
              "      <td>87.768288</td>\n",
              "      <td>0.912118</td>\n",
              "      <td>14954</td>\n",
              "      <td>0.693259</td>\n",
              "    </tr>\n",
              "    <tr>\n",
              "      <th>3</th>\n",
              "      <td>13176</td>\n",
              "      <td>458.342987</td>\n",
              "      <td>193.337387</td>\n",
              "      <td>87.448395</td>\n",
              "      <td>0.891861</td>\n",
              "      <td>13368</td>\n",
              "      <td>0.640669</td>\n",
              "    </tr>\n",
              "    <tr>\n",
              "      <th>4</th>\n",
              "      <td>14688</td>\n",
              "      <td>507.166992</td>\n",
              "      <td>211.743378</td>\n",
              "      <td>89.312454</td>\n",
              "      <td>0.906691</td>\n",
              "      <td>15262</td>\n",
              "      <td>0.646024</td>\n",
              "    </tr>\n",
              "    <tr>\n",
              "      <th>...</th>\n",
              "      <td>...</td>\n",
              "      <td>...</td>\n",
              "      <td>...</td>\n",
              "      <td>...</td>\n",
              "      <td>...</td>\n",
              "      <td>...</td>\n",
              "      <td>...</td>\n",
              "    </tr>\n",
              "    <tr>\n",
              "      <th>3805</th>\n",
              "      <td>11441</td>\n",
              "      <td>415.858002</td>\n",
              "      <td>170.486771</td>\n",
              "      <td>85.756592</td>\n",
              "      <td>0.864280</td>\n",
              "      <td>11628</td>\n",
              "      <td>0.681012</td>\n",
              "    </tr>\n",
              "    <tr>\n",
              "      <th>3806</th>\n",
              "      <td>11625</td>\n",
              "      <td>421.390015</td>\n",
              "      <td>167.714798</td>\n",
              "      <td>89.462570</td>\n",
              "      <td>0.845850</td>\n",
              "      <td>11904</td>\n",
              "      <td>0.694279</td>\n",
              "    </tr>\n",
              "    <tr>\n",
              "      <th>3807</th>\n",
              "      <td>12437</td>\n",
              "      <td>442.498993</td>\n",
              "      <td>183.572922</td>\n",
              "      <td>86.801979</td>\n",
              "      <td>0.881144</td>\n",
              "      <td>12645</td>\n",
              "      <td>0.626739</td>\n",
              "    </tr>\n",
              "    <tr>\n",
              "      <th>3808</th>\n",
              "      <td>9882</td>\n",
              "      <td>392.296997</td>\n",
              "      <td>161.193985</td>\n",
              "      <td>78.210480</td>\n",
              "      <td>0.874406</td>\n",
              "      <td>10097</td>\n",
              "      <td>0.659064</td>\n",
              "    </tr>\n",
              "    <tr>\n",
              "      <th>3809</th>\n",
              "      <td>11434</td>\n",
              "      <td>404.709992</td>\n",
              "      <td>161.079269</td>\n",
              "      <td>90.868195</td>\n",
              "      <td>0.825692</td>\n",
              "      <td>11591</td>\n",
              "      <td>0.802949</td>\n",
              "    </tr>\n",
              "  </tbody>\n",
              "</table>\n",
              "<p>3810 rows × 7 columns</p>\n",
              "</div>\n",
              "    <div class=\"colab-df-buttons\">\n",
              "\n",
              "  <div class=\"colab-df-container\">\n",
              "    <button class=\"colab-df-convert\" onclick=\"convertToInteractive('df-ae199eaa-98c4-490e-b04c-7e0618532354')\"\n",
              "            title=\"Convert this dataframe to an interactive table.\"\n",
              "            style=\"display:none;\">\n",
              "\n",
              "  <svg xmlns=\"http://www.w3.org/2000/svg\" height=\"24px\" viewBox=\"0 -960 960 960\">\n",
              "    <path d=\"M120-120v-720h720v720H120Zm60-500h600v-160H180v160Zm220 220h160v-160H400v160Zm0 220h160v-160H400v160ZM180-400h160v-160H180v160Zm440 0h160v-160H620v160ZM180-180h160v-160H180v160Zm440 0h160v-160H620v160Z\"/>\n",
              "  </svg>\n",
              "    </button>\n",
              "\n",
              "  <style>\n",
              "    .colab-df-container {\n",
              "      display:flex;\n",
              "      gap: 12px;\n",
              "    }\n",
              "\n",
              "    .colab-df-convert {\n",
              "      background-color: #E8F0FE;\n",
              "      border: none;\n",
              "      border-radius: 50%;\n",
              "      cursor: pointer;\n",
              "      display: none;\n",
              "      fill: #1967D2;\n",
              "      height: 32px;\n",
              "      padding: 0 0 0 0;\n",
              "      width: 32px;\n",
              "    }\n",
              "\n",
              "    .colab-df-convert:hover {\n",
              "      background-color: #E2EBFA;\n",
              "      box-shadow: 0px 1px 2px rgba(60, 64, 67, 0.3), 0px 1px 3px 1px rgba(60, 64, 67, 0.15);\n",
              "      fill: #174EA6;\n",
              "    }\n",
              "\n",
              "    .colab-df-buttons div {\n",
              "      margin-bottom: 4px;\n",
              "    }\n",
              "\n",
              "    [theme=dark] .colab-df-convert {\n",
              "      background-color: #3B4455;\n",
              "      fill: #D2E3FC;\n",
              "    }\n",
              "\n",
              "    [theme=dark] .colab-df-convert:hover {\n",
              "      background-color: #434B5C;\n",
              "      box-shadow: 0px 1px 3px 1px rgba(0, 0, 0, 0.15);\n",
              "      filter: drop-shadow(0px 1px 2px rgba(0, 0, 0, 0.3));\n",
              "      fill: #FFFFFF;\n",
              "    }\n",
              "  </style>\n",
              "\n",
              "    <script>\n",
              "      const buttonEl =\n",
              "        document.querySelector('#df-ae199eaa-98c4-490e-b04c-7e0618532354 button.colab-df-convert');\n",
              "      buttonEl.style.display =\n",
              "        google.colab.kernel.accessAllowed ? 'block' : 'none';\n",
              "\n",
              "      async function convertToInteractive(key) {\n",
              "        const element = document.querySelector('#df-ae199eaa-98c4-490e-b04c-7e0618532354');\n",
              "        const dataTable =\n",
              "          await google.colab.kernel.invokeFunction('convertToInteractive',\n",
              "                                                    [key], {});\n",
              "        if (!dataTable) return;\n",
              "\n",
              "        const docLinkHtml = 'Like what you see? Visit the ' +\n",
              "          '<a target=\"_blank\" href=https://colab.research.google.com/notebooks/data_table.ipynb>data table notebook</a>'\n",
              "          + ' to learn more about interactive tables.';\n",
              "        element.innerHTML = '';\n",
              "        dataTable['output_type'] = 'display_data';\n",
              "        await google.colab.output.renderOutput(dataTable, element);\n",
              "        const docLink = document.createElement('div');\n",
              "        docLink.innerHTML = docLinkHtml;\n",
              "        element.appendChild(docLink);\n",
              "      }\n",
              "    </script>\n",
              "  </div>\n",
              "\n",
              "\n",
              "<div id=\"df-c27e18b8-dd1b-438c-b715-0d5ceda3769b\">\n",
              "  <button class=\"colab-df-quickchart\" onclick=\"quickchart('df-c27e18b8-dd1b-438c-b715-0d5ceda3769b')\"\n",
              "            title=\"Suggest charts\"\n",
              "            style=\"display:none;\">\n",
              "\n",
              "<svg xmlns=\"http://www.w3.org/2000/svg\" height=\"24px\"viewBox=\"0 0 24 24\"\n",
              "     width=\"24px\">\n",
              "    <g>\n",
              "        <path d=\"M19 3H5c-1.1 0-2 .9-2 2v14c0 1.1.9 2 2 2h14c1.1 0 2-.9 2-2V5c0-1.1-.9-2-2-2zM9 17H7v-7h2v7zm4 0h-2V7h2v10zm4 0h-2v-4h2v4z\"/>\n",
              "    </g>\n",
              "</svg>\n",
              "  </button>\n",
              "\n",
              "<style>\n",
              "  .colab-df-quickchart {\n",
              "      --bg-color: #E8F0FE;\n",
              "      --fill-color: #1967D2;\n",
              "      --hover-bg-color: #E2EBFA;\n",
              "      --hover-fill-color: #174EA6;\n",
              "      --disabled-fill-color: #AAA;\n",
              "      --disabled-bg-color: #DDD;\n",
              "  }\n",
              "\n",
              "  [theme=dark] .colab-df-quickchart {\n",
              "      --bg-color: #3B4455;\n",
              "      --fill-color: #D2E3FC;\n",
              "      --hover-bg-color: #434B5C;\n",
              "      --hover-fill-color: #FFFFFF;\n",
              "      --disabled-bg-color: #3B4455;\n",
              "      --disabled-fill-color: #666;\n",
              "  }\n",
              "\n",
              "  .colab-df-quickchart {\n",
              "    background-color: var(--bg-color);\n",
              "    border: none;\n",
              "    border-radius: 50%;\n",
              "    cursor: pointer;\n",
              "    display: none;\n",
              "    fill: var(--fill-color);\n",
              "    height: 32px;\n",
              "    padding: 0;\n",
              "    width: 32px;\n",
              "  }\n",
              "\n",
              "  .colab-df-quickchart:hover {\n",
              "    background-color: var(--hover-bg-color);\n",
              "    box-shadow: 0 1px 2px rgba(60, 64, 67, 0.3), 0 1px 3px 1px rgba(60, 64, 67, 0.15);\n",
              "    fill: var(--button-hover-fill-color);\n",
              "  }\n",
              "\n",
              "  .colab-df-quickchart-complete:disabled,\n",
              "  .colab-df-quickchart-complete:disabled:hover {\n",
              "    background-color: var(--disabled-bg-color);\n",
              "    fill: var(--disabled-fill-color);\n",
              "    box-shadow: none;\n",
              "  }\n",
              "\n",
              "  .colab-df-spinner {\n",
              "    border: 2px solid var(--fill-color);\n",
              "    border-color: transparent;\n",
              "    border-bottom-color: var(--fill-color);\n",
              "    animation:\n",
              "      spin 1s steps(1) infinite;\n",
              "  }\n",
              "\n",
              "  @keyframes spin {\n",
              "    0% {\n",
              "      border-color: transparent;\n",
              "      border-bottom-color: var(--fill-color);\n",
              "      border-left-color: var(--fill-color);\n",
              "    }\n",
              "    20% {\n",
              "      border-color: transparent;\n",
              "      border-left-color: var(--fill-color);\n",
              "      border-top-color: var(--fill-color);\n",
              "    }\n",
              "    30% {\n",
              "      border-color: transparent;\n",
              "      border-left-color: var(--fill-color);\n",
              "      border-top-color: var(--fill-color);\n",
              "      border-right-color: var(--fill-color);\n",
              "    }\n",
              "    40% {\n",
              "      border-color: transparent;\n",
              "      border-right-color: var(--fill-color);\n",
              "      border-top-color: var(--fill-color);\n",
              "    }\n",
              "    60% {\n",
              "      border-color: transparent;\n",
              "      border-right-color: var(--fill-color);\n",
              "    }\n",
              "    80% {\n",
              "      border-color: transparent;\n",
              "      border-right-color: var(--fill-color);\n",
              "      border-bottom-color: var(--fill-color);\n",
              "    }\n",
              "    90% {\n",
              "      border-color: transparent;\n",
              "      border-bottom-color: var(--fill-color);\n",
              "    }\n",
              "  }\n",
              "</style>\n",
              "\n",
              "  <script>\n",
              "    async function quickchart(key) {\n",
              "      const quickchartButtonEl =\n",
              "        document.querySelector('#' + key + ' button');\n",
              "      quickchartButtonEl.disabled = true;  // To prevent multiple clicks.\n",
              "      quickchartButtonEl.classList.add('colab-df-spinner');\n",
              "      try {\n",
              "        const charts = await google.colab.kernel.invokeFunction(\n",
              "            'suggestCharts', [key], {});\n",
              "      } catch (error) {\n",
              "        console.error('Error during call to suggestCharts:', error);\n",
              "      }\n",
              "      quickchartButtonEl.classList.remove('colab-df-spinner');\n",
              "      quickchartButtonEl.classList.add('colab-df-quickchart-complete');\n",
              "    }\n",
              "    (() => {\n",
              "      let quickchartButtonEl =\n",
              "        document.querySelector('#df-c27e18b8-dd1b-438c-b715-0d5ceda3769b button');\n",
              "      quickchartButtonEl.style.display =\n",
              "        google.colab.kernel.accessAllowed ? 'block' : 'none';\n",
              "    })();\n",
              "  </script>\n",
              "</div>\n",
              "    </div>\n",
              "  </div>\n"
            ],
            "application/vnd.google.colaboratory.intrinsic+json": {
              "type": "dataframe",
              "variable_name": "X",
              "summary": "{\n  \"name\": \"X\",\n  \"rows\": 3810,\n  \"fields\": [\n    {\n      \"column\": \"Area\",\n      \"properties\": {\n        \"dtype\": \"number\",\n        \"std\": 1732,\n        \"min\": 7551,\n        \"max\": 18913,\n        \"num_unique_values\": 2828,\n        \"samples\": [\n          11144,\n          11898,\n          12051\n        ],\n        \"semantic_type\": \"\",\n        \"description\": \"\"\n      }\n    },\n    {\n      \"column\": \"Perimeter\",\n      \"properties\": {\n        \"dtype\": \"number\",\n        \"std\": 35.59708144220462,\n        \"min\": 359.1000061,\n        \"max\": 548.4459839,\n        \"num_unique_values\": 3738,\n        \"samples\": [\n          469.6080017,\n          516.3649902,\n          477.493988\n        ],\n        \"semantic_type\": \"\",\n        \"description\": \"\"\n      }\n    },\n    {\n      \"column\": \"Major_Axis_Length\",\n      \"properties\": {\n        \"dtype\": \"number\",\n        \"std\": 17.44867850111315,\n        \"min\": 145.2644653,\n        \"max\": 239.010498,\n        \"num_unique_values\": 3808,\n        \"samples\": [\n          211.1375732,\n          191.0631714,\n          187.9770966\n        ],\n        \"semantic_type\": \"\",\n        \"description\": \"\"\n      }\n    },\n    {\n      \"column\": \"Minor_Axis_Length\",\n      \"properties\": {\n        \"dtype\": \"number\",\n        \"std\": 5.729817333702081,\n        \"min\": 59.53240585,\n        \"max\": 107.54245,\n        \"num_unique_values\": 3804,\n        \"samples\": [\n          85.83971405,\n          84.88217926,\n          86.1084671\n        ],\n        \"semantic_type\": \"\",\n        \"description\": \"\"\n      }\n    },\n    {\n      \"column\": \"Eccentricity\",\n      \"properties\": {\n        \"dtype\": \"number\",\n        \"std\": 0.020817634100670838,\n        \"min\": 0.777232587,\n        \"max\": 0.948006928,\n        \"num_unique_values\": 3803,\n        \"samples\": [\n          0.899795711,\n          0.900991857,\n          0.89779532\n        ],\n        \"semantic_type\": \"\",\n        \"description\": \"\"\n      }\n    },\n    {\n      \"column\": \"Convex_Area\",\n      \"properties\": {\n        \"dtype\": \"number\",\n        \"std\": 1776,\n        \"min\": 7723,\n        \"max\": 19099,\n        \"num_unique_values\": 2857,\n        \"samples\": [\n          9555,\n          10576,\n          13738\n        ],\n        \"semantic_type\": \"\",\n        \"description\": \"\"\n      }\n    },\n    {\n      \"column\": \"Extent\",\n      \"properties\": {\n        \"dtype\": \"number\",\n        \"std\": 0.07723877329086311,\n        \"min\": 0.49741286,\n        \"max\": 0.861049533,\n        \"num_unique_values\": 3804,\n        \"samples\": [\n          0.580311894,\n          0.635325909,\n          0.579114974\n        ],\n        \"semantic_type\": \"\",\n        \"description\": \"\"\n      }\n    }\n  ]\n}"
            }
          },
          "metadata": {},
          "execution_count": 11
        }
      ]
    },
    {
      "cell_type": "code",
      "source": [
        "y"
      ],
      "metadata": {
        "colab": {
          "base_uri": "https://localhost:8080/",
          "height": 423
        },
        "id": "nkn9bxImFKq-",
        "outputId": "ac867099-ba37-417c-ef64-e9ed5b91d843"
      },
      "execution_count": null,
      "outputs": [
        {
          "output_type": "execute_result",
          "data": {
            "text/plain": [
              "         Class\n",
              "0       Cammeo\n",
              "1       Cammeo\n",
              "2       Cammeo\n",
              "3       Cammeo\n",
              "4       Cammeo\n",
              "...        ...\n",
              "3805  Osmancik\n",
              "3806  Osmancik\n",
              "3807  Osmancik\n",
              "3808  Osmancik\n",
              "3809  Osmancik\n",
              "\n",
              "[3810 rows x 1 columns]"
            ],
            "text/html": [
              "\n",
              "  <div id=\"df-adc741c4-40e9-451d-ad4b-0fd2e62106d3\" class=\"colab-df-container\">\n",
              "    <div>\n",
              "<style scoped>\n",
              "    .dataframe tbody tr th:only-of-type {\n",
              "        vertical-align: middle;\n",
              "    }\n",
              "\n",
              "    .dataframe tbody tr th {\n",
              "        vertical-align: top;\n",
              "    }\n",
              "\n",
              "    .dataframe thead th {\n",
              "        text-align: right;\n",
              "    }\n",
              "</style>\n",
              "<table border=\"1\" class=\"dataframe\">\n",
              "  <thead>\n",
              "    <tr style=\"text-align: right;\">\n",
              "      <th></th>\n",
              "      <th>Class</th>\n",
              "    </tr>\n",
              "  </thead>\n",
              "  <tbody>\n",
              "    <tr>\n",
              "      <th>0</th>\n",
              "      <td>Cammeo</td>\n",
              "    </tr>\n",
              "    <tr>\n",
              "      <th>1</th>\n",
              "      <td>Cammeo</td>\n",
              "    </tr>\n",
              "    <tr>\n",
              "      <th>2</th>\n",
              "      <td>Cammeo</td>\n",
              "    </tr>\n",
              "    <tr>\n",
              "      <th>3</th>\n",
              "      <td>Cammeo</td>\n",
              "    </tr>\n",
              "    <tr>\n",
              "      <th>4</th>\n",
              "      <td>Cammeo</td>\n",
              "    </tr>\n",
              "    <tr>\n",
              "      <th>...</th>\n",
              "      <td>...</td>\n",
              "    </tr>\n",
              "    <tr>\n",
              "      <th>3805</th>\n",
              "      <td>Osmancik</td>\n",
              "    </tr>\n",
              "    <tr>\n",
              "      <th>3806</th>\n",
              "      <td>Osmancik</td>\n",
              "    </tr>\n",
              "    <tr>\n",
              "      <th>3807</th>\n",
              "      <td>Osmancik</td>\n",
              "    </tr>\n",
              "    <tr>\n",
              "      <th>3808</th>\n",
              "      <td>Osmancik</td>\n",
              "    </tr>\n",
              "    <tr>\n",
              "      <th>3809</th>\n",
              "      <td>Osmancik</td>\n",
              "    </tr>\n",
              "  </tbody>\n",
              "</table>\n",
              "<p>3810 rows × 1 columns</p>\n",
              "</div>\n",
              "    <div class=\"colab-df-buttons\">\n",
              "\n",
              "  <div class=\"colab-df-container\">\n",
              "    <button class=\"colab-df-convert\" onclick=\"convertToInteractive('df-adc741c4-40e9-451d-ad4b-0fd2e62106d3')\"\n",
              "            title=\"Convert this dataframe to an interactive table.\"\n",
              "            style=\"display:none;\">\n",
              "\n",
              "  <svg xmlns=\"http://www.w3.org/2000/svg\" height=\"24px\" viewBox=\"0 -960 960 960\">\n",
              "    <path d=\"M120-120v-720h720v720H120Zm60-500h600v-160H180v160Zm220 220h160v-160H400v160Zm0 220h160v-160H400v160ZM180-400h160v-160H180v160Zm440 0h160v-160H620v160ZM180-180h160v-160H180v160Zm440 0h160v-160H620v160Z\"/>\n",
              "  </svg>\n",
              "    </button>\n",
              "\n",
              "  <style>\n",
              "    .colab-df-container {\n",
              "      display:flex;\n",
              "      gap: 12px;\n",
              "    }\n",
              "\n",
              "    .colab-df-convert {\n",
              "      background-color: #E8F0FE;\n",
              "      border: none;\n",
              "      border-radius: 50%;\n",
              "      cursor: pointer;\n",
              "      display: none;\n",
              "      fill: #1967D2;\n",
              "      height: 32px;\n",
              "      padding: 0 0 0 0;\n",
              "      width: 32px;\n",
              "    }\n",
              "\n",
              "    .colab-df-convert:hover {\n",
              "      background-color: #E2EBFA;\n",
              "      box-shadow: 0px 1px 2px rgba(60, 64, 67, 0.3), 0px 1px 3px 1px rgba(60, 64, 67, 0.15);\n",
              "      fill: #174EA6;\n",
              "    }\n",
              "\n",
              "    .colab-df-buttons div {\n",
              "      margin-bottom: 4px;\n",
              "    }\n",
              "\n",
              "    [theme=dark] .colab-df-convert {\n",
              "      background-color: #3B4455;\n",
              "      fill: #D2E3FC;\n",
              "    }\n",
              "\n",
              "    [theme=dark] .colab-df-convert:hover {\n",
              "      background-color: #434B5C;\n",
              "      box-shadow: 0px 1px 3px 1px rgba(0, 0, 0, 0.15);\n",
              "      filter: drop-shadow(0px 1px 2px rgba(0, 0, 0, 0.3));\n",
              "      fill: #FFFFFF;\n",
              "    }\n",
              "  </style>\n",
              "\n",
              "    <script>\n",
              "      const buttonEl =\n",
              "        document.querySelector('#df-adc741c4-40e9-451d-ad4b-0fd2e62106d3 button.colab-df-convert');\n",
              "      buttonEl.style.display =\n",
              "        google.colab.kernel.accessAllowed ? 'block' : 'none';\n",
              "\n",
              "      async function convertToInteractive(key) {\n",
              "        const element = document.querySelector('#df-adc741c4-40e9-451d-ad4b-0fd2e62106d3');\n",
              "        const dataTable =\n",
              "          await google.colab.kernel.invokeFunction('convertToInteractive',\n",
              "                                                    [key], {});\n",
              "        if (!dataTable) return;\n",
              "\n",
              "        const docLinkHtml = 'Like what you see? Visit the ' +\n",
              "          '<a target=\"_blank\" href=https://colab.research.google.com/notebooks/data_table.ipynb>data table notebook</a>'\n",
              "          + ' to learn more about interactive tables.';\n",
              "        element.innerHTML = '';\n",
              "        dataTable['output_type'] = 'display_data';\n",
              "        await google.colab.output.renderOutput(dataTable, element);\n",
              "        const docLink = document.createElement('div');\n",
              "        docLink.innerHTML = docLinkHtml;\n",
              "        element.appendChild(docLink);\n",
              "      }\n",
              "    </script>\n",
              "  </div>\n",
              "\n",
              "\n",
              "<div id=\"df-813478a4-fdf6-439e-8fa8-95ec95c744d6\">\n",
              "  <button class=\"colab-df-quickchart\" onclick=\"quickchart('df-813478a4-fdf6-439e-8fa8-95ec95c744d6')\"\n",
              "            title=\"Suggest charts\"\n",
              "            style=\"display:none;\">\n",
              "\n",
              "<svg xmlns=\"http://www.w3.org/2000/svg\" height=\"24px\"viewBox=\"0 0 24 24\"\n",
              "     width=\"24px\">\n",
              "    <g>\n",
              "        <path d=\"M19 3H5c-1.1 0-2 .9-2 2v14c0 1.1.9 2 2 2h14c1.1 0 2-.9 2-2V5c0-1.1-.9-2-2-2zM9 17H7v-7h2v7zm4 0h-2V7h2v10zm4 0h-2v-4h2v4z\"/>\n",
              "    </g>\n",
              "</svg>\n",
              "  </button>\n",
              "\n",
              "<style>\n",
              "  .colab-df-quickchart {\n",
              "      --bg-color: #E8F0FE;\n",
              "      --fill-color: #1967D2;\n",
              "      --hover-bg-color: #E2EBFA;\n",
              "      --hover-fill-color: #174EA6;\n",
              "      --disabled-fill-color: #AAA;\n",
              "      --disabled-bg-color: #DDD;\n",
              "  }\n",
              "\n",
              "  [theme=dark] .colab-df-quickchart {\n",
              "      --bg-color: #3B4455;\n",
              "      --fill-color: #D2E3FC;\n",
              "      --hover-bg-color: #434B5C;\n",
              "      --hover-fill-color: #FFFFFF;\n",
              "      --disabled-bg-color: #3B4455;\n",
              "      --disabled-fill-color: #666;\n",
              "  }\n",
              "\n",
              "  .colab-df-quickchart {\n",
              "    background-color: var(--bg-color);\n",
              "    border: none;\n",
              "    border-radius: 50%;\n",
              "    cursor: pointer;\n",
              "    display: none;\n",
              "    fill: var(--fill-color);\n",
              "    height: 32px;\n",
              "    padding: 0;\n",
              "    width: 32px;\n",
              "  }\n",
              "\n",
              "  .colab-df-quickchart:hover {\n",
              "    background-color: var(--hover-bg-color);\n",
              "    box-shadow: 0 1px 2px rgba(60, 64, 67, 0.3), 0 1px 3px 1px rgba(60, 64, 67, 0.15);\n",
              "    fill: var(--button-hover-fill-color);\n",
              "  }\n",
              "\n",
              "  .colab-df-quickchart-complete:disabled,\n",
              "  .colab-df-quickchart-complete:disabled:hover {\n",
              "    background-color: var(--disabled-bg-color);\n",
              "    fill: var(--disabled-fill-color);\n",
              "    box-shadow: none;\n",
              "  }\n",
              "\n",
              "  .colab-df-spinner {\n",
              "    border: 2px solid var(--fill-color);\n",
              "    border-color: transparent;\n",
              "    border-bottom-color: var(--fill-color);\n",
              "    animation:\n",
              "      spin 1s steps(1) infinite;\n",
              "  }\n",
              "\n",
              "  @keyframes spin {\n",
              "    0% {\n",
              "      border-color: transparent;\n",
              "      border-bottom-color: var(--fill-color);\n",
              "      border-left-color: var(--fill-color);\n",
              "    }\n",
              "    20% {\n",
              "      border-color: transparent;\n",
              "      border-left-color: var(--fill-color);\n",
              "      border-top-color: var(--fill-color);\n",
              "    }\n",
              "    30% {\n",
              "      border-color: transparent;\n",
              "      border-left-color: var(--fill-color);\n",
              "      border-top-color: var(--fill-color);\n",
              "      border-right-color: var(--fill-color);\n",
              "    }\n",
              "    40% {\n",
              "      border-color: transparent;\n",
              "      border-right-color: var(--fill-color);\n",
              "      border-top-color: var(--fill-color);\n",
              "    }\n",
              "    60% {\n",
              "      border-color: transparent;\n",
              "      border-right-color: var(--fill-color);\n",
              "    }\n",
              "    80% {\n",
              "      border-color: transparent;\n",
              "      border-right-color: var(--fill-color);\n",
              "      border-bottom-color: var(--fill-color);\n",
              "    }\n",
              "    90% {\n",
              "      border-color: transparent;\n",
              "      border-bottom-color: var(--fill-color);\n",
              "    }\n",
              "  }\n",
              "</style>\n",
              "\n",
              "  <script>\n",
              "    async function quickchart(key) {\n",
              "      const quickchartButtonEl =\n",
              "        document.querySelector('#' + key + ' button');\n",
              "      quickchartButtonEl.disabled = true;  // To prevent multiple clicks.\n",
              "      quickchartButtonEl.classList.add('colab-df-spinner');\n",
              "      try {\n",
              "        const charts = await google.colab.kernel.invokeFunction(\n",
              "            'suggestCharts', [key], {});\n",
              "      } catch (error) {\n",
              "        console.error('Error during call to suggestCharts:', error);\n",
              "      }\n",
              "      quickchartButtonEl.classList.remove('colab-df-spinner');\n",
              "      quickchartButtonEl.classList.add('colab-df-quickchart-complete');\n",
              "    }\n",
              "    (() => {\n",
              "      let quickchartButtonEl =\n",
              "        document.querySelector('#df-813478a4-fdf6-439e-8fa8-95ec95c744d6 button');\n",
              "      quickchartButtonEl.style.display =\n",
              "        google.colab.kernel.accessAllowed ? 'block' : 'none';\n",
              "    })();\n",
              "  </script>\n",
              "</div>\n",
              "    </div>\n",
              "  </div>\n"
            ],
            "application/vnd.google.colaboratory.intrinsic+json": {
              "type": "dataframe",
              "variable_name": "y",
              "summary": "{\n  \"name\": \"y\",\n  \"rows\": 3810,\n  \"fields\": [\n    {\n      \"column\": \"Class\",\n      \"properties\": {\n        \"dtype\": \"category\",\n        \"num_unique_values\": 2,\n        \"samples\": [\n          \"Osmancik\",\n          \"Cammeo\"\n        ],\n        \"semantic_type\": \"\",\n        \"description\": \"\"\n      }\n    }\n  ]\n}"
            }
          },
          "metadata": {},
          "execution_count": 12
        }
      ]
    },
    {
      "cell_type": "markdown",
      "source": [
        "The `X` variable contains the input features and the `y` variable contains the output variable or the target variable."
      ],
      "metadata": {
        "id": "t3iWE-tqFCTV"
      }
    },
    {
      "cell_type": "code",
      "source": [
        "# Combine the input features and target variable into one dataframe:\n",
        "\n",
        "frames = [X, y]\n",
        "riceDF = pd.concat(frames, axis=1)\n",
        "riceDF.head()"
      ],
      "metadata": {
        "colab": {
          "base_uri": "https://localhost:8080/",
          "height": 206
        },
        "id": "aRWdnapdB5eN",
        "outputId": "b7329755-3de6-457b-b7f6-d3a7bbd54618"
      },
      "execution_count": null,
      "outputs": [
        {
          "output_type": "execute_result",
          "data": {
            "text/plain": [
              "    Area   Perimeter  Major_Axis_Length  Minor_Axis_Length  Eccentricity  \\\n",
              "0  15231  525.578979         229.749878          85.093788      0.928882   \n",
              "1  14656  494.311005         206.020065          91.730972      0.895405   \n",
              "2  14634  501.122009         214.106781          87.768288      0.912118   \n",
              "3  13176  458.342987         193.337387          87.448395      0.891861   \n",
              "4  14688  507.166992         211.743378          89.312454      0.906691   \n",
              "\n",
              "   Convex_Area    Extent   Class  \n",
              "0        15617  0.572896  Cammeo  \n",
              "1        15072  0.615436  Cammeo  \n",
              "2        14954  0.693259  Cammeo  \n",
              "3        13368  0.640669  Cammeo  \n",
              "4        15262  0.646024  Cammeo  "
            ],
            "text/html": [
              "\n",
              "  <div id=\"df-5ee84b8f-1d13-4d14-b8fa-499a643db42a\" class=\"colab-df-container\">\n",
              "    <div>\n",
              "<style scoped>\n",
              "    .dataframe tbody tr th:only-of-type {\n",
              "        vertical-align: middle;\n",
              "    }\n",
              "\n",
              "    .dataframe tbody tr th {\n",
              "        vertical-align: top;\n",
              "    }\n",
              "\n",
              "    .dataframe thead th {\n",
              "        text-align: right;\n",
              "    }\n",
              "</style>\n",
              "<table border=\"1\" class=\"dataframe\">\n",
              "  <thead>\n",
              "    <tr style=\"text-align: right;\">\n",
              "      <th></th>\n",
              "      <th>Area</th>\n",
              "      <th>Perimeter</th>\n",
              "      <th>Major_Axis_Length</th>\n",
              "      <th>Minor_Axis_Length</th>\n",
              "      <th>Eccentricity</th>\n",
              "      <th>Convex_Area</th>\n",
              "      <th>Extent</th>\n",
              "      <th>Class</th>\n",
              "    </tr>\n",
              "  </thead>\n",
              "  <tbody>\n",
              "    <tr>\n",
              "      <th>0</th>\n",
              "      <td>15231</td>\n",
              "      <td>525.578979</td>\n",
              "      <td>229.749878</td>\n",
              "      <td>85.093788</td>\n",
              "      <td>0.928882</td>\n",
              "      <td>15617</td>\n",
              "      <td>0.572896</td>\n",
              "      <td>Cammeo</td>\n",
              "    </tr>\n",
              "    <tr>\n",
              "      <th>1</th>\n",
              "      <td>14656</td>\n",
              "      <td>494.311005</td>\n",
              "      <td>206.020065</td>\n",
              "      <td>91.730972</td>\n",
              "      <td>0.895405</td>\n",
              "      <td>15072</td>\n",
              "      <td>0.615436</td>\n",
              "      <td>Cammeo</td>\n",
              "    </tr>\n",
              "    <tr>\n",
              "      <th>2</th>\n",
              "      <td>14634</td>\n",
              "      <td>501.122009</td>\n",
              "      <td>214.106781</td>\n",
              "      <td>87.768288</td>\n",
              "      <td>0.912118</td>\n",
              "      <td>14954</td>\n",
              "      <td>0.693259</td>\n",
              "      <td>Cammeo</td>\n",
              "    </tr>\n",
              "    <tr>\n",
              "      <th>3</th>\n",
              "      <td>13176</td>\n",
              "      <td>458.342987</td>\n",
              "      <td>193.337387</td>\n",
              "      <td>87.448395</td>\n",
              "      <td>0.891861</td>\n",
              "      <td>13368</td>\n",
              "      <td>0.640669</td>\n",
              "      <td>Cammeo</td>\n",
              "    </tr>\n",
              "    <tr>\n",
              "      <th>4</th>\n",
              "      <td>14688</td>\n",
              "      <td>507.166992</td>\n",
              "      <td>211.743378</td>\n",
              "      <td>89.312454</td>\n",
              "      <td>0.906691</td>\n",
              "      <td>15262</td>\n",
              "      <td>0.646024</td>\n",
              "      <td>Cammeo</td>\n",
              "    </tr>\n",
              "  </tbody>\n",
              "</table>\n",
              "</div>\n",
              "    <div class=\"colab-df-buttons\">\n",
              "\n",
              "  <div class=\"colab-df-container\">\n",
              "    <button class=\"colab-df-convert\" onclick=\"convertToInteractive('df-5ee84b8f-1d13-4d14-b8fa-499a643db42a')\"\n",
              "            title=\"Convert this dataframe to an interactive table.\"\n",
              "            style=\"display:none;\">\n",
              "\n",
              "  <svg xmlns=\"http://www.w3.org/2000/svg\" height=\"24px\" viewBox=\"0 -960 960 960\">\n",
              "    <path d=\"M120-120v-720h720v720H120Zm60-500h600v-160H180v160Zm220 220h160v-160H400v160Zm0 220h160v-160H400v160ZM180-400h160v-160H180v160Zm440 0h160v-160H620v160ZM180-180h160v-160H180v160Zm440 0h160v-160H620v160Z\"/>\n",
              "  </svg>\n",
              "    </button>\n",
              "\n",
              "  <style>\n",
              "    .colab-df-container {\n",
              "      display:flex;\n",
              "      gap: 12px;\n",
              "    }\n",
              "\n",
              "    .colab-df-convert {\n",
              "      background-color: #E8F0FE;\n",
              "      border: none;\n",
              "      border-radius: 50%;\n",
              "      cursor: pointer;\n",
              "      display: none;\n",
              "      fill: #1967D2;\n",
              "      height: 32px;\n",
              "      padding: 0 0 0 0;\n",
              "      width: 32px;\n",
              "    }\n",
              "\n",
              "    .colab-df-convert:hover {\n",
              "      background-color: #E2EBFA;\n",
              "      box-shadow: 0px 1px 2px rgba(60, 64, 67, 0.3), 0px 1px 3px 1px rgba(60, 64, 67, 0.15);\n",
              "      fill: #174EA6;\n",
              "    }\n",
              "\n",
              "    .colab-df-buttons div {\n",
              "      margin-bottom: 4px;\n",
              "    }\n",
              "\n",
              "    [theme=dark] .colab-df-convert {\n",
              "      background-color: #3B4455;\n",
              "      fill: #D2E3FC;\n",
              "    }\n",
              "\n",
              "    [theme=dark] .colab-df-convert:hover {\n",
              "      background-color: #434B5C;\n",
              "      box-shadow: 0px 1px 3px 1px rgba(0, 0, 0, 0.15);\n",
              "      filter: drop-shadow(0px 1px 2px rgba(0, 0, 0, 0.3));\n",
              "      fill: #FFFFFF;\n",
              "    }\n",
              "  </style>\n",
              "\n",
              "    <script>\n",
              "      const buttonEl =\n",
              "        document.querySelector('#df-5ee84b8f-1d13-4d14-b8fa-499a643db42a button.colab-df-convert');\n",
              "      buttonEl.style.display =\n",
              "        google.colab.kernel.accessAllowed ? 'block' : 'none';\n",
              "\n",
              "      async function convertToInteractive(key) {\n",
              "        const element = document.querySelector('#df-5ee84b8f-1d13-4d14-b8fa-499a643db42a');\n",
              "        const dataTable =\n",
              "          await google.colab.kernel.invokeFunction('convertToInteractive',\n",
              "                                                    [key], {});\n",
              "        if (!dataTable) return;\n",
              "\n",
              "        const docLinkHtml = 'Like what you see? Visit the ' +\n",
              "          '<a target=\"_blank\" href=https://colab.research.google.com/notebooks/data_table.ipynb>data table notebook</a>'\n",
              "          + ' to learn more about interactive tables.';\n",
              "        element.innerHTML = '';\n",
              "        dataTable['output_type'] = 'display_data';\n",
              "        await google.colab.output.renderOutput(dataTable, element);\n",
              "        const docLink = document.createElement('div');\n",
              "        docLink.innerHTML = docLinkHtml;\n",
              "        element.appendChild(docLink);\n",
              "      }\n",
              "    </script>\n",
              "  </div>\n",
              "\n",
              "\n",
              "<div id=\"df-c874de17-f2d3-4058-9b26-28f9e600e37f\">\n",
              "  <button class=\"colab-df-quickchart\" onclick=\"quickchart('df-c874de17-f2d3-4058-9b26-28f9e600e37f')\"\n",
              "            title=\"Suggest charts\"\n",
              "            style=\"display:none;\">\n",
              "\n",
              "<svg xmlns=\"http://www.w3.org/2000/svg\" height=\"24px\"viewBox=\"0 0 24 24\"\n",
              "     width=\"24px\">\n",
              "    <g>\n",
              "        <path d=\"M19 3H5c-1.1 0-2 .9-2 2v14c0 1.1.9 2 2 2h14c1.1 0 2-.9 2-2V5c0-1.1-.9-2-2-2zM9 17H7v-7h2v7zm4 0h-2V7h2v10zm4 0h-2v-4h2v4z\"/>\n",
              "    </g>\n",
              "</svg>\n",
              "  </button>\n",
              "\n",
              "<style>\n",
              "  .colab-df-quickchart {\n",
              "      --bg-color: #E8F0FE;\n",
              "      --fill-color: #1967D2;\n",
              "      --hover-bg-color: #E2EBFA;\n",
              "      --hover-fill-color: #174EA6;\n",
              "      --disabled-fill-color: #AAA;\n",
              "      --disabled-bg-color: #DDD;\n",
              "  }\n",
              "\n",
              "  [theme=dark] .colab-df-quickchart {\n",
              "      --bg-color: #3B4455;\n",
              "      --fill-color: #D2E3FC;\n",
              "      --hover-bg-color: #434B5C;\n",
              "      --hover-fill-color: #FFFFFF;\n",
              "      --disabled-bg-color: #3B4455;\n",
              "      --disabled-fill-color: #666;\n",
              "  }\n",
              "\n",
              "  .colab-df-quickchart {\n",
              "    background-color: var(--bg-color);\n",
              "    border: none;\n",
              "    border-radius: 50%;\n",
              "    cursor: pointer;\n",
              "    display: none;\n",
              "    fill: var(--fill-color);\n",
              "    height: 32px;\n",
              "    padding: 0;\n",
              "    width: 32px;\n",
              "  }\n",
              "\n",
              "  .colab-df-quickchart:hover {\n",
              "    background-color: var(--hover-bg-color);\n",
              "    box-shadow: 0 1px 2px rgba(60, 64, 67, 0.3), 0 1px 3px 1px rgba(60, 64, 67, 0.15);\n",
              "    fill: var(--button-hover-fill-color);\n",
              "  }\n",
              "\n",
              "  .colab-df-quickchart-complete:disabled,\n",
              "  .colab-df-quickchart-complete:disabled:hover {\n",
              "    background-color: var(--disabled-bg-color);\n",
              "    fill: var(--disabled-fill-color);\n",
              "    box-shadow: none;\n",
              "  }\n",
              "\n",
              "  .colab-df-spinner {\n",
              "    border: 2px solid var(--fill-color);\n",
              "    border-color: transparent;\n",
              "    border-bottom-color: var(--fill-color);\n",
              "    animation:\n",
              "      spin 1s steps(1) infinite;\n",
              "  }\n",
              "\n",
              "  @keyframes spin {\n",
              "    0% {\n",
              "      border-color: transparent;\n",
              "      border-bottom-color: var(--fill-color);\n",
              "      border-left-color: var(--fill-color);\n",
              "    }\n",
              "    20% {\n",
              "      border-color: transparent;\n",
              "      border-left-color: var(--fill-color);\n",
              "      border-top-color: var(--fill-color);\n",
              "    }\n",
              "    30% {\n",
              "      border-color: transparent;\n",
              "      border-left-color: var(--fill-color);\n",
              "      border-top-color: var(--fill-color);\n",
              "      border-right-color: var(--fill-color);\n",
              "    }\n",
              "    40% {\n",
              "      border-color: transparent;\n",
              "      border-right-color: var(--fill-color);\n",
              "      border-top-color: var(--fill-color);\n",
              "    }\n",
              "    60% {\n",
              "      border-color: transparent;\n",
              "      border-right-color: var(--fill-color);\n",
              "    }\n",
              "    80% {\n",
              "      border-color: transparent;\n",
              "      border-right-color: var(--fill-color);\n",
              "      border-bottom-color: var(--fill-color);\n",
              "    }\n",
              "    90% {\n",
              "      border-color: transparent;\n",
              "      border-bottom-color: var(--fill-color);\n",
              "    }\n",
              "  }\n",
              "</style>\n",
              "\n",
              "  <script>\n",
              "    async function quickchart(key) {\n",
              "      const quickchartButtonEl =\n",
              "        document.querySelector('#' + key + ' button');\n",
              "      quickchartButtonEl.disabled = true;  // To prevent multiple clicks.\n",
              "      quickchartButtonEl.classList.add('colab-df-spinner');\n",
              "      try {\n",
              "        const charts = await google.colab.kernel.invokeFunction(\n",
              "            'suggestCharts', [key], {});\n",
              "      } catch (error) {\n",
              "        console.error('Error during call to suggestCharts:', error);\n",
              "      }\n",
              "      quickchartButtonEl.classList.remove('colab-df-spinner');\n",
              "      quickchartButtonEl.classList.add('colab-df-quickchart-complete');\n",
              "    }\n",
              "    (() => {\n",
              "      let quickchartButtonEl =\n",
              "        document.querySelector('#df-c874de17-f2d3-4058-9b26-28f9e600e37f button');\n",
              "      quickchartButtonEl.style.display =\n",
              "        google.colab.kernel.accessAllowed ? 'block' : 'none';\n",
              "    })();\n",
              "  </script>\n",
              "</div>\n",
              "    </div>\n",
              "  </div>\n"
            ],
            "application/vnd.google.colaboratory.intrinsic+json": {
              "type": "dataframe",
              "variable_name": "riceDF",
              "summary": "{\n  \"name\": \"riceDF\",\n  \"rows\": 3810,\n  \"fields\": [\n    {\n      \"column\": \"Area\",\n      \"properties\": {\n        \"dtype\": \"number\",\n        \"std\": 1732,\n        \"min\": 7551,\n        \"max\": 18913,\n        \"num_unique_values\": 2828,\n        \"samples\": [\n          11144,\n          11898,\n          12051\n        ],\n        \"semantic_type\": \"\",\n        \"description\": \"\"\n      }\n    },\n    {\n      \"column\": \"Perimeter\",\n      \"properties\": {\n        \"dtype\": \"number\",\n        \"std\": 35.59708144220462,\n        \"min\": 359.1000061,\n        \"max\": 548.4459839,\n        \"num_unique_values\": 3738,\n        \"samples\": [\n          469.6080017,\n          516.3649902,\n          477.493988\n        ],\n        \"semantic_type\": \"\",\n        \"description\": \"\"\n      }\n    },\n    {\n      \"column\": \"Major_Axis_Length\",\n      \"properties\": {\n        \"dtype\": \"number\",\n        \"std\": 17.44867850111315,\n        \"min\": 145.2644653,\n        \"max\": 239.010498,\n        \"num_unique_values\": 3808,\n        \"samples\": [\n          211.1375732,\n          191.0631714,\n          187.9770966\n        ],\n        \"semantic_type\": \"\",\n        \"description\": \"\"\n      }\n    },\n    {\n      \"column\": \"Minor_Axis_Length\",\n      \"properties\": {\n        \"dtype\": \"number\",\n        \"std\": 5.729817333702081,\n        \"min\": 59.53240585,\n        \"max\": 107.54245,\n        \"num_unique_values\": 3804,\n        \"samples\": [\n          85.83971405,\n          84.88217926,\n          86.1084671\n        ],\n        \"semantic_type\": \"\",\n        \"description\": \"\"\n      }\n    },\n    {\n      \"column\": \"Eccentricity\",\n      \"properties\": {\n        \"dtype\": \"number\",\n        \"std\": 0.020817634100670838,\n        \"min\": 0.777232587,\n        \"max\": 0.948006928,\n        \"num_unique_values\": 3803,\n        \"samples\": [\n          0.899795711,\n          0.900991857,\n          0.89779532\n        ],\n        \"semantic_type\": \"\",\n        \"description\": \"\"\n      }\n    },\n    {\n      \"column\": \"Convex_Area\",\n      \"properties\": {\n        \"dtype\": \"number\",\n        \"std\": 1776,\n        \"min\": 7723,\n        \"max\": 19099,\n        \"num_unique_values\": 2857,\n        \"samples\": [\n          9555,\n          10576,\n          13738\n        ],\n        \"semantic_type\": \"\",\n        \"description\": \"\"\n      }\n    },\n    {\n      \"column\": \"Extent\",\n      \"properties\": {\n        \"dtype\": \"number\",\n        \"std\": 0.07723877329086311,\n        \"min\": 0.49741286,\n        \"max\": 0.861049533,\n        \"num_unique_values\": 3804,\n        \"samples\": [\n          0.580311894,\n          0.635325909,\n          0.579114974\n        ],\n        \"semantic_type\": \"\",\n        \"description\": \"\"\n      }\n    },\n    {\n      \"column\": \"Class\",\n      \"properties\": {\n        \"dtype\": \"category\",\n        \"num_unique_values\": 2,\n        \"samples\": [\n          \"Osmancik\",\n          \"Cammeo\"\n        ],\n        \"semantic_type\": \"\",\n        \"description\": \"\"\n      }\n    }\n  ]\n}"
            }
          },
          "metadata": {},
          "execution_count": 13
        }
      ]
    },
    {
      "cell_type": "markdown",
      "source": [
        "Combining the two dataframes, `X` and `y` into a single dataset will allow us to perform our pre-processing easier later on. The `riceDF` dataframe now contains the whole dataset imported using Python. We have used the `info()` method in order to check for the columns of the dataset. This also gives us a glimpse if there are null values in the dataset. From the above result, there are no null values in the chosen dataset. It can also be noted that the output variable, which is the column, `Class`, has an `object` data type, meaning, these values could be string values which we will need to convert later on."
      ],
      "metadata": {
        "id": "s-4IypWPElfl"
      }
    },
    {
      "cell_type": "markdown",
      "source": [
        "#### Removing Outliers\n",
        "\n",
        "Outliers are data points that are too far off the median of the dataset which may skew the results of our model [2]. In this section, we will identify if there are present outliers in the dataset through visualization means using a boxplot. Removal of outliers will be done using interquartile range [3].\n",
        "\n",
        "\n",
        "[2] GfG, “Detect and Remove the Outliers using Python,” GeeksforGeeks, Feb. 23, 2021. https://www.geeksforgeeks.org/detect-and-remove-the-outliers-using-python/ (accessed Apr. 07, 2024).\n",
        "‌\n",
        "\n",
        "[3] S. Allwright, “Remove outliers from Pandas DataFrame (Updated 2022),” Stephen Allwright, May 11, 2022. https://stephenallwright.com/remove-outliers-pandas/ (accessed Apr. 07, 2024).\n",
        "‌"
      ],
      "metadata": {
        "id": "AhAA0lPmQy6x"
      }
    },
    {
      "cell_type": "code",
      "source": [
        "import matplotlib.pyplot as plt\n",
        "\n",
        "fig, axs = plt.subplots(1, 7, figsize=(12, 5))\n",
        "features = riceDF.columns\n",
        "\n",
        "for i in range(7):\n",
        "  axs[i].boxplot(riceDF[features[i]])\n",
        "  axs[i].set_xlabel(f\"{features[i]}\")\n",
        "\n",
        "\n",
        "plt.tight_layout()\n",
        "plt.show()"
      ],
      "metadata": {
        "colab": {
          "base_uri": "https://localhost:8080/",
          "height": 506
        },
        "id": "VmOJLU3lRkNx",
        "outputId": "9a3127aa-b287-401d-ad39-321e98f80947"
      },
      "execution_count": null,
      "outputs": [
        {
          "output_type": "display_data",
          "data": {
            "text/plain": [
              "<Figure size 1200x500 with 7 Axes>"
            ],
            "image/png": "[encoded data removed]"
          },
          "metadata": {}
        }
      ]
    },
    {
      "cell_type": "markdown",
      "source": [
        "From the boxplots generated above, we can see that outliers are present in the `Area`, `Minor_Axis_Length`, `Eccentricity`, and `Convex_Area` columns. These are characterized by data points located outside the whiskers of the boxplots [4].\n",
        "\n",
        "\n",
        "[4] “Box Plot Explained: Interpretation, Examples, & Comparison,” Simply Psychology, Jul. 31, 2023. https://www.simplypsychology.org/boxplots.html (accessed Apr. 07, 2024).\n",
        "‌"
      ],
      "metadata": {
        "id": "Rf45zYlXR2wy"
      }
    },
    {
      "cell_type": "markdown",
      "source": [
        "To remove the outliers, we will use the interquartile range method where values that are located above the 75th percentile and below the 25th percentile are removed [3].  "
      ],
      "metadata": {
        "id": "bxlwmf3NSVtv"
      }
    },
    {
      "cell_type": "code",
      "source": [
        "# Create function that will accept the dataframe, the column name to be cleaned, and threshold\n",
        "# Return the cleaned dataframe\n",
        "\n",
        "def remove_outliers_iqr(df, column_name, thresh=1.5):\n",
        "  Q1 = df[column_name].quantile(0.25)\n",
        "  Q3 = df[column_name].quantile(0.75)\n",
        "  IQR = Q3 - Q1\n",
        "  lower_bound = Q1 - (thresh * IQR)\n",
        "  upper_bound = Q3 + (thresh * IQR)\n",
        "\n",
        "  return df[(df[column_name] >= lower_bound) & (df[column_name] <= upper_bound)]"
      ],
      "metadata": {
        "id": "dp_q5baXS2Og"
      },
      "execution_count": null,
      "outputs": []
    },
    {
      "cell_type": "code",
      "source": [
        "# Remove outliers\n",
        "\n",
        "dataDF = riceDF.copy()\n",
        "features = dataDF.columns\n",
        "\n",
        "for i in range((len(features)-1)):\n",
        "  dataDF = remove_outliers_iqr(dataDF, f'{features[i]}')"
      ],
      "metadata": {
        "id": "p0EXtH6iS4lC"
      },
      "execution_count": null,
      "outputs": []
    },
    {
      "cell_type": "code",
      "source": [
        "# Verify if outliers were removed\n",
        "\n",
        "fig, axs = plt.subplots(1, 7, figsize=(12, 5))\n",
        "features = dataDF.columns\n",
        "\n",
        "for i in range(7):\n",
        "  axs[i].boxplot(dataDF[features[i]])\n",
        "  axs[i].set_xlabel(f\"{features[i]}\")\n",
        "\n",
        "\n",
        "plt.tight_layout()\n",
        "plt.show()"
      ],
      "metadata": {
        "colab": {
          "base_uri": "https://localhost:8080/",
          "height": 507
        },
        "id": "OSU-CkOWTbIS",
        "outputId": "ab99b094-67b3-4292-d783-4c39c9b60072"
      },
      "execution_count": null,
      "outputs": [
        {
          "output_type": "display_data",
          "data": {
            "text/plain": [
              "<Figure size 1200x500 with 7 Axes>"
            ],
            "image/png": "[encoded data removed]"
          },
          "metadata": {}
        }
      ]
    },
    {
      "cell_type": "code",
      "source": [
        "dataDF.info()"
      ],
      "metadata": {
        "colab": {
          "base_uri": "https://localhost:8080/"
        },
        "id": "g_i7rZ4WTsRz",
        "outputId": "4b65c8dd-3bc6-473d-a312-fb07f3224a95"
      },
      "execution_count": null,
      "outputs": [
        {
          "output_type": "stream",
          "name": "stdout",
          "text": [
            "<class 'pandas.core.frame.DataFrame'>\n",
            "Index: 3724 entries, 0 to 3808\n",
            "Data columns (total 8 columns):\n",
            " #   Column             Non-Null Count  Dtype  \n",
            "---  ------             --------------  -----  \n",
            " 0   Area               3724 non-null   int64  \n",
            " 1   Perimeter          3724 non-null   float64\n",
            " 2   Major_Axis_Length  3724 non-null   float64\n",
            " 3   Minor_Axis_Length  3724 non-null   float64\n",
            " 4   Eccentricity       3724 non-null   float64\n",
            " 5   Convex_Area        3724 non-null   int64  \n",
            " 6   Extent             3724 non-null   float64\n",
            " 7   Class              3724 non-null   object \n",
            "dtypes: float64(5), int64(2), object(1)\n",
            "memory usage: 261.8+ KB\n"
          ]
        }
      ]
    },
    {
      "cell_type": "markdown",
      "source": [
        "From the result of the boxplots above, we can see that we are able to remove the outliers from the dataset. Removing the outliers significantly reduced the size of our dataset to 3724 as seen in the result of the `info()` method above."
      ],
      "metadata": {
        "id": "a3IWaFvvTnJ-"
      }
    },
    {
      "cell_type": "markdown",
      "source": [
        "#### Scaling the Data\n",
        "\n",
        "Some of the features in the dataset are expressed in a different scale from the others, hence, we will need to scale the data. Data scaling is useful when the input features are continuous variables that have different scales (e.g., some are in terms of pixels, some are of inches) [5].\n",
        "\n",
        "[5] “Data Scaling for Machine Learning — The Essential Guide | Better Data Science,” Betterdatascience.com, 2024. https://betterdatascience.com/data-scaling-for-machine-learning/#:~:text=Scaling%20is%20a%20method%20of%20standardization%20that%E2%80%99s%20most,linear%20space%20%28like%20linear%20regression%20or%20K-nearest%20neighbors%29 (accessed Apr. 07, 2024).\n",
        "‌"
      ],
      "metadata": {
        "id": "Yt2YSIuSax6M"
      }
    },
    {
      "cell_type": "code",
      "source": [
        "X_new = dataDF.drop(columns = [\"Class\"])\n",
        "y_new = dataDF[\"Class\"]\n",
        "\n",
        "print(X_new.shape)\n",
        "print(y_new.shape)"
      ],
      "metadata": {
        "colab": {
          "base_uri": "https://localhost:8080/"
        },
        "id": "dmdapABCbwpd",
        "outputId": "f22dd3b6-ca1e-4030-9f73-c28f43533766"
      },
      "execution_count": null,
      "outputs": [
        {
          "output_type": "stream",
          "name": "stdout",
          "text": [
            "(3724, 7)\n",
            "(3724,)\n"
          ]
        }
      ]
    },
    {
      "cell_type": "code",
      "source": [
        "from sklearn.preprocessing import StandardScaler\n",
        "scaler = StandardScaler()\n",
        "\n",
        "X_scaled = scaler.fit_transform(X_new)"
      ],
      "metadata": {
        "id": "xRwyCPlAbpP-"
      },
      "execution_count": null,
      "outputs": []
    },
    {
      "cell_type": "code",
      "source": [
        "X_new"
      ],
      "metadata": {
        "colab": {
          "base_uri": "https://localhost:8080/",
          "height": 423
        },
        "id": "bFmc0tyxb7mA",
        "outputId": "f6bd1b7a-b6ba-41a8-c97e-cb2401acb218"
      },
      "execution_count": null,
      "outputs": [
        {
          "output_type": "execute_result",
          "data": {
            "text/plain": [
              "       Area   Perimeter  Major_Axis_Length  Minor_Axis_Length  Eccentricity  \\\n",
              "0     15231  525.578979         229.749878          85.093788      0.928882   \n",
              "1     14656  494.311005         206.020065          91.730972      0.895405   \n",
              "2     14634  501.122009         214.106781          87.768288      0.912118   \n",
              "3     13176  458.342987         193.337387          87.448395      0.891861   \n",
              "4     14688  507.166992         211.743378          89.312454      0.906691   \n",
              "...     ...         ...                ...                ...           ...   \n",
              "3804  12501  451.799011         192.738800          83.195061      0.902043   \n",
              "3805  11441  415.858002         170.486771          85.756592      0.864280   \n",
              "3806  11625  421.390015         167.714798          89.462570      0.845850   \n",
              "3807  12437  442.498993         183.572922          86.801979      0.881144   \n",
              "3808   9882  392.296997         161.193985          78.210480      0.874406   \n",
              "\n",
              "      Convex_Area    Extent  \n",
              "0           15617  0.572896  \n",
              "1           15072  0.615436  \n",
              "2           14954  0.693259  \n",
              "3           13368  0.640669  \n",
              "4           15262  0.646024  \n",
              "...           ...       ...  \n",
              "3804        12687  0.718820  \n",
              "3805        11628  0.681012  \n",
              "3806        11904  0.694279  \n",
              "3807        12645  0.626739  \n",
              "3808        10097  0.659064  \n",
              "\n",
              "[3724 rows x 7 columns]"
            ],
            "text/html": [
              "\n",
              "  <div id=\"df-bf9bc879-0f96-4d52-8a86-767cd1ffe19d\" class=\"colab-df-container\">\n",
              "    <div>\n",
              "<style scoped>\n",
              "    .dataframe tbody tr th:only-of-type {\n",
              "        vertical-align: middle;\n",
              "    }\n",
              "\n",
              "    .dataframe tbody tr th {\n",
              "        vertical-align: top;\n",
              "    }\n",
              "\n",
              "    .dataframe thead th {\n",
              "        text-align: right;\n",
              "    }\n",
              "</style>\n",
              "<table border=\"1\" class=\"dataframe\">\n",
              "  <thead>\n",
              "    <tr style=\"text-align: right;\">\n",
              "      <th></th>\n",
              "      <th>Area</th>\n",
              "      <th>Perimeter</th>\n",
              "      <th>Major_Axis_Length</th>\n",
              "      <th>Minor_Axis_Length</th>\n",
              "      <th>Eccentricity</th>\n",
              "      <th>Convex_Area</th>\n",
              "      <th>Extent</th>\n",
              "    </tr>\n",
              "  </thead>\n",
              "  <tbody>\n",
              "    <tr>\n",
              "      <th>0</th>\n",
              "      <td>15231</td>\n",
              "      <td>525.578979</td>\n",
              "      <td>229.749878</td>\n",
              "      <td>85.093788</td>\n",
              "      <td>0.928882</td>\n",
              "      <td>15617</td>\n",
              "      <td>0.572896</td>\n",
              "    </tr>\n",
              "    <tr>\n",
              "      <th>1</th>\n",
              "      <td>14656</td>\n",
              "      <td>494.311005</td>\n",
              "      <td>206.020065</td>\n",
              "      <td>91.730972</td>\n",
              "      <td>0.895405</td>\n",
              "      <td>15072</td>\n",
              "      <td>0.615436</td>\n",
              "    </tr>\n",
              "    <tr>\n",
              "      <th>2</th>\n",
              "      <td>14634</td>\n",
              "      <td>501.122009</td>\n",
              "      <td>214.106781</td>\n",
              "      <td>87.768288</td>\n",
              "      <td>0.912118</td>\n",
              "      <td>14954</td>\n",
              "      <td>0.693259</td>\n",
              "    </tr>\n",
              "    <tr>\n",
              "      <th>3</th>\n",
              "      <td>13176</td>\n",
              "      <td>458.342987</td>\n",
              "      <td>193.337387</td>\n",
              "      <td>87.448395</td>\n",
              "      <td>0.891861</td>\n",
              "      <td>13368</td>\n",
              "      <td>0.640669</td>\n",
              "    </tr>\n",
              "    <tr>\n",
              "      <th>4</th>\n",
              "      <td>14688</td>\n",
              "      <td>507.166992</td>\n",
              "      <td>211.743378</td>\n",
              "      <td>89.312454</td>\n",
              "      <td>0.906691</td>\n",
              "      <td>15262</td>\n",
              "      <td>0.646024</td>\n",
              "    </tr>\n",
              "    <tr>\n",
              "      <th>...</th>\n",
              "      <td>...</td>\n",
              "      <td>...</td>\n",
              "      <td>...</td>\n",
              "      <td>...</td>\n",
              "      <td>...</td>\n",
              "      <td>...</td>\n",
              "      <td>...</td>\n",
              "    </tr>\n",
              "    <tr>\n",
              "      <th>3804</th>\n",
              "      <td>12501</td>\n",
              "      <td>451.799011</td>\n",
              "      <td>192.738800</td>\n",
              "      <td>83.195061</td>\n",
              "      <td>0.902043</td>\n",
              "      <td>12687</td>\n",
              "      <td>0.718820</td>\n",
              "    </tr>\n",
              "    <tr>\n",
              "      <th>3805</th>\n",
              "      <td>11441</td>\n",
              "      <td>415.858002</td>\n",
              "      <td>170.486771</td>\n",
              "      <td>85.756592</td>\n",
              "      <td>0.864280</td>\n",
              "      <td>11628</td>\n",
              "      <td>0.681012</td>\n",
              "    </tr>\n",
              "    <tr>\n",
              "      <th>3806</th>\n",
              "      <td>11625</td>\n",
              "      <td>421.390015</td>\n",
              "      <td>167.714798</td>\n",
              "      <td>89.462570</td>\n",
              "      <td>0.845850</td>\n",
              "      <td>11904</td>\n",
              "      <td>0.694279</td>\n",
              "    </tr>\n",
              "    <tr>\n",
              "      <th>3807</th>\n",
              "      <td>12437</td>\n",
              "      <td>442.498993</td>\n",
              "      <td>183.572922</td>\n",
              "      <td>86.801979</td>\n",
              "      <td>0.881144</td>\n",
              "      <td>12645</td>\n",
              "      <td>0.626739</td>\n",
              "    </tr>\n",
              "    <tr>\n",
              "      <th>3808</th>\n",
              "      <td>9882</td>\n",
              "      <td>392.296997</td>\n",
              "      <td>161.193985</td>\n",
              "      <td>78.210480</td>\n",
              "      <td>0.874406</td>\n",
              "      <td>10097</td>\n",
              "      <td>0.659064</td>\n",
              "    </tr>\n",
              "  </tbody>\n",
              "</table>\n",
              "<p>3724 rows × 7 columns</p>\n",
              "</div>\n",
              "    <div class=\"colab-df-buttons\">\n",
              "\n",
              "  <div class=\"colab-df-container\">\n",
              "    <button class=\"colab-df-convert\" onclick=\"convertToInteractive('df-bf9bc879-0f96-4d52-8a86-767cd1ffe19d')\"\n",
              "            title=\"Convert this dataframe to an interactive table.\"\n",
              "            style=\"display:none;\">\n",
              "\n",
              "  <svg xmlns=\"http://www.w3.org/2000/svg\" height=\"24px\" viewBox=\"0 -960 960 960\">\n",
              "    <path d=\"M120-120v-720h720v720H120Zm60-500h600v-160H180v160Zm220 220h160v-160H400v160Zm0 220h160v-160H400v160ZM180-400h160v-160H180v160Zm440 0h160v-160H620v160ZM180-180h160v-160H180v160Zm440 0h160v-160H620v160Z\"/>\n",
              "  </svg>\n",
              "    </button>\n",
              "\n",
              "  <style>\n",
              "    .colab-df-container {\n",
              "      display:flex;\n",
              "      gap: 12px;\n",
              "    }\n",
              "\n",
              "    .colab-df-convert {\n",
              "      background-color: #E8F0FE;\n",
              "      border: none;\n",
              "      border-radius: 50%;\n",
              "      cursor: pointer;\n",
              "      display: none;\n",
              "      fill: #1967D2;\n",
              "      height: 32px;\n",
              "      padding: 0 0 0 0;\n",
              "      width: 32px;\n",
              "    }\n",
              "\n",
              "    .colab-df-convert:hover {\n",
              "      background-color: #E2EBFA;\n",
              "      box-shadow: 0px 1px 2px rgba(60, 64, 67, 0.3), 0px 1px 3px 1px rgba(60, 64, 67, 0.15);\n",
              "      fill: #174EA6;\n",
              "    }\n",
              "\n",
              "    .colab-df-buttons div {\n",
              "      margin-bottom: 4px;\n",
              "    }\n",
              "\n",
              "    [theme=dark] .colab-df-convert {\n",
              "      background-color: #3B4455;\n",
              "      fill: #D2E3FC;\n",
              "    }\n",
              "\n",
              "    [theme=dark] .colab-df-convert:hover {\n",
              "      background-color: #434B5C;\n",
              "      box-shadow: 0px 1px 3px 1px rgba(0, 0, 0, 0.15);\n",
              "      filter: drop-shadow(0px 1px 2px rgba(0, 0, 0, 0.3));\n",
              "      fill: #FFFFFF;\n",
              "    }\n",
              "  </style>\n",
              "\n",
              "    <script>\n",
              "      const buttonEl =\n",
              "        document.querySelector('#df-bf9bc879-0f96-4d52-8a86-767cd1ffe19d button.colab-df-convert');\n",
              "      buttonEl.style.display =\n",
              "        google.colab.kernel.accessAllowed ? 'block' : 'none';\n",
              "\n",
              "      async function convertToInteractive(key) {\n",
              "        const element = document.querySelector('#df-bf9bc879-0f96-4d52-8a86-767cd1ffe19d');\n",
              "        const dataTable =\n",
              "          await google.colab.kernel.invokeFunction('convertToInteractive',\n",
              "                                                    [key], {});\n",
              "        if (!dataTable) return;\n",
              "\n",
              "        const docLinkHtml = 'Like what you see? Visit the ' +\n",
              "          '<a target=\"_blank\" href=https://colab.research.google.com/notebooks/data_table.ipynb>data table notebook</a>'\n",
              "          + ' to learn more about interactive tables.';\n",
              "        element.innerHTML = '';\n",
              "        dataTable['output_type'] = 'display_data';\n",
              "        await google.colab.output.renderOutput(dataTable, element);\n",
              "        const docLink = document.createElement('div');\n",
              "        docLink.innerHTML = docLinkHtml;\n",
              "        element.appendChild(docLink);\n",
              "      }\n",
              "    </script>\n",
              "  </div>\n",
              "\n",
              "\n",
              "<div id=\"df-6acd0e19-05d0-4dae-b5c6-370ce3a0a821\">\n",
              "  <button class=\"colab-df-quickchart\" onclick=\"quickchart('df-6acd0e19-05d0-4dae-b5c6-370ce3a0a821')\"\n",
              "            title=\"Suggest charts\"\n",
              "            style=\"display:none;\">\n",
              "\n",
              "<svg xmlns=\"http://www.w3.org/2000/svg\" height=\"24px\"viewBox=\"0 0 24 24\"\n",
              "     width=\"24px\">\n",
              "    <g>\n",
              "        <path d=\"M19 3H5c-1.1 0-2 .9-2 2v14c0 1.1.9 2 2 2h14c1.1 0 2-.9 2-2V5c0-1.1-.9-2-2-2zM9 17H7v-7h2v7zm4 0h-2V7h2v10zm4 0h-2v-4h2v4z\"/>\n",
              "    </g>\n",
              "</svg>\n",
              "  </button>\n",
              "\n",
              "<style>\n",
              "  .colab-df-quickchart {\n",
              "      --bg-color: #E8F0FE;\n",
              "      --fill-color: #1967D2;\n",
              "      --hover-bg-color: #E2EBFA;\n",
              "      --hover-fill-color: #174EA6;\n",
              "      --disabled-fill-color: #AAA;\n",
              "      --disabled-bg-color: #DDD;\n",
              "  }\n",
              "\n",
              "  [theme=dark] .colab-df-quickchart {\n",
              "      --bg-color: #3B4455;\n",
              "      --fill-color: #D2E3FC;\n",
              "      --hover-bg-color: #434B5C;\n",
              "      --hover-fill-color: #FFFFFF;\n",
              "      --disabled-bg-color: #3B4455;\n",
              "      --disabled-fill-color: #666;\n",
              "  }\n",
              "\n",
              "  .colab-df-quickchart {\n",
              "    background-color: var(--bg-color);\n",
              "    border: none;\n",
              "    border-radius: 50%;\n",
              "    cursor: pointer;\n",
              "    display: none;\n",
              "    fill: var(--fill-color);\n",
              "    height: 32px;\n",
              "    padding: 0;\n",
              "    width: 32px;\n",
              "  }\n",
              "\n",
              "  .colab-df-quickchart:hover {\n",
              "    background-color: var(--hover-bg-color);\n",
              "    box-shadow: 0 1px 2px rgba(60, 64, 67, 0.3), 0 1px 3px 1px rgba(60, 64, 67, 0.15);\n",
              "    fill: var(--button-hover-fill-color);\n",
              "  }\n",
              "\n",
              "  .colab-df-quickchart-complete:disabled,\n",
              "  .colab-df-quickchart-complete:disabled:hover {\n",
              "    background-color: var(--disabled-bg-color);\n",
              "    fill: var(--disabled-fill-color);\n",
              "    box-shadow: none;\n",
              "  }\n",
              "\n",
              "  .colab-df-spinner {\n",
              "    border: 2px solid var(--fill-color);\n",
              "    border-color: transparent;\n",
              "    border-bottom-color: var(--fill-color);\n",
              "    animation:\n",
              "      spin 1s steps(1) infinite;\n",
              "  }\n",
              "\n",
              "  @keyframes spin {\n",
              "    0% {\n",
              "      border-color: transparent;\n",
              "      border-bottom-color: var(--fill-color);\n",
              "      border-left-color: var(--fill-color);\n",
              "    }\n",
              "    20% {\n",
              "      border-color: transparent;\n",
              "      border-left-color: var(--fill-color);\n",
              "      border-top-color: var(--fill-color);\n",
              "    }\n",
              "    30% {\n",
              "      border-color: transparent;\n",
              "      border-left-color: var(--fill-color);\n",
              "      border-top-color: var(--fill-color);\n",
              "      border-right-color: var(--fill-color);\n",
              "    }\n",
              "    40% {\n",
              "      border-color: transparent;\n",
              "      border-right-color: var(--fill-color);\n",
              "      border-top-color: var(--fill-color);\n",
              "    }\n",
              "    60% {\n",
              "      border-color: transparent;\n",
              "      border-right-color: var(--fill-color);\n",
              "    }\n",
              "    80% {\n",
              "      border-color: transparent;\n",
              "      border-right-color: var(--fill-color);\n",
              "      border-bottom-color: var(--fill-color);\n",
              "    }\n",
              "    90% {\n",
              "      border-color: transparent;\n",
              "      border-bottom-color: var(--fill-color);\n",
              "    }\n",
              "  }\n",
              "</style>\n",
              "\n",
              "  <script>\n",
              "    async function quickchart(key) {\n",
              "      const quickchartButtonEl =\n",
              "        document.querySelector('#' + key + ' button');\n",
              "      quickchartButtonEl.disabled = true;  // To prevent multiple clicks.\n",
              "      quickchartButtonEl.classList.add('colab-df-spinner');\n",
              "      try {\n",
              "        const charts = await google.colab.kernel.invokeFunction(\n",
              "            'suggestCharts', [key], {});\n",
              "      } catch (error) {\n",
              "        console.error('Error during call to suggestCharts:', error);\n",
              "      }\n",
              "      quickchartButtonEl.classList.remove('colab-df-spinner');\n",
              "      quickchartButtonEl.classList.add('colab-df-quickchart-complete');\n",
              "    }\n",
              "    (() => {\n",
              "      let quickchartButtonEl =\n",
              "        document.querySelector('#df-6acd0e19-05d0-4dae-b5c6-370ce3a0a821 button');\n",
              "      quickchartButtonEl.style.display =\n",
              "        google.colab.kernel.accessAllowed ? 'block' : 'none';\n",
              "    })();\n",
              "  </script>\n",
              "</div>\n",
              "    </div>\n",
              "  </div>\n"
            ],
            "application/vnd.google.colaboratory.intrinsic+json": {
              "type": "dataframe",
              "variable_name": "X_new",
              "summary": "{\n  \"name\": \"X_new\",\n  \"rows\": 3724,\n  \"fields\": [\n    {\n      \"column\": \"Area\",\n      \"properties\": {\n        \"dtype\": \"number\",\n        \"std\": 1676,\n        \"min\": 8505,\n        \"max\": 17442,\n        \"num_unique_values\": 2757,\n        \"samples\": [\n          12300,\n          13325,\n          13636\n        ],\n        \"semantic_type\": \"\",\n        \"description\": \"\"\n      }\n    },\n    {\n      \"column\": \"Perimeter\",\n      \"properties\": {\n        \"dtype\": \"number\",\n        \"std\": 34.97394376565552,\n        \"min\": 359.1000061,\n        \"max\": 548.4459839,\n        \"num_unique_values\": 3654,\n        \"samples\": [\n          523.1740112,\n          427.0750122,\n          511.848999\n        ],\n        \"semantic_type\": \"\",\n        \"description\": \"\"\n      }\n    },\n    {\n      \"column\": \"Major_Axis_Length\",\n      \"properties\": {\n        \"dtype\": \"number\",\n        \"std\": 17.282937589194656,\n        \"min\": 147.7988892,\n        \"max\": 239.010498,\n        \"num_unique_values\": 3722,\n        \"samples\": [\n          200.6350555,\n          168.7373352,\n          179.8469391\n        ],\n        \"semantic_type\": \"\",\n        \"description\": \"\"\n      }\n    },\n    {\n      \"column\": \"Minor_Axis_Length\",\n      \"properties\": {\n        \"dtype\": \"number\",\n        \"std\": 5.292300847537053,\n        \"min\": 71.76094818,\n        \"max\": 101.1546249,\n        \"num_unique_values\": 3718,\n        \"samples\": [\n          87.2516098,\n          80.82007599,\n          89.31358337\n        ],\n        \"semantic_type\": \"\",\n        \"description\": \"\"\n      }\n    },\n    {\n      \"column\": \"Eccentricity\",\n      \"properties\": {\n        \"dtype\": \"number\",\n        \"std\": 0.020023419208643832,\n        \"min\": 0.827697277,\n        \"max\": 0.934006214,\n        \"num_unique_values\": 3717,\n        \"samples\": [\n          0.876259685,\n          0.921122789,\n          0.914575815\n        ],\n        \"semantic_type\": \"\",\n        \"description\": \"\"\n      }\n    },\n    {\n      \"column\": \"Convex_Area\",\n      \"properties\": {\n        \"dtype\": \"number\",\n        \"std\": 1720,\n        \"min\": 8651,\n        \"max\": 17758,\n        \"num_unique_values\": 2791,\n        \"samples\": [\n          12746,\n          11472,\n          10969\n        ],\n        \"semantic_type\": \"\",\n        \"description\": \"\"\n      }\n    },\n    {\n      \"column\": \"Extent\",\n      \"properties\": {\n        \"dtype\": \"number\",\n        \"std\": 0.07689379233170474,\n        \"min\": 0.498075366,\n        \"max\": 0.861049533,\n        \"num_unique_values\": 3718,\n        \"samples\": [\n          0.815386534,\n          0.76219511,\n          0.584658384\n        ],\n        \"semantic_type\": \"\",\n        \"description\": \"\"\n      }\n    }\n  ]\n}"
            }
          },
          "metadata": {},
          "execution_count": 21
        }
      ]
    },
    {
      "cell_type": "code",
      "source": [
        "X_scaled"
      ],
      "metadata": {
        "colab": {
          "base_uri": "https://localhost:8080/"
        },
        "id": "1drfM6G_b9y6",
        "outputId": "f60bccb1-d04f-4525-82ef-b3a0df2de441"
      },
      "execution_count": null,
      "outputs": [
        {
          "output_type": "execute_result",
          "data": {
            "text/plain": [
              "array([[ 1.51957877,  2.02910576,  2.36133042, ...,  2.09094683,\n",
              "         1.53922971, -1.15150498],\n",
              "       [ 1.17661155,  1.13494941,  0.98812641, ...,  0.41882958,\n",
              "         1.22244291, -0.5981898 ],\n",
              "       [ 1.16348933,  1.32972068,  1.45609093, ...,  1.25361845,\n",
              "         1.15385421,  0.41402398],\n",
              "       ...,\n",
              "       [-0.63127302, -0.95033966, -1.22853446, ..., -2.05635796,\n",
              "        -0.61898933,  0.42728712],\n",
              "       [-0.14694367, -0.34669561, -0.31085172, ..., -0.29346455,\n",
              "        -0.18827554, -0.45118509],\n",
              "       [-1.67091103, -1.78229972, -1.60588285, ..., -0.630028  ,\n",
              "        -1.66932647, -0.03074244]])"
            ]
          },
          "metadata": {},
          "execution_count": 22
        }
      ]
    },
    {
      "cell_type": "markdown",
      "source": [
        "When we printed the `X_new` and `X_scaled` values, we can see that the `X_scaled` values showed values that are closer to each other compared to the ones in `X_new`."
      ],
      "metadata": {
        "id": "Xwo78qnycGkz"
      }
    },
    {
      "cell_type": "markdown",
      "source": [
        "#### Label Encoding\n",
        "\n",
        "The `y` variable as seen earlier has string values, cammeo and osmancik. A technique called *one-hot encoding* will be used in converting this categorical variable into a numerical one. In *one-hot encoding*, separate columns for the categorical values will be made, forming a matrix, these columns will be filled with either 1 or 0 [1]. In our case, the one-hot encoded matrix will look like this:\n",
        "\n",
        "```\n",
        "Cammeo,      Osmancik,\n",
        "1,           0,               \n",
        "0,           1,                             \n",
        "```\n",
        "\n",
        "One-hot encoding is helpful in removing biases that may come from when we manually transform the labels arbitrarily to numerical values [1].\n",
        "\n",
        "[1] GfG, “One Hot Encoding in Machine Learning,” GeeksforGeeks, Jun. 12, 2019. https://www.geeksforgeeks.org/ml-one-hot-encoding/ (accessed Apr. 07, 2024).\n",
        "‌"
      ],
      "metadata": {
        "id": "wmI04fvZFe-S"
      }
    },
    {
      "cell_type": "code",
      "source": [
        "# Performing one-hot encoding on the target variable\n",
        "\n",
        "encoder = LabelEncoder()\n",
        "encoder.fit(y_new)\n",
        "encoded_y = encoder.transform(y_new)\n",
        "\n",
        "# convert integers to dummy variables (i.e. one hot encoded)\n",
        "dummy_y = to_categorical(encoded_y)\n",
        "\n",
        "dummy_y"
      ],
      "metadata": {
        "colab": {
          "base_uri": "https://localhost:8080/"
        },
        "id": "3YMqeCN1EGP2",
        "outputId": "894bf094-1d4f-4364-8702-2d776231cef7"
      },
      "execution_count": null,
      "outputs": [
        {
          "output_type": "execute_result",
          "data": {
            "text/plain": [
              "array([[1., 0.],\n",
              "       [1., 0.],\n",
              "       [1., 0.],\n",
              "       ...,\n",
              "       [0., 1.],\n",
              "       [0., 1.],\n",
              "       [0., 1.]], dtype=float32)"
            ]
          },
          "metadata": {},
          "execution_count": 23
        }
      ]
    },
    {
      "cell_type": "markdown",
      "source": [
        "#### Creating Baseline Model"
      ],
      "metadata": {
        "id": "Q0Z-l7FRK0Kx"
      }
    },
    {
      "cell_type": "code",
      "source": [
        "# define baseline model\n",
        "def baseline_model():\n",
        "  model = Sequential()\n",
        "  model.add(Dense(4, input_dim=7, activation='relu'))\n",
        "  model.add(Dense(2, activation='softmax'))\n",
        "  model.compile(loss='binary_crossentropy', optimizer='adam', metrics=['accuracy'])\n",
        "  return model"
      ],
      "metadata": {
        "id": "_8Q0OBb2MXFL"
      },
      "execution_count": null,
      "outputs": []
    },
    {
      "cell_type": "markdown",
      "source": [
        "We have used the `binary_crossentropy` for the loss function as the dataset used is a binary classification dataset. The `input_dim` was set to 7 which represents the number of input features in our dataset."
      ],
      "metadata": {
        "id": "C2UJt8lNjk-H"
      }
    },
    {
      "cell_type": "markdown",
      "source": [
        "#### Evaluate Model with k-Cross Entropy Evaluation"
      ],
      "metadata": {
        "id": "7cDafpH6dg1g"
      }
    },
    {
      "cell_type": "code",
      "source": [
        "# Training dataset\n",
        "\n",
        "estimator = KerasClassifier(baseline_model, epochs=200, batch_size=5, verbose=0)\n",
        "kfold = KFold(n_splits=10, shuffle=True)\n",
        "results = cross_val_score(estimator, X_train, y_train, cv=kfold)\n",
        "print(\"Baseline: %.2f%% (%.2f%%)\" % (results.mean()*100, results.std()*100))"
      ],
      "metadata": {
        "colab": {
          "base_uri": "https://localhost:8080/"
        },
        "id": "TRUGxVgYdgBH",
        "outputId": "696328d1-00b5-419a-faf1-94c7c676db47"
      },
      "execution_count": null,
      "outputs": [
        {
          "output_type": "stream",
          "name": "stdout",
          "text": [
            "Baseline: 92.75% (1.16%)\n"
          ]
        }
      ]
    },
    {
      "cell_type": "code",
      "source": [
        "# Whole dataset\n",
        "\n",
        "estimator = KerasClassifier(baseline_model, epochs=200, batch_size=5, verbose=0)\n",
        "kfold = KFold(n_splits=10, shuffle=True)\n",
        "results = cross_val_score(estimator, X_scaled, dummy_y, cv=kfold)\n",
        "print(\"Baseline: %.2f%% (%.2f%%)\" % (results.mean()*100, results.std()*100))"
      ],
      "metadata": {
        "colab": {
          "base_uri": "https://localhost:8080/"
        },
        "id": "3XKFPWR-4fUY",
        "outputId": "07a09f8a-b6df-434c-a1d9-1fe86efd69b5"
      },
      "execution_count": null,
      "outputs": [
        {
          "output_type": "stream",
          "name": "stdout",
          "text": [
            "Baseline: 92.43% (1.37%)\n"
          ]
        }
      ]
    },
    {
      "cell_type": "markdown",
      "source": [
        "#### Adding Additional Hidden Layers"
      ],
      "metadata": {
        "id": "vn9uymzSsuY6"
      }
    },
    {
      "cell_type": "markdown",
      "source": [
        "7 input variables\n",
        "<br> 2 hidden layers\n",
        "<br> Changed number of neurons"
      ],
      "metadata": {
        "id": "Nreu4LAl1AmO"
      }
    },
    {
      "cell_type": "code",
      "source": [
        "# define baseline model\n",
        "def baseline_model():\n",
        "  model = Sequential()\n",
        "  model.add(Dense(16, input_dim=7, activation='relu'))\n",
        "  model.add(Dense(8, activation='relu'))\n",
        "  model.add(Dense(2, activation='softmax'))\n",
        "  model.compile(loss='binary_crossentropy', optimizer='adam', metrics=['accuracy'])\n",
        "  return model"
      ],
      "metadata": {
        "id": "5mMOvKtP09B_"
      },
      "execution_count": null,
      "outputs": []
    },
    {
      "cell_type": "code",
      "source": [
        "estimator = KerasClassifier(baseline_model, epochs=200, batch_size=5, verbose=0)\n",
        "kfold = KFold(n_splits=10, shuffle=True)\n",
        "results = cross_val_score(estimator, X_train, y_train, cv=kfold)\n",
        "print(\"Baseline: %.2f%% (%.2f%%)\" % (results.mean()*100, results.std()*100))"
      ],
      "metadata": {
        "colab": {
          "base_uri": "https://localhost:8080/"
        },
        "id": "j0jOGjiT0-bq",
        "outputId": "27ca4d6f-f234-4c3d-985a-44ffb2ca8ec0"
      },
      "execution_count": null,
      "outputs": [
        {
          "output_type": "stream",
          "name": "stdout",
          "text": [
            "Baseline: 92.45% (1.70%)\n"
          ]
        }
      ]
    },
    {
      "cell_type": "code",
      "source": [
        "estimator = KerasClassifier(baseline_model, epochs=200, batch_size=5, verbose=0)\n",
        "kfold = KFold(n_splits=10, shuffle=True)\n",
        "results = cross_val_score(estimator, X_scaled, dummy_y, cv=kfold)\n",
        "print(\"Baseline: %.2f%% (%.2f%%)\" % (results.mean()*100, results.std()*100))"
      ],
      "metadata": {
        "colab": {
          "base_uri": "https://localhost:8080/"
        },
        "id": "wrhwiYi5CImI",
        "outputId": "11114988-4e5b-417d-ae6c-3e5db28a2d54"
      },
      "execution_count": null,
      "outputs": [
        {
          "output_type": "stream",
          "name": "stdout",
          "text": [
            "Baseline: 92.40% (1.07%)\n"
          ]
        }
      ]
    },
    {
      "cell_type": "markdown",
      "source": [
        "7 input variables\n",
        "<br> 4 hidden layers\n",
        "<br> Changed number of neurons"
      ],
      "metadata": {
        "id": "dJluwI58CYcS"
      }
    },
    {
      "cell_type": "code",
      "source": [
        "# define baseline model\n",
        "def baseline_model():\n",
        "  model = Sequential()\n",
        "  model.add(Dense(32, input_dim=7, activation='relu'))\n",
        "  model.add(Dense(16, activation='relu'))\n",
        "  model.add(Dense(8, activation='relu'))\n",
        "  model.add(Dense(4, activation='relu'))\n",
        "  model.add(Dense(2, activation='softmax'))\n",
        "  model.compile(loss='binary_crossentropy', optimizer='adam', metrics=['accuracy'])\n",
        "  return model"
      ],
      "metadata": {
        "id": "hlHs4sMMCLBz"
      },
      "execution_count": null,
      "outputs": []
    },
    {
      "cell_type": "code",
      "source": [
        "estimator = KerasClassifier(baseline_model, epochs=200, batch_size=5, verbose=0)\n",
        "kfold = KFold(n_splits=10, shuffle=True)\n",
        "results = cross_val_score(estimator, X_scaled, dummy_y, cv=kfold)\n",
        "print(\"Baseline: %.2f%% (%.2f%%)\" % (results.mean()*100, results.std()*100))"
      ],
      "metadata": {
        "colab": {
          "base_uri": "https://localhost:8080/"
        },
        "id": "MDzPoqA3ClSg",
        "outputId": "e07befcd-186f-4f7d-9837-f334bf06303f"
      },
      "execution_count": null,
      "outputs": [
        {
          "output_type": "stream",
          "name": "stdout",
          "text": [
            "Baseline: 92.19% (1.24%)\n"
          ]
        }
      ]
    },
    {
      "cell_type": "markdown",
      "source": [
        "## Regression"
      ],
      "metadata": {
        "id": "i3ElAAfbKMoW"
      }
    },
    {
      "cell_type": "markdown",
      "source": [
        "### Concrete Compressive Strength Dataset\n",
        "\n",
        "The dataset used for the regression problem is from the UCI Machine Learning Repository and is entitled **Concrete Compressive Strength Dataset**. The dataset explores the relationship between the concrete's compressive strength and the ingredients used. An age attribute is also included in the dataset. There are a total of 8 input features, 7 of which are ingredients expressed in kg/m^3 and the age. The output variable is a continuous variable for the concrete compressive strength expressed in MPa. There are a total of 1030 instances in the said dataset.\n",
        "\n",
        "The dataset can be accessed here: https://archive.ics.uci.edu/dataset/165/concrete+compressive+strength"
      ],
      "metadata": {
        "id": "H3GTVbisKPaF"
      }
    },
    {
      "cell_type": "markdown",
      "source": [
        "#### Loading the Dataset"
      ],
      "metadata": {
        "id": "udmA8QnmnswW"
      }
    },
    {
      "cell_type": "code",
      "source": [
        "from ucimlrepo import fetch_ucirepo\n",
        "\n",
        "# fetch dataset\n",
        "concrete_compressive_strength = fetch_ucirepo(id=165)\n",
        "\n",
        "# data (as pandas dataframes)\n",
        "X = concrete_compressive_strength.data.features\n",
        "y = concrete_compressive_strength.data.targets\n",
        "\n",
        "# metadata\n",
        "print(concrete_compressive_strength.metadata)\n",
        "\n",
        "# variable information\n",
        "print(concrete_compressive_strength.variables)\n"
      ],
      "metadata": {
        "id": "YdD2uvcjnt0d",
        "colab": {
          "base_uri": "https://localhost:8080/"
        },
        "outputId": "968ea58d-aa60-42c1-96bf-0d4b60bb9027"
      },
      "execution_count": null,
      "outputs": [
        {
          "output_type": "stream",
          "name": "stdout",
          "text": [
            "{'uci_id': 165, 'name': 'Concrete Compressive Strength', 'repository_url': 'https://archive.ics.uci.edu/dataset/165/concrete+compressive+strength', 'data_url': 'https://archive.ics.uci.edu/static/public/165/data.csv', 'abstract': 'Concrete is the most important material in civil engineering. The concrete compressive strength is a highly nonlinear function of age and ingredients. ', 'area': 'Physics and Chemistry', 'tasks': ['Regression'], 'characteristics': ['Multivariate'], 'num_instances': 1030, 'num_features': 8, 'feature_types': ['Real'], 'demographics': [], 'target_col': ['Concrete compressive strength'], 'index_col': None, 'has_missing_values': 'no', 'missing_values_symbol': None, 'year_of_dataset_creation': 1998, 'last_updated': 'Sun Feb 11 2024', 'dataset_doi': '10.24432/C5PK67', 'creators': ['I-Cheng Yeh'], 'intro_paper': {'title': 'Modeling of strength of high-performance concrete using artificial neural networks', 'authors': 'I. Yeh', 'published_in': 'Cement and Concrete Research, Vol. 28, No. 12', 'year': 1998, 'url': 'https://www.semanticscholar.org/paper/9310cae70452ea11465f338483e79cc36a68881c', 'doi': '10.1016/S0008-8846(98)00165-3'}, 'additional_info': {'summary': 'Number of instances \\t1030\\r\\nNumber of Attributes\\t9\\r\\nAttribute breakdown\\t8 quantitative input variables, and 1 quantitative output variable\\r\\nMissing Attribute Values\\tNone \\r\\n', 'purpose': None, 'funded_by': None, 'instances_represent': None, 'recommended_data_splits': None, 'sensitive_data': None, 'preprocessing_description': None, 'variable_info': 'Given are the variable name, variable type, the measurement unit and a brief description. The concrete compressive strength is the regression problem. The order of this listing corresponds to the order of numerals along the rows of the database. \\r\\n\\r\\nName -- Data Type -- Measurement -- Description\\r\\n\\r\\nCement (component 1) -- quantitative -- kg in a m3 mixture -- Input Variable\\r\\nBlast Furnace Slag (component 2) -- quantitative -- kg in a m3 mixture -- Input Variable\\r\\nFly Ash (component 3) -- quantitative  -- kg in a m3 mixture -- Input Variable\\r\\nWater  (component 4) -- quantitative  -- kg in a m3 mixture -- Input Variable\\r\\nSuperplasticizer (component 5) -- quantitative -- kg in a m3 mixture -- Input Variable\\r\\nCoarse Aggregate  (component 6) -- quantitative -- kg in a m3 mixture -- Input Variable\\r\\nFine Aggregate (component 7)\\t -- quantitative  -- kg in a m3 mixture -- Input Variable\\r\\nAge -- quantitative  -- Day (1~365) -- Input Variable\\r\\nConcrete compressive strength -- quantitative -- MPa -- Output Variable\\r\\n\\r\\n', 'citation': None}}\n",
            "                            name     role        type demographic description  \\\n",
            "0                         Cement  Feature  Continuous        None        None   \n",
            "1             Blast Furnace Slag  Feature     Integer        None        None   \n",
            "2                        Fly Ash  Feature  Continuous        None        None   \n",
            "3                          Water  Feature  Continuous        None        None   \n",
            "4               Superplasticizer  Feature  Continuous        None        None   \n",
            "5               Coarse Aggregate  Feature  Continuous        None        None   \n",
            "6                 Fine Aggregate  Feature  Continuous        None        None   \n",
            "7                            Age  Feature     Integer        None        None   \n",
            "8  Concrete compressive strength   Target  Continuous        None        None   \n",
            "\n",
            "    units missing_values  \n",
            "0  kg/m^3             no  \n",
            "1  kg/m^3             no  \n",
            "2  kg/m^3             no  \n",
            "3  kg/m^3             no  \n",
            "4  kg/m^3             no  \n",
            "5  kg/m^3             no  \n",
            "6  kg/m^3             no  \n",
            "7     day             no  \n",
            "8     MPa             no  \n"
          ]
        }
      ]
    },
    {
      "cell_type": "markdown",
      "source": [
        "#### Verifying if the Dataset was Loaded"
      ],
      "metadata": {
        "id": "N1wO-_1KptLh"
      }
    },
    {
      "cell_type": "code",
      "source": [
        "X"
      ],
      "metadata": {
        "colab": {
          "base_uri": "https://localhost:8080/",
          "height": 423
        },
        "id": "1-00n-1xnvZ5",
        "outputId": "daeecdd6-af66-4469-c8ad-722b21cae711"
      },
      "execution_count": null,
      "outputs": [
        {
          "output_type": "execute_result",
          "data": {
            "text/plain": [
              "      Cement  Blast Furnace Slag  Fly Ash  Water  Superplasticizer  \\\n",
              "0      540.0                 0.0      0.0  162.0               2.5   \n",
              "1      540.0                 0.0      0.0  162.0               2.5   \n",
              "2      332.5               142.5      0.0  228.0               0.0   \n",
              "3      332.5               142.5      0.0  228.0               0.0   \n",
              "4      198.6               132.4      0.0  192.0               0.0   \n",
              "...      ...                 ...      ...    ...               ...   \n",
              "1025   276.4               116.0     90.3  179.6               8.9   \n",
              "1026   322.2                 0.0    115.6  196.0              10.4   \n",
              "1027   148.5               139.4    108.6  192.7               6.1   \n",
              "1028   159.1               186.7      0.0  175.6              11.3   \n",
              "1029   260.9               100.5     78.3  200.6               8.6   \n",
              "\n",
              "      Coarse Aggregate  Fine Aggregate  Age  \n",
              "0               1040.0           676.0   28  \n",
              "1               1055.0           676.0   28  \n",
              "2                932.0           594.0  270  \n",
              "3                932.0           594.0  365  \n",
              "4                978.4           825.5  360  \n",
              "...                ...             ...  ...  \n",
              "1025             870.1           768.3   28  \n",
              "1026             817.9           813.4   28  \n",
              "1027             892.4           780.0   28  \n",
              "1028             989.6           788.9   28  \n",
              "1029             864.5           761.5   28  \n",
              "\n",
              "[1030 rows x 8 columns]"
            ],
            "text/html": [
              "\n",
              "  <div id=\"df-16646b2e-a42b-472f-9771-9f0e392e8cbf\" class=\"colab-df-container\">\n",
              "    <div>\n",
              "<style scoped>\n",
              "    .dataframe tbody tr th:only-of-type {\n",
              "        vertical-align: middle;\n",
              "    }\n",
              "\n",
              "    .dataframe tbody tr th {\n",
              "        vertical-align: top;\n",
              "    }\n",
              "\n",
              "    .dataframe thead th {\n",
              "        text-align: right;\n",
              "    }\n",
              "</style>\n",
              "<table border=\"1\" class=\"dataframe\">\n",
              "  <thead>\n",
              "    <tr style=\"text-align: right;\">\n",
              "      <th></th>\n",
              "      <th>Cement</th>\n",
              "      <th>Blast Furnace Slag</th>\n",
              "      <th>Fly Ash</th>\n",
              "      <th>Water</th>\n",
              "      <th>Superplasticizer</th>\n",
              "      <th>Coarse Aggregate</th>\n",
              "      <th>Fine Aggregate</th>\n",
              "      <th>Age</th>\n",
              "    </tr>\n",
              "  </thead>\n",
              "  <tbody>\n",
              "    <tr>\n",
              "      <th>0</th>\n",
              "      <td>540.0</td>\n",
              "      <td>0.0</td>\n",
              "      <td>0.0</td>\n",
              "      <td>162.0</td>\n",
              "      <td>2.5</td>\n",
              "      <td>1040.0</td>\n",
              "      <td>676.0</td>\n",
              "      <td>28</td>\n",
              "    </tr>\n",
              "    <tr>\n",
              "      <th>1</th>\n",
              "      <td>540.0</td>\n",
              "      <td>0.0</td>\n",
              "      <td>0.0</td>\n",
              "      <td>162.0</td>\n",
              "      <td>2.5</td>\n",
              "      <td>1055.0</td>\n",
              "      <td>676.0</td>\n",
              "      <td>28</td>\n",
              "    </tr>\n",
              "    <tr>\n",
              "      <th>2</th>\n",
              "      <td>332.5</td>\n",
              "      <td>142.5</td>\n",
              "      <td>0.0</td>\n",
              "      <td>228.0</td>\n",
              "      <td>0.0</td>\n",
              "      <td>932.0</td>\n",
              "      <td>594.0</td>\n",
              "      <td>270</td>\n",
              "    </tr>\n",
              "    <tr>\n",
              "      <th>3</th>\n",
              "      <td>332.5</td>\n",
              "      <td>142.5</td>\n",
              "      <td>0.0</td>\n",
              "      <td>228.0</td>\n",
              "      <td>0.0</td>\n",
              "      <td>932.0</td>\n",
              "      <td>594.0</td>\n",
              "      <td>365</td>\n",
              "    </tr>\n",
              "    <tr>\n",
              "      <th>4</th>\n",
              "      <td>198.6</td>\n",
              "      <td>132.4</td>\n",
              "      <td>0.0</td>\n",
              "      <td>192.0</td>\n",
              "      <td>0.0</td>\n",
              "      <td>978.4</td>\n",
              "      <td>825.5</td>\n",
              "      <td>360</td>\n",
              "    </tr>\n",
              "    <tr>\n",
              "      <th>...</th>\n",
              "      <td>...</td>\n",
              "      <td>...</td>\n",
              "      <td>...</td>\n",
              "      <td>...</td>\n",
              "      <td>...</td>\n",
              "      <td>...</td>\n",
              "      <td>...</td>\n",
              "      <td>...</td>\n",
              "    </tr>\n",
              "    <tr>\n",
              "      <th>1025</th>\n",
              "      <td>276.4</td>\n",
              "      <td>116.0</td>\n",
              "      <td>90.3</td>\n",
              "      <td>179.6</td>\n",
              "      <td>8.9</td>\n",
              "      <td>870.1</td>\n",
              "      <td>768.3</td>\n",
              "      <td>28</td>\n",
              "    </tr>\n",
              "    <tr>\n",
              "      <th>1026</th>\n",
              "      <td>322.2</td>\n",
              "      <td>0.0</td>\n",
              "      <td>115.6</td>\n",
              "      <td>196.0</td>\n",
              "      <td>10.4</td>\n",
              "      <td>817.9</td>\n",
              "      <td>813.4</td>\n",
              "      <td>28</td>\n",
              "    </tr>\n",
              "    <tr>\n",
              "      <th>1027</th>\n",
              "      <td>148.5</td>\n",
              "      <td>139.4</td>\n",
              "      <td>108.6</td>\n",
              "      <td>192.7</td>\n",
              "      <td>6.1</td>\n",
              "      <td>892.4</td>\n",
              "      <td>780.0</td>\n",
              "      <td>28</td>\n",
              "    </tr>\n",
              "    <tr>\n",
              "      <th>1028</th>\n",
              "      <td>159.1</td>\n",
              "      <td>186.7</td>\n",
              "      <td>0.0</td>\n",
              "      <td>175.6</td>\n",
              "      <td>11.3</td>\n",
              "      <td>989.6</td>\n",
              "      <td>788.9</td>\n",
              "      <td>28</td>\n",
              "    </tr>\n",
              "    <tr>\n",
              "      <th>1029</th>\n",
              "      <td>260.9</td>\n",
              "      <td>100.5</td>\n",
              "      <td>78.3</td>\n",
              "      <td>200.6</td>\n",
              "      <td>8.6</td>\n",
              "      <td>864.5</td>\n",
              "      <td>761.5</td>\n",
              "      <td>28</td>\n",
              "    </tr>\n",
              "  </tbody>\n",
              "</table>\n",
              "<p>1030 rows × 8 columns</p>\n",
              "</div>\n",
              "    <div class=\"colab-df-buttons\">\n",
              "\n",
              "  <div class=\"colab-df-container\">\n",
              "    <button class=\"colab-df-convert\" onclick=\"convertToInteractive('df-16646b2e-a42b-472f-9771-9f0e392e8cbf')\"\n",
              "            title=\"Convert this dataframe to an interactive table.\"\n",
              "            style=\"display:none;\">\n",
              "\n",
              "  <svg xmlns=\"http://www.w3.org/2000/svg\" height=\"24px\" viewBox=\"0 -960 960 960\">\n",
              "    <path d=\"M120-120v-720h720v720H120Zm60-500h600v-160H180v160Zm220 220h160v-160H400v160Zm0 220h160v-160H400v160ZM180-400h160v-160H180v160Zm440 0h160v-160H620v160ZM180-180h160v-160H180v160Zm440 0h160v-160H620v160Z\"/>\n",
              "  </svg>\n",
              "    </button>\n",
              "\n",
              "  <style>\n",
              "    .colab-df-container {\n",
              "      display:flex;\n",
              "      gap: 12px;\n",
              "    }\n",
              "\n",
              "    .colab-df-convert {\n",
              "      background-color: #E8F0FE;\n",
              "      border: none;\n",
              "      border-radius: 50%;\n",
              "      cursor: pointer;\n",
              "      display: none;\n",
              "      fill: #1967D2;\n",
              "      height: 32px;\n",
              "      padding: 0 0 0 0;\n",
              "      width: 32px;\n",
              "    }\n",
              "\n",
              "    .colab-df-convert:hover {\n",
              "      background-color: #E2EBFA;\n",
              "      box-shadow: 0px 1px 2px rgba(60, 64, 67, 0.3), 0px 1px 3px 1px rgba(60, 64, 67, 0.15);\n",
              "      fill: #174EA6;\n",
              "    }\n",
              "\n",
              "    .colab-df-buttons div {\n",
              "      margin-bottom: 4px;\n",
              "    }\n",
              "\n",
              "    [theme=dark] .colab-df-convert {\n",
              "      background-color: #3B4455;\n",
              "      fill: #D2E3FC;\n",
              "    }\n",
              "\n",
              "    [theme=dark] .colab-df-convert:hover {\n",
              "      background-color: #434B5C;\n",
              "      box-shadow: 0px 1px 3px 1px rgba(0, 0, 0, 0.15);\n",
              "      filter: drop-shadow(0px 1px 2px rgba(0, 0, 0, 0.3));\n",
              "      fill: #FFFFFF;\n",
              "    }\n",
              "  </style>\n",
              "\n",
              "    <script>\n",
              "      const buttonEl =\n",
              "        document.querySelector('#df-16646b2e-a42b-472f-9771-9f0e392e8cbf button.colab-df-convert');\n",
              "      buttonEl.style.display =\n",
              "        google.colab.kernel.accessAllowed ? 'block' : 'none';\n",
              "\n",
              "      async function convertToInteractive(key) {\n",
              "        const element = document.querySelector('#df-16646b2e-a42b-472f-9771-9f0e392e8cbf');\n",
              "        const dataTable =\n",
              "          await google.colab.kernel.invokeFunction('convertToInteractive',\n",
              "                                                    [key], {});\n",
              "        if (!dataTable) return;\n",
              "\n",
              "        const docLinkHtml = 'Like what you see? Visit the ' +\n",
              "          '<a target=\"_blank\" href=https://colab.research.google.com/notebooks/data_table.ipynb>data table notebook</a>'\n",
              "          + ' to learn more about interactive tables.';\n",
              "        element.innerHTML = '';\n",
              "        dataTable['output_type'] = 'display_data';\n",
              "        await google.colab.output.renderOutput(dataTable, element);\n",
              "        const docLink = document.createElement('div');\n",
              "        docLink.innerHTML = docLinkHtml;\n",
              "        element.appendChild(docLink);\n",
              "      }\n",
              "    </script>\n",
              "  </div>\n",
              "\n",
              "\n",
              "<div id=\"df-d6c7e1ca-baa3-4b72-b6ca-a5f704b839e7\">\n",
              "  <button class=\"colab-df-quickchart\" onclick=\"quickchart('df-d6c7e1ca-baa3-4b72-b6ca-a5f704b839e7')\"\n",
              "            title=\"Suggest charts\"\n",
              "            style=\"display:none;\">\n",
              "\n",
              "<svg xmlns=\"http://www.w3.org/2000/svg\" height=\"24px\"viewBox=\"0 0 24 24\"\n",
              "     width=\"24px\">\n",
              "    <g>\n",
              "        <path d=\"M19 3H5c-1.1 0-2 .9-2 2v14c0 1.1.9 2 2 2h14c1.1 0 2-.9 2-2V5c0-1.1-.9-2-2-2zM9 17H7v-7h2v7zm4 0h-2V7h2v10zm4 0h-2v-4h2v4z\"/>\n",
              "    </g>\n",
              "</svg>\n",
              "  </button>\n",
              "\n",
              "<style>\n",
              "  .colab-df-quickchart {\n",
              "      --bg-color: #E8F0FE;\n",
              "      --fill-color: #1967D2;\n",
              "      --hover-bg-color: #E2EBFA;\n",
              "      --hover-fill-color: #174EA6;\n",
              "      --disabled-fill-color: #AAA;\n",
              "      --disabled-bg-color: #DDD;\n",
              "  }\n",
              "\n",
              "  [theme=dark] .colab-df-quickchart {\n",
              "      --bg-color: #3B4455;\n",
              "      --fill-color: #D2E3FC;\n",
              "      --hover-bg-color: #434B5C;\n",
              "      --hover-fill-color: #FFFFFF;\n",
              "      --disabled-bg-color: #3B4455;\n",
              "      --disabled-fill-color: #666;\n",
              "  }\n",
              "\n",
              "  .colab-df-quickchart {\n",
              "    background-color: var(--bg-color);\n",
              "    border: none;\n",
              "    border-radius: 50%;\n",
              "    cursor: pointer;\n",
              "    display: none;\n",
              "    fill: var(--fill-color);\n",
              "    height: 32px;\n",
              "    padding: 0;\n",
              "    width: 32px;\n",
              "  }\n",
              "\n",
              "  .colab-df-quickchart:hover {\n",
              "    background-color: var(--hover-bg-color);\n",
              "    box-shadow: 0 1px 2px rgba(60, 64, 67, 0.3), 0 1px 3px 1px rgba(60, 64, 67, 0.15);\n",
              "    fill: var(--button-hover-fill-color);\n",
              "  }\n",
              "\n",
              "  .colab-df-quickchart-complete:disabled,\n",
              "  .colab-df-quickchart-complete:disabled:hover {\n",
              "    background-color: var(--disabled-bg-color);\n",
              "    fill: var(--disabled-fill-color);\n",
              "    box-shadow: none;\n",
              "  }\n",
              "\n",
              "  .colab-df-spinner {\n",
              "    border: 2px solid var(--fill-color);\n",
              "    border-color: transparent;\n",
              "    border-bottom-color: var(--fill-color);\n",
              "    animation:\n",
              "      spin 1s steps(1) infinite;\n",
              "  }\n",
              "\n",
              "  @keyframes spin {\n",
              "    0% {\n",
              "      border-color: transparent;\n",
              "      border-bottom-color: var(--fill-color);\n",
              "      border-left-color: var(--fill-color);\n",
              "    }\n",
              "    20% {\n",
              "      border-color: transparent;\n",
              "      border-left-color: var(--fill-color);\n",
              "      border-top-color: var(--fill-color);\n",
              "    }\n",
              "    30% {\n",
              "      border-color: transparent;\n",
              "      border-left-color: var(--fill-color);\n",
              "      border-top-color: var(--fill-color);\n",
              "      border-right-color: var(--fill-color);\n",
              "    }\n",
              "    40% {\n",
              "      border-color: transparent;\n",
              "      border-right-color: var(--fill-color);\n",
              "      border-top-color: var(--fill-color);\n",
              "    }\n",
              "    60% {\n",
              "      border-color: transparent;\n",
              "      border-right-color: var(--fill-color);\n",
              "    }\n",
              "    80% {\n",
              "      border-color: transparent;\n",
              "      border-right-color: var(--fill-color);\n",
              "      border-bottom-color: var(--fill-color);\n",
              "    }\n",
              "    90% {\n",
              "      border-color: transparent;\n",
              "      border-bottom-color: var(--fill-color);\n",
              "    }\n",
              "  }\n",
              "</style>\n",
              "\n",
              "  <script>\n",
              "    async function quickchart(key) {\n",
              "      const quickchartButtonEl =\n",
              "        document.querySelector('#' + key + ' button');\n",
              "      quickchartButtonEl.disabled = true;  // To prevent multiple clicks.\n",
              "      quickchartButtonEl.classList.add('colab-df-spinner');\n",
              "      try {\n",
              "        const charts = await google.colab.kernel.invokeFunction(\n",
              "            'suggestCharts', [key], {});\n",
              "      } catch (error) {\n",
              "        console.error('Error during call to suggestCharts:', error);\n",
              "      }\n",
              "      quickchartButtonEl.classList.remove('colab-df-spinner');\n",
              "      quickchartButtonEl.classList.add('colab-df-quickchart-complete');\n",
              "    }\n",
              "    (() => {\n",
              "      let quickchartButtonEl =\n",
              "        document.querySelector('#df-d6c7e1ca-baa3-4b72-b6ca-a5f704b839e7 button');\n",
              "      quickchartButtonEl.style.display =\n",
              "        google.colab.kernel.accessAllowed ? 'block' : 'none';\n",
              "    })();\n",
              "  </script>\n",
              "</div>\n",
              "    </div>\n",
              "  </div>\n"
            ],
            "application/vnd.google.colaboratory.intrinsic+json": {
              "type": "dataframe",
              "variable_name": "X",
              "summary": "{\n  \"name\": \"X\",\n  \"rows\": 1030,\n  \"fields\": [\n    {\n      \"column\": \"Cement\",\n      \"properties\": {\n        \"dtype\": \"number\",\n        \"std\": 104.50636449481532,\n        \"min\": 102.0,\n        \"max\": 540.0,\n        \"num_unique_values\": 278,\n        \"samples\": [\n          337.9,\n          290.2,\n          262.0\n        ],\n        \"semantic_type\": \"\",\n        \"description\": \"\"\n      }\n    },\n    {\n      \"column\": \"Blast Furnace Slag\",\n      \"properties\": {\n        \"dtype\": \"number\",\n        \"std\": 86.27934174810584,\n        \"min\": 0.0,\n        \"max\": 359.4,\n        \"num_unique_values\": 185,\n        \"samples\": [\n          94.7,\n          119.0,\n          136.3\n        ],\n        \"semantic_type\": \"\",\n        \"description\": \"\"\n      }\n    },\n    {\n      \"column\": \"Fly Ash\",\n      \"properties\": {\n        \"dtype\": \"number\",\n        \"std\": 63.99700415268765,\n        \"min\": 0.0,\n        \"max\": 200.1,\n        \"num_unique_values\": 156,\n        \"samples\": [\n          98.0,\n          142.0,\n          195.0\n        ],\n        \"semantic_type\": \"\",\n        \"description\": \"\"\n      }\n    },\n    {\n      \"column\": \"Water\",\n      \"properties\": {\n        \"dtype\": \"number\",\n        \"std\": 21.35421856503247,\n        \"min\": 121.8,\n        \"max\": 247.0,\n        \"num_unique_values\": 195,\n        \"samples\": [\n          195.4,\n          183.8,\n          127.3\n        ],\n        \"semantic_type\": \"\",\n        \"description\": \"\"\n      }\n    },\n    {\n      \"column\": \"Superplasticizer\",\n      \"properties\": {\n        \"dtype\": \"number\",\n        \"std\": 5.97384139248552,\n        \"min\": 0.0,\n        \"max\": 32.2,\n        \"num_unique_values\": 111,\n        \"samples\": [\n          15.0,\n          28.2,\n          16.5\n        ],\n        \"semantic_type\": \"\",\n        \"description\": \"\"\n      }\n    },\n    {\n      \"column\": \"Coarse Aggregate\",\n      \"properties\": {\n        \"dtype\": \"number\",\n        \"std\": 77.75395396672077,\n        \"min\": 801.0,\n        \"max\": 1145.0,\n        \"num_unique_values\": 284,\n        \"samples\": [\n          852.1,\n          913.9,\n          914.0\n        ],\n        \"semantic_type\": \"\",\n        \"description\": \"\"\n      }\n    },\n    {\n      \"column\": \"Fine Aggregate\",\n      \"properties\": {\n        \"dtype\": \"number\",\n        \"std\": 80.17598014240437,\n        \"min\": 594.0,\n        \"max\": 992.6,\n        \"num_unique_values\": 302,\n        \"samples\": [\n          710.0,\n          695.4,\n          769.3\n        ],\n        \"semantic_type\": \"\",\n        \"description\": \"\"\n      }\n    },\n    {\n      \"column\": \"Age\",\n      \"properties\": {\n        \"dtype\": \"number\",\n        \"std\": 63,\n        \"min\": 1,\n        \"max\": 365,\n        \"num_unique_values\": 14,\n        \"samples\": [\n          91,\n          100,\n          28\n        ],\n        \"semantic_type\": \"\",\n        \"description\": \"\"\n      }\n    }\n  ]\n}"
            }
          },
          "metadata": {},
          "execution_count": 83
        }
      ]
    },
    {
      "cell_type": "code",
      "source": [
        "y"
      ],
      "metadata": {
        "colab": {
          "base_uri": "https://localhost:8080/",
          "height": 423
        },
        "id": "a4qa1qBjn1QH",
        "outputId": "296a9ea7-c398-457b-de18-44b8516d823f"
      },
      "execution_count": null,
      "outputs": [
        {
          "output_type": "execute_result",
          "data": {
            "text/plain": [
              "      Concrete compressive strength\n",
              "0                             79.99\n",
              "1                             61.89\n",
              "2                             40.27\n",
              "3                             41.05\n",
              "4                             44.30\n",
              "...                             ...\n",
              "1025                          44.28\n",
              "1026                          31.18\n",
              "1027                          23.70\n",
              "1028                          32.77\n",
              "1029                          32.40\n",
              "\n",
              "[1030 rows x 1 columns]"
            ],
            "text/html": [
              "\n",
              "  <div id=\"df-16278a41-2edf-42d4-a0d8-4ba3e3449966\" class=\"colab-df-container\">\n",
              "    <div>\n",
              "<style scoped>\n",
              "    .dataframe tbody tr th:only-of-type {\n",
              "        vertical-align: middle;\n",
              "    }\n",
              "\n",
              "    .dataframe tbody tr th {\n",
              "        vertical-align: top;\n",
              "    }\n",
              "\n",
              "    .dataframe thead th {\n",
              "        text-align: right;\n",
              "    }\n",
              "</style>\n",
              "<table border=\"1\" class=\"dataframe\">\n",
              "  <thead>\n",
              "    <tr style=\"text-align: right;\">\n",
              "      <th></th>\n",
              "      <th>Concrete compressive strength</th>\n",
              "    </tr>\n",
              "  </thead>\n",
              "  <tbody>\n",
              "    <tr>\n",
              "      <th>0</th>\n",
              "      <td>79.99</td>\n",
              "    </tr>\n",
              "    <tr>\n",
              "      <th>1</th>\n",
              "      <td>61.89</td>\n",
              "    </tr>\n",
              "    <tr>\n",
              "      <th>2</th>\n",
              "      <td>40.27</td>\n",
              "    </tr>\n",
              "    <tr>\n",
              "      <th>3</th>\n",
              "      <td>41.05</td>\n",
              "    </tr>\n",
              "    <tr>\n",
              "      <th>4</th>\n",
              "      <td>44.30</td>\n",
              "    </tr>\n",
              "    <tr>\n",
              "      <th>...</th>\n",
              "      <td>...</td>\n",
              "    </tr>\n",
              "    <tr>\n",
              "      <th>1025</th>\n",
              "      <td>44.28</td>\n",
              "    </tr>\n",
              "    <tr>\n",
              "      <th>1026</th>\n",
              "      <td>31.18</td>\n",
              "    </tr>\n",
              "    <tr>\n",
              "      <th>1027</th>\n",
              "      <td>23.70</td>\n",
              "    </tr>\n",
              "    <tr>\n",
              "      <th>1028</th>\n",
              "      <td>32.77</td>\n",
              "    </tr>\n",
              "    <tr>\n",
              "      <th>1029</th>\n",
              "      <td>32.40</td>\n",
              "    </tr>\n",
              "  </tbody>\n",
              "</table>\n",
              "<p>1030 rows × 1 columns</p>\n",
              "</div>\n",
              "    <div class=\"colab-df-buttons\">\n",
              "\n",
              "  <div class=\"colab-df-container\">\n",
              "    <button class=\"colab-df-convert\" onclick=\"convertToInteractive('df-16278a41-2edf-42d4-a0d8-4ba3e3449966')\"\n",
              "            title=\"Convert this dataframe to an interactive table.\"\n",
              "            style=\"display:none;\">\n",
              "\n",
              "  <svg xmlns=\"http://www.w3.org/2000/svg\" height=\"24px\" viewBox=\"0 -960 960 960\">\n",
              "    <path d=\"M120-120v-720h720v720H120Zm60-500h600v-160H180v160Zm220 220h160v-160H400v160Zm0 220h160v-160H400v160ZM180-400h160v-160H180v160Zm440 0h160v-160H620v160ZM180-180h160v-160H180v160Zm440 0h160v-160H620v160Z\"/>\n",
              "  </svg>\n",
              "    </button>\n",
              "\n",
              "  <style>\n",
              "    .colab-df-container {\n",
              "      display:flex;\n",
              "      gap: 12px;\n",
              "    }\n",
              "\n",
              "    .colab-df-convert {\n",
              "      background-color: #E8F0FE;\n",
              "      border: none;\n",
              "      border-radius: 50%;\n",
              "      cursor: pointer;\n",
              "      display: none;\n",
              "      fill: #1967D2;\n",
              "      height: 32px;\n",
              "      padding: 0 0 0 0;\n",
              "      width: 32px;\n",
              "    }\n",
              "\n",
              "    .colab-df-convert:hover {\n",
              "      background-color: #E2EBFA;\n",
              "      box-shadow: 0px 1px 2px rgba(60, 64, 67, 0.3), 0px 1px 3px 1px rgba(60, 64, 67, 0.15);\n",
              "      fill: #174EA6;\n",
              "    }\n",
              "\n",
              "    .colab-df-buttons div {\n",
              "      margin-bottom: 4px;\n",
              "    }\n",
              "\n",
              "    [theme=dark] .colab-df-convert {\n",
              "      background-color: #3B4455;\n",
              "      fill: #D2E3FC;\n",
              "    }\n",
              "\n",
              "    [theme=dark] .colab-df-convert:hover {\n",
              "      background-color: #434B5C;\n",
              "      box-shadow: 0px 1px 3px 1px rgba(0, 0, 0, 0.15);\n",
              "      filter: drop-shadow(0px 1px 2px rgba(0, 0, 0, 0.3));\n",
              "      fill: #FFFFFF;\n",
              "    }\n",
              "  </style>\n",
              "\n",
              "    <script>\n",
              "      const buttonEl =\n",
              "        document.querySelector('#df-16278a41-2edf-42d4-a0d8-4ba3e3449966 button.colab-df-convert');\n",
              "      buttonEl.style.display =\n",
              "        google.colab.kernel.accessAllowed ? 'block' : 'none';\n",
              "\n",
              "      async function convertToInteractive(key) {\n",
              "        const element = document.querySelector('#df-16278a41-2edf-42d4-a0d8-4ba3e3449966');\n",
              "        const dataTable =\n",
              "          await google.colab.kernel.invokeFunction('convertToInteractive',\n",
              "                                                    [key], {});\n",
              "        if (!dataTable) return;\n",
              "\n",
              "        const docLinkHtml = 'Like what you see? Visit the ' +\n",
              "          '<a target=\"_blank\" href=https://colab.research.google.com/notebooks/data_table.ipynb>data table notebook</a>'\n",
              "          + ' to learn more about interactive tables.';\n",
              "        element.innerHTML = '';\n",
              "        dataTable['output_type'] = 'display_data';\n",
              "        await google.colab.output.renderOutput(dataTable, element);\n",
              "        const docLink = document.createElement('div');\n",
              "        docLink.innerHTML = docLinkHtml;\n",
              "        element.appendChild(docLink);\n",
              "      }\n",
              "    </script>\n",
              "  </div>\n",
              "\n",
              "\n",
              "<div id=\"df-c2accf40-ed76-46f5-9d94-8b86a1fb8f36\">\n",
              "  <button class=\"colab-df-quickchart\" onclick=\"quickchart('df-c2accf40-ed76-46f5-9d94-8b86a1fb8f36')\"\n",
              "            title=\"Suggest charts\"\n",
              "            style=\"display:none;\">\n",
              "\n",
              "<svg xmlns=\"http://www.w3.org/2000/svg\" height=\"24px\"viewBox=\"0 0 24 24\"\n",
              "     width=\"24px\">\n",
              "    <g>\n",
              "        <path d=\"M19 3H5c-1.1 0-2 .9-2 2v14c0 1.1.9 2 2 2h14c1.1 0 2-.9 2-2V5c0-1.1-.9-2-2-2zM9 17H7v-7h2v7zm4 0h-2V7h2v10zm4 0h-2v-4h2v4z\"/>\n",
              "    </g>\n",
              "</svg>\n",
              "  </button>\n",
              "\n",
              "<style>\n",
              "  .colab-df-quickchart {\n",
              "      --bg-color: #E8F0FE;\n",
              "      --fill-color: #1967D2;\n",
              "      --hover-bg-color: #E2EBFA;\n",
              "      --hover-fill-color: #174EA6;\n",
              "      --disabled-fill-color: #AAA;\n",
              "      --disabled-bg-color: #DDD;\n",
              "  }\n",
              "\n",
              "  [theme=dark] .colab-df-quickchart {\n",
              "      --bg-color: #3B4455;\n",
              "      --fill-color: #D2E3FC;\n",
              "      --hover-bg-color: #434B5C;\n",
              "      --hover-fill-color: #FFFFFF;\n",
              "      --disabled-bg-color: #3B4455;\n",
              "      --disabled-fill-color: #666;\n",
              "  }\n",
              "\n",
              "  .colab-df-quickchart {\n",
              "    background-color: var(--bg-color);\n",
              "    border: none;\n",
              "    border-radius: 50%;\n",
              "    cursor: pointer;\n",
              "    display: none;\n",
              "    fill: var(--fill-color);\n",
              "    height: 32px;\n",
              "    padding: 0;\n",
              "    width: 32px;\n",
              "  }\n",
              "\n",
              "  .colab-df-quickchart:hover {\n",
              "    background-color: var(--hover-bg-color);\n",
              "    box-shadow: 0 1px 2px rgba(60, 64, 67, 0.3), 0 1px 3px 1px rgba(60, 64, 67, 0.15);\n",
              "    fill: var(--button-hover-fill-color);\n",
              "  }\n",
              "\n",
              "  .colab-df-quickchart-complete:disabled,\n",
              "  .colab-df-quickchart-complete:disabled:hover {\n",
              "    background-color: var(--disabled-bg-color);\n",
              "    fill: var(--disabled-fill-color);\n",
              "    box-shadow: none;\n",
              "  }\n",
              "\n",
              "  .colab-df-spinner {\n",
              "    border: 2px solid var(--fill-color);\n",
              "    border-color: transparent;\n",
              "    border-bottom-color: var(--fill-color);\n",
              "    animation:\n",
              "      spin 1s steps(1) infinite;\n",
              "  }\n",
              "\n",
              "  @keyframes spin {\n",
              "    0% {\n",
              "      border-color: transparent;\n",
              "      border-bottom-color: var(--fill-color);\n",
              "      border-left-color: var(--fill-color);\n",
              "    }\n",
              "    20% {\n",
              "      border-color: transparent;\n",
              "      border-left-color: var(--fill-color);\n",
              "      border-top-color: var(--fill-color);\n",
              "    }\n",
              "    30% {\n",
              "      border-color: transparent;\n",
              "      border-left-color: var(--fill-color);\n",
              "      border-top-color: var(--fill-color);\n",
              "      border-right-color: var(--fill-color);\n",
              "    }\n",
              "    40% {\n",
              "      border-color: transparent;\n",
              "      border-right-color: var(--fill-color);\n",
              "      border-top-color: var(--fill-color);\n",
              "    }\n",
              "    60% {\n",
              "      border-color: transparent;\n",
              "      border-right-color: var(--fill-color);\n",
              "    }\n",
              "    80% {\n",
              "      border-color: transparent;\n",
              "      border-right-color: var(--fill-color);\n",
              "      border-bottom-color: var(--fill-color);\n",
              "    }\n",
              "    90% {\n",
              "      border-color: transparent;\n",
              "      border-bottom-color: var(--fill-color);\n",
              "    }\n",
              "  }\n",
              "</style>\n",
              "\n",
              "  <script>\n",
              "    async function quickchart(key) {\n",
              "      const quickchartButtonEl =\n",
              "        document.querySelector('#' + key + ' button');\n",
              "      quickchartButtonEl.disabled = true;  // To prevent multiple clicks.\n",
              "      quickchartButtonEl.classList.add('colab-df-spinner');\n",
              "      try {\n",
              "        const charts = await google.colab.kernel.invokeFunction(\n",
              "            'suggestCharts', [key], {});\n",
              "      } catch (error) {\n",
              "        console.error('Error during call to suggestCharts:', error);\n",
              "      }\n",
              "      quickchartButtonEl.classList.remove('colab-df-spinner');\n",
              "      quickchartButtonEl.classList.add('colab-df-quickchart-complete');\n",
              "    }\n",
              "    (() => {\n",
              "      let quickchartButtonEl =\n",
              "        document.querySelector('#df-c2accf40-ed76-46f5-9d94-8b86a1fb8f36 button');\n",
              "      quickchartButtonEl.style.display =\n",
              "        google.colab.kernel.accessAllowed ? 'block' : 'none';\n",
              "    })();\n",
              "  </script>\n",
              "</div>\n",
              "    </div>\n",
              "  </div>\n"
            ],
            "application/vnd.google.colaboratory.intrinsic+json": {
              "type": "dataframe",
              "variable_name": "y",
              "summary": "{\n  \"name\": \"y\",\n  \"rows\": 1030,\n  \"fields\": [\n    {\n      \"column\": \"Concrete compressive strength\",\n      \"properties\": {\n        \"dtype\": \"number\",\n        \"std\": 16.705741961912512,\n        \"min\": 2.33,\n        \"max\": 82.6,\n        \"num_unique_values\": 845,\n        \"samples\": [\n          41.68,\n          39.59,\n          2.33\n        ],\n        \"semantic_type\": \"\",\n        \"description\": \"\"\n      }\n    }\n  ]\n}"
            }
          },
          "metadata": {},
          "execution_count": 84
        }
      ]
    },
    {
      "cell_type": "markdown",
      "source": [
        "Printing the `X` and `y` variables above show some of the contents of each of the dataframe. This allows us to verify if the dataset has been properly loaded."
      ],
      "metadata": {
        "id": "K-3fYMC7pwGL"
      }
    },
    {
      "cell_type": "code",
      "source": [
        "# Combine the input features and target variable into one dataframe:\n",
        "\n",
        "frames = [X, y]\n",
        "concreteDF = pd.concat(frames, axis=1)\n",
        "concreteDF.info()"
      ],
      "metadata": {
        "colab": {
          "base_uri": "https://localhost:8080/"
        },
        "id": "tYEGVrTKqK9A",
        "outputId": "c93905fa-d79a-48a7-be79-14423fed80c2"
      },
      "execution_count": null,
      "outputs": [
        {
          "output_type": "stream",
          "name": "stdout",
          "text": [
            "<class 'pandas.core.frame.DataFrame'>\n",
            "RangeIndex: 1030 entries, 0 to 1029\n",
            "Data columns (total 9 columns):\n",
            " #   Column                         Non-Null Count  Dtype  \n",
            "---  ------                         --------------  -----  \n",
            " 0   Cement                         1030 non-null   float64\n",
            " 1   Blast Furnace Slag             1030 non-null   float64\n",
            " 2   Fly Ash                        1030 non-null   float64\n",
            " 3   Water                          1030 non-null   float64\n",
            " 4   Superplasticizer               1030 non-null   float64\n",
            " 5   Coarse Aggregate               1030 non-null   float64\n",
            " 6   Fine Aggregate                 1030 non-null   float64\n",
            " 7   Age                            1030 non-null   int64  \n",
            " 8   Concrete compressive strength  1030 non-null   float64\n",
            "dtypes: float64(8), int64(1)\n",
            "memory usage: 72.5 KB\n"
          ]
        }
      ]
    },
    {
      "cell_type": "markdown",
      "source": [
        "Combining the two dataframes, `X` and `y` into a single dataset will allow us to perform our pre-processing easier later on. The `concreteDF` dataframe now contains the whole dataset imported using Python. We have used the `info()` method in order to check for the columns of the dataset. This also gives us a glimpse if there are null values in the dataset. From the above result, there are no null values in the chosen dataset. Upon checking the data types of the columns, all of the input variables, aside from `Age` have the same scales and are all `float64` values. The output variable, `Conccrete compressive strength` is also a `float64` value."
      ],
      "metadata": {
        "id": "eAi0CcRqqXvE"
      }
    },
    {
      "cell_type": "markdown",
      "source": [
        "#### Handling Outliers\n",
        "\n",
        "The same technique as in the classification problem earlier will be used to handle the outliers for the regression dataset."
      ],
      "metadata": {
        "id": "M-V0EZPQrGmi"
      }
    },
    {
      "cell_type": "code",
      "source": [
        "# Check for outliers using boxplot\n",
        "\n",
        "import matplotlib.pyplot as plt\n",
        "\n",
        "no_of_features = len(X.columns)\n",
        "\n",
        "fig, axs = plt.subplots(1, no_of_features, figsize=(12, 5))\n",
        "features = concreteDF.columns\n",
        "\n",
        "for i in range(no_of_features):\n",
        "  axs[i].boxplot(concreteDF[features[i]])\n",
        "  axs[i].set_xlabel(f\"{features[i]}\")\n",
        "\n",
        "\n",
        "plt.tight_layout()\n",
        "plt.show()"
      ],
      "metadata": {
        "colab": {
          "base_uri": "https://localhost:8080/",
          "height": 507
        },
        "id": "wpgtjzCXqBF2",
        "outputId": "e53ae971-7fdc-477a-aacd-bf79d32f844c"
      },
      "execution_count": null,
      "outputs": [
        {
          "output_type": "display_data",
          "data": {
            "text/plain": [
              "<Figure size 1200x500 with 8 Axes>"
            ],
            "image/png": "[encoded data removed]"
          },
          "metadata": {}
        }
      ]
    },
    {
      "cell_type": "markdown",
      "source": [
        "From what we can see in the boxplots generated above, there are a few outliers present in the Blast Furnace Slag, Water, Superplasticizer, Fine Aggregate. and Age variables. These are seen as those data points outside the whiskers of the box plots."
      ],
      "metadata": {
        "id": "J_jJXbjzru0E"
      }
    },
    {
      "cell_type": "code",
      "source": [
        "# Remove outliers\n",
        "\n",
        "data2DF = concreteDF.copy()\n",
        "features = data2DF.columns\n",
        "\n",
        "for i in range((len(features)-1)):\n",
        "  data2DF = remove_outliers_iqr(data2DF, f'{features[i]}')"
      ],
      "metadata": {
        "id": "3NVK0yKYsCIJ"
      },
      "execution_count": null,
      "outputs": []
    },
    {
      "cell_type": "code",
      "source": [
        "# Verify if outliers were removed\n",
        "\n",
        "no_of_features = len(X.columns)\n",
        "\n",
        "fig, axs = plt.subplots(1, no_of_features, figsize=(12, 5))\n",
        "features = concreteDF.columns\n",
        "\n",
        "for i in range(no_of_features):\n",
        "  axs[i].boxplot(data2DF[features[i]])\n",
        "  axs[i].set_xlabel(f\"{features[i]}\")\n",
        "\n",
        "\n",
        "plt.tight_layout()\n",
        "plt.show()"
      ],
      "metadata": {
        "colab": {
          "base_uri": "https://localhost:8080/",
          "height": 507
        },
        "id": "Js2W7IDhsEvc",
        "outputId": "e4de9d6d-3a5c-43c2-fb03-8eca33c89993"
      },
      "execution_count": null,
      "outputs": [
        {
          "output_type": "display_data",
          "data": {
            "text/plain": [
              "<Figure size 1200x500 with 8 Axes>"
            ],
            "image/png": "[encoded data removed]"
          },
          "metadata": {}
        }
      ]
    },
    {
      "cell_type": "code",
      "source": [
        "data2DF.info()"
      ],
      "metadata": {
        "colab": {
          "base_uri": "https://localhost:8080/"
        },
        "id": "qPWPUPxNsYUG",
        "outputId": "e62f3d61-c683-4507-b5ee-61cab3e442ba"
      },
      "execution_count": null,
      "outputs": [
        {
          "output_type": "stream",
          "name": "stdout",
          "text": [
            "<class 'pandas.core.frame.DataFrame'>\n",
            "Index: 763 entries, 0 to 1029\n",
            "Data columns (total 9 columns):\n",
            " #   Column                         Non-Null Count  Dtype  \n",
            "---  ------                         --------------  -----  \n",
            " 0   Cement                         763 non-null    float64\n",
            " 1   Blast Furnace Slag             763 non-null    float64\n",
            " 2   Fly Ash                        763 non-null    float64\n",
            " 3   Water                          763 non-null    float64\n",
            " 4   Superplasticizer               763 non-null    float64\n",
            " 5   Coarse Aggregate               763 non-null    float64\n",
            " 6   Fine Aggregate                 763 non-null    float64\n",
            " 7   Age                            763 non-null    int64  \n",
            " 8   Concrete compressive strength  763 non-null    float64\n",
            "dtypes: float64(8), int64(1)\n",
            "memory usage: 59.6 KB\n"
          ]
        }
      ]
    },
    {
      "cell_type": "markdown",
      "source": [
        "After removing the outliers, the number of instances of our dataframe is reduced to 763. We will now define the new `X` and `y` variables."
      ],
      "metadata": {
        "id": "ZcT0MPJXs5ek"
      }
    },
    {
      "cell_type": "markdown",
      "source": [
        "#### Defining `X_new2` and `y_new2`\n",
        "\n",
        "`X_new2` and `y_new2` will now contain updated values after performing the pre-processing techniques."
      ],
      "metadata": {
        "id": "UDCvqnUhuXVC"
      }
    },
    {
      "cell_type": "code",
      "source": [
        "X_new2 = data2DF.drop(columns = [\"Concrete compressive strength\"])\n",
        "X_new2"
      ],
      "metadata": {
        "colab": {
          "base_uri": "https://localhost:8080/",
          "height": 423
        },
        "id": "YfkQy5Rfuak4",
        "outputId": "a2eb5d3d-c2ad-41cb-bd49-0639247de141"
      },
      "execution_count": null,
      "outputs": [
        {
          "output_type": "execute_result",
          "data": {
            "text/plain": [
              "      Cement  Blast Furnace Slag  Fly Ash  Water  Superplasticizer  \\\n",
              "0      540.0                 0.0      0.0  162.0               2.5   \n",
              "1      540.0                 0.0      0.0  162.0               2.5   \n",
              "8      266.0               114.0      0.0  228.0               0.0   \n",
              "11     198.6               132.4      0.0  192.0               0.0   \n",
              "14     304.0                76.0      0.0  228.0               0.0   \n",
              "...      ...                 ...      ...    ...               ...   \n",
              "1025   276.4               116.0     90.3  179.6               8.9   \n",
              "1026   322.2                 0.0    115.6  196.0              10.4   \n",
              "1027   148.5               139.4    108.6  192.7               6.1   \n",
              "1028   159.1               186.7      0.0  175.6              11.3   \n",
              "1029   260.9               100.5     78.3  200.6               8.6   \n",
              "\n",
              "      Coarse Aggregate  Fine Aggregate  Age  \n",
              "0               1040.0           676.0   28  \n",
              "1               1055.0           676.0   28  \n",
              "8                932.0           670.0   28  \n",
              "11               978.4           825.5   28  \n",
              "14               932.0           670.0   28  \n",
              "...                ...             ...  ...  \n",
              "1025             870.1           768.3   28  \n",
              "1026             817.9           813.4   28  \n",
              "1027             892.4           780.0   28  \n",
              "1028             989.6           788.9   28  \n",
              "1029             864.5           761.5   28  \n",
              "\n",
              "[763 rows x 8 columns]"
            ],
            "text/html": [
              "\n",
              "  <div id=\"df-c4e2827e-6451-4ad4-be2e-f7e98692bb3c\" class=\"colab-df-container\">\n",
              "    <div>\n",
              "<style scoped>\n",
              "    .dataframe tbody tr th:only-of-type {\n",
              "        vertical-align: middle;\n",
              "    }\n",
              "\n",
              "    .dataframe tbody tr th {\n",
              "        vertical-align: top;\n",
              "    }\n",
              "\n",
              "    .dataframe thead th {\n",
              "        text-align: right;\n",
              "    }\n",
              "</style>\n",
              "<table border=\"1\" class=\"dataframe\">\n",
              "  <thead>\n",
              "    <tr style=\"text-align: right;\">\n",
              "      <th></th>\n",
              "      <th>Cement</th>\n",
              "      <th>Blast Furnace Slag</th>\n",
              "      <th>Fly Ash</th>\n",
              "      <th>Water</th>\n",
              "      <th>Superplasticizer</th>\n",
              "      <th>Coarse Aggregate</th>\n",
              "      <th>Fine Aggregate</th>\n",
              "      <th>Age</th>\n",
              "    </tr>\n",
              "  </thead>\n",
              "  <tbody>\n",
              "    <tr>\n",
              "      <th>0</th>\n",
              "      <td>540.0</td>\n",
              "      <td>0.0</td>\n",
              "      <td>0.0</td>\n",
              "      <td>162.0</td>\n",
              "      <td>2.5</td>\n",
              "      <td>1040.0</td>\n",
              "      <td>676.0</td>\n",
              "      <td>28</td>\n",
              "    </tr>\n",
              "    <tr>\n",
              "      <th>1</th>\n",
              "      <td>540.0</td>\n",
              "      <td>0.0</td>\n",
              "      <td>0.0</td>\n",
              "      <td>162.0</td>\n",
              "      <td>2.5</td>\n",
              "      <td>1055.0</td>\n",
              "      <td>676.0</td>\n",
              "      <td>28</td>\n",
              "    </tr>\n",
              "    <tr>\n",
              "      <th>8</th>\n",
              "      <td>266.0</td>\n",
              "      <td>114.0</td>\n",
              "      <td>0.0</td>\n",
              "      <td>228.0</td>\n",
              "      <td>0.0</td>\n",
              "      <td>932.0</td>\n",
              "      <td>670.0</td>\n",
              "      <td>28</td>\n",
              "    </tr>\n",
              "    <tr>\n",
              "      <th>11</th>\n",
              "      <td>198.6</td>\n",
              "      <td>132.4</td>\n",
              "      <td>0.0</td>\n",
              "      <td>192.0</td>\n",
              "      <td>0.0</td>\n",
              "      <td>978.4</td>\n",
              "      <td>825.5</td>\n",
              "      <td>28</td>\n",
              "    </tr>\n",
              "    <tr>\n",
              "      <th>14</th>\n",
              "      <td>304.0</td>\n",
              "      <td>76.0</td>\n",
              "      <td>0.0</td>\n",
              "      <td>228.0</td>\n",
              "      <td>0.0</td>\n",
              "      <td>932.0</td>\n",
              "      <td>670.0</td>\n",
              "      <td>28</td>\n",
              "    </tr>\n",
              "    <tr>\n",
              "      <th>...</th>\n",
              "      <td>...</td>\n",
              "      <td>...</td>\n",
              "      <td>...</td>\n",
              "      <td>...</td>\n",
              "      <td>...</td>\n",
              "      <td>...</td>\n",
              "      <td>...</td>\n",
              "      <td>...</td>\n",
              "    </tr>\n",
              "    <tr>\n",
              "      <th>1025</th>\n",
              "      <td>276.4</td>\n",
              "      <td>116.0</td>\n",
              "      <td>90.3</td>\n",
              "      <td>179.6</td>\n",
              "      <td>8.9</td>\n",
              "      <td>870.1</td>\n",
              "      <td>768.3</td>\n",
              "      <td>28</td>\n",
              "    </tr>\n",
              "    <tr>\n",
              "      <th>1026</th>\n",
              "      <td>322.2</td>\n",
              "      <td>0.0</td>\n",
              "      <td>115.6</td>\n",
              "      <td>196.0</td>\n",
              "      <td>10.4</td>\n",
              "      <td>817.9</td>\n",
              "      <td>813.4</td>\n",
              "      <td>28</td>\n",
              "    </tr>\n",
              "    <tr>\n",
              "      <th>1027</th>\n",
              "      <td>148.5</td>\n",
              "      <td>139.4</td>\n",
              "      <td>108.6</td>\n",
              "      <td>192.7</td>\n",
              "      <td>6.1</td>\n",
              "      <td>892.4</td>\n",
              "      <td>780.0</td>\n",
              "      <td>28</td>\n",
              "    </tr>\n",
              "    <tr>\n",
              "      <th>1028</th>\n",
              "      <td>159.1</td>\n",
              "      <td>186.7</td>\n",
              "      <td>0.0</td>\n",
              "      <td>175.6</td>\n",
              "      <td>11.3</td>\n",
              "      <td>989.6</td>\n",
              "      <td>788.9</td>\n",
              "      <td>28</td>\n",
              "    </tr>\n",
              "    <tr>\n",
              "      <th>1029</th>\n",
              "      <td>260.9</td>\n",
              "      <td>100.5</td>\n",
              "      <td>78.3</td>\n",
              "      <td>200.6</td>\n",
              "      <td>8.6</td>\n",
              "      <td>864.5</td>\n",
              "      <td>761.5</td>\n",
              "      <td>28</td>\n",
              "    </tr>\n",
              "  </tbody>\n",
              "</table>\n",
              "<p>763 rows × 8 columns</p>\n",
              "</div>\n",
              "    <div class=\"colab-df-buttons\">\n",
              "\n",
              "  <div class=\"colab-df-container\">\n",
              "    <button class=\"colab-df-convert\" onclick=\"convertToInteractive('df-c4e2827e-6451-4ad4-be2e-f7e98692bb3c')\"\n",
              "            title=\"Convert this dataframe to an interactive table.\"\n",
              "            style=\"display:none;\">\n",
              "\n",
              "  <svg xmlns=\"http://www.w3.org/2000/svg\" height=\"24px\" viewBox=\"0 -960 960 960\">\n",
              "    <path d=\"M120-120v-720h720v720H120Zm60-500h600v-160H180v160Zm220 220h160v-160H400v160Zm0 220h160v-160H400v160ZM180-400h160v-160H180v160Zm440 0h160v-160H620v160ZM180-180h160v-160H180v160Zm440 0h160v-160H620v160Z\"/>\n",
              "  </svg>\n",
              "    </button>\n",
              "\n",
              "  <style>\n",
              "    .colab-df-container {\n",
              "      display:flex;\n",
              "      gap: 12px;\n",
              "    }\n",
              "\n",
              "    .colab-df-convert {\n",
              "      background-color: #E8F0FE;\n",
              "      border: none;\n",
              "      border-radius: 50%;\n",
              "      cursor: pointer;\n",
              "      display: none;\n",
              "      fill: #1967D2;\n",
              "      height: 32px;\n",
              "      padding: 0 0 0 0;\n",
              "      width: 32px;\n",
              "    }\n",
              "\n",
              "    .colab-df-convert:hover {\n",
              "      background-color: #E2EBFA;\n",
              "      box-shadow: 0px 1px 2px rgba(60, 64, 67, 0.3), 0px 1px 3px 1px rgba(60, 64, 67, 0.15);\n",
              "      fill: #174EA6;\n",
              "    }\n",
              "\n",
              "    .colab-df-buttons div {\n",
              "      margin-bottom: 4px;\n",
              "    }\n",
              "\n",
              "    [theme=dark] .colab-df-convert {\n",
              "      background-color: #3B4455;\n",
              "      fill: #D2E3FC;\n",
              "    }\n",
              "\n",
              "    [theme=dark] .colab-df-convert:hover {\n",
              "      background-color: #434B5C;\n",
              "      box-shadow: 0px 1px 3px 1px rgba(0, 0, 0, 0.15);\n",
              "      filter: drop-shadow(0px 1px 2px rgba(0, 0, 0, 0.3));\n",
              "      fill: #FFFFFF;\n",
              "    }\n",
              "  </style>\n",
              "\n",
              "    <script>\n",
              "      const buttonEl =\n",
              "        document.querySelector('#df-c4e2827e-6451-4ad4-be2e-f7e98692bb3c button.colab-df-convert');\n",
              "      buttonEl.style.display =\n",
              "        google.colab.kernel.accessAllowed ? 'block' : 'none';\n",
              "\n",
              "      async function convertToInteractive(key) {\n",
              "        const element = document.querySelector('#df-c4e2827e-6451-4ad4-be2e-f7e98692bb3c');\n",
              "        const dataTable =\n",
              "          await google.colab.kernel.invokeFunction('convertToInteractive',\n",
              "                                                    [key], {});\n",
              "        if (!dataTable) return;\n",
              "\n",
              "        const docLinkHtml = 'Like what you see? Visit the ' +\n",
              "          '<a target=\"_blank\" href=https://colab.research.google.com/notebooks/data_table.ipynb>data table notebook</a>'\n",
              "          + ' to learn more about interactive tables.';\n",
              "        element.innerHTML = '';\n",
              "        dataTable['output_type'] = 'display_data';\n",
              "        await google.colab.output.renderOutput(dataTable, element);\n",
              "        const docLink = document.createElement('div');\n",
              "        docLink.innerHTML = docLinkHtml;\n",
              "        element.appendChild(docLink);\n",
              "      }\n",
              "    </script>\n",
              "  </div>\n",
              "\n",
              "\n",
              "<div id=\"df-bb56837a-f72d-4f69-a984-96e491d76baf\">\n",
              "  <button class=\"colab-df-quickchart\" onclick=\"quickchart('df-bb56837a-f72d-4f69-a984-96e491d76baf')\"\n",
              "            title=\"Suggest charts\"\n",
              "            style=\"display:none;\">\n",
              "\n",
              "<svg xmlns=\"http://www.w3.org/2000/svg\" height=\"24px\"viewBox=\"0 0 24 24\"\n",
              "     width=\"24px\">\n",
              "    <g>\n",
              "        <path d=\"M19 3H5c-1.1 0-2 .9-2 2v14c0 1.1.9 2 2 2h14c1.1 0 2-.9 2-2V5c0-1.1-.9-2-2-2zM9 17H7v-7h2v7zm4 0h-2V7h2v10zm4 0h-2v-4h2v4z\"/>\n",
              "    </g>\n",
              "</svg>\n",
              "  </button>\n",
              "\n",
              "<style>\n",
              "  .colab-df-quickchart {\n",
              "      --bg-color: #E8F0FE;\n",
              "      --fill-color: #1967D2;\n",
              "      --hover-bg-color: #E2EBFA;\n",
              "      --hover-fill-color: #174EA6;\n",
              "      --disabled-fill-color: #AAA;\n",
              "      --disabled-bg-color: #DDD;\n",
              "  }\n",
              "\n",
              "  [theme=dark] .colab-df-quickchart {\n",
              "      --bg-color: #3B4455;\n",
              "      --fill-color: #D2E3FC;\n",
              "      --hover-bg-color: #434B5C;\n",
              "      --hover-fill-color: #FFFFFF;\n",
              "      --disabled-bg-color: #3B4455;\n",
              "      --disabled-fill-color: #666;\n",
              "  }\n",
              "\n",
              "  .colab-df-quickchart {\n",
              "    background-color: var(--bg-color);\n",
              "    border: none;\n",
              "    border-radius: 50%;\n",
              "    cursor: pointer;\n",
              "    display: none;\n",
              "    fill: var(--fill-color);\n",
              "    height: 32px;\n",
              "    padding: 0;\n",
              "    width: 32px;\n",
              "  }\n",
              "\n",
              "  .colab-df-quickchart:hover {\n",
              "    background-color: var(--hover-bg-color);\n",
              "    box-shadow: 0 1px 2px rgba(60, 64, 67, 0.3), 0 1px 3px 1px rgba(60, 64, 67, 0.15);\n",
              "    fill: var(--button-hover-fill-color);\n",
              "  }\n",
              "\n",
              "  .colab-df-quickchart-complete:disabled,\n",
              "  .colab-df-quickchart-complete:disabled:hover {\n",
              "    background-color: var(--disabled-bg-color);\n",
              "    fill: var(--disabled-fill-color);\n",
              "    box-shadow: none;\n",
              "  }\n",
              "\n",
              "  .colab-df-spinner {\n",
              "    border: 2px solid var(--fill-color);\n",
              "    border-color: transparent;\n",
              "    border-bottom-color: var(--fill-color);\n",
              "    animation:\n",
              "      spin 1s steps(1) infinite;\n",
              "  }\n",
              "\n",
              "  @keyframes spin {\n",
              "    0% {\n",
              "      border-color: transparent;\n",
              "      border-bottom-color: var(--fill-color);\n",
              "      border-left-color: var(--fill-color);\n",
              "    }\n",
              "    20% {\n",
              "      border-color: transparent;\n",
              "      border-left-color: var(--fill-color);\n",
              "      border-top-color: var(--fill-color);\n",
              "    }\n",
              "    30% {\n",
              "      border-color: transparent;\n",
              "      border-left-color: var(--fill-color);\n",
              "      border-top-color: var(--fill-color);\n",
              "      border-right-color: var(--fill-color);\n",
              "    }\n",
              "    40% {\n",
              "      border-color: transparent;\n",
              "      border-right-color: var(--fill-color);\n",
              "      border-top-color: var(--fill-color);\n",
              "    }\n",
              "    60% {\n",
              "      border-color: transparent;\n",
              "      border-right-color: var(--fill-color);\n",
              "    }\n",
              "    80% {\n",
              "      border-color: transparent;\n",
              "      border-right-color: var(--fill-color);\n",
              "      border-bottom-color: var(--fill-color);\n",
              "    }\n",
              "    90% {\n",
              "      border-color: transparent;\n",
              "      border-bottom-color: var(--fill-color);\n",
              "    }\n",
              "  }\n",
              "</style>\n",
              "\n",
              "  <script>\n",
              "    async function quickchart(key) {\n",
              "      const quickchartButtonEl =\n",
              "        document.querySelector('#' + key + ' button');\n",
              "      quickchartButtonEl.disabled = true;  // To prevent multiple clicks.\n",
              "      quickchartButtonEl.classList.add('colab-df-spinner');\n",
              "      try {\n",
              "        const charts = await google.colab.kernel.invokeFunction(\n",
              "            'suggestCharts', [key], {});\n",
              "      } catch (error) {\n",
              "        console.error('Error during call to suggestCharts:', error);\n",
              "      }\n",
              "      quickchartButtonEl.classList.remove('colab-df-spinner');\n",
              "      quickchartButtonEl.classList.add('colab-df-quickchart-complete');\n",
              "    }\n",
              "    (() => {\n",
              "      let quickchartButtonEl =\n",
              "        document.querySelector('#df-bb56837a-f72d-4f69-a984-96e491d76baf button');\n",
              "      quickchartButtonEl.style.display =\n",
              "        google.colab.kernel.accessAllowed ? 'block' : 'none';\n",
              "    })();\n",
              "  </script>\n",
              "</div>\n",
              "    </div>\n",
              "  </div>\n"
            ],
            "application/vnd.google.colaboratory.intrinsic+json": {
              "type": "dataframe",
              "variable_name": "X_new2",
              "summary": "{\n  \"name\": \"X_new2\",\n  \"rows\": 763,\n  \"fields\": [\n    {\n      \"column\": \"Cement\",\n      \"properties\": {\n        \"dtype\": \"number\",\n        \"std\": 97.83980577790649,\n        \"min\": 108.3,\n        \"max\": 540.0,\n        \"num_unique_values\": 257,\n        \"samples\": [\n          326.0,\n          136.0,\n          355.0\n        ],\n        \"semantic_type\": \"\",\n        \"description\": \"\"\n      }\n    },\n    {\n      \"column\": \"Blast Furnace Slag\",\n      \"properties\": {\n        \"dtype\": \"number\",\n        \"std\": 85.34846200125122,\n        \"min\": 0.0,\n        \"max\": 342.1,\n        \"num_unique_values\": 163,\n        \"samples\": [\n          136.3,\n          163.0,\n          169.6\n        ],\n        \"semantic_type\": \"\",\n        \"description\": \"\"\n      }\n    },\n    {\n      \"column\": \"Fly Ash\",\n      \"properties\": {\n        \"dtype\": \"number\",\n        \"std\": 64.25038165552431,\n        \"min\": 0.0,\n        \"max\": 200.1,\n        \"num_unique_values\": 147,\n        \"samples\": [\n          138.7,\n          148.0,\n          160.9\n        ],\n        \"semantic_type\": \"\",\n        \"description\": \"\"\n      }\n    },\n    {\n      \"column\": \"Water\",\n      \"properties\": {\n        \"dtype\": \"number\",\n        \"std\": 17.478537915336343,\n        \"min\": 127.0,\n        \"max\": 228.0,\n        \"num_unique_values\": 184,\n        \"samples\": [\n          165.6,\n          146.3,\n          220.1\n        ],\n        \"semantic_type\": \"\",\n        \"description\": \"\"\n      }\n    },\n    {\n      \"column\": \"Superplasticizer\",\n      \"properties\": {\n        \"dtype\": \"number\",\n        \"std\": 5.215753405174438,\n        \"min\": 0.0,\n        \"max\": 22.1,\n        \"num_unique_values\": 105,\n        \"samples\": [\n          7.6,\n          10.9,\n          1.7\n        ],\n        \"semantic_type\": \"\",\n        \"description\": \"\"\n      }\n    },\n    {\n      \"column\": \"Coarse Aggregate\",\n      \"properties\": {\n        \"dtype\": \"number\",\n        \"std\": 77.4483787030343,\n        \"min\": 801.0,\n        \"max\": 1145.0,\n        \"num_unique_values\": 269,\n        \"samples\": [\n          1085.4,\n          971.8,\n          1043.6\n        ],\n        \"semantic_type\": \"\",\n        \"description\": \"\"\n      }\n    },\n    {\n      \"column\": \"Fine Aggregate\",\n      \"properties\": {\n        \"dtype\": \"number\",\n        \"std\": 61.62485449846583,\n        \"min\": 636.0,\n        \"max\": 925.7,\n        \"num_unique_values\": 281,\n        \"samples\": [\n          757.7,\n          705.0,\n          657.9\n        ],\n        \"semantic_type\": \"\",\n        \"description\": \"\"\n      }\n    },\n    {\n      \"column\": \"Age\",\n      \"properties\": {\n        \"dtype\": \"number\",\n        \"std\": 15,\n        \"min\": 1,\n        \"max\": 56,\n        \"num_unique_values\": 6,\n        \"samples\": [\n          28,\n          3,\n          1\n        ],\n        \"semantic_type\": \"\",\n        \"description\": \"\"\n      }\n    }\n  ]\n}"
            }
          },
          "metadata": {},
          "execution_count": 87
        }
      ]
    },
    {
      "cell_type": "code",
      "source": [
        "y_new2 = data2DF[\"Concrete compressive strength\"]\n",
        "y_new2"
      ],
      "metadata": {
        "colab": {
          "base_uri": "https://localhost:8080/"
        },
        "id": "Hfbe84blu4Gv",
        "outputId": "0dff6bb7-89ab-4e81-cc01-08b757064763"
      },
      "execution_count": null,
      "outputs": [
        {
          "output_type": "execute_result",
          "data": {
            "text/plain": [
              "0       79.99\n",
              "1       61.89\n",
              "8       45.85\n",
              "11      28.02\n",
              "14      47.81\n",
              "        ...  \n",
              "1025    44.28\n",
              "1026    31.18\n",
              "1027    23.70\n",
              "1028    32.77\n",
              "1029    32.40\n",
              "Name: Concrete compressive strength, Length: 763, dtype: float64"
            ]
          },
          "metadata": {},
          "execution_count": 88
        }
      ]
    },
    {
      "cell_type": "markdown",
      "source": [
        "#### Creating Baseline Model"
      ],
      "metadata": {
        "id": "2wzkBBLitOon"
      }
    },
    {
      "cell_type": "code",
      "source": [
        "def baseline_model():\n",
        "\t# create model\n",
        "  model = Sequential()\n",
        "  model.add(Dense(8, input_shape=(8,), kernel_initializer='normal', activation='relu'))\n",
        "  model.add(Dense(1, kernel_initializer='normal'))\n",
        "\n",
        "  # Compile model\n",
        "  model.compile(loss='mean_squared_error', optimizer='adam')\n",
        "  return model"
      ],
      "metadata": {
        "id": "aknpFnpDsZa9"
      },
      "execution_count": null,
      "outputs": []
    },
    {
      "cell_type": "markdown",
      "source": [
        "#### Evaluate Model (Without Standardization of Dataset)"
      ],
      "metadata": {
        "id": "UiA75bOvuCDp"
      }
    },
    {
      "cell_type": "code",
      "source": [
        "from pandas import read_csv\n",
        "from tensorflow.keras.models import Sequential\n",
        "from tensorflow.keras.layers import Dense\n",
        "from scikeras.wrappers import KerasRegressor\n",
        "from sklearn.model_selection import cross_val_score\n",
        "from sklearn.model_selection import KFold"
      ],
      "metadata": {
        "id": "swgnD2Z0uNL7"
      },
      "execution_count": null,
      "outputs": []
    },
    {
      "cell_type": "code",
      "source": [
        "estimator = KerasRegressor(model=baseline_model, epochs=100, batch_size=5, verbose=0)\n",
        "kfold = KFold(n_splits=10)\n",
        "results = cross_val_score(estimator, X_new2, y_new2, cv=kfold, scoring='neg_mean_squared_error')\n",
        "print(\"Baseline: %.2f (%.2f) MSE\" % (results.mean(), results.std()))"
      ],
      "metadata": {
        "colab": {
          "base_uri": "https://localhost:8080/"
        },
        "id": "iVp9qJbluEAo",
        "outputId": "df8544a0-696f-46de-d8e4-0e28e4daf745"
      },
      "execution_count": null,
      "outputs": [
        {
          "output_type": "stream",
          "name": "stdout",
          "text": [
            "Baseline: -61.25 (28.49) MSE\n"
          ]
        }
      ]
    },
    {
      "cell_type": "markdown",
      "source": [
        "#### Standardizing the Dataset"
      ],
      "metadata": {
        "id": "3B5Q_GsNxA4j"
      }
    },
    {
      "cell_type": "markdown",
      "source": [
        "One of the input features, specifically `Age`, has a different scale from the rest of the inputs. This could affect the performance of the model, hence, we will standardize the input features using the `StandardScaler` from `sklearn`."
      ],
      "metadata": {
        "id": "NGF6jCBHxNx2"
      }
    },
    {
      "cell_type": "code",
      "source": [
        "from sklearn.preprocessing import StandardScaler\n",
        "scaler = StandardScaler()\n",
        "\n",
        "X_scaled2 = scaler.fit_transform(X_new2)"
      ],
      "metadata": {
        "id": "J5kH3aFIxEvd"
      },
      "execution_count": null,
      "outputs": []
    },
    {
      "cell_type": "markdown",
      "source": [
        "#### Re-evaluating the Model with Standardized Dataset"
      ],
      "metadata": {
        "id": "dyQTdCKExhWG"
      }
    },
    {
      "cell_type": "code",
      "source": [
        "estimators = []\n",
        "estimators.append(('standardize', StandardScaler()))\n",
        "estimators.append(('mlp', KerasRegressor(model=baseline_model, epochs=100, batch_size=5, verbose=0)))\n",
        "pipeline = Pipeline(estimators)\n",
        "kfold = KFold(n_splits=10)\n",
        "results = cross_val_score(pipeline, X_new2, y_new2, cv=kfold, scoring='neg_mean_squared_error')\n",
        "print(\"Standardized: %.2f (%.2f) MSE\" % (results.mean(), results.std()))"
      ],
      "metadata": {
        "colab": {
          "base_uri": "https://localhost:8080/"
        },
        "id": "Egc7dGyIxj-z",
        "outputId": "14e20677-0907-4298-ecfc-ef3b128d097b"
      },
      "execution_count": null,
      "outputs": [
        {
          "output_type": "stream",
          "name": "stdout",
          "text": [
            "Standardized: -65.54 (28.35) MSE\n"
          ]
        }
      ]
    },
    {
      "cell_type": "code",
      "source": [
        "# evaluate model with standardized dataset\n",
        "estimator = KerasRegressor(model=baseline_model, epochs=100, batch_size=5, verbose=0)\n",
        "kfold = KFold(n_splits=10)\n",
        "results = cross_val_score(estimator, X_scaled2, y_new2, cv=kfold, scoring='neg_mean_squared_error')\n",
        "print(\"Baseline: %.2f (%.2f) MSE\" % (results.mean(), results.std()))"
      ],
      "metadata": {
        "colab": {
          "base_uri": "https://localhost:8080/"
        },
        "id": "MYHgzW1AJDBE",
        "outputId": "f3cd97f9-8dfe-414e-d098-7f09352c4cd6"
      },
      "execution_count": null,
      "outputs": [
        {
          "output_type": "stream",
          "name": "stdout",
          "text": [
            "Baseline: -63.42 (27.85) MSE\n"
          ]
        }
      ]
    },
    {
      "cell_type": "markdown",
      "source": [
        "When standardization was done on the dataset, the MSE was reduced to -65.54 and the standard deviation was reduced by a bit (from 28.49 to 28.35)."
      ],
      "metadata": {
        "id": "JhqDTo9h0b_F"
      }
    },
    {
      "cell_type": "markdown",
      "source": [
        "#### Evaluating Smaller Network\n",
        "\n",
        "For the smaller network, the number of neurons for the input layer will be reduced by half."
      ],
      "metadata": {
        "id": "Cjn1qFH401PP"
      }
    },
    {
      "cell_type": "code",
      "source": [
        "def smaller_model():\n",
        "\t# create model\n",
        "  model = Sequential()\n",
        "  model.add(Dense(4, input_shape=(8,), kernel_initializer='normal', activation='relu'))\n",
        "  model.add(Dense(1, kernel_initializer='normal'))\n",
        "\n",
        "  # Compile model\n",
        "  model.compile(loss='mean_squared_error', optimizer='adam')\n",
        "  return model"
      ],
      "metadata": {
        "id": "TgDLozy-67zJ"
      },
      "execution_count": null,
      "outputs": []
    },
    {
      "cell_type": "code",
      "source": [
        "estimators = []\n",
        "estimators.append(('standardize', StandardScaler()))\n",
        "estimators.append(('mlp', KerasRegressor(model=smaller_model, epochs=100, batch_size=5, verbose=0)))\n",
        "pipeline = Pipeline(estimators)\n",
        "kfold = KFold(n_splits=10)\n",
        "results = cross_val_score(pipeline, X_new2, y_new2, cv=kfold, scoring='neg_mean_squared_error')\n",
        "print(\"Standardized (Smaller Model): %.2f (%.2f) MSE\" % (results.mean(), results.std()))"
      ],
      "metadata": {
        "colab": {
          "base_uri": "https://localhost:8080/"
        },
        "id": "1I3Pcyt57O_V",
        "outputId": "3a2f1b51-c3e9-453a-92cb-671d6b673091"
      },
      "execution_count": null,
      "outputs": [
        {
          "output_type": "stream",
          "name": "stdout",
          "text": [
            "Standardized (Smaller Model): -65.58 (28.52) MSE\n"
          ]
        }
      ]
    },
    {
      "cell_type": "code",
      "source": [
        "# evaluate model with standardized dataset\n",
        "estimator = KerasRegressor(model=smaller_model, epochs=100, batch_size=5, verbose=0)\n",
        "kfold = KFold(n_splits=10)\n",
        "results = cross_val_score(estimator, X_scaled2, y_new2, cv=kfold, scoring='neg_mean_squared_error')\n",
        "print(\"Smaller Model (Standardized Data): %.2f (%.2f) MSE\" % (results.mean(), results.std()))"
      ],
      "metadata": {
        "colab": {
          "base_uri": "https://localhost:8080/"
        },
        "id": "8GoP-Lx9KA9i",
        "outputId": "be989ad7-981f-445d-b258-130bb9d0089b"
      },
      "execution_count": null,
      "outputs": [
        {
          "output_type": "stream",
          "name": "stdout",
          "text": [
            "Smaller Model (Standardized Data): -63.49 (25.41) MSE\n"
          ]
        }
      ]
    },
    {
      "cell_type": "markdown",
      "source": [
        "The smaller network did not improve the performance of the model. Quite the contrary, there is a slight increase in the MSE (-64.91) and the standard deviation (28.55)."
      ],
      "metadata": {
        "id": "AMcoU7qa83Pm"
      }
    },
    {
      "cell_type": "markdown",
      "source": [
        "#### Evaluating Larger Network\n",
        "\n",
        "For the larger network, the number of neurons for the first layer was more than twice the original (from 8 to 20). Additional two hidden layers were also introduced in the model."
      ],
      "metadata": {
        "id": "FZkagco39LrP"
      }
    },
    {
      "cell_type": "code",
      "source": [
        "def larger_model():\n",
        "\t# create model\n",
        "  model = Sequential()\n",
        "  model.add(Dense(20, input_shape=(8,), kernel_initializer='normal', activation='relu'))\n",
        "  model.add(Dense(10, kernel_initializer='normal'))\n",
        "  model.add(Dense(5, kernel_initializer='normal'))\n",
        "  model.add(Dense(1, kernel_initializer='normal'))\n",
        "\n",
        "  # Compile model\n",
        "  model.compile(loss='mean_squared_error', optimizer='adam')\n",
        "  return model"
      ],
      "metadata": {
        "id": "2Rbv1nob9M3N"
      },
      "execution_count": null,
      "outputs": []
    },
    {
      "cell_type": "code",
      "source": [
        "estimators = []\n",
        "estimators.append(('standardize', StandardScaler()))\n",
        "estimators.append(('mlp', KerasRegressor(model=larger_model, epochs=100, batch_size=5, verbose=0)))\n",
        "pipeline = Pipeline(estimators)\n",
        "kfold = KFold(n_splits=10)\n",
        "results = cross_val_score(pipeline, X_new2, y_new2, cv=kfold, scoring='neg_mean_squared_error')\n",
        "print(\"Standardized (Larger Model): %.2f (%.2f) MSE\" % (results.mean(), results.std()))"
      ],
      "metadata": {
        "id": "h1PdNxBg9tW1",
        "colab": {
          "base_uri": "https://localhost:8080/"
        },
        "outputId": "4025cd0f-50f8-4768-abc1-be48daabcc1f"
      },
      "execution_count": null,
      "outputs": [
        {
          "output_type": "stream",
          "name": "stdout",
          "text": [
            "Standardized (Larger Model): -65.08 (31.62) MSE\n"
          ]
        }
      ]
    },
    {
      "cell_type": "code",
      "source": [
        "# evaluate model with standardized dataset\n",
        "estimator = KerasRegressor(model=larger_model, epochs=100, batch_size=5, verbose=0)\n",
        "kfold = KFold(n_splits=10)\n",
        "results = cross_val_score(estimator, X_scaled2, y_new2, cv=kfold, scoring='neg_mean_squared_error')\n",
        "print(\"Larger Model (Standardized Data): %.2f (%.2f) MSE\" % (results.mean(), results.std()))"
      ],
      "metadata": {
        "colab": {
          "base_uri": "https://localhost:8080/"
        },
        "id": "tAIkY0ZIKG6z",
        "outputId": "0c3ec8a7-db99-4f3e-bff6-94f2156f26ec"
      },
      "execution_count": null,
      "outputs": [
        {
          "output_type": "stream",
          "name": "stdout",
          "text": [
            "Larger Model (Standardized Data): -69.58 (33.39) MSE\n"
          ]
        }
      ]
    },
    {
      "cell_type": "markdown",
      "source": [
        "#### Evaluating a Deeper Network\n",
        "\n",
        "A deeper network consists of more hidden layers. In our case, the total number of hidden layers is changed from 1 to 3. The first one has 8 neurons and the succeeding ones will have half the number of neurons of the layer preceeding them."
      ],
      "metadata": {
        "id": "Y5Kc0H1sAm6V"
      }
    },
    {
      "cell_type": "code",
      "source": [
        "def deeper_model():\n",
        "\t# create model\n",
        "  model = Sequential()\n",
        "  model.add(Dense(8, input_shape=(8,), kernel_initializer='normal', activation='relu'))\n",
        "  model.add(Dense(4, kernel_initializer='normal'))\n",
        "  model.add(Dense(2, kernel_initializer='normal'))\n",
        "  model.add(Dense(1, kernel_initializer='normal'))\n",
        "\n",
        "  # Compile model\n",
        "  model.compile(loss='mean_squared_error', optimizer='adam')\n",
        "  return model"
      ],
      "metadata": {
        "id": "nyN9CsUiAoEW"
      },
      "execution_count": null,
      "outputs": []
    },
    {
      "cell_type": "code",
      "source": [
        "estimators = []\n",
        "estimators.append(('standardize', StandardScaler()))\n",
        "estimators.append(('mlp', KerasRegressor(model=deeper_model, epochs=100, batch_size=5, verbose=0)))\n",
        "pipeline = Pipeline(estimators)\n",
        "kfold = KFold(n_splits=10)\n",
        "results = cross_val_score(pipeline, X_new2, y_new2, cv=kfold, scoring='neg_mean_squared_error')\n",
        "print(\"Standardized (Deeper Model): %.2f (%.2f) MSE\" % (results.mean(), results.std()))"
      ],
      "metadata": {
        "colab": {
          "base_uri": "https://localhost:8080/"
        },
        "id": "asbY1aO8A6gB",
        "outputId": "86186da2-35db-4749-985a-526a1e54e687"
      },
      "execution_count": null,
      "outputs": [
        {
          "output_type": "stream",
          "name": "stdout",
          "text": [
            "Standardized: -67.43 (32.00) MSE\n"
          ]
        }
      ]
    },
    {
      "cell_type": "code",
      "source": [
        "# evaluate model with standardized dataset\n",
        "estimator = KerasRegressor(model=deeper_model, epochs=100, batch_size=5, verbose=0)\n",
        "kfold = KFold(n_splits=10)\n",
        "results = cross_val_score(estimator, X_scaled2, y_new2, cv=kfold, scoring='neg_mean_squared_error')\n",
        "print(\"Deeper Model (Standardized Data): %.2f (%.2f) MSE\" % (results.mean(), results.std()))"
      ],
      "metadata": {
        "colab": {
          "base_uri": "https://localhost:8080/"
        },
        "id": "9su4eFkSM_hF",
        "outputId": "ad0ccd01-247a-47b6-9023-b40937028768"
      },
      "execution_count": null,
      "outputs": [
        {
          "output_type": "stream",
          "name": "stdout",
          "text": [
            "Deeper Model (Standardized Data): -65.80 (29.04) MSE\n"
          ]
        }
      ]
    },
    {
      "cell_type": "markdown",
      "source": [
        "#### Evaluating a Wider Network\n",
        "\n",
        "For a wider network, the number of neurons for the first layer was changed to more than twice the baseline model (from 8 to 20)."
      ],
      "metadata": {
        "id": "0tUlzzbMNGyG"
      }
    },
    {
      "cell_type": "code",
      "source": [
        "def wider_model():\n",
        "\t# create model\n",
        "  model = Sequential()\n",
        "  model.add(Dense(20, input_shape=(8,), kernel_initializer='normal', activation='relu'))\n",
        "  model.add(Dense(1, kernel_initializer='normal'))\n",
        "\n",
        "  # Compile model\n",
        "  model.compile(loss='mean_squared_error', optimizer='adam')\n",
        "  return model"
      ],
      "metadata": {
        "id": "L3ZCRO5ZNQHs"
      },
      "execution_count": null,
      "outputs": []
    },
    {
      "cell_type": "code",
      "source": [
        "estimators = []\n",
        "estimators.append(('standardize', StandardScaler()))\n",
        "estimators.append(('mlp', KerasRegressor(model=wider_model, epochs=100, batch_size=5, verbose=0)))\n",
        "pipeline = Pipeline(estimators)\n",
        "kfold = KFold(n_splits=10)\n",
        "results = cross_val_score(pipeline, X_new2, y_new2, cv=kfold, scoring='neg_mean_squared_error')\n",
        "print(\"Standardized (Wider Model): %.2f (%.2f) MSE\" % (results.mean(), results.std()))"
      ],
      "metadata": {
        "colab": {
          "base_uri": "https://localhost:8080/"
        },
        "id": "NMuDaLJEQGrV",
        "outputId": "791aa7d6-40a4-40e9-e844-1c7e7ca15be4"
      },
      "execution_count": null,
      "outputs": [
        {
          "output_type": "stream",
          "name": "stdout",
          "text": [
            "Standardized (Wider Model): -59.77 (28.91) MSE\n"
          ]
        }
      ]
    },
    {
      "cell_type": "code",
      "source": [
        "# evaluate model with standardized dataset\n",
        "estimator = KerasRegressor(model=wider_model, epochs=100, batch_size=5, verbose=0)\n",
        "kfold = KFold(n_splits=10)\n",
        "results = cross_val_score(estimator, X_scaled2, y_new2, cv=kfold, scoring='neg_mean_squared_error')\n",
        "print(\"Wider Model (Standardized Data): %.2f (%.2f) MSE\" % (results.mean(), results.std()))"
      ],
      "metadata": {
        "colab": {
          "base_uri": "https://localhost:8080/"
        },
        "id": "_KXT36__NV44",
        "outputId": "53669e65-1280-4787-da67-91f72448a033"
      },
      "execution_count": null,
      "outputs": [
        {
          "output_type": "stream",
          "name": "stdout",
          "text": [
            "Wider Model (Standardized Data): -62.54 (28.38) MSE\n"
          ]
        }
      ]
    },
    {
      "cell_type": "markdown",
      "source": [
        "### Summary of Results"
      ],
      "metadata": {
        "id": "1oc_78eeRi6A"
      }
    },
    {
      "cell_type": "markdown",
      "source": [
        "**Table 1 Evaluation Results Summary (Using Pipeline Framework for Standardization)**"
      ],
      "metadata": {
        "id": "QyUgdNAnUukc"
      }
    },
    {
      "cell_type": "markdown",
      "source": [
        "![image.png](data:image/png;base64,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)"
      ],
      "metadata": {
        "id": "6ljxWBkIRk9q"
      }
    },
    {
      "cell_type": "markdown",
      "source": [
        "**Table 2. Evaluation Results Summary (Using StandardScaler for Standardization)**"
      ],
      "metadata": {
        "id": "jSnHsC5WU1dg"
      }
    },
    {
      "cell_type": "markdown",
      "source": [
        "![image.png](data:image/png;base64,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)"
      ],
      "metadata": {
        "id": "8VHFptd9SVh2"
      }
    },
    {
      "cell_type": "markdown",
      "source": [
        "In the above evaluation, we have used the 10-fold cross validation to evaluate all of the created models. There are 5 models created: the baseline model, a smaller and a larger model, and a wider and a deeper model.\n",
        "\n",
        "Two techniques for standardizing the data have been implemented for exploration—using sci-kit learn's Pipeline framework and the other using sci-kit learn's StandardScaler.\n",
        "\n",
        "**Network Topology of Each Model**\n",
        "* **Baseline Model**: 8 inputs -> [8] -> 1 output\n",
        "* **Smaller Model**: 8 inputs -> [4] -> 1 output\n",
        "* **Larger Model**: 8 inputs -> [20 -> 10 -> 5] -> 1 output\n",
        "* **Deeper Model**: 8 inputs -> [8 -> 4 -> 2] -> 1 output\n",
        "* **Wider Model**: 8 inputs -> [20] -> 1 output\n",
        "\n",
        "Each of the model has different number of neurons set as well as the number of hidden layers. All of the models have been evaluated with the following parameters:\n",
        "\n",
        "* `epochs` = 100\n",
        "* `batch_size` = 5\n",
        "* `verbose` = 1\n",
        "* `n_splits` = 10\n",
        "\n",
        "The results from the evaluation tests are summarized in Tables 1 and 2 above. Two values are obtained from the evaluation—MSE and standard deviation. MSE or mean squared error is a value that indicates the closeness of the regression line to a set of points [2]. According to [3], the smaller the value of the MSE is, the closer the model predictions are. Standard deviation on the other hand relates to the variance of the data points, a smaller value indicates better model performance [4].\n",
        "\n",
        "Based on the summary table provided, excluding the baseline model, the smaller model has the least standard deviation value result out of all the other models. We can also notice that adding layers in the model (in larger and deeper models), resulted to an increase in the standard deviation and the MSE score. This indicates that the dataset used might not require that many layers for its model.\n",
        "\n",
        "Another observation is that different STD values are obtained when the standardization technique used was through the `StandardScaler` in sci-kit learn. Lower values were obtained as compared to when the `Pipeline` framework was used.\n",
        "\n",
        "[2] Mean, “Mean Squared Error: Definition and Example,” Statistics How To, Jan. 11, 2024. https://www.statisticshowto.com/probability-and-statistics/statistics-definitions/mean-squared-error/ (accessed Apr. 08, 2024).\n",
        "‌\n",
        "\n",
        "[3] Zach, “An Easy Guide to K-Fold Cross-Validation - Statology,” Statology, Nov. 04, 2020. https://www.statology.org/k-fold-cross-validation/ (accessed Apr. 08, 2024).\n",
        "‌"
      ],
      "metadata": {
        "id": "yy3EST2pRpKj"
      }
    },
    {
      "cell_type": "markdown",
      "source": [
        "### Conclusion and Lessons Learned"
      ],
      "metadata": {
        "id": "Dz6V0AxrMn6u"
      }
    },
    {
      "cell_type": "markdown",
      "source": [
        "In this activity, model creation for classification and regression problems has been explored. In addition to the creation of models, the evaluation of the models has also been done. Specifically, the k-fold cross validation was implemented.\n",
        "\n",
        "Different pre-processing techniques were used for the chosen datasets including checking for null values, handling outliers, and scaling the dataset.\n",
        "\n",
        "In the classification problem, running the cell for evaluating the model using k-fold cross validation took more than 30 minutes. This could be explained as the instances were over 3000 for the dataset after the pre-processing. The model obtained a score of around 92%.\n",
        "\n",
        "For the regression model, different models were created, baseline, small, large, wide, and deep networks, to be specific. These models differ in terms of their number of hidden layers and the number of neurons per layer. Among the models, the small network showed the smallest value of standard deviation, indicating a relatively better performance compared to the other ones.\n",
        "\n",
        "Overall, the activity has taught me new evaluation techniques that can be used when determining the performance of a neural network. I also learned some fine tuning techniques that could aid in improving the performance of the model."
      ],
      "metadata": {
        "id": "qfARpPxKMqhU"
      }
    }
  ]
}