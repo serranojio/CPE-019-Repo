{
  "nbformat": 4,
  "nbformat_minor": 0,
  "metadata": {
    "colab": {
      "provenance": []
    },
    "kernelspec": {
      "name": "python3",
      "display_name": "Python 3"
    },
    "language_info": {
      "name": "python"
    }
  },
  "cells": [
    {
      "cell_type": "code",
      "source": [
        "import numpy as np\n",
        "import pandas as pd"
      ],
      "metadata": {
        "id": "M-a4Y9dTxHbS"
      },
      "execution_count": 3,
      "outputs": []
    },
    {
      "cell_type": "code",
      "execution_count": 4,
      "metadata": {
        "id": "8wm0dQrPxAj1"
      },
      "outputs": [],
      "source": [
        "exam_data = {'name': ['Anastasia', 'Dima', 'Katherine', 'James', 'Emily', 'Michael', 'Matthew', 'Laura', 'Kevin', 'Jonas'],\n",
        "'score': [12.5, 9, 16.5, np.nan, 9, 20, 14.5, np.nan, 8, 19],\n",
        "'attempts': [1, 3, 2, 3, 2, 3, 1, 1, 2, 1],\n",
        "'qualify': ['yes', 'no', 'yes', 'no', 'no', 'yes', 'yes', 'no', 'no', 'yes']}\n",
        "\n",
        "labels = ['a', 'b', 'c', 'd', 'e', 'f', 'g', 'h', 'i', 'j']"
      ]
    },
    {
      "cell_type": "code",
      "source": [
        "# Write a Python program using Pandas to select the rows the score is between 15 and 20 (inclusive).\n",
        "\n",
        "# Create csv using dict (?)\n",
        "\n",
        "# Select rows\n",
        "\n",
        "for key in exam_data:\n",
        "  try:\n",
        "    for i in exam_data[key]:\n",
        "      if(i <= 20 and i >= 15):\n",
        "        print(i)\n",
        "  except(TypeError):\n",
        "    continue;"
      ],
      "metadata": {
        "colab": {
          "base_uri": "https://localhost:8080/"
        },
        "id": "9IkpmqoYxb1r",
        "outputId": "182a307e-fe68-4a62-c66c-fa72e1ec9431"
      },
      "execution_count": 24,
      "outputs": [
        {
          "output_type": "stream",
          "name": "stdout",
          "text": [
            "16.5\n",
            "20\n",
            "19\n"
          ]
        }
      ]
    },
    {
      "cell_type": "code",
      "source": [],
      "metadata": {
        "id": "uLTbZ8aB2NW9"
      },
      "execution_count": null,
      "outputs": []
    }
  ]
}